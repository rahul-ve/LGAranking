{
 "cells": [
  {
   "cell_type": "markdown",
   "metadata": {
    "slideshow": {
     "slide_type": "slide"
    }
   },
   "source": [
    "# Project Stage 2: Data Analysis\n",
    "\n",
    "- ** INFO1903 **\n",
    "- ** Rahul Vemulapally **\n",
    "- ** SID - 440317463 **"
   ]
  },
  {
   "cell_type": "markdown",
   "metadata": {
    "slideshow": {
     "slide_type": "slide"
    }
   },
   "source": [
    "### Instructions to run this notebook\n",
    "\n",
    "**Install if not already installed:**\n",
    "\n",
    "    - jupyter      - pip3 install jupyter\n",
    "    - sqlalchemy   - pip3 install sqlalchemy --user unix_username\n",
    "    - psycopg2     - pip3 install psycopg2 --user unix_username\n",
    "    - ipywidgets   \n",
    "        - pip3 install ipywidgets --user unix_username\n",
    "        - jupyter nbextension enable --py  widgetsnbextension\n",
    "    - nbconvert    - pip3 install nbconvert\n",
    "\n",
    "    \n",
    "- ipywidgets are needed for interactivity.\n",
    "- sqlalchemy and psycopg2 are needed to interface with the postgres database\n",
    "- nbconvert is needed to convert the notebook to HTML or Markdown, it uses pandoc (apt-get install pandoc)\n",
    "    - eg:  jupyter nbconvert stage2d.ipynb --to html\n",
    "    \n",
    "**Change the postgres database connection variables** (it's around 7 cells further down the page)"
   ]
  },
  {
   "cell_type": "markdown",
   "metadata": {
    "slideshow": {
     "slide_type": "slide"
    }
   },
   "source": [
    "##### Aim\n",
    "\n",
    "The aim of this stage is to rank the LGAs (Local Government Area) based on the reported crimes in NSW.\n",
    "\n",
    "##### Data Sets\n",
    "\n",
    "Stage one cleaned the reported crimes data that was provided by NSW Bureau of Crime Statistics and Research (BOCSAR). \n",
    "** [Data Source: www.bocsar.nsw.gov.au](http://www.bocsar.nsw.gov.au/Documents/RCS-Annual/RCI_offencebymonth.zip) **\n",
    "Or **[Original Data](source_files/RCI_offencebymonth.xlsm)**\n",
    "\n",
    "    - The original data was from Jan,1995 - Dec,2016; for a total of 264 periods. \n",
    "    - Monthly counts were added together for each year, to give 22 periods of data (1995 - 2016). \n",
    "    - Original data had 62 different categories/sub-categories, these were grouped into 11 main categories.\n",
    "        - The 11 main Categories are:\n",
    "\n",
    "| Main Categories                   |\n",
    "|-----------------------------------|\n",
    "| Homicide                          |\n",
    "| Assault                           |\n",
    "| Sexual offences                   |\n",
    "| Other offences against the person |\n",
    "| Robbery                           |\n",
    "| Property Offences                 |\n",
    "| Drug Possession                   |\n",
    "| Drug Dealing                      |\n",
    "| Vice                              |\n",
    "| Weapons offences                  |\n",
    "| Other offences                    |\n",
    "\n",
    "To see how the 62 categories were grouped into these 11 main categories, please see ** [offence_categories.xlsx](offence_categories.xlsx) **.\n",
    "         \n",
    "The cleaned data is in the file  ** [NSWcrimes.csv](NSWcrimes.csv) **, it lists the reported crimes for 62 different categories/sub-categories for the years 1995-2016. The category and Subcategory are in two different fields, when processing the file NSWcrimes.csv, these are concatenatee together to get the 62 categories. \n",
    "\n",
    "\n",
    "**Two more data sets were used in this analysis:**\n",
    "\n",
    "- **Popultaion Counts for each LGA:**\n",
    "        - This data was obtained from ABS 2011 census by building the following table:\n",
    "            - 2011 Census of Population and Housing - TableBuilder Basic\n",
    "                - 2011 Census - Persons and Relationships\n",
    "                    - Table: LGA by GCCSA\n",
    "                        - LGA: Local Government Areas (2011 Boundaries) > New South Wales > LGA\n",
    "                        - GCCSA: Greater Capital City Statistical Areas (UR) > New South Wales > GCCSA\n",
    "                        - This table lists the \"Persons' Place of Usual Residence\"\n",
    "    \n",
    "   - This data is stored in ** [LGApop2011.xlsx](source_files/LGApop2011.xlsx)  **\n",
    "   - The total population counts for each LGA were taken and saved to ** [2011LGA_pop.csv](2011LGA_pop.csv) **\n",
    "   \n",
    "           \n",
    "- **Rents dataset:**\n",
    "    - Holds the rents for 1,2,3,4+ bedroom dwellings for each LGA in GMR (Greater Metropolitan Regions, i.e., most of Greater Sydney and some regional cities), ** [Source: www.housing.nsw.gov.au](http://www.housing.nsw.gov.au/__data/assets/excel_doc/0003/408828/Rent_Report_16q4.xls) **.\n",
    "    - Cleaned and saved the data in \"lga_ad\" tab from the original file to ** [rents_gmr.csv](rents_gmr.csv) **.\n",
    "\n",
    "- **[lga.txt](lga.txt) :** holds the names of all 152 LGAs plus (Unincorporated Far West, Lord Howe Island, Prisons)"
   ]
  },
  {
   "cell_type": "markdown",
   "metadata": {
    "slideshow": {
     "slide_type": "slide"
    }
   },
   "source": [
    "### Two methods were used in the analysis.\n",
    "\n",
    "** Before we proceed further it is important to note that Sydney LGA has the highest aggregate crimes reported, this is charecteristic of any area that has a high transient population (visitors).  To make any meaningful comparisions we will have to add this transient population to the resident population but deciding on an appropriate number for the transient population is very subjective and choosing a large number will significantly improve Sydney's ranking! **\n",
    "\n",
    "\n",
    "#####  Method -1\n",
    "\n",
    "Done using absolute counts and also counts adjusted for population in each LGA:\n",
    "\n",
    "    -  Used 2011 Census population counts (for each LGA) throughout the analysis, it would have been appropriate to use Census data from different years to improve accuracy but due to time constraints I will be using 2011 population counts for all 22 years of data. \n",
    "    - Adjusted counts are for every 10000 people in that LGA and calculated as: \n",
    "    \n",
    "$$\\left[\\frac{\\text{LGA's aggregate for each Year}}{\\text{2011 population for the corresponding LGA}} \\right] * 10000$$\n",
    "\n",
    "###### Psudocode\n",
    "- For each LGA:\n",
    "    - For each Year:\n",
    "        - Add all the crimes reported (i.e., add all categories' counts for each year)\n",
    "        - Rank the LGA's from lowest to highest counts ** (Table 1 in the below illustration) **\n",
    "    - This should give 22 ranks (if all 22 Years selected) for each LGA \n",
    "    - Take the mean/median of these ranks to get the overall rank for each LGA   ** (Table 2 in the below illustration) **\n",
    "      \n",
    "**An illustration of ranking population adjusted counts**\n",
    "![Ranking](m1ranks.png)\n",
    "\n",
    "\n",
    "This method treats all crimes with equal weightage, which is erroneous! \n",
    "\n",
    "\n",
    "Method-2 corrects this by ranking LGA's separately for each category  and taking the mean rank over all the categories to get the overall rank.\n",
    "\n",
    "\n",
    "##### Method-2\n",
    "\n",
    " - Only used the population adjusted counts.\n",
    "\n",
    "###### Psudocode\n",
    "- For each Category:\n",
    "    - For each Year:\n",
    "        - Rank the LGA's from lowest to highest counts\n",
    "    - This should give 22 ranks (if all 22 Years selected) for each LGA  (**Table A** in the below illustration)\n",
    "    - Take the mean of these ranks to get the overall rank for each LGA for that Category (**e.g: In the below Final Table, Assault row ranks are the means from Table A**)\n",
    "- This should give 11 ranks (If all 11 categories selected) for each LGA\n",
    "- Take the mean of these 11 ranks to get an overall rank for each LGA.\n",
    "\n",
    "**An illustration of calculating the ranks for each Category under Method-2**\n",
    "![CategoryRanks](m2ranks.png)\n",
    "\n",
    "\n",
    "##### NOTE - when running this notebook if a cell shows \" In [*]:\", it means the cell is being processed. Please wait until a number is shown in the [ ] (e.g: In [77]:)\n"
   ]
  },
  {
   "cell_type": "markdown",
   "metadata": {
    "slideshow": {
     "slide_type": "slide"
    }
   },
   "source": [
    "### Modules used in the Notebook"
   ]
  },
  {
   "cell_type": "code",
   "execution_count": null,
   "metadata": {
    "scrolled": true,
    "slideshow": {
     "slide_type": "skip"
    }
   },
   "outputs": [],
   "source": [
    "%matplotlib notebook\n",
    "import os\n",
    "import pandas as pd\n",
    "import numpy as np\n",
    "import matplotlib.pyplot as plt\n",
    "import csv\n",
    "import collections\n",
    "# USED FOR DEEP COPY INSTEAD OF SHALLOW COPY OF DICTIONARIES\n",
    "import copy\n",
    "# FOR INTERACTIVITY\n",
    "from ipywidgets import *\n",
    "from IPython.display import *\n",
    "# TO INTERFACE WITH POSTGRES DATABASE\n",
    "from sqlalchemy import *\n",
    "import psycopg2"
   ]
  },
  {
   "cell_type": "markdown",
   "metadata": {
    "slideshow": {
     "slide_type": "slide"
    }
   },
   "source": [
    "#### POSTGRES database settings\n",
    "\n",
    "** Change the below values to connect to the database server. **"
   ]
  },
  {
   "cell_type": "code",
   "execution_count": null,
   "metadata": {
    "slideshow": {
     "slide_type": "slide"
    }
   },
   "outputs": [],
   "source": [
    "# CREATE A CONNECTION TO THE POSTGRES DATABASE USING sqlAlchemy\n",
    "\n",
    "PORT = \"5432\"          # this is the default PG port\n",
    "LOGIN = \"postgres\"        # this is the user that has access to the database\n",
    "PASSWORD = \"password\"      # user password\n",
    "SERVER = \"localhost\"       # server where the database is located\n",
    "DATABASE = \"proj1903\"      # database name\n",
    "\n",
    "#create engine:\n",
    "engine = create_engine('postgresql://{LOGIN}:{PASSWORD}@{SERVER}:{PORT}/{DATABASE}'.format(LOGIN=LOGIN, \n",
    "                                              PASSWORD=PASSWORD, SERVER=SERVER, PORT=PORT, DATABASE=DATABASE))\n"
   ]
  },
  {
   "cell_type": "code",
   "execution_count": 1,
   "metadata": {
    "collapsed": true,
    "slideshow": {
     "slide_type": "skip"
    }
   },
   "outputs": [],
   "source": [
    "#some of these variables will be used several times in the notebook:\n",
    "\n",
    "# lga - HOLDS THE NAMES OF ALL 152 LGA PLUS (Unincorporated Far West, Lord Howe Island, Prisons)\n",
    "\n",
    "with open('lga.txt') as f:                \n",
    "    lga = f.read().splitlines()\n",
    "    \n",
    "    \n",
    "yrs = ['1995', '1996', '1997', '1998', '1999', '2000', '2001', '2002', '2003', '2004', \n",
    "       '2005', '2006', '2007', '2008', '2009', '2010', '2011', '2012', '2013', '2014', '2015', '2016']\n",
    "\n",
    "\n",
    "# off_cat - THE BELOW DICTIONARY OF DICTIONARIES IS USED IN PROCESSESING THE DATA IN THE FILE NSWcrimes.csv\n",
    "# IT ALLOWS GROUPING OF 62 DIFFERENT CATEGORIES INTO THE 11 MAIN GROUPS\n",
    "\n",
    "off_cat = {'Homicide' :['Homicide(Murder *)', 'Homicide(Attempted murder)', 'Homicide(Murder accessory, conspiracy)', 'Homicide(Manslaughter *)'],\n",
    "'Assault' : ['Assault(Domestic violence related assault)', 'Assault(Non-domestic violence related assault)', 'Assault(Assault Police)'],\n",
    "'Sexual offences' : [ 'Sexual offences(Sexual assault)', 'Sexual offences(Indecent assault, act of indecency and other sexual offences)'],\n",
    "'Other offences against the person' : ['Harassment, threatening behaviour and private nuisance(None)', 'Blackmail and extortion(None)', 'Abduction and kidnapping(None)', 'Other offences against the person(None)'],\n",
    "'Robbery' : ['Robbery(Robbery without a weapon)', 'Robbery(Robbery with a firearm)', 'Robbery(Robbery with a weapon not a firearm)'],\n",
    "'Property offences' : ['Theft(Break and enter dwelling)', 'Theft(Break and enter non-dwelling)', 'Theft(Receiving or handling stolen goods)', 'Theft(Motor vehicle theft)', 'Theft(Steal from motor vehicle)', 'Theft(Steal from retail store)', 'Theft(Steal from dwelling)', 'Theft(Steal from person)', 'Theft(Stock theft)', 'Theft(Fraud)', 'Theft(Other theft)', 'Arson(None)', 'Malicious damage to property(None)'],\n",
    "'Drug Possession' : ['Drug offences(Possession and/or use of cocaine)', 'Drug offences(Possession and/or use of narcotics)', 'Drug offences(Possession and/or use of cannabis)', 'Drug offences(Possession and/or use of amphetamines)', 'Drug offences(Possession and/or use of ecstasy)', 'Drug offences(Possession and/or use of other drugs)'],\n",
    "'Drug Dealing' : ['Drug offences(Dealing, trafficking in cocaine)', 'Drug offences(Dealing, trafficking in narcotics)', 'Drug offences(Dealing, trafficking in cannabis)', 'Drug offences(Dealing, trafficking in amphetamines)', 'Drug offences(Dealing, trafficking in ecstasy)', 'Drug offences(Dealing, trafficking in other drugs)', 'Drug offences(Cultivating cannabis)', 'Drug offences(Manufacture drug)', 'Drug offences(Importing drugs)', 'Drug offences(Other drug offences)'],\n",
    "'Vice' : ['Betting and gaming offences(None)', 'Liquor offences(None)', 'Pornography offences(None)', 'Prostitution offences(None)'],\n",
    "'Weapons offences': ['Prohibited and regulated weapons offences(None)'],\n",
    "'Other offences' : ['Against justice procedures(Escape custody)', 'Against justice procedures(Breach Apprehended Violence Order)', 'Against justice procedures(Breach bail conditions)', 'Against justice procedures(Fail to appear)', 'Against justice procedures(Resist or hinder officer)', 'Against justice procedures(Other offences against justice procedures)', 'Transport regulatory offences(None)', 'Other offences(None)', 'Disorderly conduct(Trespass)', 'Disorderly conduct(Offensive conduct)', 'Disorderly conduct(Offensive language)', 'Disorderly conduct(Criminal intent)']}\n",
    "\n",
    "# cats -  THESE ARE THE 11 MAIN CATEGORIES\n",
    "\n",
    "cats = ['Homicide', 'Assault', 'Sexual offences', 'Other offences against the person', 'Robbery', \n",
    "        'Property offences', 'Drug Possession', 'Drug Dealing', 'Vice', 'Weapons offences', 'Other offences']\n",
    "\n",
    "# gsyd - THESE ARE THE GREATEER SYDNEY LGAs\n",
    "\n",
    "gsyd = ['Ashfield', 'Auburn', 'Bankstown', 'Blacktown', 'Blue Mountains', 'Botany Bay', 'Burwood', 'Camden', 'Campbelltown', 'Canada Bay', \n",
    "        'Canterbury', 'Fairfield', 'Gosford', 'Hawkesbury', 'Holroyd', 'Hornsby', 'Hunters Hill', 'Hurstville', 'Kogarah', 'Ku-ring-gai', 'Lane Cove', 'Leichhardt', 'Liverpool',\n",
    "        'Manly', 'Marrickville', 'Mosman', 'North Sydney', 'Parramatta', 'Penrith', 'Pittwater', 'Randwick', 'Rockdale', 'Ryde', 'Strathfield', 'Sutherland Shire', 'Sydney', \n",
    "        'The Hills Shire', 'Warringah', 'Waverley', 'Willoughby', 'Wollondilly', 'Woollahra', 'Wyong']\n",
    "\n",
    "# regnsw -  THESE ARE THE REGIONAL LGAs\n",
    "\n",
    "regnsw = ['Albury', 'Armidale Dumaresq', 'Ballina', 'Balranald', 'Bathurst Regional', 'Bega Valley', 'Bellingen', \n",
    "           'Berrigan', 'Bland', 'Blayney', 'Bogan', 'Bombala', 'Boorowa', 'Bourke', 'Brewarrina', 'Broken Hill', \n",
    "           'Byron', 'Cabonne', 'Carrathool', 'Central Darling', 'Cessnock', 'Clarence Valley', 'Cobar', 'Coffs Harbour', \n",
    "           'Conargo', 'Coolamon', 'Cooma-Monaro', 'Coonamble', 'Cootamundra', 'Corowa Shire', 'Cowra', 'Deniliquin', \n",
    "           'Dubbo', 'Dungog', 'Eurobodalla', 'Forbes', 'Gilgandra', 'Glen Innes Severn', 'Gloucester', 'Goulburn Mulwaree', \n",
    "           'Great Lakes', 'Greater Hume Shire', 'Greater Taree', 'Griffith', 'Gundagai', 'Gunnedah', 'Guyra', \n",
    "           'Gwydir', 'Harden', 'Hay', 'Inverell', 'Jerilderie', 'Junee', 'Kempsey', 'Kiama', 'Kyogle', 'Lachlan',\n",
    "           'Lake Macquarie', 'Leeton', 'Lismore', 'Lithgow', 'Liverpool Plains', 'Lockhart', 'Maitland', \n",
    "           'Mid-Western Regional', 'Moree Plains', 'Murray', 'Murrumbidgee', 'Muswellbrook', 'Nambucca', \n",
    "           'Narrabri', 'Narrandera', 'Narromine', 'Newcastle', 'Oberon', 'Orange', 'Palerang', 'Parkes', \n",
    "           'Port Macquarie-Hastings', 'Port Stephens', 'Queanbeyan', 'Richmond Valley', 'Shellharbour', \n",
    "           'Shoalhaven', 'Singleton', 'Snowy River', 'Tamworth Regional', 'Temora', 'Tenterfield', 'Tumbarumba', \n",
    "           'Tumut Shire', 'Tweed', 'Upper Hunter Shire', 'Upper Lachlan Shire', 'Uralla', 'Urana', \n",
    "           'Wagga Wagga', 'Wakool', 'Walcha', 'Walgett', 'Warren', 'Warrumbungle Shire', 'Weddin',\n",
    "           'Wellington', 'Wentworth', 'Wingecarribee', 'Wollongong', 'Yass Valley', 'Young', 'Unincorporated Far West']\n"
   ]
  },
  {
   "cell_type": "markdown",
   "metadata": {
    "slideshow": {
     "slide_type": "slide"
    }
   },
   "source": [
    "## Loading the data"
   ]
  },
  {
   "cell_type": "markdown",
   "metadata": {
    "slideshow": {
     "slide_type": "slide"
    }
   },
   "source": [
    "### Processing the data in NSWcrimes.csv\n",
    "\n",
    "The idea is to store stats for each year in an SQL table. \n",
    "    - i.e, each table has:\n",
    "        - 156 Attributes/Columns - 152 LGAs PLUS (Unincorporated Far West, Lord Howe Island, Prisons) and\n",
    "        - 11 Tuples/Rows  - 11 main categories\n",
    "\n",
    "The data in NSWcrimes.csv has 64 categories/sub-categories, which will be reduced to the 11 main categories.\n",
    "\n",
    "** psudocode **\n",
    "\n",
    "- setup a defaultdict collection object template  (temp_yr) that holds dictionaries and initialise it with LGA names as keys\n",
    "- Define two more defaultdict collection objects to be used in the loop\n",
    "- For each year:\n",
    "    - open NSWcrimes.csv file using csv.dictreader\n",
    "    - initaialise a defaultdict object to hold the stats without grouping (i.e, for 62 categories), keys are LGAs    \n",
    "    - iterate over the reader dict object and save the stats to the dict of dicts (subs1)\n",
    "    - initaialise another defaultdict object to hold the grouped stats (subs_yr)\n",
    "    - iterate over the subs1 dictionary and group the categories into 11 main categories\n",
    "    - create a Pandas Dataframe form this final dictionary of dictionaries object (subs_yr)\n",
    "    - write the dataframe to a SQL table\n",
    "\n",
    "** Data was validated by comparing with the stats from the file [RCI_offencebyyear.xlsx](RCI_offencebyyear.xlsx). **"
   ]
  },
  {
   "cell_type": "code",
   "execution_count": 2,
   "metadata": {
    "slideshow": {
     "slide_type": "skip"
    }
   },
   "outputs": [
    {
     "ename": "NameError",
     "evalue": "name 'collections' is not defined",
     "output_type": "error",
     "traceback": [
      "\u001b[0;31m---------------------------------------------------------------------------\u001b[0m",
      "\u001b[0;31mNameError\u001b[0m                                 Traceback (most recent call last)",
      "\u001b[0;32m<ipython-input-2-cb84dabde161>\u001b[0m in \u001b[0;36m<module>\u001b[0;34m()\u001b[0m\n\u001b[1;32m      1\u001b[0m \u001b[0;31m# CREATE SOME defaultdict collection objects\u001b[0m\u001b[0;34m\u001b[0m\u001b[0;34m\u001b[0m\u001b[0m\n\u001b[1;32m      2\u001b[0m \u001b[0;34m\u001b[0m\u001b[0m\n\u001b[0;32m----> 3\u001b[0;31m \u001b[0msubs1\u001b[0m \u001b[0;34m=\u001b[0m \u001b[0mcollections\u001b[0m\u001b[0;34m.\u001b[0m\u001b[0mdefaultdict\u001b[0m\u001b[0;34m(\u001b[0m\u001b[0mdict\u001b[0m\u001b[0;34m)\u001b[0m\u001b[0;34m\u001b[0m\u001b[0m\n\u001b[0m\u001b[1;32m      4\u001b[0m \u001b[0msubs_yr\u001b[0m \u001b[0;34m=\u001b[0m \u001b[0mcollections\u001b[0m\u001b[0;34m.\u001b[0m\u001b[0mdefaultdict\u001b[0m\u001b[0;34m(\u001b[0m\u001b[0mdict\u001b[0m\u001b[0;34m)\u001b[0m\u001b[0;34m\u001b[0m\u001b[0m\n\u001b[1;32m      5\u001b[0m \u001b[0mtemp_yr\u001b[0m \u001b[0;34m=\u001b[0m \u001b[0mcollections\u001b[0m\u001b[0;34m.\u001b[0m\u001b[0mdefaultdict\u001b[0m\u001b[0;34m(\u001b[0m\u001b[0mdict\u001b[0m\u001b[0;34m)\u001b[0m\u001b[0;34m\u001b[0m\u001b[0m\n",
      "\u001b[0;31mNameError\u001b[0m: name 'collections' is not defined"
     ]
    }
   ],
   "source": [
    "# CREATE SOME defaultdict collection objects\n",
    "\n",
    "subs1 = collections.defaultdict(dict)\n",
    "subs_yr = collections.defaultdict(dict)\n",
    "temp_yr = collections.defaultdict(dict)\n",
    "\n",
    "for i in lga:\n",
    "     temp_yr[i] = {}             # template to hold all subs as a dict of dictS\n",
    "\n",
    "\n",
    "# the below code does:\n",
    "        # for each year, open the file and save all the stats for each year into a dict of dict for that year (subs1)\n",
    "        # then iterate over susb1 and group the crime categories into subs_yr\n",
    "\n",
    "for yr in yrs:\n",
    "        # Below code:  we need to open the file inside the loop otherwise once it goes through the robj iterator once it will have tobe reset, (read that it is very memory intensive)\n",
    "        # having it inside the loop it resets every time the file opens.\n",
    "\n",
    "    with open('NSWcrimes.csv') as fin:                            # open the file\n",
    "        robj = csv.DictReader(fin, delimiter=';')            # using csv.DictReader to read the file, returns a reader object\n",
    "\n",
    "                                            # making a deep copy instead of shallow copy, resets for each year\n",
    "        subs1 = copy.deepcopy(temp_yr)           # to hold each subs stats without grouping\n",
    "\n",
    "        for b in robj:                   # this makes the offences+sub-categories into one key\n",
    "            temp = b['Offence category']+ '('+b['Subcategory']+')'\n",
    "            subs1[b['LGA']][temp] = b[yr]\n",
    "\n",
    "        subs_yr = copy.deepcopy(temp_yr)     #  this dict collection holds stats that are grouped\n",
    "\n",
    "        for c in subs1:                  # this groups together the categories to just 11 for yeach year\n",
    "            for o in off_cat:\n",
    "                  for n in off_cat[o]:\n",
    "                    if o in subs_yr[c]:\n",
    "                        subs_yr[c][o] += int(subs1[c][n])\n",
    "                    else:\n",
    "                        subs_yr[c][o] = int(subs1[c][n])\n",
    "\n",
    "              # below code exports each dataframe as a table to postgres DB\n",
    "                # each table corresponds to a particular year\n",
    "\n",
    "        df1 = pd.DataFrame(subs_yr, index = cats)[lga]\n",
    "\n",
    "        TABLE = 'y'+yr              # table name to be used when creating the table in POSTGRES DB\n",
    "        \n",
    "        # ONLY NEED TO RUN THE BELOW ONCE\n",
    "        \n",
    "        #df1.to_sql(TABLE, engine, index_label='Categories')"
   ]
  },
  {
   "cell_type": "markdown",
   "metadata": {
    "slideshow": {
     "slide_type": "slide"
    }
   },
   "source": [
    "** This is how the transformed data that is stored in the POSTGRES database looks like **\n",
    "\n",
    "** Select the Year from the dropdown list to pull up the stats for that year. **"
   ]
  },
  {
   "cell_type": "code",
   "execution_count": 11,
   "metadata": {
    "slideshow": {
     "slide_type": "slide"
    }
   },
   "outputs": [
    {
     "data": {
      "application/vnd.jupyter.widget-view+json": {
       "model_id": "b83287e2955848c1bb87aef82be89b05"
      }
     },
     "metadata": {},
     "output_type": "display_data"
    },
    {
     "data": {
      "text/plain": [
       "<function __main__.yrf>"
      ]
     },
     "execution_count": 11,
     "metadata": {},
     "output_type": "execute_result"
    }
   ],
   "source": [
    "def yrf(Year):\n",
    "    yr1 = 'y'+Year\n",
    "    dy4 = pd.read_sql_table(yr1,engine)\n",
    "    return(dy4)\n",
    "interact(yrf,Year=yrs)"
   ]
  },
  {
   "cell_type": "markdown",
   "metadata": {
    "slideshow": {
     "slide_type": "slide"
    }
   },
   "source": [
    "### Loading LGA populations (from Year 2011 census) into a table in POSTGRES database"
   ]
  },
  {
   "cell_type": "code",
   "execution_count": 13,
   "metadata": {
    "collapsed": true,
    "slideshow": {
     "slide_type": "skip"
    }
   },
   "outputs": [],
   "source": [
    "with open('2011LGA_pop.csv') as fpop:\n",
    "    rin = csv.DictReader(fpop)\n",
    "    pop1 = pd.DataFrame(next(rin), index = ['y2011POP'])         # there is only one line of data in the csv file\n",
    "\n",
    "# ONLY NEED TO RUN THE BELOW LINE ONCE\n",
    "#pop1.to_sql('pop', engine, index_label='Population')        # table name is 'pop'\n"
   ]
  },
  {
   "cell_type": "markdown",
   "metadata": {
    "slideshow": {
     "slide_type": "slide"
    }
   },
   "source": [
    "### Sample output from the POSTGRES database:\n",
    "proj1903b=# select \"Population\", \"Sydney\", \"Ashfield\", \"Randwick\" from pop;\n",
    "\n",
    "| Population | Sydney | Ashfield | Randwick |\n",
    "|:-----------|:-------|:---------|:---------|\n",
    "| y2011POP   | 169507 | 41213    | 128988   |\n",
    "|(1 row)     |\n"
   ]
  },
  {
   "cell_type": "markdown",
   "metadata": {
    "slideshow": {
     "slide_type": "slide"
    }
   },
   "source": [
    "List of LGA's in the population dataframe also includes \"No Usual Address\". Removing it to give a list of 153 LGAs. \n",
    "Where as \"lga\" has 155 entries, the two missing ones are \"Prisions\" and \"Lord Howe Island\"."
   ]
  },
  {
   "cell_type": "code",
   "execution_count": 14,
   "metadata": {
    "collapsed": true,
    "slideshow": {
     "slide_type": "skip"
    }
   },
   "outputs": [],
   "source": [
    "plga = list(pop1.columns)\n",
    "plga.remove(\"No Usual Address\")"
   ]
  },
  {
   "cell_type": "markdown",
   "metadata": {
    "slideshow": {
     "slide_type": "slide"
    }
   },
   "source": [
    "### Loading the rents data  for \"Greater Metropolitan Regions NSW\" into an SQL table\n"
   ]
  },
  {
   "cell_type": "code",
   "execution_count": 16,
   "metadata": {
    "collapsed": true,
    "slideshow": {
     "slide_type": "slide"
    }
   },
   "outputs": [],
   "source": [
    "rent = pd.read_csv('rents_gmr.csv', na_values = 'NULL', index_col='beds')\n",
    "\n",
    "# ONLY NEED TO RUN THE BELOW ONCE\n",
    "#rent.to_sql('rent', engine, index_label='beds')"
   ]
  },
  {
   "cell_type": "markdown",
   "metadata": {
    "slideshow": {
     "slide_type": "slide"
    }
   },
   "source": [
    "## Exploring the Data"
   ]
  },
  {
   "cell_type": "markdown",
   "metadata": {
    "slideshow": {
     "slide_type": "slide"
    }
   },
   "source": [
    "### Exploring stats for the selected LGAs and the Year\n",
    "\n",
    "- Default selection for LGAs: Hunters Hill, Blacktown, Ku-ring-gai, Lane Cove, Leichhardt, Sydney\n",
    "\n",
    "- Default Year: 2016\n",
    "\n",
    "** Click on \"Run Interact\" after making the selection **"
   ]
  },
  {
   "cell_type": "code",
   "execution_count": 18,
   "metadata": {
    "slideshow": {
     "slide_type": "slide"
    }
   },
   "outputs": [
    {
     "data": {
      "application/vnd.jupyter.widget-view+json": {
       "model_id": "652e74f001a943ab9ffb70e6f5242d14"
      }
     },
     "metadata": {},
     "output_type": "display_data"
    },
    {
     "data": {
      "text/plain": [
       "<function __main__.h01>"
      ]
     },
     "execution_count": 18,
     "metadata": {},
     "output_type": "execute_result"
    }
   ],
   "source": [
    "sel01 = widgets.SelectMultiple(\n",
    "    options=plga,\n",
    "    value=['Hunters Hill', 'Blacktown', 'Ku-ring-gai', 'Lane Cove', 'Leichhardt', 'Sydney'],\n",
    "    description='LGA:',\n",
    "    disabled=False,\n",
    "    layout=Layout(display=\"inline_flex\", flex_flow='column')\n",
    ")\n",
    "\n",
    "yer01  = widgets.Dropdown(\n",
    "    options=yrs,\n",
    "    value='2016',\n",
    "    description='Year:',\n",
    "    disabled=False,\n",
    "    layout=Layout(width='20%')\n",
    ")\n",
    "\n",
    "def h01(s01, y01):\n",
    "    global tab01\n",
    "    y11 = 'y'+y01\n",
    "    tab02 = pd.read_sql_table(y11,engine, index_col='Categories')\n",
    "    tab01 = tab02[list(s01)]\n",
    "    return(tab01)\n",
    "interact_manual(h01,  y01=yer01, s01=sel01)"
   ]
  },
  {
   "cell_type": "markdown",
   "metadata": {
    "slideshow": {
     "slide_type": "slide"
    }
   },
   "source": [
    "### Population adjusted counts, per 10000 people\n",
    "\n",
    "** The below cell shows the population adjusted data for the above selected LGAs **"
   ]
  },
  {
   "cell_type": "code",
   "execution_count": 19,
   "metadata": {
    "slideshow": {
     "slide_type": "slide"
    }
   },
   "outputs": [
    {
     "data": {
      "text/html": [
       "<div>\n",
       "<style>\n",
       "    .dataframe thead tr:only-child th {\n",
       "        text-align: right;\n",
       "    }\n",
       "\n",
       "    .dataframe thead th {\n",
       "        text-align: left;\n",
       "    }\n",
       "\n",
       "    .dataframe tbody tr th {\n",
       "        vertical-align: top;\n",
       "    }\n",
       "</style>\n",
       "<table border=\"1\" class=\"dataframe\">\n",
       "  <thead>\n",
       "    <tr style=\"text-align: right;\">\n",
       "      <th></th>\n",
       "      <th>Hunters Hill</th>\n",
       "      <th>Blacktown</th>\n",
       "      <th>Ku-ring-gai</th>\n",
       "      <th>Lane Cove</th>\n",
       "      <th>Leichhardt</th>\n",
       "      <th>Sydney</th>\n",
       "    </tr>\n",
       "    <tr>\n",
       "      <th>Categories</th>\n",
       "      <th></th>\n",
       "      <th></th>\n",
       "      <th></th>\n",
       "      <th></th>\n",
       "      <th></th>\n",
       "      <th></th>\n",
       "    </tr>\n",
       "  </thead>\n",
       "  <tbody>\n",
       "    <tr>\n",
       "      <th>Homicide</th>\n",
       "      <td>0</td>\n",
       "      <td>0</td>\n",
       "      <td>0</td>\n",
       "      <td>0</td>\n",
       "      <td>0</td>\n",
       "      <td>0</td>\n",
       "    </tr>\n",
       "    <tr>\n",
       "      <th>Assault</th>\n",
       "      <td>28</td>\n",
       "      <td>123</td>\n",
       "      <td>13</td>\n",
       "      <td>29</td>\n",
       "      <td>62</td>\n",
       "      <td>267</td>\n",
       "    </tr>\n",
       "    <tr>\n",
       "      <th>Sexual offences</th>\n",
       "      <td>8</td>\n",
       "      <td>18</td>\n",
       "      <td>7</td>\n",
       "      <td>4</td>\n",
       "      <td>7</td>\n",
       "      <td>32</td>\n",
       "    </tr>\n",
       "    <tr>\n",
       "      <th>Other offences against the person</th>\n",
       "      <td>21</td>\n",
       "      <td>66</td>\n",
       "      <td>8</td>\n",
       "      <td>16</td>\n",
       "      <td>32</td>\n",
       "      <td>69</td>\n",
       "    </tr>\n",
       "    <tr>\n",
       "      <th>Robbery</th>\n",
       "      <td>2</td>\n",
       "      <td>8</td>\n",
       "      <td>0</td>\n",
       "      <td>0</td>\n",
       "      <td>3</td>\n",
       "      <td>15</td>\n",
       "    </tr>\n",
       "    <tr>\n",
       "      <th>Property offences</th>\n",
       "      <td>201</td>\n",
       "      <td>520</td>\n",
       "      <td>170</td>\n",
       "      <td>185</td>\n",
       "      <td>389</td>\n",
       "      <td>1290</td>\n",
       "    </tr>\n",
       "    <tr>\n",
       "      <th>Drug Possession</th>\n",
       "      <td>26</td>\n",
       "      <td>45</td>\n",
       "      <td>8</td>\n",
       "      <td>14</td>\n",
       "      <td>24</td>\n",
       "      <td>431</td>\n",
       "    </tr>\n",
       "    <tr>\n",
       "      <th>Drug Dealing</th>\n",
       "      <td>3</td>\n",
       "      <td>8</td>\n",
       "      <td>3</td>\n",
       "      <td>1</td>\n",
       "      <td>5</td>\n",
       "      <td>103</td>\n",
       "    </tr>\n",
       "    <tr>\n",
       "      <th>Vice</th>\n",
       "      <td>4</td>\n",
       "      <td>7</td>\n",
       "      <td>0</td>\n",
       "      <td>0</td>\n",
       "      <td>6</td>\n",
       "      <td>177</td>\n",
       "    </tr>\n",
       "    <tr>\n",
       "      <th>Weapons offences</th>\n",
       "      <td>3</td>\n",
       "      <td>16</td>\n",
       "      <td>3</td>\n",
       "      <td>0</td>\n",
       "      <td>8</td>\n",
       "      <td>40</td>\n",
       "    </tr>\n",
       "    <tr>\n",
       "      <th>Other offences</th>\n",
       "      <td>77</td>\n",
       "      <td>706</td>\n",
       "      <td>41</td>\n",
       "      <td>48</td>\n",
       "      <td>100</td>\n",
       "      <td>1387</td>\n",
       "    </tr>\n",
       "  </tbody>\n",
       "</table>\n",
       "</div>"
      ],
      "text/plain": [
       "                                   Hunters Hill  Blacktown  Ku-ring-gai  \\\n",
       "Categories                                                                \n",
       "Homicide                                      0          0            0   \n",
       "Assault                                      28        123           13   \n",
       "Sexual offences                               8         18            7   \n",
       "Other offences against the person            21         66            8   \n",
       "Robbery                                       2          8            0   \n",
       "Property offences                           201        520          170   \n",
       "Drug Possession                              26         45            8   \n",
       "Drug Dealing                                  3          8            3   \n",
       "Vice                                          4          7            0   \n",
       "Weapons offences                              3         16            3   \n",
       "Other offences                               77        706           41   \n",
       "\n",
       "                                   Lane Cove  Leichhardt  Sydney  \n",
       "Categories                                                        \n",
       "Homicide                                   0           0       0  \n",
       "Assault                                   29          62     267  \n",
       "Sexual offences                            4           7      32  \n",
       "Other offences against the person         16          32      69  \n",
       "Robbery                                    0           3      15  \n",
       "Property offences                        185         389    1290  \n",
       "Drug Possession                           14          24     431  \n",
       "Drug Dealing                               1           5     103  \n",
       "Vice                                       0           6     177  \n",
       "Weapons offences                           0           8      40  \n",
       "Other offences                            48         100    1387  "
      ]
     },
     "execution_count": 19,
     "metadata": {},
     "output_type": "execute_result"
    }
   ],
   "source": [
    "# Creating an array of population counts to match the dimensions of the output table above\n",
    "# This array has 11 rows with same values for each LGA\n",
    "\n",
    "pop01 = np.array(pop1[list(sel01.value)])\n",
    "pop02 = np.tile(pop01, (11,1))\n",
    "pdiv = pop02.astype('int')\n",
    "tadj01 = (tab01*10000).div(pdiv, axis='columns').astype('int')\n",
    "tadj01"
   ]
  },
  {
   "cell_type": "markdown",
   "metadata": {
    "slideshow": {
     "slide_type": "slide"
    }
   },
   "source": [
    "### Below cell produces stacked bar plots of the absolute counts and the population adjusted counts. \n",
    "\n",
    "As mentioned earlier comparing Sydney with other LGAs is misleading.  It is clear in the below bar plot, even after adjusting for the resident populations, Sydney counts are way too high."
   ]
  },
  {
   "cell_type": "code",
   "execution_count": 20,
   "metadata": {
    "slideshow": {
     "slide_type": "slide"
    }
   },
   "outputs": [
    {
     "data": {
      "application/javascript": [
       "/* Put everything inside the global mpl namespace */\n",
       "window.mpl = {};\n",
       "\n",
       "mpl.get_websocket_type = function() {\n",
       "    if (typeof(WebSocket) !== 'undefined') {\n",
       "        return WebSocket;\n",
       "    } else if (typeof(MozWebSocket) !== 'undefined') {\n",
       "        return MozWebSocket;\n",
       "    } else {\n",
       "        alert('Your browser does not have WebSocket support.' +\n",
       "              'Please try Chrome, Safari or Firefox ≥ 6. ' +\n",
       "              'Firefox 4 and 5 are also supported but you ' +\n",
       "              'have to enable WebSockets in about:config.');\n",
       "    };\n",
       "}\n",
       "\n",
       "mpl.figure = function(figure_id, websocket, ondownload, parent_element) {\n",
       "    this.id = figure_id;\n",
       "\n",
       "    this.ws = websocket;\n",
       "\n",
       "    this.supports_binary = (this.ws.binaryType != undefined);\n",
       "\n",
       "    if (!this.supports_binary) {\n",
       "        var warnings = document.getElementById(\"mpl-warnings\");\n",
       "        if (warnings) {\n",
       "            warnings.style.display = 'block';\n",
       "            warnings.textContent = (\n",
       "                \"This browser does not support binary websocket messages. \" +\n",
       "                    \"Performance may be slow.\");\n",
       "        }\n",
       "    }\n",
       "\n",
       "    this.imageObj = new Image();\n",
       "\n",
       "    this.context = undefined;\n",
       "    this.message = undefined;\n",
       "    this.canvas = undefined;\n",
       "    this.rubberband_canvas = undefined;\n",
       "    this.rubberband_context = undefined;\n",
       "    this.format_dropdown = undefined;\n",
       "\n",
       "    this.image_mode = 'full';\n",
       "\n",
       "    this.root = $('<div/>');\n",
       "    this._root_extra_style(this.root)\n",
       "    this.root.attr('style', 'display: inline-block');\n",
       "\n",
       "    $(parent_element).append(this.root);\n",
       "\n",
       "    this._init_header(this);\n",
       "    this._init_canvas(this);\n",
       "    this._init_toolbar(this);\n",
       "\n",
       "    var fig = this;\n",
       "\n",
       "    this.waiting = false;\n",
       "\n",
       "    this.ws.onopen =  function () {\n",
       "            fig.send_message(\"supports_binary\", {value: fig.supports_binary});\n",
       "            fig.send_message(\"send_image_mode\", {});\n",
       "            fig.send_message(\"refresh\", {});\n",
       "        }\n",
       "\n",
       "    this.imageObj.onload = function() {\n",
       "            if (fig.image_mode == 'full') {\n",
       "                // Full images could contain transparency (where diff images\n",
       "                // almost always do), so we need to clear the canvas so that\n",
       "                // there is no ghosting.\n",
       "                fig.context.clearRect(0, 0, fig.canvas.width, fig.canvas.height);\n",
       "            }\n",
       "            fig.context.drawImage(fig.imageObj, 0, 0);\n",
       "        };\n",
       "\n",
       "    this.imageObj.onunload = function() {\n",
       "        this.ws.close();\n",
       "    }\n",
       "\n",
       "    this.ws.onmessage = this._make_on_message_function(this);\n",
       "\n",
       "    this.ondownload = ondownload;\n",
       "}\n",
       "\n",
       "mpl.figure.prototype._init_header = function() {\n",
       "    var titlebar = $(\n",
       "        '<div class=\"ui-dialog-titlebar ui-widget-header ui-corner-all ' +\n",
       "        'ui-helper-clearfix\"/>');\n",
       "    var titletext = $(\n",
       "        '<div class=\"ui-dialog-title\" style=\"width: 100%; ' +\n",
       "        'text-align: center; padding: 3px;\"/>');\n",
       "    titlebar.append(titletext)\n",
       "    this.root.append(titlebar);\n",
       "    this.header = titletext[0];\n",
       "}\n",
       "\n",
       "\n",
       "\n",
       "mpl.figure.prototype._canvas_extra_style = function(canvas_div) {\n",
       "\n",
       "}\n",
       "\n",
       "\n",
       "mpl.figure.prototype._root_extra_style = function(canvas_div) {\n",
       "\n",
       "}\n",
       "\n",
       "mpl.figure.prototype._init_canvas = function() {\n",
       "    var fig = this;\n",
       "\n",
       "    var canvas_div = $('<div/>');\n",
       "\n",
       "    canvas_div.attr('style', 'position: relative; clear: both; outline: 0');\n",
       "\n",
       "    function canvas_keyboard_event(event) {\n",
       "        return fig.key_event(event, event['data']);\n",
       "    }\n",
       "\n",
       "    canvas_div.keydown('key_press', canvas_keyboard_event);\n",
       "    canvas_div.keyup('key_release', canvas_keyboard_event);\n",
       "    this.canvas_div = canvas_div\n",
       "    this._canvas_extra_style(canvas_div)\n",
       "    this.root.append(canvas_div);\n",
       "\n",
       "    var canvas = $('<canvas/>');\n",
       "    canvas.addClass('mpl-canvas');\n",
       "    canvas.attr('style', \"left: 0; top: 0; z-index: 0; outline: 0\")\n",
       "\n",
       "    this.canvas = canvas[0];\n",
       "    this.context = canvas[0].getContext(\"2d\");\n",
       "\n",
       "    var rubberband = $('<canvas/>');\n",
       "    rubberband.attr('style', \"position: absolute; left: 0; top: 0; z-index: 1;\")\n",
       "\n",
       "    var pass_mouse_events = true;\n",
       "\n",
       "    canvas_div.resizable({\n",
       "        start: function(event, ui) {\n",
       "            pass_mouse_events = false;\n",
       "        },\n",
       "        resize: function(event, ui) {\n",
       "            fig.request_resize(ui.size.width, ui.size.height);\n",
       "        },\n",
       "        stop: function(event, ui) {\n",
       "            pass_mouse_events = true;\n",
       "            fig.request_resize(ui.size.width, ui.size.height);\n",
       "        },\n",
       "    });\n",
       "\n",
       "    function mouse_event_fn(event) {\n",
       "        if (pass_mouse_events)\n",
       "            return fig.mouse_event(event, event['data']);\n",
       "    }\n",
       "\n",
       "    rubberband.mousedown('button_press', mouse_event_fn);\n",
       "    rubberband.mouseup('button_release', mouse_event_fn);\n",
       "    // Throttle sequential mouse events to 1 every 20ms.\n",
       "    rubberband.mousemove('motion_notify', mouse_event_fn);\n",
       "\n",
       "    rubberband.mouseenter('figure_enter', mouse_event_fn);\n",
       "    rubberband.mouseleave('figure_leave', mouse_event_fn);\n",
       "\n",
       "    canvas_div.on(\"wheel\", function (event) {\n",
       "        event = event.originalEvent;\n",
       "        event['data'] = 'scroll'\n",
       "        if (event.deltaY < 0) {\n",
       "            event.step = 1;\n",
       "        } else {\n",
       "            event.step = -1;\n",
       "        }\n",
       "        mouse_event_fn(event);\n",
       "    });\n",
       "\n",
       "    canvas_div.append(canvas);\n",
       "    canvas_div.append(rubberband);\n",
       "\n",
       "    this.rubberband = rubberband;\n",
       "    this.rubberband_canvas = rubberband[0];\n",
       "    this.rubberband_context = rubberband[0].getContext(\"2d\");\n",
       "    this.rubberband_context.strokeStyle = \"#000000\";\n",
       "\n",
       "    this._resize_canvas = function(width, height) {\n",
       "        // Keep the size of the canvas, canvas container, and rubber band\n",
       "        // canvas in synch.\n",
       "        canvas_div.css('width', width)\n",
       "        canvas_div.css('height', height)\n",
       "\n",
       "        canvas.attr('width', width);\n",
       "        canvas.attr('height', height);\n",
       "\n",
       "        rubberband.attr('width', width);\n",
       "        rubberband.attr('height', height);\n",
       "    }\n",
       "\n",
       "    // Set the figure to an initial 600x600px, this will subsequently be updated\n",
       "    // upon first draw.\n",
       "    this._resize_canvas(600, 600);\n",
       "\n",
       "    // Disable right mouse context menu.\n",
       "    $(this.rubberband_canvas).bind(\"contextmenu\",function(e){\n",
       "        return false;\n",
       "    });\n",
       "\n",
       "    function set_focus () {\n",
       "        canvas.focus();\n",
       "        canvas_div.focus();\n",
       "    }\n",
       "\n",
       "    window.setTimeout(set_focus, 100);\n",
       "}\n",
       "\n",
       "mpl.figure.prototype._init_toolbar = function() {\n",
       "    var fig = this;\n",
       "\n",
       "    var nav_element = $('<div/>')\n",
       "    nav_element.attr('style', 'width: 100%');\n",
       "    this.root.append(nav_element);\n",
       "\n",
       "    // Define a callback function for later on.\n",
       "    function toolbar_event(event) {\n",
       "        return fig.toolbar_button_onclick(event['data']);\n",
       "    }\n",
       "    function toolbar_mouse_event(event) {\n",
       "        return fig.toolbar_button_onmouseover(event['data']);\n",
       "    }\n",
       "\n",
       "    for(var toolbar_ind in mpl.toolbar_items) {\n",
       "        var name = mpl.toolbar_items[toolbar_ind][0];\n",
       "        var tooltip = mpl.toolbar_items[toolbar_ind][1];\n",
       "        var image = mpl.toolbar_items[toolbar_ind][2];\n",
       "        var method_name = mpl.toolbar_items[toolbar_ind][3];\n",
       "\n",
       "        if (!name) {\n",
       "            // put a spacer in here.\n",
       "            continue;\n",
       "        }\n",
       "        var button = $('<button/>');\n",
       "        button.addClass('ui-button ui-widget ui-state-default ui-corner-all ' +\n",
       "                        'ui-button-icon-only');\n",
       "        button.attr('role', 'button');\n",
       "        button.attr('aria-disabled', 'false');\n",
       "        button.click(method_name, toolbar_event);\n",
       "        button.mouseover(tooltip, toolbar_mouse_event);\n",
       "\n",
       "        var icon_img = $('<span/>');\n",
       "        icon_img.addClass('ui-button-icon-primary ui-icon');\n",
       "        icon_img.addClass(image);\n",
       "        icon_img.addClass('ui-corner-all');\n",
       "\n",
       "        var tooltip_span = $('<span/>');\n",
       "        tooltip_span.addClass('ui-button-text');\n",
       "        tooltip_span.html(tooltip);\n",
       "\n",
       "        button.append(icon_img);\n",
       "        button.append(tooltip_span);\n",
       "\n",
       "        nav_element.append(button);\n",
       "    }\n",
       "\n",
       "    var fmt_picker_span = $('<span/>');\n",
       "\n",
       "    var fmt_picker = $('<select/>');\n",
       "    fmt_picker.addClass('mpl-toolbar-option ui-widget ui-widget-content');\n",
       "    fmt_picker_span.append(fmt_picker);\n",
       "    nav_element.append(fmt_picker_span);\n",
       "    this.format_dropdown = fmt_picker[0];\n",
       "\n",
       "    for (var ind in mpl.extensions) {\n",
       "        var fmt = mpl.extensions[ind];\n",
       "        var option = $(\n",
       "            '<option/>', {selected: fmt === mpl.default_extension}).html(fmt);\n",
       "        fmt_picker.append(option)\n",
       "    }\n",
       "\n",
       "    // Add hover states to the ui-buttons\n",
       "    $( \".ui-button\" ).hover(\n",
       "        function() { $(this).addClass(\"ui-state-hover\");},\n",
       "        function() { $(this).removeClass(\"ui-state-hover\");}\n",
       "    );\n",
       "\n",
       "    var status_bar = $('<span class=\"mpl-message\"/>');\n",
       "    nav_element.append(status_bar);\n",
       "    this.message = status_bar[0];\n",
       "}\n",
       "\n",
       "mpl.figure.prototype.request_resize = function(x_pixels, y_pixels) {\n",
       "    // Request matplotlib to resize the figure. Matplotlib will then trigger a resize in the client,\n",
       "    // which will in turn request a refresh of the image.\n",
       "    this.send_message('resize', {'width': x_pixels, 'height': y_pixels});\n",
       "}\n",
       "\n",
       "mpl.figure.prototype.send_message = function(type, properties) {\n",
       "    properties['type'] = type;\n",
       "    properties['figure_id'] = this.id;\n",
       "    this.ws.send(JSON.stringify(properties));\n",
       "}\n",
       "\n",
       "mpl.figure.prototype.send_draw_message = function() {\n",
       "    if (!this.waiting) {\n",
       "        this.waiting = true;\n",
       "        this.ws.send(JSON.stringify({type: \"draw\", figure_id: this.id}));\n",
       "    }\n",
       "}\n",
       "\n",
       "\n",
       "mpl.figure.prototype.handle_save = function(fig, msg) {\n",
       "    var format_dropdown = fig.format_dropdown;\n",
       "    var format = format_dropdown.options[format_dropdown.selectedIndex].value;\n",
       "    fig.ondownload(fig, format);\n",
       "}\n",
       "\n",
       "\n",
       "mpl.figure.prototype.handle_resize = function(fig, msg) {\n",
       "    var size = msg['size'];\n",
       "    if (size[0] != fig.canvas.width || size[1] != fig.canvas.height) {\n",
       "        fig._resize_canvas(size[0], size[1]);\n",
       "        fig.send_message(\"refresh\", {});\n",
       "    };\n",
       "}\n",
       "\n",
       "mpl.figure.prototype.handle_rubberband = function(fig, msg) {\n",
       "    var x0 = msg['x0'];\n",
       "    var y0 = fig.canvas.height - msg['y0'];\n",
       "    var x1 = msg['x1'];\n",
       "    var y1 = fig.canvas.height - msg['y1'];\n",
       "    x0 = Math.floor(x0) + 0.5;\n",
       "    y0 = Math.floor(y0) + 0.5;\n",
       "    x1 = Math.floor(x1) + 0.5;\n",
       "    y1 = Math.floor(y1) + 0.5;\n",
       "    var min_x = Math.min(x0, x1);\n",
       "    var min_y = Math.min(y0, y1);\n",
       "    var width = Math.abs(x1 - x0);\n",
       "    var height = Math.abs(y1 - y0);\n",
       "\n",
       "    fig.rubberband_context.clearRect(\n",
       "        0, 0, fig.canvas.width, fig.canvas.height);\n",
       "\n",
       "    fig.rubberband_context.strokeRect(min_x, min_y, width, height);\n",
       "}\n",
       "\n",
       "mpl.figure.prototype.handle_figure_label = function(fig, msg) {\n",
       "    // Updates the figure title.\n",
       "    fig.header.textContent = msg['label'];\n",
       "}\n",
       "\n",
       "mpl.figure.prototype.handle_cursor = function(fig, msg) {\n",
       "    var cursor = msg['cursor'];\n",
       "    switch(cursor)\n",
       "    {\n",
       "    case 0:\n",
       "        cursor = 'pointer';\n",
       "        break;\n",
       "    case 1:\n",
       "        cursor = 'default';\n",
       "        break;\n",
       "    case 2:\n",
       "        cursor = 'crosshair';\n",
       "        break;\n",
       "    case 3:\n",
       "        cursor = 'move';\n",
       "        break;\n",
       "    }\n",
       "    fig.rubberband_canvas.style.cursor = cursor;\n",
       "}\n",
       "\n",
       "mpl.figure.prototype.handle_message = function(fig, msg) {\n",
       "    fig.message.textContent = msg['message'];\n",
       "}\n",
       "\n",
       "mpl.figure.prototype.handle_draw = function(fig, msg) {\n",
       "    // Request the server to send over a new figure.\n",
       "    fig.send_draw_message();\n",
       "}\n",
       "\n",
       "mpl.figure.prototype.handle_image_mode = function(fig, msg) {\n",
       "    fig.image_mode = msg['mode'];\n",
       "}\n",
       "\n",
       "mpl.figure.prototype.updated_canvas_event = function() {\n",
       "    // Called whenever the canvas gets updated.\n",
       "    this.send_message(\"ack\", {});\n",
       "}\n",
       "\n",
       "// A function to construct a web socket function for onmessage handling.\n",
       "// Called in the figure constructor.\n",
       "mpl.figure.prototype._make_on_message_function = function(fig) {\n",
       "    return function socket_on_message(evt) {\n",
       "        if (evt.data instanceof Blob) {\n",
       "            /* FIXME: We get \"Resource interpreted as Image but\n",
       "             * transferred with MIME type text/plain:\" errors on\n",
       "             * Chrome.  But how to set the MIME type?  It doesn't seem\n",
       "             * to be part of the websocket stream */\n",
       "            evt.data.type = \"image/png\";\n",
       "\n",
       "            /* Free the memory for the previous frames */\n",
       "            if (fig.imageObj.src) {\n",
       "                (window.URL || window.webkitURL).revokeObjectURL(\n",
       "                    fig.imageObj.src);\n",
       "            }\n",
       "\n",
       "            fig.imageObj.src = (window.URL || window.webkitURL).createObjectURL(\n",
       "                evt.data);\n",
       "            fig.updated_canvas_event();\n",
       "            fig.waiting = false;\n",
       "            return;\n",
       "        }\n",
       "        else if (typeof evt.data === 'string' && evt.data.slice(0, 21) == \"data:image/png;base64\") {\n",
       "            fig.imageObj.src = evt.data;\n",
       "            fig.updated_canvas_event();\n",
       "            fig.waiting = false;\n",
       "            return;\n",
       "        }\n",
       "\n",
       "        var msg = JSON.parse(evt.data);\n",
       "        var msg_type = msg['type'];\n",
       "\n",
       "        // Call the  \"handle_{type}\" callback, which takes\n",
       "        // the figure and JSON message as its only arguments.\n",
       "        try {\n",
       "            var callback = fig[\"handle_\" + msg_type];\n",
       "        } catch (e) {\n",
       "            console.log(\"No handler for the '\" + msg_type + \"' message type: \", msg);\n",
       "            return;\n",
       "        }\n",
       "\n",
       "        if (callback) {\n",
       "            try {\n",
       "                // console.log(\"Handling '\" + msg_type + \"' message: \", msg);\n",
       "                callback(fig, msg);\n",
       "            } catch (e) {\n",
       "                console.log(\"Exception inside the 'handler_\" + msg_type + \"' callback:\", e, e.stack, msg);\n",
       "            }\n",
       "        }\n",
       "    };\n",
       "}\n",
       "\n",
       "// from http://stackoverflow.com/questions/1114465/getting-mouse-location-in-canvas\n",
       "mpl.findpos = function(e) {\n",
       "    //this section is from http://www.quirksmode.org/js/events_properties.html\n",
       "    var targ;\n",
       "    if (!e)\n",
       "        e = window.event;\n",
       "    if (e.target)\n",
       "        targ = e.target;\n",
       "    else if (e.srcElement)\n",
       "        targ = e.srcElement;\n",
       "    if (targ.nodeType == 3) // defeat Safari bug\n",
       "        targ = targ.parentNode;\n",
       "\n",
       "    // jQuery normalizes the pageX and pageY\n",
       "    // pageX,Y are the mouse positions relative to the document\n",
       "    // offset() returns the position of the element relative to the document\n",
       "    var x = e.pageX - $(targ).offset().left;\n",
       "    var y = e.pageY - $(targ).offset().top;\n",
       "\n",
       "    return {\"x\": x, \"y\": y};\n",
       "};\n",
       "\n",
       "/*\n",
       " * return a copy of an object with only non-object keys\n",
       " * we need this to avoid circular references\n",
       " * http://stackoverflow.com/a/24161582/3208463\n",
       " */\n",
       "function simpleKeys (original) {\n",
       "  return Object.keys(original).reduce(function (obj, key) {\n",
       "    if (typeof original[key] !== 'object')\n",
       "        obj[key] = original[key]\n",
       "    return obj;\n",
       "  }, {});\n",
       "}\n",
       "\n",
       "mpl.figure.prototype.mouse_event = function(event, name) {\n",
       "    var canvas_pos = mpl.findpos(event)\n",
       "\n",
       "    if (name === 'button_press')\n",
       "    {\n",
       "        this.canvas.focus();\n",
       "        this.canvas_div.focus();\n",
       "    }\n",
       "\n",
       "    var x = canvas_pos.x;\n",
       "    var y = canvas_pos.y;\n",
       "\n",
       "    this.send_message(name, {x: x, y: y, button: event.button,\n",
       "                             step: event.step,\n",
       "                             guiEvent: simpleKeys(event)});\n",
       "\n",
       "    /* This prevents the web browser from automatically changing to\n",
       "     * the text insertion cursor when the button is pressed.  We want\n",
       "     * to control all of the cursor setting manually through the\n",
       "     * 'cursor' event from matplotlib */\n",
       "    event.preventDefault();\n",
       "    return false;\n",
       "}\n",
       "\n",
       "mpl.figure.prototype._key_event_extra = function(event, name) {\n",
       "    // Handle any extra behaviour associated with a key event\n",
       "}\n",
       "\n",
       "mpl.figure.prototype.key_event = function(event, name) {\n",
       "\n",
       "    // Prevent repeat events\n",
       "    if (name == 'key_press')\n",
       "    {\n",
       "        if (event.which === this._key)\n",
       "            return;\n",
       "        else\n",
       "            this._key = event.which;\n",
       "    }\n",
       "    if (name == 'key_release')\n",
       "        this._key = null;\n",
       "\n",
       "    var value = '';\n",
       "    if (event.ctrlKey && event.which != 17)\n",
       "        value += \"ctrl+\";\n",
       "    if (event.altKey && event.which != 18)\n",
       "        value += \"alt+\";\n",
       "    if (event.shiftKey && event.which != 16)\n",
       "        value += \"shift+\";\n",
       "\n",
       "    value += 'k';\n",
       "    value += event.which.toString();\n",
       "\n",
       "    this._key_event_extra(event, name);\n",
       "\n",
       "    this.send_message(name, {key: value,\n",
       "                             guiEvent: simpleKeys(event)});\n",
       "    return false;\n",
       "}\n",
       "\n",
       "mpl.figure.prototype.toolbar_button_onclick = function(name) {\n",
       "    if (name == 'download') {\n",
       "        this.handle_save(this, null);\n",
       "    } else {\n",
       "        this.send_message(\"toolbar_button\", {name: name});\n",
       "    }\n",
       "};\n",
       "\n",
       "mpl.figure.prototype.toolbar_button_onmouseover = function(tooltip) {\n",
       "    this.message.textContent = tooltip;\n",
       "};\n",
       "mpl.toolbar_items = [[\"Home\", \"Reset original view\", \"fa fa-home icon-home\", \"home\"], [\"Back\", \"Back to  previous view\", \"fa fa-arrow-left icon-arrow-left\", \"back\"], [\"Forward\", \"Forward to next view\", \"fa fa-arrow-right icon-arrow-right\", \"forward\"], [\"\", \"\", \"\", \"\"], [\"Pan\", \"Pan axes with left mouse, zoom with right\", \"fa fa-arrows icon-move\", \"pan\"], [\"Zoom\", \"Zoom to rectangle\", \"fa fa-square-o icon-check-empty\", \"zoom\"], [\"\", \"\", \"\", \"\"], [\"Download\", \"Download plot\", \"fa fa-floppy-o icon-save\", \"download\"]];\n",
       "\n",
       "mpl.extensions = [\"eps\", \"jpeg\", \"pdf\", \"png\", \"ps\", \"raw\", \"svg\", \"tif\"];\n",
       "\n",
       "mpl.default_extension = \"png\";var comm_websocket_adapter = function(comm) {\n",
       "    // Create a \"websocket\"-like object which calls the given IPython comm\n",
       "    // object with the appropriate methods. Currently this is a non binary\n",
       "    // socket, so there is still some room for performance tuning.\n",
       "    var ws = {};\n",
       "\n",
       "    ws.close = function() {\n",
       "        comm.close()\n",
       "    };\n",
       "    ws.send = function(m) {\n",
       "        //console.log('sending', m);\n",
       "        comm.send(m);\n",
       "    };\n",
       "    // Register the callback with on_msg.\n",
       "    comm.on_msg(function(msg) {\n",
       "        //console.log('receiving', msg['content']['data'], msg);\n",
       "        // Pass the mpl event to the overriden (by mpl) onmessage function.\n",
       "        ws.onmessage(msg['content']['data'])\n",
       "    });\n",
       "    return ws;\n",
       "}\n",
       "\n",
       "mpl.mpl_figure_comm = function(comm, msg) {\n",
       "    // This is the function which gets called when the mpl process\n",
       "    // starts-up an IPython Comm through the \"matplotlib\" channel.\n",
       "\n",
       "    var id = msg.content.data.id;\n",
       "    // Get hold of the div created by the display call when the Comm\n",
       "    // socket was opened in Python.\n",
       "    var element = $(\"#\" + id);\n",
       "    var ws_proxy = comm_websocket_adapter(comm)\n",
       "\n",
       "    function ondownload(figure, format) {\n",
       "        window.open(figure.imageObj.src);\n",
       "    }\n",
       "\n",
       "    var fig = new mpl.figure(id, ws_proxy,\n",
       "                           ondownload,\n",
       "                           element.get(0));\n",
       "\n",
       "    // Call onopen now - mpl needs it, as it is assuming we've passed it a real\n",
       "    // web socket which is closed, not our websocket->open comm proxy.\n",
       "    ws_proxy.onopen();\n",
       "\n",
       "    fig.parent_element = element.get(0);\n",
       "    fig.cell_info = mpl.find_output_cell(\"<div id='\" + id + \"'></div>\");\n",
       "    if (!fig.cell_info) {\n",
       "        console.error(\"Failed to find cell for figure\", id, fig);\n",
       "        return;\n",
       "    }\n",
       "\n",
       "    var output_index = fig.cell_info[2]\n",
       "    var cell = fig.cell_info[0];\n",
       "\n",
       "};\n",
       "\n",
       "mpl.figure.prototype.handle_close = function(fig, msg) {\n",
       "    fig.root.unbind('remove')\n",
       "\n",
       "    // Update the output cell to use the data from the current canvas.\n",
       "    fig.push_to_output();\n",
       "    var dataURL = fig.canvas.toDataURL();\n",
       "    // Re-enable the keyboard manager in IPython - without this line, in FF,\n",
       "    // the notebook keyboard shortcuts fail.\n",
       "    IPython.keyboard_manager.enable()\n",
       "    $(fig.parent_element).html('<img src=\"' + dataURL + '\">');\n",
       "    fig.close_ws(fig, msg);\n",
       "}\n",
       "\n",
       "mpl.figure.prototype.close_ws = function(fig, msg){\n",
       "    fig.send_message('closing', msg);\n",
       "    // fig.ws.close()\n",
       "}\n",
       "\n",
       "mpl.figure.prototype.push_to_output = function(remove_interactive) {\n",
       "    // Turn the data on the canvas into data in the output cell.\n",
       "    var dataURL = this.canvas.toDataURL();\n",
       "    this.cell_info[1]['text/html'] = '<img src=\"' + dataURL + '\">';\n",
       "}\n",
       "\n",
       "mpl.figure.prototype.updated_canvas_event = function() {\n",
       "    // Tell IPython that the notebook contents must change.\n",
       "    IPython.notebook.set_dirty(true);\n",
       "    this.send_message(\"ack\", {});\n",
       "    var fig = this;\n",
       "    // Wait a second, then push the new image to the DOM so\n",
       "    // that it is saved nicely (might be nice to debounce this).\n",
       "    setTimeout(function () { fig.push_to_output() }, 1000);\n",
       "}\n",
       "\n",
       "mpl.figure.prototype._init_toolbar = function() {\n",
       "    var fig = this;\n",
       "\n",
       "    var nav_element = $('<div/>')\n",
       "    nav_element.attr('style', 'width: 100%');\n",
       "    this.root.append(nav_element);\n",
       "\n",
       "    // Define a callback function for later on.\n",
       "    function toolbar_event(event) {\n",
       "        return fig.toolbar_button_onclick(event['data']);\n",
       "    }\n",
       "    function toolbar_mouse_event(event) {\n",
       "        return fig.toolbar_button_onmouseover(event['data']);\n",
       "    }\n",
       "\n",
       "    for(var toolbar_ind in mpl.toolbar_items){\n",
       "        var name = mpl.toolbar_items[toolbar_ind][0];\n",
       "        var tooltip = mpl.toolbar_items[toolbar_ind][1];\n",
       "        var image = mpl.toolbar_items[toolbar_ind][2];\n",
       "        var method_name = mpl.toolbar_items[toolbar_ind][3];\n",
       "\n",
       "        if (!name) { continue; };\n",
       "\n",
       "        var button = $('<button class=\"btn btn-default\" href=\"#\" title=\"' + name + '\"><i class=\"fa ' + image + ' fa-lg\"></i></button>');\n",
       "        button.click(method_name, toolbar_event);\n",
       "        button.mouseover(tooltip, toolbar_mouse_event);\n",
       "        nav_element.append(button);\n",
       "    }\n",
       "\n",
       "    // Add the status bar.\n",
       "    var status_bar = $('<span class=\"mpl-message\" style=\"text-align:right; float: right;\"/>');\n",
       "    nav_element.append(status_bar);\n",
       "    this.message = status_bar[0];\n",
       "\n",
       "    // Add the close button to the window.\n",
       "    var buttongrp = $('<div class=\"btn-group inline pull-right\"></div>');\n",
       "    var button = $('<button class=\"btn btn-mini btn-primary\" href=\"#\" title=\"Stop Interaction\"><i class=\"fa fa-power-off icon-remove icon-large\"></i></button>');\n",
       "    button.click(function (evt) { fig.handle_close(fig, {}); } );\n",
       "    button.mouseover('Stop Interaction', toolbar_mouse_event);\n",
       "    buttongrp.append(button);\n",
       "    var titlebar = this.root.find($('.ui-dialog-titlebar'));\n",
       "    titlebar.prepend(buttongrp);\n",
       "}\n",
       "\n",
       "mpl.figure.prototype._root_extra_style = function(el){\n",
       "    var fig = this\n",
       "    el.on(\"remove\", function(){\n",
       "\tfig.close_ws(fig, {});\n",
       "    });\n",
       "}\n",
       "\n",
       "mpl.figure.prototype._canvas_extra_style = function(el){\n",
       "    // this is important to make the div 'focusable\n",
       "    el.attr('tabindex', 0)\n",
       "    // reach out to IPython and tell the keyboard manager to turn it's self\n",
       "    // off when our div gets focus\n",
       "\n",
       "    // location in version 3\n",
       "    if (IPython.notebook.keyboard_manager) {\n",
       "        IPython.notebook.keyboard_manager.register_events(el);\n",
       "    }\n",
       "    else {\n",
       "        // location in version 2\n",
       "        IPython.keyboard_manager.register_events(el);\n",
       "    }\n",
       "\n",
       "}\n",
       "\n",
       "mpl.figure.prototype._key_event_extra = function(event, name) {\n",
       "    var manager = IPython.notebook.keyboard_manager;\n",
       "    if (!manager)\n",
       "        manager = IPython.keyboard_manager;\n",
       "\n",
       "    // Check for shift+enter\n",
       "    if (event.shiftKey && event.which == 13) {\n",
       "        this.canvas_div.blur();\n",
       "        event.shiftKey = false;\n",
       "        // Send a \"J\" for go to next cell\n",
       "        event.which = 74;\n",
       "        event.keyCode = 74;\n",
       "        manager.command_mode();\n",
       "        manager.handle_keydown(event);\n",
       "    }\n",
       "}\n",
       "\n",
       "mpl.figure.prototype.handle_save = function(fig, msg) {\n",
       "    fig.ondownload(fig, null);\n",
       "}\n",
       "\n",
       "\n",
       "mpl.find_output_cell = function(html_output) {\n",
       "    // Return the cell and output element which can be found *uniquely* in the notebook.\n",
       "    // Note - this is a bit hacky, but it is done because the \"notebook_saving.Notebook\"\n",
       "    // IPython event is triggered only after the cells have been serialised, which for\n",
       "    // our purposes (turning an active figure into a static one), is too late.\n",
       "    var cells = IPython.notebook.get_cells();\n",
       "    var ncells = cells.length;\n",
       "    for (var i=0; i<ncells; i++) {\n",
       "        var cell = cells[i];\n",
       "        if (cell.cell_type === 'code'){\n",
       "            for (var j=0; j<cell.output_area.outputs.length; j++) {\n",
       "                var data = cell.output_area.outputs[j];\n",
       "                if (data.data) {\n",
       "                    // IPython >= 3 moved mimebundle to data attribute of output\n",
       "                    data = data.data;\n",
       "                }\n",
       "                if (data['text/html'] == html_output) {\n",
       "                    return [cell, data, j];\n",
       "                }\n",
       "            }\n",
       "        }\n",
       "    }\n",
       "}\n",
       "\n",
       "// Register the function which deals with the matplotlib target/channel.\n",
       "// The kernel may be null if the page has been refreshed.\n",
       "if (IPython.notebook.kernel != null) {\n",
       "    IPython.notebook.kernel.comm_manager.register_target('matplotlib', mpl.mpl_figure_comm);\n",
       "}\n"
      ],
      "text/plain": [
       "<IPython.core.display.Javascript object>"
      ]
     },
     "metadata": {},
     "output_type": "display_data"
    },
    {
     "data": {
      "text/html": [
       "<img src=\"data:image/png;base64,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\">"
      ],
      "text/plain": [
       "<IPython.core.display.HTML object>"
      ]
     },
     "metadata": {},
     "output_type": "display_data"
    }
   ],
   "source": [
    "plt.ioff()\n",
    "fig2a = plt.figure()\n",
    "\n",
    "ax21 = fig2a.add_subplot(211)\n",
    "ax22 = fig2a.add_subplot(212, sharex=ax21)\n",
    "tadj01.T.plot.bar(stacked=True, ax=ax21, legend=False, title='Population Adjusted', colormap='Set1')\n",
    "tab01.T.plot.bar(stacked=True, ax=ax22, legend=False, title='Not Adjusted', rot=40, colormap='Set1')\n",
    "plt.subplots_adjust(top=0.92, bottom=0.2, left=0.10, right=0.7)\n",
    "plt.legend(loc='center left', bbox_to_anchor=(1, 0.5), fontsize='xx-small')\n",
    "plt.figtext(0.75,0.75,\"Population Adjusted counts offer better comparision!\", bbox=dict(facecolor='green', alpha=0.5), wrap=True)\n",
    "#plt.savefig(\"comp.pdf\", bbox_inches=\"tight\")\n",
    "plt.show()"
   ]
  },
  {
   "cell_type": "markdown",
   "metadata": {
    "slideshow": {
     "slide_type": "slide"
    }
   },
   "source": [
    "### Exploring stats for a single LGA:\n",
    "\n",
    "- Select:\n",
    "    - Years (plot 1): 1995 - 2016  (Select all to see patterns) \n",
    "    - Categories (plot 2): In the first plot all Categories are selected, for the second plot drop some (eg, For Sydney, dropping \"Property offences\" and \"Other offences\" clearly shows increasing counts for \"Drug Possession\")   \n"
   ]
  },
  {
   "cell_type": "code",
   "execution_count": 21,
   "metadata": {
    "slideshow": {
     "slide_type": "skip"
    }
   },
   "outputs": [
    {
     "data": {
      "application/vnd.jupyter.widget-view+json": {
       "model_id": "73941ff52b46487994571e247c707fa1"
      }
     },
     "metadata": {},
     "output_type": "display_data"
    },
    {
     "data": {
      "text/plain": [
       "<function __main__.yh>"
      ]
     },
     "execution_count": 21,
     "metadata": {},
     "output_type": "execute_result"
    }
   ],
   "source": [
    "# PLOT 1\n",
    "sel = widgets.SelectMultiple(\n",
    "    options=yrs,\n",
    "    value=yrs,\n",
    "    description='Year',\n",
    "    disabled=False,\n",
    "    layout=Layout(display=\"inline_flex\", flex_flow='column', width='20%')\n",
    ")\n",
    "# THIS GIVES THE DATA FOR THE SELECTED YEARS FOR  A CHOSEN SUBURB AND THE STACKED BAR PLOT\n",
    "def yh(Year, sub):\n",
    "    global dy6\n",
    "    t = 1\n",
    "    for y in Year:\n",
    "        yr1 = 'y'+y\n",
    "        if t:\n",
    "            query = 'SELECT \\\"Categories\\\", \\\"'+sub+'\\\" FROM '+ yr1+';'\n",
    "            dy6 = pd.read_sql_query(query, engine,index_col=\"Categories\")\n",
    "            dy6.rename_axis({sub: sub+y}, axis=\"columns\", inplace=True)\n",
    "            t = 0\n",
    "        else:\n",
    "            query = 'SELECT \\\"Categories\\\", \\\"'+sub+'\\\" FROM '+ yr1+';'\n",
    "            temp = pd.read_sql_query(query, engine,index_col=\"Categories\")\n",
    "            assert sub+y not in dy6\n",
    "            dy6[sub+y]=temp[sub]\n",
    "   \n",
    "    # Stacked Bar chart\n",
    "    # plt.ioff()\n",
    "    fig4 = plt.figure()\n",
    "    ax42 = fig4.add_axes([0.3, 0.2, 0.65, 0.7])\n",
    "    dy6.T.plot.barh(ax=ax42, stacked=True,rot=20, fontsize = 8,legend=False, colormap='Set1')\n",
    "    ax42.legend(loc='upper center', bbox_to_anchor=(0.5, -0.05), ncol=3, fontsize='xx-small')\n",
    "    plt.show()\n",
    "    return(dy6)\n",
    "interact_manual(yh,Year=sel, sub=lga)\n"
   ]
  },
  {
   "cell_type": "code",
   "execution_count": 22,
   "metadata": {
    "slideshow": {
     "slide_type": "slide"
    }
   },
   "outputs": [
    {
     "data": {
      "application/vnd.jupyter.widget-view+json": {
       "model_id": "158241ad6c4b4f89aa8c415a24329739"
      }
     },
     "metadata": {},
     "output_type": "display_data"
    },
    {
     "data": {
      "text/plain": [
       "<function __main__.fyh>"
      ]
     },
     "execution_count": 22,
     "metadata": {},
     "output_type": "execute_result"
    }
   ],
   "source": [
    "# PLOT 2\n",
    "# KEEP ONLY THE CATEGORIES WE ARE INTERESTED IN\n",
    "\n",
    "cat0 = widgets.SelectMultiple(\n",
    "    options=cats,\n",
    "    value=['Homicide', 'Assault', 'Sexual offences', 'Other offences against the person', 'Robbery', 'Drug Dealing', 'Weapons offences'],\n",
    "    description='Categories',\n",
    "    disabled=False,\n",
    "    layout=Layout(display=\"inline_flex\", flex_flow='column')\n",
    ")\n",
    "def fyh(cat):\n",
    "    tempc = list(set(cats) - set(cat))\n",
    "    dy6b= dy6.drop(tempc, axis=0)\n",
    "    plt.ioff()\n",
    "    fig5 = plt.figure()\n",
    "    ax52 = fig5.add_axes([0.3, 0.2, 0.65, 0.7])\n",
    "    dy6b.T.plot.barh(ax=ax52, stacked=True,rot=20, legend=False, colormap='Set1')\n",
    "    ax52.legend(loc='upper center', bbox_to_anchor=(0.5, -0.05), ncol=3, fontsize='xx-small')\n",
    "    return(plt.show())\n",
    "interact_manual(fyh, cat=cat0)"
   ]
  },
  {
   "cell_type": "markdown",
   "metadata": {
    "slideshow": {
     "slide_type": "slide"
    }
   },
   "source": [
    "## Analysis"
   ]
  },
  {
   "cell_type": "markdown",
   "metadata": {
    "slideshow": {
     "slide_type": "slide"
    }
   },
   "source": [
    "#### User Input for both Method-1 and Method-2 analysis\n",
    " \n",
    "SELECT:\n",
    "\n",
    "- LGAs: Whether ranking should be for all LGA's, Greater Sydney LGAs, or Regional LGA's (NOTE: Only \"GreaterSydney\" option shows the rents columns)\n",
    "    \n",
    "- YEARS: By default all years are selected (data will be restricted to the Years selected) \n",
    "    \n",
    "- CATEGORIES: By default all categories are selected (ranking is based on the aggregate (of the selected categories) counts for each year)\n"
   ]
  },
  {
   "cell_type": "markdown",
   "metadata": {
    "slideshow": {
     "slide_type": "slide"
    }
   },
   "source": [
    "#### Defining the variables for user input"
   ]
  },
  {
   "cell_type": "code",
   "execution_count": 24,
   "metadata": {
    "slideshow": {
     "slide_type": "skip"
    }
   },
   "outputs": [
    {
     "data": {
      "application/vnd.jupyter.widget-view+json": {
       "model_id": "92d4eb66580e4688a1750ebf062c0533"
      }
     },
     "metadata": {},
     "output_type": "display_data"
    },
    {
     "data": {
      "text/plain": [
       "<function __main__.f51>"
      ]
     },
     "execution_count": 24,
     "metadata": {},
     "output_type": "execute_result"
    }
   ],
   "source": [
    "yrs1 = widgets.SelectMultiple(\n",
    "    options=yrs,\n",
    "    value=yrs,\n",
    "    description='Years',\n",
    "    disabled=False,\n",
    "    layout=Layout(display=\"flex\", flex_flow='column')\n",
    ")\n",
    "cat01 = widgets.SelectMultiple(\n",
    "    options=cats,\n",
    "    value=cats,\n",
    "    description='Categories',\n",
    "    disabled=False,\n",
    "    layout=Layout(display=\"inline_flex\", flex_flow='column')\n",
    ")\n",
    "\n",
    "# Select whether the analysis should be run for all LGA's, Greater Sydney LGAs, or Regional LGA's\n",
    "sel9 = {'All': plga, 'GreaterSydney': gsyd, 'RegionalNSW' : regnsw}\n",
    "\n",
    "lga9 = widgets.Dropdown(\n",
    "    options=['All', 'GreaterSydney', 'RegionalNSW'],\n",
    "    value='All',\n",
    "    description='LGAs:',\n",
    "    disabled=False,\n",
    "    #layout=Layout(display=\"flex\", flex_flow='column')\n",
    "    layout=Layout(width='20%')\n",
    ")\n",
    "\n",
    "def f51(lga51, yr51, cat51):\n",
    "    return({'LGAs' : str(lga51), 'Years Selected' : str(yr51), 'Categories' : str(cat51)})\n",
    "interact_manual(f51, lga51=lga9, yr51 = yrs1, cat51=cat01)"
   ]
  },
  {
   "cell_type": "markdown",
   "metadata": {
    "slideshow": {
     "slide_type": "slide"
    }
   },
   "source": [
    "### Method-1 Analysis"
   ]
  },
  {
   "cell_type": "code",
   "execution_count": 25,
   "metadata": {
    "collapsed": true,
    "slideshow": {
     "slide_type": "slide"
    }
   },
   "outputs": [],
   "source": [
    "# USER SELECTION VALUES\n",
    "subs2 = sel9[lga9.value]     \n",
    "c1 = cat01.value\n",
    "yr1 = yrs1.value\n",
    "\n",
    "# this creates an empty data frame to hold values\n",
    "dsum = pd.DataFrame(index=yr1, columns=subs2)  \n",
    "dadj = pd.DataFrame(index=yr1, columns=subs2)\n",
    "\n",
    "# GET THE DATA FROM THE POSTGRES DATABASE BASED ON THE USER SELECTION\n",
    "\n",
    "if len(c1) == 1:                 # IF ONLY ONE CATEGORY IS SELECTED\n",
    "    c11 = str(list(c1)[0])\n",
    "    for s1 in subs2:\n",
    "        ps1 = int(pop1.loc['y2011POP',s1])\n",
    "        for y1 in yr1:\n",
    "            yr2 = 'y'+y1\n",
    "            query = 'SELECT \\\"'+s1+'\\\" FROM '+ yr2+' WHERE \"Categories\" ='+\"'\"+c11+\"';\"\n",
    "            temp = pd.read_sql_query(query, engine)\n",
    "            dsum.loc[y1,s1]=temp[s1].sum()\n",
    "            dadj.loc[y1,s1]=round(((temp[s1].sum())/ps1)*10000)  \n",
    "else:\n",
    "    c11 = str(c1)\n",
    "    for s1 in subs2:\n",
    "        ps1 = int(pop1.loc['y2011POP',s1])\n",
    "        for y1 in yr1:\n",
    "            yr2 = 'y'+y1\n",
    "            query = 'SELECT \\\"'+s1+'\\\" FROM '+ yr2+' WHERE \"Categories\" IN'+c11+';'\n",
    "            temp = pd.read_sql_query(query, engine)\n",
    "            dsum.loc[y1,s1]=temp[s1].sum()\n",
    "            dadj.loc[y1,s1]=round(((temp[s1].sum())/ps1)*10000)           # population adjusted per 10000 people\n",
    "\n",
    "\n",
    "# RANKING BY MEDIAN AS WELL AS MEAN FOR BOTH ABSOLUTE COUNTS AND POPULATION ADJUSTED COUNTS\n",
    "\n",
    "dsumr_med = dsum.rank(axis=1,method='max',ascending=True).median(axis=0).sort_values().to_frame()\n",
    "dsumr_med.rename(columns={0:'sum_median_rank'}, inplace=True)\n",
    "dsumr_men = dsum.rank(axis=1,method='max',ascending=True).mean(axis=0).sort_values().to_frame()\n",
    "dsumr_men.rename(columns={0:'sum_mean_rank'}, inplace=True)\n",
    "dadjr_med = dadj.rank(axis=1,method='max',ascending=True).median(axis=0).sort_values().to_frame()\n",
    "dadjr_med.rename(columns={0:'adj_median_rank'}, inplace=True)\n",
    "dadjr_men = dadj.rank(axis=1,method='max',ascending=True).mean(axis=0).sort_values().to_frame()\n",
    "dadjr_men.rename(columns={0:'adj_mean_rank'}, inplace=True)\n",
    "\n",
    "#  JOINING ALL 4 RANK TABLES\n",
    "dranks = dsumr_med.join([dsumr_men, dadjr_med, dadjr_men])\n",
    "\n",
    "# CRATING THE FINAL OUTPUT TABLE, IF GreaterSydney SELECTED, ONLY THEN RENTS COLUMNS ARE SHOWN\n",
    "pgsyd = pop1.loc[:,subs2]\n",
    "if subs2 == gsyd:\n",
    "    rgsyd = rent.loc[:,gsyd]\n",
    "    final = dranks.join([pop1.T,rgsyd.T])\n",
    "else:\n",
    "    final = dranks.join([pop1.T])\n",
    "\n",
    "# ROUNDING OFF THE RANKS FOR PRESENTATION\n",
    "final0 = final.round({'sum_median_rank' : 0, 'sum_mean_rank': 0, 'adj_median_rank': 0, 'adj_mean_rank': 0})\n",
    "final1 = final0.astype({'sum_median_rank' : 'int64', 'sum_mean_rank': 'int64', 'adj_median_rank': 'int64', 'adj_mean_rank': 'int64'}, errors='ignore')\n"
   ]
  },
  {
   "cell_type": "code",
   "execution_count": 26,
   "metadata": {
    "collapsed": true,
    "scrolled": true,
    "slideshow": {
     "slide_type": "skip"
    }
   },
   "outputs": [],
   "source": [
    "#dsum      # UNCOMMENT THIS TO SEE THE AGGREGATES FOR EACH LGA FOR EACH YEAR"
   ]
  },
  {
   "cell_type": "code",
   "execution_count": 27,
   "metadata": {
    "collapsed": true,
    "slideshow": {
     "slide_type": "skip"
    }
   },
   "outputs": [],
   "source": [
    "#dadj       # UNCOMMENT THIS TO SEE THE POPULATION ADJUSTED AGGREGATES FOR EACH LGA FOR EACH YEAR"
   ]
  },
  {
   "cell_type": "markdown",
   "metadata": {
    "slideshow": {
     "slide_type": "slide"
    }
   },
   "source": [
    "** Select one of the options to sort the output. By default it is sorted by mean ranks of the adjusted population counts. **\n",
    "- **sum_median_rank:** Data is not population adjusted, and ranked by uisng the median rank\n",
    "- **sum_mean_rank:**  Data is not population adjusted, and ranked by using the mean rank\n",
    "- **adj_median_rank:**  Data is population adjusted, and ranked by using the median rank\n",
    "- **adj_mean_rank:**   Data is population adjusted, and ranked by using the mean rank"
   ]
  },
  {
   "cell_type": "code",
   "execution_count": 28,
   "metadata": {
    "slideshow": {
     "slide_type": "skip"
    }
   },
   "outputs": [
    {
     "data": {
      "application/vnd.jupyter.widget-view+json": {
       "model_id": "42469d91d2fc4ec2915b63a47b4dfd01"
      }
     },
     "metadata": {},
     "output_type": "display_data"
    },
    {
     "data": {
      "text/plain": [
       "<function __main__.fin20>"
      ]
     },
     "execution_count": 28,
     "metadata": {},
     "output_type": "execute_result"
    }
   ],
   "source": [
    "ff1 = widgets.RadioButtons(\n",
    "    options=['sum_median_rank', 'sum_mean_rank', 'adj_median_rank', 'adj_mean_rank'],\n",
    "    value='adj_mean_rank',\n",
    "    description='Sorting Order:',\n",
    "    disabled=False\n",
    ")\n",
    "def fin20(ch20):\n",
    "    return(final1.sort_values(ch20))\n",
    "interact_manual(fin20, ch20=ff1)"
   ]
  },
  {
   "cell_type": "code",
   "execution_count": null,
   "metadata": {
    "collapsed": true,
    "slideshow": {
     "slide_type": "skip"
    }
   },
   "outputs": [],
   "source": [
    "# UNCOMMENT THE BELOW TO WRITE THE OUTPUT TO AN EXCEL FILE\n",
    "#writer = pd.ExcelWriter('final3.xlsx')\n",
    "#final1.to_excel(writer, 'Sheet1')"
   ]
  },
  {
   "cell_type": "markdown",
   "metadata": {},
   "source": [
    "### Method-2\n",
    "\n",
    "As illustrated at the start of the notebook, methedology is as follows:\n",
    "    1. FOR EACH SUB-CATEGORY:\n",
    "        1a.   RANK EACH LGA FOR EACH YEAR, WE GET 22 RANKS FOR EACH LGA (FOR ONE SUB-CATEGORY)\n",
    "        1b.   TAKE THE MEAN OVER THE 22 YEARS' RANKS TO GET THE RANKING FOR THAT SUB-CATEGORY\n",
    "    2. REPEAT ABOVE FOR EACH SUB-CATEGORY\n",
    "    3. TO GET THE OVER ALL RANKINGS OF LGA'S TAKE THE MEAN OVER THE SUB-CATEGORIES FOR EACH LGA\n",
    "\n",
    "- Also only using the population adjusted data\n"
   ]
  },
  {
   "cell_type": "code",
   "execution_count": null,
   "metadata": {
    "collapsed": true,
    "slideshow": {
     "slide_type": "skip"
    }
   },
   "outputs": [],
   "source": [
    "# THIS CODE CHUNK TAKES ABOUT 20-30 SECONDS TO RUN\n",
    "\n",
    "drank = pd.DataFrame(index=c1, columns=subs2)\n",
    "dtemp1 = pd.DataFrame(index=yr1, columns=subs2)\n",
    "for c01 in c1:\n",
    "    dtemp = pd.DataFrame(index=yr1, columns=subs2)\n",
    "    for s1 in subs2:\n",
    "        ps1 = int(pop1.loc['y2011POP',s1])\n",
    "        for y1 in yr1:\n",
    "            yr2 = 'y'+y1\n",
    "            query = 'SELECT \\\"'+s1+'\\\" FROM '+ yr2+' WHERE \"Categories\" ='+\"'\"+c01+\"';\"\n",
    "            temp = pd.read_sql_query(query, engine)\n",
    "            dtemp.loc[y1,s1]=round(((temp[s1].sum())/ps1)*10000)\n",
    "    drank.update(dtemp.rank(axis=1,method='max',ascending=True).mean(axis=0).to_frame(c01).T)\n",
    "final3 = drank.astype(float).round().astype(int)\n",
    "\n",
    "# AMOTHER WAY TO GET OVERALL RANKINGS FOR ALL LGAs by taking the mean over all categories for each LGA\n",
    "altrank = final3.mean(axis=0).round().astype(int).sort_values().to_frame('Mean Rank')"
   ]
  },
  {
   "cell_type": "code",
   "execution_count": null,
   "metadata": {
    "collapsed": true,
    "slideshow": {
     "slide_type": "skip"
    }
   },
   "outputs": [],
   "source": [
    "#writer = pd.ExcelWriter('final300.xlsx')\n",
    "#final3.to_excel(writer, 'Sheet1')"
   ]
  },
  {
   "cell_type": "markdown",
   "metadata": {
    "slideshow": {
     "slide_type": "slide"
    }
   },
   "source": [
    "#### Sample data from the Method-2 output\n",
    "\n",
    "- The below table shows output for the selected LGAs\n",
    "- The values in each cell represent the mean rank for the categories\n",
    "- Taking mean across each column gives the overall rank under method-2"
   ]
  },
  {
   "cell_type": "code",
   "execution_count": null,
   "metadata": {
    "collapsed": true
   },
   "outputs": [],
   "source": [
    "# The below output shows the ranks for each category for the selected LGAs.\n",
    "\n",
    "sub10 = widgets.SelectMultiple(\n",
    "    options=list(final3.columns.get_values()),\n",
    "    description='LGA',\n",
    "    disabled=False,\n",
    "    layout=Layout(display=\"inline_flex\", flex_flow='column')\n",
    ")\n",
    "\n",
    "def fs10(s10):\n",
    "    return(final3[list(s10)])\n",
    "interact_manual(fs10, s10=sub10)"
   ]
  },
  {
   "cell_type": "markdown",
   "metadata": {
    "slideshow": {
     "slide_type": "slide"
    }
   },
   "source": [
    "#### Visual comparision of two LGAs under method-2 ranking"
   ]
  },
  {
   "cell_type": "code",
   "execution_count": null,
   "metadata": {
    "collapsed": true,
    "slideshow": {
     "slide_type": "slide"
    }
   },
   "outputs": [],
   "source": [
    "sub11 = widgets.Dropdown(\n",
    "    options=list(final3.columns.get_values()),\n",
    "    value='Randwick',\n",
    "    description='LGA1',\n",
    "    disabled=False,\n",
    ")\n",
    "sub22 = widgets.Dropdown(\n",
    "    options=list(final3.columns.get_values()),\n",
    "    value='Lane Cove',\n",
    "    description='LGA2',\n",
    "    disabled=False,\n",
    ")\n",
    "def fs11(s11,s22):\n",
    "    plt.ioff()\n",
    "    fig9 = plt.figure()\n",
    "    ax91 = fig9.add_subplot(211)\n",
    "    ax92 = fig9.add_subplot(212, sharex=ax91)\n",
    "    final3[s11].T.plot.bar(stacked=True, ax=ax91, legend=False, title=s11)\n",
    "    final3[s22].T.plot.bar(stacked=True, ax=ax92, legend=False, title=s22, rot=20)\n",
    "    plt.subplots_adjust(top=0.95, bottom=0.2, left=0.10, right=0.98)\n",
    "    return(plt.show())\n",
    "interact_manual(fs11, s11=sub11, s22=sub22)"
   ]
  },
  {
   "cell_type": "code",
   "execution_count": null,
   "metadata": {
    "collapsed": true,
    "slideshow": {
     "slide_type": "skip"
    }
   },
   "outputs": [],
   "source": [
    "#altrank             # uncomment to view the alternate rankings using method-2\n"
   ]
  },
  {
   "cell_type": "markdown",
   "metadata": {
    "slideshow": {
     "slide_type": "slide"
    }
   },
   "source": [
    "#### Comparing rankings from method-1 and method-2"
   ]
  },
  {
   "cell_type": "code",
   "execution_count": null,
   "metadata": {
    "collapsed": true,
    "slideshow": {
     "slide_type": "slide"
    }
   },
   "outputs": [],
   "source": [
    "m01 = final0['adj_mean_rank'].sort_values().head(20).index.values\n",
    "m02 = altrank.head(20).index.values\n",
    "m01b = final0['adj_mean_rank'].sort_values(ascending=False).head(20).index.values\n",
    "m02b = altrank['Mean Rank'].sort_values(ascending=False).head(20).index.values\n",
    "bothms = pd.DataFrame(np.column_stack([m01,m02,m01b,m02b]),columns=['Method1-Top20', 'Method2-Top20', 'Method1-Bottom20', 'Method2-Bottom20'])\n",
    "bothms"
   ]
  },
  {
   "cell_type": "markdown",
   "metadata": {
    "slideshow": {
     "slide_type": "slide"
    }
   },
   "source": [
    "### Below interactive table shows the Top-20 and Bottom20 ranked LGAs for the selected Category."
   ]
  },
  {
   "cell_type": "code",
   "execution_count": null,
   "metadata": {
    "collapsed": true,
    "slideshow": {
     "slide_type": "slide"
    }
   },
   "outputs": [],
   "source": [
    "def f10(Category):\n",
    "    c10 = Category\n",
    "    t20 = final3.loc[c10].sort_values().head(20).index.values\n",
    "    b20 = final3.loc[c10].sort_values(ascending=False).head(20).index.values\n",
    "    tb = pd.DataFrame({'Top-20 (Highest Rank First)' : t20, 'Bottom-20 (Lowest Rank First)' : b20})\n",
    "    return(tb)\n",
    "interact(f10, Category=cats)"
   ]
  },
  {
   "cell_type": "markdown",
   "metadata": {
    "slideshow": {
     "slide_type": "slide"
    }
   },
   "source": [
    "## END"
   ]
  }
 ],
 "metadata": {
  "celltoolbar": "Slideshow",
  "kernelspec": {
   "display_name": "Python 3",
   "language": "python",
   "name": "python3"
  },
  "language_info": {
   "codemirror_mode": {
    "name": "ipython",
    "version": 3
   },
   "file_extension": ".py",
   "mimetype": "text/x-python",
   "name": "python",
   "nbconvert_exporter": "python",
   "pygments_lexer": "ipython3",
   "version": "3.5.2"
  },
  "widgets": {
   "application/vnd.jupyter.widget-state+json": {
    "state": {
     "004a63b5c120448f86b7d09ca4dbc3ee": {
      "model_module": "jupyter-js-widgets",
      "model_module_version": "~2.1.4",
      "model_name": "LayoutModel",
      "state": {
       "_model_module_version": "~2.1.4",
       "_view_module_version": "~2.1.4"
      }
     },
     "0062ff1220e34e3982cf0c8fe0e18dbb": {
      "model_module": "jupyter-js-widgets",
      "model_module_version": "~2.1.4",
      "model_name": "ButtonStyleModel",
      "state": {
       "_model_module_version": "~2.1.4",
       "_view_module_version": "~2.1.4"
      }
     },
     "00a015c1776d4bea91a53607a986938b": {
      "model_module": "jupyter-js-widgets",
      "model_module_version": "~2.1.4",
      "model_name": "VBoxModel",
      "state": {
       "_dom_classes": [
        "widget-interact"
       ],
       "_model_module_version": "~2.1.4",
       "_view_module_version": "~2.1.4",
       "children": [
        "IPY_MODEL_5df18c4a03de499b9c934448c650818f",
        "IPY_MODEL_fde69ad7addd48e3884554361d691c9a",
        "IPY_MODEL_a29984283cd14dcf81150a8eeeac7b2a"
       ],
       "layout": "IPY_MODEL_419b74a27d3b446280c20d602f8cad4c"
      }
     },
     "00fe4738e756496ebcbbb383b50439fd": {
      "model_module": "jupyter-js-widgets",
      "model_module_version": "~2.1.4",
      "model_name": "LayoutModel",
      "state": {
       "_model_module_version": "~2.1.4",
       "_view_module_version": "~2.1.4"
      }
     },
     "01d456e605734bf8a06a8303a36c18e3": {
      "model_module": "jupyter-js-widgets",
      "model_module_version": "~2.1.4",
      "model_name": "LayoutModel",
      "state": {
       "_model_module_version": "~2.1.4",
       "_view_module_version": "~2.1.4"
      }
     },
     "02cfda9250324383bae105f121f2435c": {
      "model_module": "jupyter-js-widgets",
      "model_module_version": "~2.1.4",
      "model_name": "OutputModel",
      "state": {
       "_dom_classes": [],
       "_model_module": "jupyter-js-widgets",
       "_model_module_version": "~2.1.4",
       "_view_module": "jupyter-js-widgets",
       "_view_module_version": "~2.1.4",
       "layout": "IPY_MODEL_165fa71e25d445dab5fb267a491a55be",
       "msg_throttle": 1
      }
     },
     "02f9a8c6814a41bf811e8cf636c6a871": {
      "model_module": "jupyter-js-widgets",
      "model_module_version": "~2.1.4",
      "model_name": "SelectMultipleModel",
      "state": {
       "_model_module_version": "~2.1.4",
       "_options_labels": [
        "Homicide",
        "Assault",
        "Sexual offences",
        "Other offences against the person",
        "Robbery",
        "Property offences",
        "Drug Possession",
        "Drug Dealing",
        "Vice",
        "Weapons offences",
        "Other offences"
       ],
       "_view_module_version": "~2.1.4",
       "description": "Categories",
       "layout": "IPY_MODEL_4364f2eed8134e44b2bec08b8eb21cdf",
       "value": [
        "Homicide",
        "Assault",
        "Sexual offences",
        "Other offences against the person",
        "Robbery",
        "Property offences",
        "Drug Possession",
        "Drug Dealing",
        "Vice",
        "Weapons offences",
        "Other offences"
       ]
      }
     },
     "032b95e1c04f45cb95b7697d8420b63e": {
      "model_module": "jupyter-js-widgets",
      "model_module_version": "~2.1.4",
      "model_name": "LayoutModel",
      "state": {
       "_model_module_version": "~2.1.4",
       "_view_module_version": "~2.1.4"
      }
     },
     "03300f2a742e4447b684aba19145524b": {
      "model_module": "jupyter-js-widgets",
      "model_module_version": "~2.1.4",
      "model_name": "LayoutModel",
      "state": {
       "_model_module_version": "~2.1.4",
       "_view_module_version": "~2.1.4"
      }
     },
     "03d993fc8dfa4f34942ae886ff610284": {
      "model_module": "jupyter-js-widgets",
      "model_module_version": "~2.1.4",
      "model_name": "OutputModel",
      "state": {
       "_dom_classes": [],
       "_model_module": "jupyter-js-widgets",
       "_model_module_version": "~2.1.4",
       "_view_module": "jupyter-js-widgets",
       "_view_module_version": "~2.1.4",
       "layout": "IPY_MODEL_106328e67e55462d89a1d7c97ec05e1f",
       "msg_throttle": 1
      }
     },
     "041298555b294d15b3ce20681a4d7f7a": {
      "model_module": "jupyter-js-widgets",
      "model_module_version": "~2.1.4",
      "model_name": "SelectMultipleModel",
      "state": {
       "_model_module_version": "~2.1.4",
       "_options_labels": [
        "Homicide",
        "Assault",
        "Sexual offences",
        "Other offences against the person",
        "Robbery",
        "Property offences",
        "Drug Possession",
        "Drug Dealing",
        "Vice",
        "Weapons offences",
        "Other offences"
       ],
       "_view_module_version": "~2.1.4",
       "description": "Categories",
       "layout": "IPY_MODEL_3451a4b0efa44115984e12ee8e84ae78",
       "value": [
        "Homicide",
        "Assault",
        "Sexual offences",
        "Other offences against the person",
        "Robbery",
        "Property offences",
        "Drug Possession",
        "Drug Dealing",
        "Vice",
        "Weapons offences",
        "Other offences"
       ]
      }
     },
     "047f05680f3347119413eb0ae136c851": {
      "model_module": "jupyter-js-widgets",
      "model_module_version": "~2.1.4",
      "model_name": "ButtonStyleModel",
      "state": {
       "_model_module_version": "~2.1.4",
       "_view_module_version": "~2.1.4"
      }
     },
     "055dd4499df946beb603bbe26f2fcb1b": {
      "model_module": "jupyter-js-widgets",
      "model_module_version": "~2.1.4",
      "model_name": "VBoxModel",
      "state": {
       "_dom_classes": [
        "widget-interact"
       ],
       "_model_module_version": "~2.1.4",
       "_view_module_version": "~2.1.4",
       "children": [
        "IPY_MODEL_2ee827ccf7044197b11346f32faa9d7b",
        "IPY_MODEL_b9327fc6841649ceb8953834dc17c2a1"
       ],
       "layout": "IPY_MODEL_79ee07e96f914816b3f022fa8665058c"
      }
     },
     "05fa1ee5fa474df7ba9829b69fe7c20e": {
      "model_module": "jupyter-js-widgets",
      "model_module_version": "~2.1.4",
      "model_name": "LayoutModel",
      "state": {
       "_model_module_version": "~2.1.4",
       "_view_module_version": "~2.1.4",
       "display": "flex",
       "flex_flow": "column",
       "width": "20%"
      }
     },
     "0651acdd3c97475a90bcd832c8256522": {
      "model_module": "jupyter-js-widgets",
      "model_module_version": "~2.1.4",
      "model_name": "ButtonModel",
      "state": {
       "_model_module_version": "~2.1.4",
       "_view_module_version": "~2.1.4",
       "description": "Run Interact",
       "layout": "IPY_MODEL_703874b463af4ee1937c9a5e5dc528c3",
       "style": "IPY_MODEL_b9824dae28564908a7a7c1a5ba8ca9f0"
      }
     },
     "0662582b43024d88bf7408550e05b662": {
      "model_module": "jupyter-js-widgets",
      "model_module_version": "~2.1.4",
      "model_name": "RadioButtonsModel",
      "state": {
       "_model_module_version": "~2.1.4",
       "_options_labels": [
        "sum_median_rank",
        "sum_mean_rank",
        "adj_median_rank",
        "adj_mean_rank"
       ],
       "_view_module_version": "~2.1.4",
       "description": "Sorting Order:",
       "layout": "IPY_MODEL_ddb57b0cdb074de5993abf667cc68d6f",
       "value": "sum_mean_rank"
      }
     },
     "066f60c64172413db6f4e8d64081082b": {
      "model_module": "jupyter-js-widgets",
      "model_module_version": "~2.1.4",
      "model_name": "LayoutModel",
      "state": {
       "_model_module_version": "~2.1.4",
       "_view_module_version": "~2.1.4",
       "display": "inline_flex",
       "flex_flow": "column"
      }
     },
     "070be3f2089a4e1eb4ca2868c5b0fbb2": {
      "model_module": "jupyter-js-widgets",
      "model_module_version": "~2.1.4",
      "model_name": "LayoutModel",
      "state": {
       "_model_module_version": "~2.1.4",
       "_view_module_version": "~2.1.4"
      }
     },
     "071530c332b74ceeb768c54f7f94542c": {
      "model_module": "jupyter-js-widgets",
      "model_module_version": "~2.1.4",
      "model_name": "LayoutModel",
      "state": {
       "_model_module_version": "~2.1.4",
       "_view_module_version": "~2.1.4"
      }
     },
     "072530b06f0645568c2a386ce0ddb290": {
      "model_module": "jupyter-js-widgets",
      "model_module_version": "~2.1.4",
      "model_name": "OutputModel",
      "state": {
       "_dom_classes": [],
       "_model_module": "jupyter-js-widgets",
       "_model_module_version": "~2.1.4",
       "_view_module": "jupyter-js-widgets",
       "_view_module_version": "~2.1.4",
       "layout": "IPY_MODEL_e3ea3e100a7e4e72b886c8a1443bc1aa",
       "msg_throttle": 1
      }
     },
     "0785fe958b1d43e48d1b29c3649ff94b": {
      "model_module": "jupyter-js-widgets",
      "model_module_version": "~2.1.4",
      "model_name": "LayoutModel",
      "state": {
       "_model_module_version": "~2.1.4",
       "_view_module_version": "~2.1.4"
      }
     },
     "07b3012fddb14e3eaa6e0a260a1536d9": {
      "model_module": "jupyter-js-widgets",
      "model_module_version": "~2.1.4",
      "model_name": "LayoutModel",
      "state": {
       "_model_module_version": "~2.1.4",
       "_view_module_version": "~2.1.4"
      }
     },
     "07fefcd8832940a4a7214a1382219367": {
      "model_module": "jupyter-js-widgets",
      "model_module_version": "~2.1.4",
      "model_name": "LayoutModel",
      "state": {
       "_model_module_version": "~2.1.4",
       "_view_module_version": "~2.1.4"
      }
     },
     "08e336d799bf4523aa282b85563e135d": {
      "model_module": "jupyter-js-widgets",
      "model_module_version": "~2.1.4",
      "model_name": "LayoutModel",
      "state": {
       "_model_module_version": "~2.1.4",
       "_view_module_version": "~2.1.4"
      }
     },
     "08f21d192c444360904dce25d78789ba": {
      "model_module": "jupyter-js-widgets",
      "model_module_version": "~2.1.4",
      "model_name": "ButtonModel",
      "state": {
       "_model_module_version": "~2.1.4",
       "_view_module_version": "~2.1.4",
       "description": "Run Interact",
       "layout": "IPY_MODEL_2f914afd319748fea3f9fa20c10574c9",
       "style": "IPY_MODEL_dfcc097bb84e446e95e8f0b3dd225369"
      }
     },
     "092bc0cee837471abe8400898844d045": {
      "model_module": "jupyter-js-widgets",
      "model_module_version": "~2.1.4",
      "model_name": "VBoxModel",
      "state": {
       "_dom_classes": [
        "widget-interact"
       ],
       "_model_module_version": "~2.1.4",
       "_view_module_version": "~2.1.4",
       "children": [
        "IPY_MODEL_6961f705527f4cdfa999b06882ace828",
        "IPY_MODEL_739a0e5fc50b4ad1876303d3a73af56b",
        "IPY_MODEL_ccabbdab4580435bb31a65468077e079",
        "IPY_MODEL_ffb507fe78014c2d900f3fb9da62dc27",
        "IPY_MODEL_1d4206b10a6146a19d4a862cb4010a64"
       ],
       "layout": "IPY_MODEL_a8142fff05484647bfc6299cf0f4bacd"
      }
     },
     "096780ddfde8447d8b9121a8e91ba64b": {
      "model_module": "jupyter-js-widgets",
      "model_module_version": "~2.1.4",
      "model_name": "LayoutModel",
      "state": {
       "_model_module_version": "~2.1.4",
       "_view_module_version": "~2.1.4"
      }
     },
     "09b452def73248e2a994a331d63d27c0": {
      "model_module": "jupyter-js-widgets",
      "model_module_version": "~2.1.4",
      "model_name": "LayoutModel",
      "state": {
       "_model_module_version": "~2.1.4",
       "_view_module_version": "~2.1.4",
       "display": "inline_flex",
       "flex_flow": "column",
       "width": "20%"
      }
     },
     "09d5fa8e1c9149228c9f9da0b0a795ef": {
      "model_module": "jupyter-js-widgets",
      "model_module_version": "~2.1.4",
      "model_name": "LayoutModel",
      "state": {
       "_model_module_version": "~2.1.4",
       "_view_module_version": "~2.1.4",
       "width": "20%"
      }
     },
     "0a6d63d0dd43477abb886ef20be6a96a": {
      "model_module": "jupyter-js-widgets",
      "model_module_version": "~2.1.4",
      "model_name": "LayoutModel",
      "state": {
       "_model_module_version": "~2.1.4",
       "_view_module_version": "~2.1.4"
      }
     },
     "0aac651944144304892017ba7e2e213a": {
      "model_module": "jupyter-js-widgets",
      "model_module_version": "~2.1.4",
      "model_name": "ButtonModel",
      "state": {
       "_model_module_version": "~2.1.4",
       "_view_module_version": "~2.1.4",
       "description": "Run Interact",
       "layout": "IPY_MODEL_b4a89866cc5e4baca433e28bdbd222e5",
       "style": "IPY_MODEL_f5295112ab3b4b5988d917215dbb7587"
      }
     },
     "0b90e03a048d4f55be5838ca02d2d05c": {
      "model_module": "jupyter-js-widgets",
      "model_module_version": "~2.1.4",
      "model_name": "LayoutModel",
      "state": {
       "_model_module_version": "~2.1.4",
       "_view_module_version": "~2.1.4"
      }
     },
     "0be6df0c6e79469a80c5d5f0a2b48b61": {
      "model_module": "jupyter-js-widgets",
      "model_module_version": "~2.1.4",
      "model_name": "DropdownModel",
      "state": {
       "_model_module_version": "~2.1.4",
       "_options_labels": [
        "Albury",
        "Armidale Dumaresq",
        "Ashfield",
        "Auburn",
        "Ballina",
        "Balranald",
        "Bankstown",
        "Bathurst Regional",
        "Bega Valley",
        "Bellingen",
        "Berrigan",
        "Blacktown",
        "Bland",
        "Blayney",
        "Blue Mountains",
        "Bogan",
        "Bombala",
        "Boorowa",
        "Botany Bay",
        "Bourke",
        "Brewarrina",
        "Broken Hill",
        "Burwood",
        "Byron",
        "Cabonne",
        "Camden",
        "Campbelltown",
        "Canada Bay",
        "Canterbury",
        "Carrathool",
        "Central Darling",
        "Cessnock",
        "Clarence Valley",
        "Cobar",
        "Coffs Harbour",
        "Conargo",
        "Coolamon",
        "Cooma-Monaro",
        "Coonamble",
        "Cootamundra",
        "Corowa Shire",
        "Cowra",
        "Deniliquin",
        "Dubbo",
        "Dungog",
        "Eurobodalla",
        "Fairfield",
        "Forbes",
        "Gilgandra",
        "Glen Innes Severn",
        "Gloucester",
        "Gosford",
        "Goulburn Mulwaree",
        "Great Lakes",
        "Greater Hume Shire",
        "Greater Taree",
        "Griffith",
        "Gundagai",
        "Gunnedah",
        "Guyra",
        "Gwydir",
        "Harden",
        "Hawkesbury",
        "Hay",
        "Holroyd",
        "Hornsby",
        "Hunters Hill",
        "Hurstville",
        "Inverell",
        "Jerilderie",
        "Junee",
        "Kempsey",
        "Kiama",
        "Kogarah",
        "Ku-ring-gai",
        "Kyogle",
        "Lachlan",
        "Lake Macquarie",
        "Lane Cove",
        "Leeton",
        "Leichhardt",
        "Lismore",
        "Lithgow",
        "Liverpool",
        "Liverpool Plains",
        "Lockhart",
        "Maitland",
        "Manly",
        "Marrickville",
        "Mid-Western Regional",
        "Moree Plains",
        "Mosman",
        "Murray",
        "Murrumbidgee",
        "Muswellbrook",
        "Nambucca",
        "Narrabri",
        "Narrandera",
        "Narromine",
        "Newcastle",
        "North Sydney",
        "Oberon",
        "Orange",
        "Palerang",
        "Parkes",
        "Parramatta",
        "Penrith",
        "Pittwater",
        "Port Macquarie-Hastings",
        "Port Stephens",
        "Queanbeyan",
        "Randwick",
        "Richmond Valley",
        "Rockdale",
        "Ryde",
        "Shellharbour",
        "Shoalhaven",
        "Singleton",
        "Snowy River",
        "Strathfield",
        "Sutherland Shire",
        "Sydney",
        "Tamworth Regional",
        "Temora",
        "Tenterfield",
        "The Hills Shire",
        "Tumbarumba",
        "Tumut Shire",
        "Tweed",
        "Unincorporated Far West",
        "Upper Hunter Shire",
        "Upper Lachlan Shire",
        "Uralla",
        "Urana",
        "Wagga Wagga",
        "Wakool",
        "Walcha",
        "Walgett",
        "Warren",
        "Warringah",
        "Warrumbungle Shire",
        "Waverley",
        "Weddin",
        "Wellington",
        "Wentworth",
        "Willoughby",
        "Wingecarribee",
        "Wollondilly",
        "Wollongong",
        "Woollahra",
        "Wyong",
        "Yass Valley",
        "Young"
       ],
       "_view_module_version": "~2.1.4",
       "description": "LGA2",
       "layout": "IPY_MODEL_fedaad7b79f748feaf0ac15fcd0ced01",
       "value": "Lane Cove"
      }
     },
     "0c2ff38c5c5140719bcc5f435a5f2f09": {
      "model_module": "jupyter-js-widgets",
      "model_module_version": "~2.1.4",
      "model_name": "OutputModel",
      "state": {
       "_dom_classes": [],
       "_model_module": "jupyter-js-widgets",
       "_model_module_version": "~2.1.4",
       "_view_module": "jupyter-js-widgets",
       "_view_module_version": "~2.1.4",
       "layout": "IPY_MODEL_61aeba2673f347b1b4b84bdaa57c1c72",
       "msg_throttle": 1
      }
     },
     "0cc85748bc584c9caa73fc90108993c3": {
      "model_module": "jupyter-js-widgets",
      "model_module_version": "~2.1.4",
      "model_name": "LayoutModel",
      "state": {
       "_model_module_version": "~2.1.4",
       "_view_module_version": "~2.1.4",
       "display": "inline_flex",
       "flex_flow": "column"
      }
     },
     "0d0bff9ed6384a7da119db3d6a8dfa95": {
      "model_module": "jupyter-js-widgets",
      "model_module_version": "~2.1.4",
      "model_name": "OutputModel",
      "state": {
       "_dom_classes": [],
       "_model_module": "jupyter-js-widgets",
       "_model_module_version": "~2.1.4",
       "_view_module": "jupyter-js-widgets",
       "_view_module_version": "~2.1.4",
       "layout": "IPY_MODEL_0f2ed1a4517843cd96fa6ab1cb5e0c12",
       "msg_throttle": 1
      }
     },
     "0d19abbe9d4a478b99759fd22d83e164": {
      "model_module": "jupyter-js-widgets",
      "model_module_version": "~2.1.4",
      "model_name": "LayoutModel",
      "state": {
       "_model_module_version": "~2.1.4",
       "_view_module_version": "~2.1.4",
       "display": "inline_flex",
       "flex_flow": "column"
      }
     },
     "0d5ba545b7e1416ca0458664ae2a4153": {
      "model_module": "jupyter-js-widgets",
      "model_module_version": "~2.1.4",
      "model_name": "VBoxModel",
      "state": {
       "_dom_classes": [
        "widget-interact"
       ],
       "_model_module_version": "~2.1.4",
       "_view_module_version": "~2.1.4",
       "children": [
        "IPY_MODEL_accac25439f04553973cf5bf8125347a",
        "IPY_MODEL_470703628a8941dc903e11d2d6d92fb9",
        "IPY_MODEL_c311c81de4714fec9a59de6400665d2a",
        "IPY_MODEL_22aaf53fd43d402286b4b0ecb0007983"
       ],
       "layout": "IPY_MODEL_486c8a1f805e46b8b47bb635b00d7996"
      }
     },
     "0d6a8bb9bd8b4a3ebad89c5a4a46b181": {
      "model_module": "jupyter-js-widgets",
      "model_module_version": "~2.1.4",
      "model_name": "LayoutModel",
      "state": {
       "_model_module_version": "~2.1.4",
       "_view_module_version": "~2.1.4",
       "width": "20%"
      }
     },
     "0d6ed70b4bc441599f41806d839ac9cd": {
      "model_module": "jupyter-js-widgets",
      "model_module_version": "~2.1.4",
      "model_name": "ButtonStyleModel",
      "state": {
       "_model_module_version": "~2.1.4",
       "_view_module_version": "~2.1.4"
      }
     },
     "0dfe4e9826944a7c949e1fdf6923dd00": {
      "model_module": "jupyter-js-widgets",
      "model_module_version": "~2.1.4",
      "model_name": "LayoutModel",
      "state": {
       "_model_module_version": "~2.1.4",
       "_view_module_version": "~2.1.4"
      }
     },
     "0e6ee39f6e6540c9affcbab91afd4c5a": {
      "model_module": "jupyter-js-widgets",
      "model_module_version": "~2.1.4",
      "model_name": "DropdownModel",
      "state": {
       "_model_module_version": "~2.1.4",
       "_options_labels": [
        "All",
        "GreaterSydney",
        "RegionalNSW"
       ],
       "_view_module_version": "~2.1.4",
       "description": "LGAs:",
       "layout": "IPY_MODEL_97735829d78d40d4bc1734a09dbb2645",
       "value": "All"
      }
     },
     "0e749c49fd914093aee1554a147e59cd": {
      "model_module": "jupyter-js-widgets",
      "model_module_version": "~2.1.4",
      "model_name": "LayoutModel",
      "state": {
       "_model_module_version": "~2.1.4",
       "_view_module_version": "~2.1.4",
       "display": "inline_flex",
       "flex_flow": "column",
       "width": "20%"
      }
     },
     "0e959243778542bab6bca7e1e7443366": {
      "model_module": "jupyter-js-widgets",
      "model_module_version": "~2.1.4",
      "model_name": "DropdownModel",
      "state": {
       "_model_module_version": "~2.1.4",
       "_options_labels": [
        "Albury",
        "Armidale Dumaresq",
        "Ashfield",
        "Auburn",
        "Ballina",
        "Balranald",
        "Bankstown",
        "Bathurst Regional",
        "Bega Valley",
        "Bellingen",
        "Berrigan",
        "Blacktown",
        "Bland",
        "Blayney",
        "Blue Mountains",
        "Bogan",
        "Bombala",
        "Boorowa",
        "Botany Bay",
        "Bourke",
        "Brewarrina",
        "Broken Hill",
        "Burwood",
        "Byron",
        "Cabonne",
        "Camden",
        "Campbelltown",
        "Canada Bay",
        "Canterbury",
        "Carrathool",
        "Central Darling",
        "Cessnock",
        "Clarence Valley",
        "Cobar",
        "Coffs Harbour",
        "Conargo",
        "Coolamon",
        "Cooma-Monaro",
        "Coonamble",
        "Cootamundra",
        "Corowa Shire",
        "Cowra",
        "Deniliquin",
        "Dubbo",
        "Dungog",
        "Eurobodalla",
        "Fairfield",
        "Forbes",
        "Gilgandra",
        "Glen Innes Severn",
        "Gloucester",
        "Gosford",
        "Goulburn Mulwaree",
        "Great Lakes",
        "Greater Hume Shire",
        "Greater Taree",
        "Griffith",
        "Gundagai",
        "Gunnedah",
        "Guyra",
        "Gwydir",
        "Harden",
        "Hawkesbury",
        "Hay",
        "Holroyd",
        "Hornsby",
        "Hunters Hill",
        "Hurstville",
        "Inverell",
        "Jerilderie",
        "Junee",
        "Kempsey",
        "Kiama",
        "Kogarah",
        "Ku-ring-gai",
        "Kyogle",
        "Lachlan",
        "Lake Macquarie",
        "Lane Cove",
        "Leeton",
        "Leichhardt",
        "Lismore",
        "Lithgow",
        "Liverpool",
        "Liverpool Plains",
        "Lockhart",
        "Maitland",
        "Manly",
        "Marrickville",
        "Mid-Western Regional",
        "Moree Plains",
        "Mosman",
        "Murray",
        "Murrumbidgee",
        "Muswellbrook",
        "Nambucca",
        "Narrabri",
        "Narrandera",
        "Narromine",
        "Newcastle",
        "North Sydney",
        "Oberon",
        "Orange",
        "Palerang",
        "Parkes",
        "Parramatta",
        "Penrith",
        "Pittwater",
        "Port Macquarie-Hastings",
        "Port Stephens",
        "Queanbeyan",
        "Randwick",
        "Richmond Valley",
        "Rockdale",
        "Ryde",
        "Shellharbour",
        "Shoalhaven",
        "Singleton",
        "Snowy River",
        "Strathfield",
        "Sutherland Shire",
        "Sydney",
        "Tamworth Regional",
        "Temora",
        "Tenterfield",
        "The Hills Shire",
        "Tumbarumba",
        "Tumut Shire",
        "Tweed",
        "Unincorporated Far West",
        "Upper Hunter Shire",
        "Upper Lachlan Shire",
        "Uralla",
        "Urana",
        "Wagga Wagga",
        "Wakool",
        "Walcha",
        "Walgett",
        "Warren",
        "Warringah",
        "Warrumbungle Shire",
        "Waverley",
        "Weddin",
        "Wellington",
        "Wentworth",
        "Willoughby",
        "Wingecarribee",
        "Wollondilly",
        "Wollongong",
        "Woollahra",
        "Wyong",
        "Yass Valley",
        "Young"
       ],
       "_view_module_version": "~2.1.4",
       "description": "LGA1",
       "layout": "IPY_MODEL_d5194fb613f34649a184b018c9075f5c",
       "value": "Randwick"
      }
     },
     "0ea3f0d755b14aaf8b963dc782664358": {
      "model_module": "jupyter-js-widgets",
      "model_module_version": "~2.1.4",
      "model_name": "LayoutModel",
      "state": {
       "_model_module_version": "~2.1.4",
       "_view_module_version": "~2.1.4",
       "display": "inline_flex",
       "flex_flow": "column",
       "width": "20%"
      }
     },
     "0eb6c4872ab54b9f8b27aac2883f5d16": {
      "model_module": "jupyter-js-widgets",
      "model_module_version": "~2.1.4",
      "model_name": "SelectMultipleModel",
      "state": {
       "_model_module_version": "~2.1.4",
       "_options_labels": [
        "Albury",
        "Armidale Dumaresq",
        "Ashfield",
        "Auburn",
        "Ballina",
        "Balranald",
        "Bankstown",
        "Bathurst Regional",
        "Bega Valley",
        "Bellingen",
        "Berrigan",
        "Blacktown",
        "Bland",
        "Blayney",
        "Blue Mountains",
        "Bogan",
        "Bombala",
        "Boorowa",
        "Botany Bay",
        "Bourke",
        "Brewarrina",
        "Broken Hill",
        "Burwood",
        "Byron",
        "Cabonne",
        "Camden",
        "Campbelltown",
        "Canada Bay",
        "Canterbury",
        "Carrathool",
        "Central Darling",
        "Cessnock",
        "Clarence Valley",
        "Cobar",
        "Coffs Harbour",
        "Conargo",
        "Coolamon",
        "Cooma-Monaro",
        "Coonamble",
        "Cootamundra",
        "Corowa Shire",
        "Cowra",
        "Deniliquin",
        "Dubbo",
        "Dungog",
        "Eurobodalla",
        "Fairfield",
        "Forbes",
        "Gilgandra",
        "Glen Innes Severn",
        "Gloucester",
        "Gosford",
        "Goulburn Mulwaree",
        "Great Lakes",
        "Greater Hume Shire",
        "Greater Taree",
        "Griffith",
        "Gundagai",
        "Gunnedah",
        "Guyra",
        "Gwydir",
        "Harden",
        "Hawkesbury",
        "Hay",
        "Holroyd",
        "Hornsby",
        "Hunters Hill",
        "Hurstville",
        "Inverell",
        "Jerilderie",
        "Junee",
        "Kempsey",
        "Kiama",
        "Kogarah",
        "Ku-ring-gai",
        "Kyogle",
        "Lachlan",
        "Lake Macquarie",
        "Lane Cove",
        "Leeton",
        "Leichhardt",
        "Lismore",
        "Lithgow",
        "Liverpool",
        "Liverpool Plains",
        "Lockhart",
        "Maitland",
        "Manly",
        "Marrickville",
        "Mid-Western Regional",
        "Moree Plains",
        "Mosman",
        "Murray",
        "Murrumbidgee",
        "Muswellbrook",
        "Nambucca",
        "Narrabri",
        "Narrandera",
        "Narromine",
        "Newcastle",
        "North Sydney",
        "Oberon",
        "Orange",
        "Palerang",
        "Parkes",
        "Parramatta",
        "Penrith",
        "Pittwater",
        "Port Macquarie-Hastings",
        "Port Stephens",
        "Queanbeyan",
        "Randwick",
        "Richmond Valley",
        "Rockdale",
        "Ryde",
        "Shellharbour",
        "Shoalhaven",
        "Singleton",
        "Snowy River",
        "Strathfield",
        "Sutherland Shire",
        "Sydney",
        "Tamworth Regional",
        "Temora",
        "Tenterfield",
        "The Hills Shire",
        "Tumbarumba",
        "Tumut Shire",
        "Tweed",
        "Unincorporated Far West",
        "Upper Hunter Shire",
        "Upper Lachlan Shire",
        "Uralla",
        "Urana",
        "Wagga Wagga",
        "Wakool",
        "Walcha",
        "Walgett",
        "Warren",
        "Warringah",
        "Warrumbungle Shire",
        "Waverley",
        "Weddin",
        "Wellington",
        "Wentworth",
        "Willoughby",
        "Wingecarribee",
        "Wollondilly",
        "Wollongong",
        "Woollahra",
        "Wyong",
        "Yass Valley",
        "Young"
       ],
       "_view_module_version": "~2.1.4",
       "description": "LGAs",
       "layout": "IPY_MODEL_33023cc749ce432ca498c27c68f39164",
       "value": [
        "Sydney",
        "Blacktown",
        "Burwood",
        "Randwick",
        "Lane Cove",
        "Sutherland Shire"
       ]
      }
     },
     "0eba51b5c11648539876f2ad14293feb": {
      "model_module": "jupyter-js-widgets",
      "model_module_version": "~2.1.4",
      "model_name": "LayoutModel",
      "state": {
       "_model_module_version": "~2.1.4",
       "_view_module_version": "~2.1.4",
       "width": "20%"
      }
     },
     "0ec47ea93f0f4c058419b3cb879fb6ec": {
      "model_module": "jupyter-js-widgets",
      "model_module_version": "~2.1.4",
      "model_name": "LayoutModel",
      "state": {
       "_model_module_version": "~2.1.4",
       "_view_module_version": "~2.1.4"
      }
     },
     "0ee2f9cd5095406bb68b1057af494096": {
      "model_module": "jupyter-js-widgets",
      "model_module_version": "~2.1.4",
      "model_name": "ButtonModel",
      "state": {
       "_model_module_version": "~2.1.4",
       "_view_module_version": "~2.1.4",
       "description": "Run Interact",
       "layout": "IPY_MODEL_f8099ef95c154d8693a750e9c4d50af3",
       "style": "IPY_MODEL_b54638579e3f4cd19127387a118f0709"
      }
     },
     "0f2ed1a4517843cd96fa6ab1cb5e0c12": {
      "model_module": "jupyter-js-widgets",
      "model_module_version": "~2.1.4",
      "model_name": "LayoutModel",
      "state": {
       "_model_module_version": "~2.1.4",
       "_view_module_version": "~2.1.4"
      }
     },
     "0fb40357677745658bf99fee3baef6c1": {
      "model_module": "jupyter-js-widgets",
      "model_module_version": "~2.1.4",
      "model_name": "ButtonModel",
      "state": {
       "_model_module_version": "~2.1.4",
       "_view_module_version": "~2.1.4",
       "description": "Run Interact",
       "layout": "IPY_MODEL_762225c1fde64889ab8549765e829b6a",
       "style": "IPY_MODEL_68b3dc33c8844f3a9b2bb31f499710ca"
      }
     },
     "106328e67e55462d89a1d7c97ec05e1f": {
      "model_module": "jupyter-js-widgets",
      "model_module_version": "~2.1.4",
      "model_name": "LayoutModel",
      "state": {
       "_model_module_version": "~2.1.4",
       "_view_module_version": "~2.1.4"
      }
     },
     "1119a2f50af14d829105ea767424742f": {
      "model_module": "jupyter-js-widgets",
      "model_module_version": "~2.1.4",
      "model_name": "LayoutModel",
      "state": {
       "_model_module_version": "~2.1.4",
       "_view_module_version": "~2.1.4",
       "display": "inline_flex",
       "flex_flow": "column"
      }
     },
     "118195dcca14470ea1278d15617f1f38": {
      "model_module": "jupyter-js-widgets",
      "model_module_version": "~2.1.4",
      "model_name": "ButtonStyleModel",
      "state": {
       "_model_module_version": "~2.1.4",
       "_view_module_version": "~2.1.4"
      }
     },
     "11bf6ac5db31487c9b7751e7b38ee158": {
      "model_module": "jupyter-js-widgets",
      "model_module_version": "~2.1.4",
      "model_name": "OutputModel",
      "state": {
       "_dom_classes": [],
       "_model_module": "jupyter-js-widgets",
       "_model_module_version": "~2.1.4",
       "_view_module": "jupyter-js-widgets",
       "_view_module_version": "~2.1.4",
       "layout": "IPY_MODEL_14858d943d8640dc8f5e90a671012445",
       "msg_throttle": 1
      }
     },
     "1268c519da9e43c09c7c6e4df8971097": {
      "model_module": "jupyter-js-widgets",
      "model_module_version": "~2.1.4",
      "model_name": "LayoutModel",
      "state": {
       "_model_module_version": "~2.1.4",
       "_view_module_version": "~2.1.4"
      }
     },
     "127d57eca6054f269da1640608d4ddb4": {
      "model_module": "jupyter-js-widgets",
      "model_module_version": "~2.1.4",
      "model_name": "RadioButtonsModel",
      "state": {
       "_model_module_version": "~2.1.4",
       "_options_labels": [
        "sum_median_rank",
        "sum_mean_rank",
        "adj_median_rank",
        "adj_mean_rank"
       ],
       "_view_module_version": "~2.1.4",
       "description": "Sorting Order:",
       "layout": "IPY_MODEL_e6e22922ffad45a188e8d68143887870",
       "value": "adj_median_rank"
      }
     },
     "132007559b88448cbe4024726d93168c": {
      "model_module": "jupyter-js-widgets",
      "model_module_version": "~2.1.4",
      "model_name": "ButtonModel",
      "state": {
       "_model_module_version": "~2.1.4",
       "_view_module_version": "~2.1.4",
       "description": "Run Interact",
       "layout": "IPY_MODEL_f86ae449775e4d25978e4ed26bf2041c",
       "style": "IPY_MODEL_91ceb5b458ee4552b49321ca27280520"
      }
     },
     "1365328dc63c4d1b9424c578a7b0b74e": {
      "model_module": "jupyter-js-widgets",
      "model_module_version": "~2.1.4",
      "model_name": "ButtonStyleModel",
      "state": {
       "_model_module_version": "~2.1.4",
       "_view_module_version": "~2.1.4"
      }
     },
     "1431f0b11e72495e93d2cfa9168eb18b": {
      "model_module": "jupyter-js-widgets",
      "model_module_version": "~2.1.4",
      "model_name": "LayoutModel",
      "state": {
       "_model_module_version": "~2.1.4",
       "_view_module_version": "~2.1.4"
      }
     },
     "146aab8b28cd4c3ab9e76af676ac13d9": {
      "model_module": "jupyter-js-widgets",
      "model_module_version": "~2.1.4",
      "model_name": "DropdownModel",
      "state": {
       "_model_module_version": "~2.1.4",
       "_options_labels": [
        "Ashfield",
        "Auburn",
        "Bankstown",
        "Blacktown",
        "Blue Mountains",
        "Botany Bay",
        "Burwood",
        "Camden",
        "Campbelltown",
        "Canada Bay",
        "Canterbury",
        "Fairfield",
        "Gosford",
        "Hawkesbury",
        "Holroyd",
        "Hornsby",
        "Hunters Hill",
        "Hurstville",
        "Kogarah",
        "Ku-ring-gai",
        "Lane Cove",
        "Leichhardt",
        "Liverpool",
        "Manly",
        "Marrickville",
        "Mosman",
        "North Sydney",
        "Parramatta",
        "Penrith",
        "Pittwater",
        "Randwick",
        "Rockdale",
        "Ryde",
        "Strathfield",
        "Sutherland Shire",
        "Sydney",
        "The Hills Shire",
        "Warringah",
        "Waverley",
        "Willoughby",
        "Wollondilly",
        "Woollahra",
        "Wyong"
       ],
       "_view_module_version": "~2.1.4",
       "description": "LGA2",
       "layout": "IPY_MODEL_79221edf6f614e729f00d26eb624e76b",
       "value": "Lane Cove"
      }
     },
     "14858d943d8640dc8f5e90a671012445": {
      "model_module": "jupyter-js-widgets",
      "model_module_version": "~2.1.4",
      "model_name": "LayoutModel",
      "state": {
       "_model_module_version": "~2.1.4",
       "_view_module_version": "~2.1.4"
      }
     },
     "14cdd000ed99426586da8f38e0ef18a3": {
      "model_module": "jupyter-js-widgets",
      "model_module_version": "~2.1.4",
      "model_name": "SelectMultipleModel",
      "state": {
       "_model_module_version": "~2.1.4",
       "_options_labels": [
        "Albury",
        "Armidale Dumaresq",
        "Ashfield",
        "Auburn",
        "Ballina",
        "Balranald",
        "Bankstown",
        "Bathurst Regional",
        "Bega Valley",
        "Bellingen",
        "Berrigan",
        "Blacktown",
        "Bland",
        "Blayney",
        "Blue Mountains",
        "Bogan",
        "Bombala",
        "Boorowa",
        "Botany Bay",
        "Bourke",
        "Brewarrina",
        "Broken Hill",
        "Burwood",
        "Byron",
        "Cabonne",
        "Camden",
        "Campbelltown",
        "Canada Bay",
        "Canterbury",
        "Carrathool",
        "Central Darling",
        "Cessnock",
        "Clarence Valley",
        "Cobar",
        "Coffs Harbour",
        "Conargo",
        "Coolamon",
        "Cooma-Monaro",
        "Coonamble",
        "Cootamundra",
        "Corowa Shire",
        "Cowra",
        "Deniliquin",
        "Dubbo",
        "Dungog",
        "Eurobodalla",
        "Fairfield",
        "Forbes",
        "Gilgandra",
        "Glen Innes Severn",
        "Gloucester",
        "Gosford",
        "Goulburn Mulwaree",
        "Great Lakes",
        "Greater Hume Shire",
        "Greater Taree",
        "Griffith",
        "Gundagai",
        "Gunnedah",
        "Guyra",
        "Gwydir",
        "Harden",
        "Hawkesbury",
        "Hay",
        "Holroyd",
        "Hornsby",
        "Hunters Hill",
        "Hurstville",
        "Inverell",
        "Jerilderie",
        "Junee",
        "Kempsey",
        "Kiama",
        "Kogarah",
        "Ku-ring-gai",
        "Kyogle",
        "Lachlan",
        "Lake Macquarie",
        "Lane Cove",
        "Leeton",
        "Leichhardt",
        "Lismore",
        "Lithgow",
        "Liverpool",
        "Liverpool Plains",
        "Lockhart",
        "Maitland",
        "Manly",
        "Marrickville",
        "Mid-Western Regional",
        "Moree Plains",
        "Mosman",
        "Murray",
        "Murrumbidgee",
        "Muswellbrook",
        "Nambucca",
        "Narrabri",
        "Narrandera",
        "Narromine",
        "Newcastle",
        "North Sydney",
        "Oberon",
        "Orange",
        "Palerang",
        "Parkes",
        "Parramatta",
        "Penrith",
        "Pittwater",
        "Port Macquarie-Hastings",
        "Port Stephens",
        "Queanbeyan",
        "Randwick",
        "Richmond Valley",
        "Rockdale",
        "Ryde",
        "Shellharbour",
        "Shoalhaven",
        "Singleton",
        "Snowy River",
        "Strathfield",
        "Sutherland Shire",
        "Sydney",
        "Tamworth Regional",
        "Temora",
        "Tenterfield",
        "The Hills Shire",
        "Tumbarumba",
        "Tumut Shire",
        "Tweed",
        "Unincorporated Far West",
        "Upper Hunter Shire",
        "Upper Lachlan Shire",
        "Uralla",
        "Urana",
        "Wagga Wagga",
        "Wakool",
        "Walcha",
        "Walgett",
        "Warren",
        "Warringah",
        "Warrumbungle Shire",
        "Waverley",
        "Weddin",
        "Wellington",
        "Wentworth",
        "Willoughby",
        "Wingecarribee",
        "Wollondilly",
        "Wollongong",
        "Woollahra",
        "Wyong",
        "Yass Valley",
        "Young"
       ],
       "_view_module_version": "~2.1.4",
       "description": "LGAs",
       "layout": "IPY_MODEL_8dabf55faec24f24801f7888150a294b",
       "value": [
        "Sydney",
        "Blacktown",
        "Burwood",
        "Randwick",
        "Lane Cove",
        "Sutherland Shire"
       ]
      }
     },
     "14e684c6fc4244ef9497d0861d4f0060": {
      "model_module": "jupyter-js-widgets",
      "model_module_version": "~2.1.4",
      "model_name": "LayoutModel",
      "state": {
       "_model_module_version": "~2.1.4",
       "_view_module_version": "~2.1.4",
       "display": "inline_flex",
       "flex_flow": "column"
      }
     },
     "150e5d52aa2b4979bc72d2f9c3e38658": {
      "model_module": "jupyter-js-widgets",
      "model_module_version": "~2.1.4",
      "model_name": "RadioButtonsModel",
      "state": {
       "_model_module_version": "~2.1.4",
       "_options_labels": [
        "sum_median_rank",
        "sum_mean_rank",
        "adj_median_rank",
        "adj_mean_rank"
       ],
       "_view_module_version": "~2.1.4",
       "description": "Sorting Order:",
       "layout": "IPY_MODEL_beeef818882c4151afe2b06e75ee77a5",
       "value": "adj_mean_rank"
      }
     },
     "1539f0626e9b4f6a9ee7bd6a639813bb": {
      "model_module": "jupyter-js-widgets",
      "model_module_version": "~2.1.4",
      "model_name": "OutputModel",
      "state": {
       "_dom_classes": [],
       "_model_module": "jupyter-js-widgets",
       "_model_module_version": "~2.1.4",
       "_view_module": "jupyter-js-widgets",
       "_view_module_version": "~2.1.4",
       "layout": "IPY_MODEL_956d6fda4cec49d2aa1156bd11d732af",
       "msg_throttle": 1
      }
     },
     "1587f4923b0c41929162a63270a8b189": {
      "model_module": "jupyter-js-widgets",
      "model_module_version": "~2.1.4",
      "model_name": "LayoutModel",
      "state": {
       "_model_module_version": "~2.1.4",
       "_view_module_version": "~2.1.4"
      }
     },
     "15e91d2ef613471c9f205db6e125dd40": {
      "model_module": "jupyter-js-widgets",
      "model_module_version": "~2.1.4",
      "model_name": "ButtonModel",
      "state": {
       "_model_module_version": "~2.1.4",
       "_view_module_version": "~2.1.4",
       "description": "Run Interact",
       "layout": "IPY_MODEL_f3277ae244bf430fbb8326c913b48d78",
       "style": "IPY_MODEL_6ecf7eb6c5784128b26467d2f27a119e"
      }
     },
     "15f3f3a8bcba425e9080c42399160b8c": {
      "model_module": "jupyter-js-widgets",
      "model_module_version": "~2.1.4",
      "model_name": "LayoutModel",
      "state": {
       "_model_module_version": "~2.1.4",
       "_view_module_version": "~2.1.4"
      }
     },
     "165fa71e25d445dab5fb267a491a55be": {
      "model_module": "jupyter-js-widgets",
      "model_module_version": "~2.1.4",
      "model_name": "LayoutModel",
      "state": {
       "_model_module_version": "~2.1.4",
       "_view_module_version": "~2.1.4"
      }
     },
     "168231655f4d46108fc8a2d05e8e327b": {
      "model_module": "jupyter-js-widgets",
      "model_module_version": "~2.1.4",
      "model_name": "ButtonStyleModel",
      "state": {
       "_model_module_version": "~2.1.4",
       "_view_module_version": "~2.1.4"
      }
     },
     "16aed3e820d04293868d88d3592b0861": {
      "model_module": "jupyter-js-widgets",
      "model_module_version": "~2.1.4",
      "model_name": "OutputModel",
      "state": {
       "_dom_classes": [],
       "_model_module": "jupyter-js-widgets",
       "_model_module_version": "~2.1.4",
       "_view_module": "jupyter-js-widgets",
       "_view_module_version": "~2.1.4",
       "layout": "IPY_MODEL_6adafd87d0eb4854b6c648c2d3659198",
       "msg_throttle": 1
      }
     },
     "16c2f90170f54fef82597e6024b11347": {
      "model_module": "jupyter-js-widgets",
      "model_module_version": "~2.1.4",
      "model_name": "LayoutModel",
      "state": {
       "_model_module_version": "~2.1.4",
       "_view_module_version": "~2.1.4",
       "width": "20%"
      }
     },
     "16f2d025c12a4c85b3c4557c9eb79b16": {
      "model_module": "jupyter-js-widgets",
      "model_module_version": "~2.1.4",
      "model_name": "DropdownModel",
      "state": {
       "_model_module_version": "~2.1.4",
       "_options_labels": [
        "Albury",
        "Armidale Dumaresq",
        "Ashfield",
        "Auburn",
        "Ballina",
        "Balranald",
        "Bankstown",
        "Bathurst Regional",
        "Bega Valley",
        "Bellingen",
        "Berrigan",
        "Blacktown",
        "Bland",
        "Blayney",
        "Blue Mountains",
        "Bogan",
        "Bombala",
        "Boorowa",
        "Botany Bay",
        "Bourke",
        "Brewarrina",
        "Broken Hill",
        "Burwood",
        "Byron",
        "Cabonne",
        "Camden",
        "Campbelltown",
        "Canada Bay",
        "Canterbury",
        "Carrathool",
        "Central Darling",
        "Cessnock",
        "Clarence Valley",
        "Cobar",
        "Coffs Harbour",
        "Conargo",
        "Coolamon",
        "Cooma-Monaro",
        "Coonamble",
        "Cootamundra",
        "Corowa Shire",
        "Cowra",
        "Deniliquin",
        "Dubbo",
        "Dungog",
        "Eurobodalla",
        "Fairfield",
        "Forbes",
        "Gilgandra",
        "Glen Innes Severn",
        "Gloucester",
        "Gosford",
        "Goulburn Mulwaree",
        "Great Lakes",
        "Greater Hume Shire",
        "Greater Taree",
        "Griffith",
        "Gundagai",
        "Gunnedah",
        "Guyra",
        "Gwydir",
        "Harden",
        "Hawkesbury",
        "Hay",
        "Holroyd",
        "Hornsby",
        "Hunters Hill",
        "Hurstville",
        "Inverell",
        "Jerilderie",
        "Junee",
        "Kempsey",
        "Kiama",
        "Kogarah",
        "Ku-ring-gai",
        "Kyogle",
        "Lachlan",
        "Lake Macquarie",
        "Lane Cove",
        "Leeton",
        "Leichhardt",
        "Lismore",
        "Lithgow",
        "Liverpool",
        "Liverpool Plains",
        "Lockhart",
        "Maitland",
        "Manly",
        "Marrickville",
        "Mid-Western Regional",
        "Moree Plains",
        "Mosman",
        "Murray",
        "Murrumbidgee",
        "Muswellbrook",
        "Nambucca",
        "Narrabri",
        "Narrandera",
        "Narromine",
        "Newcastle",
        "North Sydney",
        "Oberon",
        "Orange",
        "Palerang",
        "Parkes",
        "Parramatta",
        "Penrith",
        "Pittwater",
        "Port Macquarie-Hastings",
        "Port Stephens",
        "Queanbeyan",
        "Randwick",
        "Richmond Valley",
        "Rockdale",
        "Ryde",
        "Shellharbour",
        "Shoalhaven",
        "Singleton",
        "Snowy River",
        "Strathfield",
        "Sutherland Shire",
        "Sydney",
        "Tamworth Regional",
        "Temora",
        "Tenterfield",
        "The Hills Shire",
        "Tumbarumba",
        "Tumut Shire",
        "Tweed",
        "Unincorporated Far West",
        "Upper Hunter Shire",
        "Upper Lachlan Shire",
        "Uralla",
        "Urana",
        "Wagga Wagga",
        "Wakool",
        "Walcha",
        "Walgett",
        "Warren",
        "Warringah",
        "Warrumbungle Shire",
        "Waverley",
        "Weddin",
        "Wellington",
        "Wentworth",
        "Willoughby",
        "Wingecarribee",
        "Wollondilly",
        "Wollongong",
        "Woollahra",
        "Wyong",
        "Yass Valley",
        "Young"
       ],
       "_view_module_version": "~2.1.4",
       "description": "LGA1",
       "layout": "IPY_MODEL_a3d13dd48e3646668b0e23789e9cbc6f",
       "value": "Randwick"
      }
     },
     "17085e5e63a7481f9c26916db0ba9d14": {
      "model_module": "jupyter-js-widgets",
      "model_module_version": "~2.1.4",
      "model_name": "OutputModel",
      "state": {
       "_dom_classes": [],
       "_model_module": "jupyter-js-widgets",
       "_model_module_version": "~2.1.4",
       "_view_module": "jupyter-js-widgets",
       "_view_module_version": "~2.1.4",
       "layout": "IPY_MODEL_6405bc978eef4baa94c160e2ef9545fb",
       "msg_throttle": 1
      }
     },
     "179802c266184499b23e445e45cb981d": {
      "model_module": "jupyter-js-widgets",
      "model_module_version": "~2.1.4",
      "model_name": "OutputModel",
      "state": {
       "_dom_classes": [],
       "_model_module": "jupyter-js-widgets",
       "_model_module_version": "~2.1.4",
       "_view_module": "jupyter-js-widgets",
       "_view_module_version": "~2.1.4",
       "layout": "IPY_MODEL_5db906a5eb8f47af86f15016188bd33c",
       "msg_throttle": 1
      }
     },
     "18103652e1bc4819964ec5c37be01698": {
      "model_module": "jupyter-js-widgets",
      "model_module_version": "~2.1.4",
      "model_name": "SelectMultipleModel",
      "state": {
       "_model_module_version": "~2.1.4",
       "_options_labels": [
        "Homicide",
        "Assault",
        "Sexual offences",
        "Other offences against the person",
        "Robbery",
        "Property offences",
        "Drug Possession",
        "Drug Dealing",
        "Vice",
        "Weapons offences",
        "Other offences"
       ],
       "_view_module_version": "~2.1.4",
       "description": "Categories",
       "layout": "IPY_MODEL_e12db1cc1be143d7b3aa021dc722e7ed",
       "value": [
        "Homicide",
        "Assault",
        "Sexual offences",
        "Other offences against the person",
        "Robbery",
        "Property offences",
        "Drug Possession",
        "Drug Dealing",
        "Vice",
        "Weapons offences",
        "Other offences"
       ]
      }
     },
     "1812eac69c9b416fa205068435561482": {
      "model_module": "jupyter-js-widgets",
      "model_module_version": "~2.1.4",
      "model_name": "ButtonStyleModel",
      "state": {
       "_model_module_version": "~2.1.4",
       "_view_module_version": "~2.1.4"
      }
     },
     "18d37b2dfd994ebe976865fd40c7d928": {
      "model_module": "jupyter-js-widgets",
      "model_module_version": "~2.1.4",
      "model_name": "ButtonModel",
      "state": {
       "_model_module_version": "~2.1.4",
       "_view_module_version": "~2.1.4",
       "description": "Run Interact",
       "layout": "IPY_MODEL_fdfab2019de84633811001198d3fdb01",
       "style": "IPY_MODEL_51930d58f1ea430da532eb345324c11f"
      }
     },
     "18fac077632c4997a08b3c2b19703c0e": {
      "model_module": "jupyter-js-widgets",
      "model_module_version": "~2.1.4",
      "model_name": "LayoutModel",
      "state": {
       "_model_module_version": "~2.1.4",
       "_view_module_version": "~2.1.4",
       "width": "20%"
      }
     },
     "197cc269038c45a999b506e5a0038507": {
      "model_module": "jupyter-js-widgets",
      "model_module_version": "~2.1.4",
      "model_name": "LayoutModel",
      "state": {
       "_model_module_version": "~2.1.4",
       "_view_module_version": "~2.1.4",
       "display": "inline_flex",
       "flex_flow": "column",
       "width": "20%"
      }
     },
     "19d41e0b9c6f4b6ba907894b0b052307": {
      "model_module": "jupyter-js-widgets",
      "model_module_version": "~2.1.4",
      "model_name": "LayoutModel",
      "state": {
       "_model_module_version": "~2.1.4",
       "_view_module_version": "~2.1.4"
      }
     },
     "1a131398bfc04974b2c5d6f0d6fb1176": {
      "model_module": "jupyter-js-widgets",
      "model_module_version": "~2.1.4",
      "model_name": "SelectMultipleModel",
      "state": {
       "_model_module_version": "~2.1.4",
       "_options_labels": [
        "Albury",
        "Armidale Dumaresq",
        "Ashfield",
        "Auburn",
        "Ballina",
        "Balranald",
        "Bankstown",
        "Bathurst Regional",
        "Bega Valley",
        "Bellingen",
        "Berrigan",
        "Blacktown",
        "Bland",
        "Blayney",
        "Blue Mountains",
        "Bogan",
        "Bombala",
        "Boorowa",
        "Botany Bay",
        "Bourke",
        "Brewarrina",
        "Broken Hill",
        "Burwood",
        "Byron",
        "Cabonne",
        "Camden",
        "Campbelltown",
        "Canada Bay",
        "Canterbury",
        "Carrathool",
        "Central Darling",
        "Cessnock",
        "Clarence Valley",
        "Cobar",
        "Coffs Harbour",
        "Conargo",
        "Coolamon",
        "Cooma-Monaro",
        "Coonamble",
        "Cootamundra",
        "Corowa Shire",
        "Cowra",
        "Deniliquin",
        "Dubbo",
        "Dungog",
        "Eurobodalla",
        "Fairfield",
        "Forbes",
        "Gilgandra",
        "Glen Innes Severn",
        "Gloucester",
        "Gosford",
        "Goulburn Mulwaree",
        "Great Lakes",
        "Greater Hume Shire",
        "Greater Taree",
        "Griffith",
        "Gundagai",
        "Gunnedah",
        "Guyra",
        "Gwydir",
        "Harden",
        "Hawkesbury",
        "Hay",
        "Holroyd",
        "Hornsby",
        "Hunters Hill",
        "Hurstville",
        "Inverell",
        "Jerilderie",
        "Junee",
        "Kempsey",
        "Kiama",
        "Kogarah",
        "Ku-ring-gai",
        "Kyogle",
        "Lachlan",
        "Lake Macquarie",
        "Lane Cove",
        "Leeton",
        "Leichhardt",
        "Lismore",
        "Lithgow",
        "Liverpool",
        "Liverpool Plains",
        "Lockhart",
        "Maitland",
        "Manly",
        "Marrickville",
        "Mid-Western Regional",
        "Moree Plains",
        "Mosman",
        "Murray",
        "Murrumbidgee",
        "Muswellbrook",
        "Nambucca",
        "Narrabri",
        "Narrandera",
        "Narromine",
        "Newcastle",
        "North Sydney",
        "Oberon",
        "Orange",
        "Palerang",
        "Parkes",
        "Parramatta",
        "Penrith",
        "Pittwater",
        "Port Macquarie-Hastings",
        "Port Stephens",
        "Queanbeyan",
        "Randwick",
        "Richmond Valley",
        "Rockdale",
        "Ryde",
        "Shellharbour",
        "Shoalhaven",
        "Singleton",
        "Snowy River",
        "Strathfield",
        "Sutherland Shire",
        "Sydney",
        "Tamworth Regional",
        "Temora",
        "Tenterfield",
        "The Hills Shire",
        "Tumbarumba",
        "Tumut Shire",
        "Tweed",
        "Unincorporated Far West",
        "Upper Hunter Shire",
        "Upper Lachlan Shire",
        "Uralla",
        "Urana",
        "Wagga Wagga",
        "Wakool",
        "Walcha",
        "Walgett",
        "Warren",
        "Warringah",
        "Warrumbungle Shire",
        "Waverley",
        "Weddin",
        "Wellington",
        "Wentworth",
        "Willoughby",
        "Wingecarribee",
        "Wollondilly",
        "Wollongong",
        "Woollahra",
        "Wyong",
        "Yass Valley",
        "Young"
       ],
       "_view_module_version": "~2.1.4",
       "description": "LGAs",
       "layout": "IPY_MODEL_ee27c759c3924a70878957134e215fce",
       "value": [
        "Sydney",
        "Blacktown",
        "Burwood",
        "Randwick",
        "Lane Cove",
        "Sutherland Shire"
       ]
      }
     },
     "1a18ec9649eb4b4ebedd574f3b59e66c": {
      "model_module": "jupyter-js-widgets",
      "model_module_version": "~2.1.4",
      "model_name": "LayoutModel",
      "state": {
       "_model_module_version": "~2.1.4",
       "_view_module_version": "~2.1.4"
      }
     },
     "1a7493a5c9244bc4913a34ca5b093fa6": {
      "model_module": "jupyter-js-widgets",
      "model_module_version": "~2.1.4",
      "model_name": "LayoutModel",
      "state": {
       "_model_module_version": "~2.1.4",
       "_view_module_version": "~2.1.4"
      }
     },
     "1addab5fd9cc414980abef63764933f2": {
      "model_module": "jupyter-js-widgets",
      "model_module_version": "~2.1.4",
      "model_name": "VBoxModel",
      "state": {
       "_dom_classes": [
        "widget-interact"
       ],
       "_model_module_version": "~2.1.4",
       "_view_module_version": "~2.1.4",
       "children": [
        "IPY_MODEL_b1909e2c2bb5475d83d9894a081b4c47",
        "IPY_MODEL_3105c4cc1d7240509a86bd28ebb7d1b5",
        "IPY_MODEL_1eab5aa6b0db49af97bdabe29b386d1e",
        "IPY_MODEL_490272ff1ee74379ae7995db041db9f1",
        "IPY_MODEL_11bf6ac5db31487c9b7751e7b38ee158"
       ],
       "layout": "IPY_MODEL_3064dc481e114d73913f8c1aa531a72a"
      }
     },
     "1b225e2f21844a88bce6795984f2364d": {
      "model_module": "jupyter-js-widgets",
      "model_module_version": "~2.1.4",
      "model_name": "SelectMultipleModel",
      "state": {
       "_model_module_version": "~2.1.4",
       "_options_labels": [
        "Albury",
        "Armidale Dumaresq",
        "Ashfield",
        "Auburn",
        "Ballina",
        "Balranald",
        "Bankstown",
        "Bathurst Regional",
        "Bega Valley",
        "Bellingen",
        "Berrigan",
        "Blacktown",
        "Bland",
        "Blayney",
        "Blue Mountains",
        "Bogan",
        "Bombala",
        "Boorowa",
        "Botany Bay",
        "Bourke",
        "Brewarrina",
        "Broken Hill",
        "Burwood",
        "Byron",
        "Cabonne",
        "Camden",
        "Campbelltown",
        "Canada Bay",
        "Canterbury",
        "Carrathool",
        "Central Darling",
        "Cessnock",
        "Clarence Valley",
        "Cobar",
        "Coffs Harbour",
        "Conargo",
        "Coolamon",
        "Cooma-Monaro",
        "Coonamble",
        "Cootamundra",
        "Corowa Shire",
        "Cowra",
        "Deniliquin",
        "Dubbo",
        "Dungog",
        "Eurobodalla",
        "Fairfield",
        "Forbes",
        "Gilgandra",
        "Glen Innes Severn",
        "Gloucester",
        "Gosford",
        "Goulburn Mulwaree",
        "Great Lakes",
        "Greater Hume Shire",
        "Greater Taree",
        "Griffith",
        "Gundagai",
        "Gunnedah",
        "Guyra",
        "Gwydir",
        "Harden",
        "Hawkesbury",
        "Hay",
        "Holroyd",
        "Hornsby",
        "Hunters Hill",
        "Hurstville",
        "Inverell",
        "Jerilderie",
        "Junee",
        "Kempsey",
        "Kiama",
        "Kogarah",
        "Ku-ring-gai",
        "Kyogle",
        "Lachlan",
        "Lake Macquarie",
        "Lane Cove",
        "Leeton",
        "Leichhardt",
        "Lismore",
        "Lithgow",
        "Liverpool",
        "Liverpool Plains",
        "Lockhart",
        "Maitland",
        "Manly",
        "Marrickville",
        "Mid-Western Regional",
        "Moree Plains",
        "Mosman",
        "Murray",
        "Murrumbidgee",
        "Muswellbrook",
        "Nambucca",
        "Narrabri",
        "Narrandera",
        "Narromine",
        "Newcastle",
        "North Sydney",
        "Oberon",
        "Orange",
        "Palerang",
        "Parkes",
        "Parramatta",
        "Penrith",
        "Pittwater",
        "Port Macquarie-Hastings",
        "Port Stephens",
        "Queanbeyan",
        "Randwick",
        "Richmond Valley",
        "Rockdale",
        "Ryde",
        "Shellharbour",
        "Shoalhaven",
        "Singleton",
        "Snowy River",
        "Strathfield",
        "Sutherland Shire",
        "Sydney",
        "Tamworth Regional",
        "Temora",
        "Tenterfield",
        "The Hills Shire",
        "Tumbarumba",
        "Tumut Shire",
        "Tweed",
        "Unincorporated Far West",
        "Upper Hunter Shire",
        "Upper Lachlan Shire",
        "Uralla",
        "Urana",
        "Wagga Wagga",
        "Wakool",
        "Walcha",
        "Walgett",
        "Warren",
        "Warringah",
        "Warrumbungle Shire",
        "Waverley",
        "Weddin",
        "Wellington",
        "Wentworth",
        "Willoughby",
        "Wingecarribee",
        "Wollondilly",
        "Wollongong",
        "Woollahra",
        "Wyong",
        "Yass Valley",
        "Young"
       ],
       "_view_module_version": "~2.1.4",
       "description": "LGA:",
       "layout": "IPY_MODEL_905a7968d9d24b32850d092efab186bc",
       "value": [
        "Ashfield",
        "Auburn",
        "Blacktown",
        "Bourke",
        "Campbelltown",
        "Hunters Hill",
        "Ku-ring-gai",
        "Lane Cove",
        "Leichhardt",
        "Manly",
        "North Sydney",
        "Parramatta",
        "Sydney"
       ]
      }
     },
     "1c4228a8a868414898dd0f562fe91de2": {
      "model_module": "jupyter-js-widgets",
      "model_module_version": "~2.1.4",
      "model_name": "LayoutModel",
      "state": {
       "_model_module_version": "~2.1.4",
       "_view_module_version": "~2.1.4",
       "display": "inline_flex",
       "flex_flow": "column"
      }
     },
     "1c68609dfc384d8abb1c0df9eabfbdfe": {
      "model_module": "jupyter-js-widgets",
      "model_module_version": "~2.1.4",
      "model_name": "LayoutModel",
      "state": {
       "_model_module_version": "~2.1.4",
       "_view_module_version": "~2.1.4"
      }
     },
     "1caaf5ae66b04af29a5bd895584496c0": {
      "model_module": "jupyter-js-widgets",
      "model_module_version": "~2.1.4",
      "model_name": "LayoutModel",
      "state": {
       "_model_module_version": "~2.1.4",
       "_view_module_version": "~2.1.4"
      }
     },
     "1d4206b10a6146a19d4a862cb4010a64": {
      "model_module": "jupyter-js-widgets",
      "model_module_version": "~2.1.4",
      "model_name": "OutputModel",
      "state": {
       "_dom_classes": [],
       "_model_module": "jupyter-js-widgets",
       "_model_module_version": "~2.1.4",
       "_view_module": "jupyter-js-widgets",
       "_view_module_version": "~2.1.4",
       "layout": "IPY_MODEL_36b4196008704859827c0722f27e378e",
       "msg_throttle": 1
      }
     },
     "1e80e97da0c8497f8774fffc7103c451": {
      "model_module": "jupyter-js-widgets",
      "model_module_version": "~2.1.4",
      "model_name": "LayoutModel",
      "state": {
       "_model_module_version": "~2.1.4",
       "_view_module_version": "~2.1.4"
      }
     },
     "1eab5aa6b0db49af97bdabe29b386d1e": {
      "model_module": "jupyter-js-widgets",
      "model_module_version": "~2.1.4",
      "model_name": "SelectMultipleModel",
      "state": {
       "_model_module_version": "~2.1.4",
       "_options_labels": [
        "Homicide",
        "Assault",
        "Sexual offences",
        "Other offences against the person",
        "Robbery",
        "Property offences",
        "Drug Possession",
        "Drug Dealing",
        "Vice",
        "Weapons offences",
        "Other offences"
       ],
       "_view_module_version": "~2.1.4",
       "description": "Categories",
       "layout": "IPY_MODEL_14e684c6fc4244ef9497d0861d4f0060",
       "value": [
        "Homicide",
        "Assault",
        "Sexual offences",
        "Other offences against the person",
        "Robbery",
        "Property offences",
        "Drug Possession",
        "Drug Dealing",
        "Vice",
        "Weapons offences",
        "Other offences"
       ]
      }
     },
     "1edc2c0cb1bc49cd9ab1a8ab6b01deed": {
      "model_module": "jupyter-js-widgets",
      "model_module_version": "~2.1.4",
      "model_name": "OutputModel",
      "state": {
       "_dom_classes": [],
       "_model_module": "jupyter-js-widgets",
       "_model_module_version": "~2.1.4",
       "_view_module": "jupyter-js-widgets",
       "_view_module_version": "~2.1.4",
       "layout": "IPY_MODEL_5606ecb1fa524d49a3b78d143a1e2070",
       "msg_throttle": 1
      }
     },
     "1efd151b3e044dc29814cc9749288815": {
      "model_module": "jupyter-js-widgets",
      "model_module_version": "~2.1.4",
      "model_name": "ButtonModel",
      "state": {
       "_model_module_version": "~2.1.4",
       "_view_module_version": "~2.1.4",
       "description": "Run Interact",
       "layout": "IPY_MODEL_663cd6f88edd44849f423d63078cb503",
       "style": "IPY_MODEL_df1d6ff7bb854d5dbf5c239b105930e9"
      }
     },
     "1f40c0b6b3074ea2a1d13746b21c4260": {
      "model_module": "jupyter-js-widgets",
      "model_module_version": "~2.1.4",
      "model_name": "ButtonModel",
      "state": {
       "_model_module_version": "~2.1.4",
       "_view_module_version": "~2.1.4",
       "description": "Run Interact",
       "layout": "IPY_MODEL_51c64c0e3c3b42beaead7740b15f66b9",
       "style": "IPY_MODEL_0062ff1220e34e3982cf0c8fe0e18dbb"
      }
     },
     "1f4cebffe7c34592b6798e8abfa62aa7": {
      "model_module": "jupyter-js-widgets",
      "model_module_version": "~2.1.4",
      "model_name": "ButtonModel",
      "state": {
       "_model_module_version": "~2.1.4",
       "_view_module_version": "~2.1.4",
       "description": "Run Interact",
       "layout": "IPY_MODEL_39c523f4aa9643b58a554f48831d8eb5",
       "style": "IPY_MODEL_321bf098532b4a79b049c9c7ba9fd270"
      }
     },
     "1f84109c5cea4172a855e4ad4304a0af": {
      "model_module": "jupyter-js-widgets",
      "model_module_version": "~2.1.4",
      "model_name": "OutputModel",
      "state": {
       "_dom_classes": [],
       "_model_module": "jupyter-js-widgets",
       "_model_module_version": "~2.1.4",
       "_view_module": "jupyter-js-widgets",
       "_view_module_version": "~2.1.4",
       "layout": "IPY_MODEL_6f73b6398ad845fab8e332f5f1f5c4e0",
       "msg_throttle": 1
      }
     },
     "1f9de501fea24c60af8d89a0ca498990": {
      "model_module": "jupyter-js-widgets",
      "model_module_version": "~2.1.4",
      "model_name": "SelectMultipleModel",
      "state": {
       "_model_module_version": "~2.1.4",
       "_options_labels": [
        "Albury",
        "Armidale Dumaresq",
        "Ashfield",
        "Auburn",
        "Ballina",
        "Balranald",
        "Bankstown",
        "Bathurst Regional",
        "Bega Valley",
        "Bellingen",
        "Berrigan",
        "Blacktown",
        "Bland",
        "Blayney",
        "Blue Mountains",
        "Bogan",
        "Bombala",
        "Boorowa",
        "Botany Bay",
        "Bourke",
        "Brewarrina",
        "Broken Hill",
        "Burwood",
        "Byron",
        "Cabonne",
        "Camden",
        "Campbelltown",
        "Canada Bay",
        "Canterbury",
        "Carrathool",
        "Central Darling",
        "Cessnock",
        "Clarence Valley",
        "Cobar",
        "Coffs Harbour",
        "Conargo",
        "Coolamon",
        "Cooma-Monaro",
        "Coonamble",
        "Cootamundra",
        "Corowa Shire",
        "Cowra",
        "Deniliquin",
        "Dubbo",
        "Dungog",
        "Eurobodalla",
        "Fairfield",
        "Forbes",
        "Gilgandra",
        "Glen Innes Severn",
        "Gloucester",
        "Gosford",
        "Goulburn Mulwaree",
        "Great Lakes",
        "Greater Hume Shire",
        "Greater Taree",
        "Griffith",
        "Gundagai",
        "Gunnedah",
        "Guyra",
        "Gwydir",
        "Harden",
        "Hawkesbury",
        "Hay",
        "Holroyd",
        "Hornsby",
        "Hunters Hill",
        "Hurstville",
        "Inverell",
        "Jerilderie",
        "Junee",
        "Kempsey",
        "Kiama",
        "Kogarah",
        "Ku-ring-gai",
        "Kyogle",
        "Lachlan",
        "Lake Macquarie",
        "Lane Cove",
        "Leeton",
        "Leichhardt",
        "Lismore",
        "Lithgow",
        "Liverpool",
        "Liverpool Plains",
        "Lockhart",
        "Maitland",
        "Manly",
        "Marrickville",
        "Mid-Western Regional",
        "Moree Plains",
        "Mosman",
        "Murray",
        "Murrumbidgee",
        "Muswellbrook",
        "Nambucca",
        "Narrabri",
        "Narrandera",
        "Narromine",
        "Newcastle",
        "North Sydney",
        "Oberon",
        "Orange",
        "Palerang",
        "Parkes",
        "Parramatta",
        "Penrith",
        "Pittwater",
        "Port Macquarie-Hastings",
        "Port Stephens",
        "Queanbeyan",
        "Randwick",
        "Richmond Valley",
        "Rockdale",
        "Ryde",
        "Shellharbour",
        "Shoalhaven",
        "Singleton",
        "Snowy River",
        "Strathfield",
        "Sutherland Shire",
        "Sydney",
        "Tamworth Regional",
        "Temora",
        "Tenterfield",
        "The Hills Shire",
        "Tumbarumba",
        "Tumut Shire",
        "Tweed",
        "Unincorporated Far West",
        "Upper Hunter Shire",
        "Upper Lachlan Shire",
        "Uralla",
        "Urana",
        "Wagga Wagga",
        "Wakool",
        "Walcha",
        "Walgett",
        "Warren",
        "Warringah",
        "Warrumbungle Shire",
        "Waverley",
        "Weddin",
        "Wellington",
        "Wentworth",
        "Willoughby",
        "Wingecarribee",
        "Wollondilly",
        "Wollongong",
        "Woollahra",
        "Wyong",
        "Yass Valley",
        "Young"
       ],
       "_view_module_version": "~2.1.4",
       "description": "LGAs",
       "layout": "IPY_MODEL_264f99167e2449889a4e168c23cc2801",
       "value": [
        "Sydney",
        "Blacktown",
        "Burwood",
        "Randwick",
        "Lane Cove",
        "Sutherland Shire"
       ]
      }
     },
     "1fbf5a9b053743f195fef6533097b326": {
      "model_module": "jupyter-js-widgets",
      "model_module_version": "~2.1.4",
      "model_name": "DropdownModel",
      "state": {
       "_model_module_version": "~2.1.4",
       "_options_labels": [
        "All",
        "GreaterSydney",
        "RegionalNSW"
       ],
       "_view_module_version": "~2.1.4",
       "description": "LGAs:",
       "layout": "IPY_MODEL_7e5d4cc08cbc40b39dd4aabfc7efb412",
       "value": "All"
      }
     },
     "20280240ad3045ad823b0f3597382ca4": {
      "model_module": "jupyter-js-widgets",
      "model_module_version": "~2.1.4",
      "model_name": "OutputModel",
      "state": {
       "_dom_classes": [],
       "_model_module": "jupyter-js-widgets",
       "_model_module_version": "~2.1.4",
       "_view_module": "jupyter-js-widgets",
       "_view_module_version": "~2.1.4",
       "layout": "IPY_MODEL_d08db23509a44d93bac71fddecf6388e",
       "msg_throttle": 1
      }
     },
     "20288302a5cd45ab85eca1d7c5e8725d": {
      "model_module": "jupyter-js-widgets",
      "model_module_version": "~2.1.4",
      "model_name": "ButtonStyleModel",
      "state": {
       "_model_module_version": "~2.1.4",
       "_view_module_version": "~2.1.4"
      }
     },
     "2188685a9dc641379084df80dbc8a66e": {
      "model_module": "jupyter-js-widgets",
      "model_module_version": "~2.1.4",
      "model_name": "ButtonStyleModel",
      "state": {
       "_model_module_version": "~2.1.4",
       "_view_module_version": "~2.1.4"
      }
     },
     "21df209e3f044cf1b27a3fe8126cce0f": {
      "model_module": "jupyter-js-widgets",
      "model_module_version": "~2.1.4",
      "model_name": "LayoutModel",
      "state": {
       "_model_module_version": "~2.1.4",
       "_view_module_version": "~2.1.4"
      }
     },
     "21e6e91d22ac4c5ab4bd8daff028fa8f": {
      "model_module": "jupyter-js-widgets",
      "model_module_version": "~2.1.4",
      "model_name": "LayoutModel",
      "state": {
       "_model_module_version": "~2.1.4",
       "_view_module_version": "~2.1.4"
      }
     },
     "22556102ce6e4e76aefccf7974b555e4": {
      "model_module": "jupyter-js-widgets",
      "model_module_version": "~2.1.4",
      "model_name": "SelectMultipleModel",
      "state": {
       "_model_module_version": "~2.1.4",
       "_options_labels": [
        "Homicide",
        "Assault",
        "Sexual offences",
        "Other offences against the person",
        "Robbery",
        "Property offences",
        "Drug Possession",
        "Drug Dealing",
        "Vice",
        "Weapons offences",
        "Other offences"
       ],
       "_view_module_version": "~2.1.4",
       "description": "Categories",
       "layout": "IPY_MODEL_8708a04967f74cbbb045529dccbcf4cf",
       "value": [
        "Homicide",
        "Assault",
        "Sexual offences",
        "Other offences against the person",
        "Robbery",
        "Drug Possession",
        "Drug Dealing",
        "Vice",
        "Weapons offences"
       ]
      }
     },
     "22aaf53fd43d402286b4b0ecb0007983": {
      "model_module": "jupyter-js-widgets",
      "model_module_version": "~2.1.4",
      "model_name": "OutputModel",
      "state": {
       "_dom_classes": [],
       "_model_module": "jupyter-js-widgets",
       "_model_module_version": "~2.1.4",
       "_view_module": "jupyter-js-widgets",
       "_view_module_version": "~2.1.4",
       "layout": "IPY_MODEL_73176a8e67584fd7a682428a627f23ac",
       "msg_throttle": 1
      }
     },
     "2300a901ebc94267badfe4269d4c273b": {
      "model_module": "jupyter-js-widgets",
      "model_module_version": "~2.1.4",
      "model_name": "LayoutModel",
      "state": {
       "_model_module_version": "~2.1.4",
       "_view_module_version": "~2.1.4"
      }
     },
     "23147e47a3ce4942bc4e075a18617ea0": {
      "model_module": "jupyter-js-widgets",
      "model_module_version": "~2.1.4",
      "model_name": "LayoutModel",
      "state": {
       "_model_module_version": "~2.1.4",
       "_view_module_version": "~2.1.4"
      }
     },
     "2339e6eb559f45339fcd1fad575f5a51": {
      "model_module": "jupyter-js-widgets",
      "model_module_version": "~2.1.4",
      "model_name": "LayoutModel",
      "state": {
       "_model_module_version": "~2.1.4",
       "_view_module_version": "~2.1.4"
      }
     },
     "238446d20cfd488fa3a5e261a96d2c57": {
      "model_module": "jupyter-js-widgets",
      "model_module_version": "~2.1.4",
      "model_name": "VBoxModel",
      "state": {
       "_dom_classes": [
        "widget-interact"
       ],
       "_model_module_version": "~2.1.4",
       "_view_module_version": "~2.1.4",
       "children": [
        "IPY_MODEL_5f5cb233232046a4bedf50bf5a27361d",
        "IPY_MODEL_36487d2f9b0447008ea865263b5c8ee6",
        "IPY_MODEL_7810ed4dacd0432a928de2e00dcc22c9"
       ],
       "layout": "IPY_MODEL_feaadeef50e94fb99498b8ef71c1ecff"
      }
     },
     "23a7e422797c45e0856268c35d0e94cb": {
      "model_module": "jupyter-js-widgets",
      "model_module_version": "~2.1.4",
      "model_name": "VBoxModel",
      "state": {
       "_dom_classes": [
        "widget-interact"
       ],
       "_model_module_version": "~2.1.4",
       "_view_module_version": "~2.1.4",
       "children": [
        "IPY_MODEL_b1909e2c2bb5475d83d9894a081b4c47",
        "IPY_MODEL_3105c4cc1d7240509a86bd28ebb7d1b5",
        "IPY_MODEL_1eab5aa6b0db49af97bdabe29b386d1e",
        "IPY_MODEL_de08f824db0f4b089218ec27ad80f1dd",
        "IPY_MODEL_ee4e736455ab4475ae76cd888aa42bf8"
       ],
       "layout": "IPY_MODEL_bec6e9026b2f4adeb2108ffee5352092"
      }
     },
     "23be527bf21745d688d67964d18da1e2": {
      "model_module": "jupyter-js-widgets",
      "model_module_version": "~2.1.4",
      "model_name": "OutputModel",
      "state": {
       "_dom_classes": [],
       "_model_module": "jupyter-js-widgets",
       "_model_module_version": "~2.1.4",
       "_view_module": "jupyter-js-widgets",
       "_view_module_version": "~2.1.4",
       "layout": "IPY_MODEL_cce0dea2f11a4402b87cb55daf69064f",
       "msg_throttle": 1
      }
     },
     "244b357153b644ffb2793a1afe3c676d": {
      "model_module": "jupyter-js-widgets",
      "model_module_version": "~2.1.4",
      "model_name": "ButtonModel",
      "state": {
       "_model_module_version": "~2.1.4",
       "_view_module_version": "~2.1.4",
       "description": "Run Interact",
       "layout": "IPY_MODEL_c189661fe3cd4627bc9604fda5a16efb",
       "style": "IPY_MODEL_dd78210295b549f68b3adedffe7b7e0a"
      }
     },
     "246e35f11d9d4aacb16793616c762a29": {
      "model_module": "jupyter-js-widgets",
      "model_module_version": "~2.1.4",
      "model_name": "LayoutModel",
      "state": {
       "_model_module_version": "~2.1.4",
       "_view_module_version": "~2.1.4"
      }
     },
     "247bc6f293454da7a2985d425bc65ab0": {
      "model_module": "jupyter-js-widgets",
      "model_module_version": "~2.1.4",
      "model_name": "LayoutModel",
      "state": {
       "_model_module_version": "~2.1.4",
       "_view_module_version": "~2.1.4"
      }
     },
     "24c14e5d9817406a91906f07b1a9c235": {
      "model_module": "jupyter-js-widgets",
      "model_module_version": "~2.1.4",
      "model_name": "ButtonModel",
      "state": {
       "_model_module_version": "~2.1.4",
       "_view_module_version": "~2.1.4",
       "description": "Run Interact",
       "layout": "IPY_MODEL_4812291c88c94b4bb4ebdb907bcbd1e2",
       "style": "IPY_MODEL_9381f60fa4064d6db91bbd6a98fc014f"
      }
     },
     "251ac0f7463b4bc1b4622c1789526277": {
      "model_module": "jupyter-js-widgets",
      "model_module_version": "~2.1.4",
      "model_name": "RadioButtonsModel",
      "state": {
       "_model_module_version": "~2.1.4",
       "_options_labels": [
        "sum_median_rank",
        "sum_mean_rank",
        "adj_median_rank",
        "adj_mean_rank"
       ],
       "_view_module_version": "~2.1.4",
       "description": "Sorting Order:",
       "layout": "IPY_MODEL_eb838b9f531c49de9435d77ef0fc3e9f",
       "value": "adj_mean_rank"
      }
     },
     "254456f9f0a04ab4878674f296d39050": {
      "model_module": "jupyter-js-widgets",
      "model_module_version": "~2.1.4",
      "model_name": "DropdownModel",
      "state": {
       "_model_module_version": "~2.1.4",
       "_options_labels": [
        "Albury",
        "Armidale Dumaresq",
        "Ashfield",
        "Auburn",
        "Ballina",
        "Balranald",
        "Bankstown",
        "Bathurst Regional",
        "Bega Valley",
        "Bellingen",
        "Berrigan",
        "Blacktown",
        "Bland",
        "Blayney",
        "Blue Mountains",
        "Bogan",
        "Bombala",
        "Boorowa",
        "Botany Bay",
        "Bourke",
        "Brewarrina",
        "Broken Hill",
        "Burwood",
        "Byron",
        "Cabonne",
        "Camden",
        "Campbelltown",
        "Canada Bay",
        "Canterbury",
        "Carrathool",
        "Central Darling",
        "Cessnock",
        "Clarence Valley",
        "Cobar",
        "Coffs Harbour",
        "Conargo",
        "Coolamon",
        "Cooma-Monaro",
        "Coonamble",
        "Cootamundra",
        "Corowa Shire",
        "Cowra",
        "Deniliquin",
        "Dubbo",
        "Dungog",
        "Eurobodalla",
        "Fairfield",
        "Forbes",
        "Gilgandra",
        "Glen Innes Severn",
        "Gloucester",
        "Gosford",
        "Goulburn Mulwaree",
        "Great Lakes",
        "Greater Hume Shire",
        "Greater Taree",
        "Griffith",
        "Gundagai",
        "Gunnedah",
        "Guyra",
        "Gwydir",
        "Harden",
        "Hawkesbury",
        "Hay",
        "Holroyd",
        "Hornsby",
        "Hunters Hill",
        "Hurstville",
        "Inverell",
        "Jerilderie",
        "Junee",
        "Kempsey",
        "Kiama",
        "Kogarah",
        "Ku-ring-gai",
        "Kyogle",
        "Lachlan",
        "Lake Macquarie",
        "Lane Cove",
        "Leeton",
        "Leichhardt",
        "Lismore",
        "Lithgow",
        "Liverpool",
        "Liverpool Plains",
        "Lockhart",
        "Maitland",
        "Manly",
        "Marrickville",
        "Mid-Western Regional",
        "Moree Plains",
        "Mosman",
        "Murray",
        "Murrumbidgee",
        "Muswellbrook",
        "Nambucca",
        "Narrabri",
        "Narrandera",
        "Narromine",
        "Newcastle",
        "North Sydney",
        "Oberon",
        "Orange",
        "Palerang",
        "Parkes",
        "Parramatta",
        "Penrith",
        "Pittwater",
        "Port Macquarie-Hastings",
        "Port Stephens",
        "Queanbeyan",
        "Randwick",
        "Richmond Valley",
        "Rockdale",
        "Ryde",
        "Shellharbour",
        "Shoalhaven",
        "Singleton",
        "Snowy River",
        "Strathfield",
        "Sutherland Shire",
        "Sydney",
        "Tamworth Regional",
        "Temora",
        "Tenterfield",
        "The Hills Shire",
        "Tumbarumba",
        "Tumut Shire",
        "Tweed",
        "Unincorporated Far West",
        "Upper Hunter Shire",
        "Upper Lachlan Shire",
        "Uralla",
        "Urana",
        "Wagga Wagga",
        "Wakool",
        "Walcha",
        "Walgett",
        "Warren",
        "Warringah",
        "Warrumbungle Shire",
        "Waverley",
        "Weddin",
        "Wellington",
        "Wentworth",
        "Willoughby",
        "Wingecarribee",
        "Wollondilly",
        "Wollongong",
        "Woollahra",
        "Wyong",
        "Yass Valley",
        "Young"
       ],
       "_view_module_version": "~2.1.4",
       "description": "LGA1",
       "layout": "IPY_MODEL_ae1df19591754029acc4f4c879fbce0c",
       "value": "Randwick"
      }
     },
     "255029d1ae3c46e880cb66ab5f3e5724": {
      "model_module": "jupyter-js-widgets",
      "model_module_version": "~2.1.4",
      "model_name": "DropdownModel",
      "state": {
       "_model_module_version": "~2.1.4",
       "_options_labels": [
        "All",
        "GreaterSydney",
        "RegionalNSW"
       ],
       "_view_module_version": "~2.1.4",
       "description": "LGAs:",
       "layout": "IPY_MODEL_f0339727b4e54cb18e90b9771495e248",
       "value": "GreaterSydney"
      }
     },
     "25d4a4cbf2bf43e795e47675884f95a0": {
      "model_module": "jupyter-js-widgets",
      "model_module_version": "~2.1.4",
      "model_name": "DropdownModel",
      "state": {
       "_model_module_version": "~2.1.4",
       "_options_labels": [
        "Albury",
        "Armidale Dumaresq",
        "Ashfield",
        "Auburn",
        "Ballina",
        "Balranald",
        "Bankstown",
        "Bathurst Regional",
        "Bega Valley",
        "Bellingen",
        "Berrigan",
        "Blacktown",
        "Bland",
        "Blayney",
        "Blue Mountains",
        "Bogan",
        "Bombala",
        "Boorowa",
        "Botany Bay",
        "Bourke",
        "Brewarrina",
        "Broken Hill",
        "Burwood",
        "Byron",
        "Cabonne",
        "Camden",
        "Campbelltown",
        "Canada Bay",
        "Canterbury",
        "Carrathool",
        "Central Darling",
        "Cessnock",
        "Clarence Valley",
        "Cobar",
        "Coffs Harbour",
        "Conargo",
        "Coolamon",
        "Cooma-Monaro",
        "Coonamble",
        "Cootamundra",
        "Corowa Shire",
        "Cowra",
        "Deniliquin",
        "Dubbo",
        "Dungog",
        "Eurobodalla",
        "Fairfield",
        "Forbes",
        "Gilgandra",
        "Glen Innes Severn",
        "Gloucester",
        "Gosford",
        "Goulburn Mulwaree",
        "Great Lakes",
        "Greater Hume Shire",
        "Greater Taree",
        "Griffith",
        "Gundagai",
        "Gunnedah",
        "Guyra",
        "Gwydir",
        "Harden",
        "Hawkesbury",
        "Hay",
        "Holroyd",
        "Hornsby",
        "Hunters Hill",
        "Hurstville",
        "Inverell",
        "Jerilderie",
        "Junee",
        "Kempsey",
        "Kiama",
        "Kogarah",
        "Ku-ring-gai",
        "Kyogle",
        "Lachlan",
        "Lake Macquarie",
        "Lane Cove",
        "Leeton",
        "Leichhardt",
        "Lismore",
        "Lithgow",
        "Liverpool",
        "Liverpool Plains",
        "Lockhart",
        "Maitland",
        "Manly",
        "Marrickville",
        "Mid-Western Regional",
        "Moree Plains",
        "Mosman",
        "Murray",
        "Murrumbidgee",
        "Muswellbrook",
        "Nambucca",
        "Narrabri",
        "Narrandera",
        "Narromine",
        "Newcastle",
        "North Sydney",
        "Oberon",
        "Orange",
        "Palerang",
        "Parkes",
        "Parramatta",
        "Penrith",
        "Pittwater",
        "Port Macquarie-Hastings",
        "Port Stephens",
        "Queanbeyan",
        "Randwick",
        "Richmond Valley",
        "Rockdale",
        "Ryde",
        "Shellharbour",
        "Shoalhaven",
        "Singleton",
        "Snowy River",
        "Strathfield",
        "Sutherland Shire",
        "Sydney",
        "Tamworth Regional",
        "Temora",
        "Tenterfield",
        "The Hills Shire",
        "Tumbarumba",
        "Tumut Shire",
        "Tweed",
        "Unincorporated Far West",
        "Upper Hunter Shire",
        "Upper Lachlan Shire",
        "Uralla",
        "Urana",
        "Wagga Wagga",
        "Wakool",
        "Walcha",
        "Walgett",
        "Warren",
        "Warringah",
        "Warrumbungle Shire",
        "Waverley",
        "Weddin",
        "Wellington",
        "Wentworth",
        "Willoughby",
        "Wingecarribee",
        "Wollondilly",
        "Wollongong",
        "Woollahra",
        "Wyong",
        "Yass Valley",
        "Young"
       ],
       "_view_module_version": "~2.1.4",
       "description": "LGA2",
       "layout": "IPY_MODEL_004a63b5c120448f86b7d09ca4dbc3ee",
       "value": "Lane Cove"
      }
     },
     "26169978658a4400817a8f8b446f24cd": {
      "model_module": "jupyter-js-widgets",
      "model_module_version": "~2.1.4",
      "model_name": "LayoutModel",
      "state": {
       "_model_module_version": "~2.1.4",
       "_view_module_version": "~2.1.4"
      }
     },
     "26188a8a0ead4cd58e36089725997360": {
      "model_module": "jupyter-js-widgets",
      "model_module_version": "~2.1.4",
      "model_name": "SelectMultipleModel",
      "state": {
       "_model_module_version": "~2.1.4",
       "_options_labels": [
        "1995",
        "1996",
        "1997",
        "1998",
        "1999",
        "2000",
        "2001",
        "2002",
        "2003",
        "2004",
        "2005",
        "2006",
        "2007",
        "2008",
        "2009",
        "2010",
        "2011",
        "2012",
        "2013",
        "2014",
        "2015",
        "2016"
       ],
       "_view_module_version": "~2.1.4",
       "description": "Years",
       "layout": "IPY_MODEL_b00f18d470284e3d8896f7960c3b11f6",
       "value": [
        "1995",
        "1996",
        "1997",
        "1998",
        "1999",
        "2000",
        "2001",
        "2002",
        "2003",
        "2004",
        "2005",
        "2006",
        "2007",
        "2008",
        "2009",
        "2010",
        "2011",
        "2012",
        "2013",
        "2014",
        "2015",
        "2016"
       ]
      }
     },
     "264f99167e2449889a4e168c23cc2801": {
      "model_module": "jupyter-js-widgets",
      "model_module_version": "~2.1.4",
      "model_name": "LayoutModel",
      "state": {
       "_model_module_version": "~2.1.4",
       "_view_module_version": "~2.1.4",
       "display": "inline_flex",
       "flex_flow": "column"
      }
     },
     "26bfd56ed7a44ac2a7fd38362f71251c": {
      "model_module": "jupyter-js-widgets",
      "model_module_version": "~2.1.4",
      "model_name": "LayoutModel",
      "state": {
       "_model_module_version": "~2.1.4",
       "_view_module_version": "~2.1.4"
      }
     },
     "271dffa4a52f4b0b82144a689996f529": {
      "model_module": "jupyter-js-widgets",
      "model_module_version": "~2.1.4",
      "model_name": "ButtonModel",
      "state": {
       "_model_module_version": "~2.1.4",
       "_view_module_version": "~2.1.4",
       "description": "Run Interact",
       "layout": "IPY_MODEL_6dc0d3339221482d89d625a8ab78e37d",
       "style": "IPY_MODEL_2ea7b67304954c17b91a0f87fa361e29"
      }
     },
     "2762dd0be4704788ac29b1e7f2ec3881": {
      "model_module": "jupyter-js-widgets",
      "model_module_version": "~2.1.4",
      "model_name": "VBoxModel",
      "state": {
       "_dom_classes": [
        "widget-interact"
       ],
       "_model_module_version": "~2.1.4",
       "_view_module_version": "~2.1.4",
       "children": [
        "IPY_MODEL_3105c4cc1d7240509a86bd28ebb7d1b5",
        "IPY_MODEL_1eab5aa6b0db49af97bdabe29b386d1e",
        "IPY_MODEL_b1909e2c2bb5475d83d9894a081b4c47",
        "IPY_MODEL_31034c222efd4b03af3e5b8092b80335",
        "IPY_MODEL_f9473119851f49968baddc1a1f3e778d"
       ],
       "layout": "IPY_MODEL_b2d0e9eb60b947b8ab3988c5eb3776e0"
      }
     },
     "277b1b21684c4aafa0b8c8455f7cc38a": {
      "model_module": "jupyter-js-widgets",
      "model_module_version": "~2.1.4",
      "model_name": "SelectMultipleModel",
      "state": {
       "_model_module_version": "~2.1.4",
       "_options_labels": [
        "1995",
        "1996",
        "1997",
        "1998",
        "1999",
        "2000",
        "2001",
        "2002",
        "2003",
        "2004",
        "2005",
        "2006",
        "2007",
        "2008",
        "2009",
        "2010",
        "2011",
        "2012",
        "2013",
        "2014",
        "2015",
        "2016"
       ],
       "_view_module_version": "~2.1.4",
       "description": "Year",
       "layout": "IPY_MODEL_866d831354ae45c9ba5d3d9ec32f405f",
       "value": [
        "1995",
        "1996",
        "1997",
        "1998",
        "1999",
        "2000",
        "2001",
        "2002",
        "2003",
        "2004",
        "2005",
        "2006",
        "2007",
        "2008",
        "2009",
        "2010",
        "2011",
        "2012",
        "2013",
        "2014",
        "2015",
        "2016"
       ]
      }
     },
     "27ceb39964274e07a0ac0ee718f3988a": {
      "model_module": "jupyter-js-widgets",
      "model_module_version": "~2.1.4",
      "model_name": "ButtonModel",
      "state": {
       "_model_module_version": "~2.1.4",
       "_view_module_version": "~2.1.4",
       "description": "Run Interact",
       "layout": "IPY_MODEL_f9638ed5b47942c382a73b96650b88ad",
       "style": "IPY_MODEL_a26d59a585674a3d911f26b0ebf66994"
      }
     },
     "2832520b99a54aee8f4ba4a75914d175": {
      "model_module": "jupyter-js-widgets",
      "model_module_version": "~2.1.4",
      "model_name": "LayoutModel",
      "state": {
       "_model_module_version": "~2.1.4",
       "_view_module_version": "~2.1.4"
      }
     },
     "28bccdf671bc4b4abdbf2c655b22a919": {
      "model_module": "jupyter-js-widgets",
      "model_module_version": "~2.1.4",
      "model_name": "LayoutModel",
      "state": {
       "_model_module_version": "~2.1.4",
       "_view_module_version": "~2.1.4"
      }
     },
     "292532275c4645cba677375d40fbb363": {
      "model_module": "jupyter-js-widgets",
      "model_module_version": "~2.1.4",
      "model_name": "ButtonModel",
      "state": {
       "_model_module_version": "~2.1.4",
       "_view_module_version": "~2.1.4",
       "description": "Run Interact",
       "layout": "IPY_MODEL_bca5388f8e6d4da89c7c04bde50fb0fc",
       "style": "IPY_MODEL_e96a6ae8e72a410394f5387426fa4784"
      }
     },
     "2989a9459b4b45adb87f5c145578a900": {
      "model_module": "jupyter-js-widgets",
      "model_module_version": "~2.1.4",
      "model_name": "LayoutModel",
      "state": {
       "_model_module_version": "~2.1.4",
       "_view_module_version": "~2.1.4",
       "display": "inline_flex",
       "flex_flow": "column",
       "width": "20%"
      }
     },
     "2a334c705c414f6984050b816b2980a2": {
      "model_module": "jupyter-js-widgets",
      "model_module_version": "~2.1.4",
      "model_name": "OutputModel",
      "state": {
       "_dom_classes": [],
       "_model_module": "jupyter-js-widgets",
       "_model_module_version": "~2.1.4",
       "_view_module": "jupyter-js-widgets",
       "_view_module_version": "~2.1.4",
       "layout": "IPY_MODEL_eff0db209f4e4a1887901f8bc72dc241",
       "msg_throttle": 1
      }
     },
     "2a668e1e04154d998cf95cf3dbd2ae88": {
      "model_module": "jupyter-js-widgets",
      "model_module_version": "~2.1.4",
      "model_name": "LayoutModel",
      "state": {
       "_model_module_version": "~2.1.4",
       "_view_module_version": "~2.1.4"
      }
     },
     "2a68939b9c0c47ec859c467b7dbca79d": {
      "model_module": "jupyter-js-widgets",
      "model_module_version": "~2.1.4",
      "model_name": "OutputModel",
      "state": {
       "_dom_classes": [],
       "_model_module": "jupyter-js-widgets",
       "_model_module_version": "~2.1.4",
       "_view_module": "jupyter-js-widgets",
       "_view_module_version": "~2.1.4",
       "layout": "IPY_MODEL_19d41e0b9c6f4b6ba907894b0b052307",
       "msg_throttle": 1
      }
     },
     "2a7c3ec2f66343539229b9a5fd4d4f90": {
      "model_module": "jupyter-js-widgets",
      "model_module_version": "~2.1.4",
      "model_name": "OutputModel",
      "state": {
       "_dom_classes": [],
       "_model_module": "jupyter-js-widgets",
       "_model_module_version": "~2.1.4",
       "_view_module": "jupyter-js-widgets",
       "_view_module_version": "~2.1.4",
       "layout": "IPY_MODEL_2cfabf708c43481499414d9919b84f0a",
       "msg_throttle": 1
      }
     },
     "2ad7ba3c526b408093e3d9180b2b4bac": {
      "model_module": "jupyter-js-widgets",
      "model_module_version": "~2.1.4",
      "model_name": "LayoutModel",
      "state": {
       "_model_module_version": "~2.1.4",
       "_view_module_version": "~2.1.4",
       "display": "inline_flex",
       "flex_flow": "column",
       "width": "20%"
      }
     },
     "2b8592fbd13348d28dd3d6d1b32ebbe0": {
      "model_module": "jupyter-js-widgets",
      "model_module_version": "~2.1.4",
      "model_name": "LayoutModel",
      "state": {
       "_model_module_version": "~2.1.4",
       "_view_module_version": "~2.1.4"
      }
     },
     "2bb67141b86c45c0847dc2f0fd738d47": {
      "model_module": "jupyter-js-widgets",
      "model_module_version": "~2.1.4",
      "model_name": "ButtonStyleModel",
      "state": {
       "_model_module_version": "~2.1.4",
       "_view_module_version": "~2.1.4"
      }
     },
     "2bdd2f0616ad49eb910bbea799e36d09": {
      "model_module": "jupyter-js-widgets",
      "model_module_version": "~2.1.4",
      "model_name": "LayoutModel",
      "state": {
       "_model_module_version": "~2.1.4",
       "_view_module_version": "~2.1.4"
      }
     },
     "2c114377f05941e282a44e5c3cb62d89": {
      "model_module": "jupyter-js-widgets",
      "model_module_version": "~2.1.4",
      "model_name": "LayoutModel",
      "state": {
       "_model_module_version": "~2.1.4",
       "_view_module_version": "~2.1.4"
      }
     },
     "2c37c3f1989541449d2a0ec66565217d": {
      "model_module": "jupyter-js-widgets",
      "model_module_version": "~2.1.4",
      "model_name": "LayoutModel",
      "state": {
       "_model_module_version": "~2.1.4",
       "_view_module_version": "~2.1.4"
      }
     },
     "2c69f138b41b459fb4ffbd0a4b24c881": {
      "model_module": "jupyter-js-widgets",
      "model_module_version": "~2.1.4",
      "model_name": "LayoutModel",
      "state": {
       "_model_module_version": "~2.1.4",
       "_view_module_version": "~2.1.4",
       "width": "20%"
      }
     },
     "2c8aee79906b40a5903b348351fa927f": {
      "model_module": "jupyter-js-widgets",
      "model_module_version": "~2.1.4",
      "model_name": "ButtonStyleModel",
      "state": {
       "_model_module_version": "~2.1.4",
       "_view_module_version": "~2.1.4"
      }
     },
     "2cfabf708c43481499414d9919b84f0a": {
      "model_module": "jupyter-js-widgets",
      "model_module_version": "~2.1.4",
      "model_name": "LayoutModel",
      "state": {
       "_model_module_version": "~2.1.4",
       "_view_module_version": "~2.1.4"
      }
     },
     "2da1df3f0a9b4d1b90e7e5921e5f3240": {
      "model_module": "jupyter-js-widgets",
      "model_module_version": "~2.1.4",
      "model_name": "OutputModel",
      "state": {
       "_dom_classes": [],
       "_model_module": "jupyter-js-widgets",
       "_model_module_version": "~2.1.4",
       "_view_module": "jupyter-js-widgets",
       "_view_module_version": "~2.1.4",
       "layout": "IPY_MODEL_5f4a4600a92e43dabe99113aba929051",
       "msg_throttle": 1
      }
     },
     "2df9184485864a1ca4afa585bf3f312a": {
      "model_module": "jupyter-js-widgets",
      "model_module_version": "~2.1.4",
      "model_name": "VBoxModel",
      "state": {
       "_dom_classes": [
        "widget-interact"
       ],
       "_model_module_version": "~2.1.4",
       "_view_module_version": "~2.1.4",
       "children": [
        "IPY_MODEL_c65fcd4f2d224b5d8f320d16920e0774",
        "IPY_MODEL_827d027bf9bf436db748a1e2c249e564"
       ],
       "layout": "IPY_MODEL_1a7493a5c9244bc4913a34ca5b093fa6"
      }
     },
     "2e1b0ab47b114ce3934f4b7df45d7f19": {
      "model_module": "jupyter-js-widgets",
      "model_module_version": "~2.1.4",
      "model_name": "LayoutModel",
      "state": {
       "_model_module_version": "~2.1.4",
       "_view_module_version": "~2.1.4"
      }
     },
     "2ea7b67304954c17b91a0f87fa361e29": {
      "model_module": "jupyter-js-widgets",
      "model_module_version": "~2.1.4",
      "model_name": "ButtonStyleModel",
      "state": {
       "_model_module_version": "~2.1.4",
       "_view_module_version": "~2.1.4"
      }
     },
     "2ee827ccf7044197b11346f32faa9d7b": {
      "model_module": "jupyter-js-widgets",
      "model_module_version": "~2.1.4",
      "model_name": "DropdownModel",
      "state": {
       "_model_module_version": "~2.1.4",
       "_options_labels": [
        "1995",
        "1996",
        "1997",
        "1998",
        "1999",
        "2000",
        "2001",
        "2002",
        "2003",
        "2004",
        "2005",
        "2006",
        "2007",
        "2008",
        "2009",
        "2010",
        "2011",
        "2012",
        "2013",
        "2014",
        "2015",
        "2016"
       ],
       "_view_module_version": "~2.1.4",
       "description": "Year",
       "layout": "IPY_MODEL_b81dd29630b14dcb80cffdc6e410d7ec",
       "value": "2014"
      }
     },
     "2f914afd319748fea3f9fa20c10574c9": {
      "model_module": "jupyter-js-widgets",
      "model_module_version": "~2.1.4",
      "model_name": "LayoutModel",
      "state": {
       "_model_module_version": "~2.1.4",
       "_view_module_version": "~2.1.4"
      }
     },
     "3008829809714766b273821e25342a10": {
      "model_module": "jupyter-js-widgets",
      "model_module_version": "~2.1.4",
      "model_name": "LayoutModel",
      "state": {
       "_model_module_version": "~2.1.4",
       "_view_module_version": "~2.1.4"
      }
     },
     "30401088e2e147428b2f55bba842ce7b": {
      "model_module": "jupyter-js-widgets",
      "model_module_version": "~2.1.4",
      "model_name": "LayoutModel",
      "state": {
       "_model_module_version": "~2.1.4",
       "_view_module_version": "~2.1.4"
      }
     },
     "305d545415224a839ae366ef6fbdc628": {
      "model_module": "jupyter-js-widgets",
      "model_module_version": "~2.1.4",
      "model_name": "VBoxModel",
      "state": {
       "_dom_classes": [
        "widget-interact"
       ],
       "_model_module_version": "~2.1.4",
       "_view_module_version": "~2.1.4",
       "children": [
        "IPY_MODEL_6173e539af794d0e91491f67c42006e8",
        "IPY_MODEL_50a167e73bb947fd87375dba1ea9a7b6"
       ],
       "layout": "IPY_MODEL_619f05cbab6148a6aa6fc2d066231789"
      }
     },
     "3064dc481e114d73913f8c1aa531a72a": {
      "model_module": "jupyter-js-widgets",
      "model_module_version": "~2.1.4",
      "model_name": "LayoutModel",
      "state": {
       "_model_module_version": "~2.1.4",
       "_view_module_version": "~2.1.4"
      }
     },
     "30761c5f671f4e52979f34ab44b6d32a": {
      "model_module": "jupyter-js-widgets",
      "model_module_version": "~2.1.4",
      "model_name": "VBoxModel",
      "state": {
       "_dom_classes": [
        "widget-interact"
       ],
       "_model_module_version": "~2.1.4",
       "_view_module_version": "~2.1.4",
       "children": [
        "IPY_MODEL_bd88140fa8f44223aaa0db8337301324",
        "IPY_MODEL_0fb40357677745658bf99fee3baef6c1",
        "IPY_MODEL_f754ef031b694b98b7881f0020d44fb4"
       ],
       "layout": "IPY_MODEL_834d24d5d2774ff89f28ea78f955bfbd"
      }
     },
     "31034c222efd4b03af3e5b8092b80335": {
      "model_module": "jupyter-js-widgets",
      "model_module_version": "~2.1.4",
      "model_name": "ButtonModel",
      "state": {
       "_model_module_version": "~2.1.4",
       "_view_module_version": "~2.1.4",
       "description": "Run Interact",
       "layout": "IPY_MODEL_1e80e97da0c8497f8774fffc7103c451",
       "style": "IPY_MODEL_787a7fd26cc8469d8b7f5a0df899061a"
      }
     },
     "3105c4cc1d7240509a86bd28ebb7d1b5": {
      "model_module": "jupyter-js-widgets",
      "model_module_version": "~2.1.4",
      "model_name": "SelectMultipleModel",
      "state": {
       "_model_module_version": "~2.1.4",
       "_options_labels": [
        "1995",
        "1996",
        "1997",
        "1998",
        "1999",
        "2000",
        "2001",
        "2002",
        "2003",
        "2004",
        "2005",
        "2006",
        "2007",
        "2008",
        "2009",
        "2010",
        "2011",
        "2012",
        "2013",
        "2014",
        "2015",
        "2016"
       ],
       "_view_module_version": "~2.1.4",
       "description": "Years",
       "layout": "IPY_MODEL_2989a9459b4b45adb87f5c145578a900",
       "value": [
        "1995",
        "1996",
        "1997",
        "1998",
        "1999",
        "2000",
        "2001",
        "2002",
        "2003",
        "2004",
        "2005",
        "2006",
        "2007",
        "2008",
        "2009",
        "2010",
        "2011",
        "2012",
        "2013",
        "2014",
        "2015",
        "2016"
       ]
      }
     },
     "3105c592a26b444ca85c5ec797953a41": {
      "model_module": "jupyter-js-widgets",
      "model_module_version": "~2.1.4",
      "model_name": "LayoutModel",
      "state": {
       "_model_module_version": "~2.1.4",
       "_view_module_version": "~2.1.4"
      }
     },
     "3197e673c1fa4b73be846f8927adf8d1": {
      "model_module": "jupyter-js-widgets",
      "model_module_version": "~2.1.4",
      "model_name": "OutputModel",
      "state": {
       "_dom_classes": [],
       "_model_module": "jupyter-js-widgets",
       "_model_module_version": "~2.1.4",
       "_view_module": "jupyter-js-widgets",
       "_view_module_version": "~2.1.4",
       "layout": "IPY_MODEL_557b6bde2eb045da97c433d1166e3981",
       "msg_throttle": 1
      }
     },
     "319ac34700a244e18224aa42c9f5f127": {
      "model_module": "jupyter-js-widgets",
      "model_module_version": "~2.1.4",
      "model_name": "VBoxModel",
      "state": {
       "_dom_classes": [
        "widget-interact"
       ],
       "_model_module_version": "~2.1.4",
       "_view_module_version": "~2.1.4",
       "children": [
        "IPY_MODEL_251ac0f7463b4bc1b4622c1789526277",
        "IPY_MODEL_3c763889d41649be81dda58ad60fc8ff",
        "IPY_MODEL_9ec94457e1a546908b328ff2ae4bbe9e"
       ],
       "layout": "IPY_MODEL_1587f4923b0c41929162a63270a8b189"
      }
     },
     "321bf098532b4a79b049c9c7ba9fd270": {
      "model_module": "jupyter-js-widgets",
      "model_module_version": "~2.1.4",
      "model_name": "ButtonStyleModel",
      "state": {
       "_model_module_version": "~2.1.4",
       "_view_module_version": "~2.1.4"
      }
     },
     "3274c9d77c6941b7a16c3f355a5dc3e7": {
      "model_module": "jupyter-js-widgets",
      "model_module_version": "~2.1.4",
      "model_name": "VBoxModel",
      "state": {
       "_dom_classes": [
        "widget-interact"
       ],
       "_model_module_version": "~2.1.4",
       "_view_module_version": "~2.1.4",
       "children": [
        "IPY_MODEL_bef95fe83d2b4dacbb05917523779fa3",
        "IPY_MODEL_4be29c4643f840988c3b13e6e34e2ed2",
        "IPY_MODEL_9e4542a8c99a4e48828791be25935f0e"
       ],
       "layout": "IPY_MODEL_551b75911fd1471cbd410d82b1855164"
      }
     },
     "32af6275ee064e9a81e5180965a63722": {
      "model_module": "jupyter-js-widgets",
      "model_module_version": "~2.1.4",
      "model_name": "ButtonStyleModel",
      "state": {
       "_model_module_version": "~2.1.4",
       "_view_module_version": "~2.1.4"
      }
     },
     "33023cc749ce432ca498c27c68f39164": {
      "model_module": "jupyter-js-widgets",
      "model_module_version": "~2.1.4",
      "model_name": "LayoutModel",
      "state": {
       "_model_module_version": "~2.1.4",
       "_view_module_version": "~2.1.4",
       "display": "inline_flex",
       "flex_flow": "column"
      }
     },
     "3308fd6405d44dcea4ff0c8f17fcd777": {
      "model_module": "jupyter-js-widgets",
      "model_module_version": "~2.1.4",
      "model_name": "OutputModel",
      "state": {
       "_dom_classes": [],
       "_model_module": "jupyter-js-widgets",
       "_model_module_version": "~2.1.4",
       "_view_module": "jupyter-js-widgets",
       "_view_module_version": "~2.1.4",
       "layout": "IPY_MODEL_934de4088ac94302b0c55e4cb58176c0",
       "msg_throttle": 1
      }
     },
     "3342260dab9240afba3b4bfcf878a000": {
      "model_module": "jupyter-js-widgets",
      "model_module_version": "~2.1.4",
      "model_name": "ButtonStyleModel",
      "state": {
       "_model_module_version": "~2.1.4",
       "_view_module_version": "~2.1.4"
      }
     },
     "33ab6d554d5346db810c10e531634bf5": {
      "model_module": "jupyter-js-widgets",
      "model_module_version": "~2.1.4",
      "model_name": "ButtonModel",
      "state": {
       "_model_module_version": "~2.1.4",
       "_view_module_version": "~2.1.4",
       "description": "Run Interact",
       "layout": "IPY_MODEL_becff28c3caa4402bf24abc2c6c723fc",
       "style": "IPY_MODEL_f65f58eae50749a2b61a468b00adf72e"
      }
     },
     "33d7d4a03fc7496c957f93ffcc58536c": {
      "model_module": "jupyter-js-widgets",
      "model_module_version": "~2.1.4",
      "model_name": "LayoutModel",
      "state": {
       "_model_module_version": "~2.1.4",
       "_view_module_version": "~2.1.4"
      }
     },
     "3402403a9dad40a595d875bac28b368d": {
      "model_module": "jupyter-js-widgets",
      "model_module_version": "~2.1.4",
      "model_name": "ButtonStyleModel",
      "state": {
       "_model_module_version": "~2.1.4",
       "_view_module_version": "~2.1.4"
      }
     },
     "3410be6845104ae99d491f0a837983ad": {
      "model_module": "jupyter-js-widgets",
      "model_module_version": "~2.1.4",
      "model_name": "ButtonStyleModel",
      "state": {
       "_model_module_version": "~2.1.4",
       "_view_module_version": "~2.1.4"
      }
     },
     "3435c050f44b48cb82f27ace19709733": {
      "model_module": "jupyter-js-widgets",
      "model_module_version": "~2.1.4",
      "model_name": "LayoutModel",
      "state": {
       "_model_module_version": "~2.1.4",
       "_view_module_version": "~2.1.4",
       "display": "inline_flex",
       "flex_flow": "column"
      }
     },
     "3451a4b0efa44115984e12ee8e84ae78": {
      "model_module": "jupyter-js-widgets",
      "model_module_version": "~2.1.4",
      "model_name": "LayoutModel",
      "state": {
       "_model_module_version": "~2.1.4",
       "_view_module_version": "~2.1.4",
       "display": "inline_flex",
       "flex_flow": "column"
      }
     },
     "34528c81266d41959671b0fb04ac37bc": {
      "model_module": "jupyter-js-widgets",
      "model_module_version": "~2.1.4",
      "model_name": "LayoutModel",
      "state": {
       "_model_module_version": "~2.1.4",
       "_view_module_version": "~2.1.4",
       "display": "flex",
       "flex_flow": "column"
      }
     },
     "346e0527dbf742c5ac2804d49be60f6e": {
      "model_module": "jupyter-js-widgets",
      "model_module_version": "~2.1.4",
      "model_name": "LayoutModel",
      "state": {
       "_model_module_version": "~2.1.4",
       "_view_module_version": "~2.1.4"
      }
     },
     "348c48aa952145a7b1b96723a2172339": {
      "model_module": "jupyter-js-widgets",
      "model_module_version": "~2.1.4",
      "model_name": "LayoutModel",
      "state": {
       "_model_module_version": "~2.1.4",
       "_view_module_version": "~2.1.4"
      }
     },
     "34aca24c1ec64a3e846b5aba1fc787b8": {
      "model_module": "jupyter-js-widgets",
      "model_module_version": "~2.1.4",
      "model_name": "LayoutModel",
      "state": {
       "_model_module_version": "~2.1.4",
       "_view_module_version": "~2.1.4"
      }
     },
     "34c4a9f2b1504281befd0954d30b99b1": {
      "model_module": "jupyter-js-widgets",
      "model_module_version": "~2.1.4",
      "model_name": "LayoutModel",
      "state": {
       "_model_module_version": "~2.1.4",
       "_view_module_version": "~2.1.4"
      }
     },
     "34ce473c86614c4a9a9c6a9cfbc7a177": {
      "model_module": "jupyter-js-widgets",
      "model_module_version": "~2.1.4",
      "model_name": "LayoutModel",
      "state": {
       "_model_module_version": "~2.1.4",
       "_view_module_version": "~2.1.4"
      }
     },
     "34e2961b872b4d45b0e928e96a815293": {
      "model_module": "jupyter-js-widgets",
      "model_module_version": "~2.1.4",
      "model_name": "VBoxModel",
      "state": {
       "_dom_classes": [
        "widget-interact"
       ],
       "_model_module_version": "~2.1.4",
       "_view_module_version": "~2.1.4",
       "children": [
        "IPY_MODEL_4b0f5f403ce54cdf942cb383c6a3b03e",
        "IPY_MODEL_b6aa3e68e5f141d9a7de287ceffdabd1",
        "IPY_MODEL_771b89ee99c040bfa12058c5a4e6178a"
       ],
       "layout": "IPY_MODEL_c84bb6366c0a432e87f187cbf382031b"
      }
     },
     "359fc8127e5a4232b91e068814a3d983": {
      "model_module": "jupyter-js-widgets",
      "model_module_version": "~2.1.4",
      "model_name": "SelectMultipleModel",
      "state": {
       "_model_module_version": "~2.1.4",
       "_options_labels": [
        "1995",
        "1996",
        "1997",
        "1998",
        "1999",
        "2000",
        "2001",
        "2002",
        "2003",
        "2004",
        "2005",
        "2006",
        "2007",
        "2008",
        "2009",
        "2010",
        "2011",
        "2012",
        "2013",
        "2014",
        "2015",
        "2016"
       ],
       "_view_module_version": "~2.1.4",
       "description": "Years",
       "layout": "IPY_MODEL_0e749c49fd914093aee1554a147e59cd",
       "value": [
        "1995",
        "1996",
        "1997",
        "1998",
        "1999",
        "2000",
        "2001",
        "2002",
        "2003",
        "2004",
        "2005",
        "2006",
        "2007",
        "2008",
        "2009",
        "2010",
        "2011",
        "2012",
        "2013",
        "2014",
        "2015",
        "2016"
       ]
      }
     },
     "35ad5c4c24054dc8a1b69bb6cf448a1e": {
      "model_module": "jupyter-js-widgets",
      "model_module_version": "~2.1.4",
      "model_name": "OutputModel",
      "state": {
       "_dom_classes": [],
       "_model_module": "jupyter-js-widgets",
       "_model_module_version": "~2.1.4",
       "_view_module": "jupyter-js-widgets",
       "_view_module_version": "~2.1.4",
       "layout": "IPY_MODEL_919099bf3e8d4e3398deeba40be0749d",
       "msg_throttle": 1
      }
     },
     "35b1c39f8bf741eda83acb744acb515e": {
      "model_module": "jupyter-js-widgets",
      "model_module_version": "~2.1.4",
      "model_name": "LayoutModel",
      "state": {
       "_model_module_version": "~2.1.4",
       "_view_module_version": "~2.1.4"
      }
     },
     "35ce297ea8ba43ee884071042744535a": {
      "model_module": "jupyter-js-widgets",
      "model_module_version": "~2.1.4",
      "model_name": "DropdownModel",
      "state": {
       "_model_module_version": "~2.1.4",
       "_options_labels": [
        "Ashfield",
        "Auburn",
        "Bankstown",
        "Blacktown",
        "Blue Mountains",
        "Botany Bay",
        "Burwood",
        "Camden",
        "Campbelltown",
        "Canada Bay",
        "Canterbury",
        "Fairfield",
        "Gosford",
        "Hawkesbury",
        "Holroyd",
        "Hornsby",
        "Hunters Hill",
        "Hurstville",
        "Kogarah",
        "Ku-ring-gai",
        "Lane Cove",
        "Leichhardt",
        "Liverpool",
        "Manly",
        "Marrickville",
        "Mosman",
        "North Sydney",
        "Parramatta",
        "Penrith",
        "Pittwater",
        "Randwick",
        "Rockdale",
        "Ryde",
        "Strathfield",
        "Sutherland Shire",
        "Sydney",
        "The Hills Shire",
        "Warringah",
        "Waverley",
        "Willoughby",
        "Wollondilly",
        "Woollahra",
        "Wyong"
       ],
       "_view_module_version": "~2.1.4",
       "description": "LGA1",
       "layout": "IPY_MODEL_07b3012fddb14e3eaa6e0a260a1536d9",
       "value": "Leichhardt"
      }
     },
     "36487d2f9b0447008ea865263b5c8ee6": {
      "model_module": "jupyter-js-widgets",
      "model_module_version": "~2.1.4",
      "model_name": "ButtonModel",
      "state": {
       "_model_module_version": "~2.1.4",
       "_view_module_version": "~2.1.4",
       "description": "Run Interact",
       "layout": "IPY_MODEL_4b2fdb00ef134393a7b8e06a8697a23e",
       "style": "IPY_MODEL_0d6ed70b4bc441599f41806d839ac9cd"
      }
     },
     "36839760b3374a13bc61f3606133c843": {
      "model_module": "jupyter-js-widgets",
      "model_module_version": "~2.1.4",
      "model_name": "OutputModel",
      "state": {
       "_dom_classes": [],
       "_model_module": "jupyter-js-widgets",
       "_model_module_version": "~2.1.4",
       "_view_module": "jupyter-js-widgets",
       "_view_module_version": "~2.1.4",
       "layout": "IPY_MODEL_c16ecbe63f8a434c87c27451184f8c69",
       "msg_throttle": 1
      }
     },
     "369048ba4f8a4319892f65accb174c33": {
      "model_module": "jupyter-js-widgets",
      "model_module_version": "~2.1.4",
      "model_name": "VBoxModel",
      "state": {
       "_dom_classes": [
        "widget-interact"
       ],
       "_model_module_version": "~2.1.4",
       "_view_module_version": "~2.1.4",
       "children": [
        "IPY_MODEL_b1909e2c2bb5475d83d9894a081b4c47",
        "IPY_MODEL_3105c4cc1d7240509a86bd28ebb7d1b5",
        "IPY_MODEL_1eab5aa6b0db49af97bdabe29b386d1e",
        "IPY_MODEL_8a30546976d84011955defc6459e12e4",
        "IPY_MODEL_2a68939b9c0c47ec859c467b7dbca79d"
       ],
       "layout": "IPY_MODEL_4b96ccf187aa451594657f3a1075e561"
      }
     },
     "3696843c4b894383b8d69e010c487ab7": {
      "model_module": "jupyter-js-widgets",
      "model_module_version": "~2.1.4",
      "model_name": "VBoxModel",
      "state": {
       "_dom_classes": [
        "widget-interact"
       ],
       "_model_module_version": "~2.1.4",
       "_view_module_version": "~2.1.4",
       "children": [
        "IPY_MODEL_8d9d9162e0bd450ba49376fd6728d21d",
        "IPY_MODEL_4f130156e28140648ed765967667a1b7",
        "IPY_MODEL_1539f0626e9b4f6a9ee7bd6a639813bb"
       ],
       "layout": "IPY_MODEL_a41237ac97594c979383f8e19d2991be"
      }
     },
     "36b4196008704859827c0722f27e378e": {
      "model_module": "jupyter-js-widgets",
      "model_module_version": "~2.1.4",
      "model_name": "LayoutModel",
      "state": {
       "_model_module_version": "~2.1.4",
       "_view_module_version": "~2.1.4"
      }
     },
     "36f1b4cd43954afe9284b8e214c2d074": {
      "model_module": "jupyter-js-widgets",
      "model_module_version": "~2.1.4",
      "model_name": "RadioButtonsModel",
      "state": {
       "_model_module_version": "~2.1.4",
       "_options_labels": [
        "sum_median_rank",
        "sum_mean_rank",
        "adj_median_rank",
        "adj_mean_rank"
       ],
       "_view_module_version": "~2.1.4",
       "description": "Sorting Order:",
       "layout": "IPY_MODEL_72646f66def144c9848adab167465774",
       "value": "adj_mean_rank"
      }
     },
     "37087313b261400684e0a1e8e3a0f92a": {
      "model_module": "jupyter-js-widgets",
      "model_module_version": "~2.1.4",
      "model_name": "ButtonStyleModel",
      "state": {
       "_model_module_version": "~2.1.4",
       "_view_module_version": "~2.1.4"
      }
     },
     "3725acf4af7a4c0e9fde0aaab8116637": {
      "model_module": "jupyter-js-widgets",
      "model_module_version": "~2.1.4",
      "model_name": "ButtonModel",
      "state": {
       "_model_module_version": "~2.1.4",
       "_view_module_version": "~2.1.4",
       "description": "Run Interact",
       "layout": "IPY_MODEL_88071f74efec47b5b83470b7f5980233",
       "style": "IPY_MODEL_891ea168efd14f85b6e40eaccb343ad3"
      }
     },
     "376289ed04c44edf94917cc745b2ec11": {
      "model_module": "jupyter-js-widgets",
      "model_module_version": "~2.1.4",
      "model_name": "ButtonModel",
      "state": {
       "_model_module_version": "~2.1.4",
       "_view_module_version": "~2.1.4",
       "description": "Run Interact",
       "layout": "IPY_MODEL_c8650007553f40b69d8024885ae60305",
       "style": "IPY_MODEL_37087313b261400684e0a1e8e3a0f92a"
      }
     },
     "37af4a6f07c1410eb3496aabdc77a959": {
      "model_module": "jupyter-js-widgets",
      "model_module_version": "~2.1.4",
      "model_name": "ButtonModel",
      "state": {
       "_model_module_version": "~2.1.4",
       "_view_module_version": "~2.1.4",
       "description": "Run Interact",
       "layout": "IPY_MODEL_ab62ae13aa224cc1927b136f80b355a0",
       "style": "IPY_MODEL_ed03de46cc6c4c5cbf1398163094c647"
      }
     },
     "37df516694f74284b1daceaf0ceb801f": {
      "model_module": "jupyter-js-widgets",
      "model_module_version": "~2.1.4",
      "model_name": "VBoxModel",
      "state": {
       "_dom_classes": [
        "widget-interact"
       ],
       "_model_module_version": "~2.1.4",
       "_view_module_version": "~2.1.4",
       "children": [
        "IPY_MODEL_8e381cbe1ccc43d6bf7461a56a158dec",
        "IPY_MODEL_e65a6f5442f14278bbc51c01e4b77d11",
        "IPY_MODEL_8bfda329338b4351a2f435e4d3e8c147"
       ],
       "layout": "IPY_MODEL_e9451a79e09841fda8135888865b864c"
      }
     },
     "37e4d738f40040c8b8303245618fd27f": {
      "model_module": "jupyter-js-widgets",
      "model_module_version": "~2.1.4",
      "model_name": "ButtonStyleModel",
      "state": {
       "_model_module_version": "~2.1.4",
       "_view_module_version": "~2.1.4"
      }
     },
     "386732dd9eba4d89bc1eca816daf90db": {
      "model_module": "jupyter-js-widgets",
      "model_module_version": "~2.1.4",
      "model_name": "LayoutModel",
      "state": {
       "_model_module_version": "~2.1.4",
       "_view_module_version": "~2.1.4"
      }
     },
     "38daae89def24a5fa121a953618247e7": {
      "model_module": "jupyter-js-widgets",
      "model_module_version": "~2.1.4",
      "model_name": "ButtonModel",
      "state": {
       "_model_module_version": "~2.1.4",
       "_view_module_version": "~2.1.4",
       "description": "Run Interact",
       "layout": "IPY_MODEL_fe627c2560534b9ca099bec85c909f9e",
       "style": "IPY_MODEL_8ea70e9acfe0485bb83c42ed20fa8b77"
      }
     },
     "38ff3544ca4846279d2cbadfc294299a": {
      "model_module": "jupyter-js-widgets",
      "model_module_version": "~2.1.4",
      "model_name": "OutputModel",
      "state": {
       "_dom_classes": [],
       "_model_module": "jupyter-js-widgets",
       "_model_module_version": "~2.1.4",
       "_view_module": "jupyter-js-widgets",
       "_view_module_version": "~2.1.4",
       "layout": "IPY_MODEL_d62c15e327714c49beb2216b050c9ab4",
       "msg_throttle": 1
      }
     },
     "390d33838020480983c21684b84647ae": {
      "model_module": "jupyter-js-widgets",
      "model_module_version": "~2.1.4",
      "model_name": "ButtonModel",
      "state": {
       "_model_module_version": "~2.1.4",
       "_view_module_version": "~2.1.4",
       "description": "Run Interact",
       "layout": "IPY_MODEL_ec2e1427f9234f869e7d4c42ea478842",
       "style": "IPY_MODEL_7196950300d84fe3ada0c0c27d2e0518"
      }
     },
     "3911692340824f4580ed9ecc44b6220e": {
      "model_module": "jupyter-js-widgets",
      "model_module_version": "~2.1.4",
      "model_name": "LayoutModel",
      "state": {
       "_model_module_version": "~2.1.4",
       "_view_module_version": "~2.1.4",
       "display": "inline_flex",
       "flex_flow": "column"
      }
     },
     "39776fb71ab949bca30548de5996f3fe": {
      "model_module": "jupyter-js-widgets",
      "model_module_version": "~2.1.4",
      "model_name": "LayoutModel",
      "state": {
       "_model_module_version": "~2.1.4",
       "_view_module_version": "~2.1.4"
      }
     },
     "39c523f4aa9643b58a554f48831d8eb5": {
      "model_module": "jupyter-js-widgets",
      "model_module_version": "~2.1.4",
      "model_name": "LayoutModel",
      "state": {
       "_model_module_version": "~2.1.4",
       "_view_module_version": "~2.1.4"
      }
     },
     "39febcf1cca84efc9d41a1c398f5efd8": {
      "model_module": "jupyter-js-widgets",
      "model_module_version": "~2.1.4",
      "model_name": "ButtonModel",
      "state": {
       "_model_module_version": "~2.1.4",
       "_view_module_version": "~2.1.4",
       "description": "Run Interact",
       "layout": "IPY_MODEL_80abc1777beb492f801267e4362f0a30",
       "style": "IPY_MODEL_b76b3f76743c41588fd0b3683bdc2fe6"
      }
     },
     "3a2aab6c6c1644b39c3e78c164f70f9b": {
      "model_module": "jupyter-js-widgets",
      "model_module_version": "~2.1.4",
      "model_name": "LayoutModel",
      "state": {
       "_model_module_version": "~2.1.4",
       "_view_module_version": "~2.1.4"
      }
     },
     "3a52c084adef49ee9ee3a5c9ee8b40f9": {
      "model_module": "jupyter-js-widgets",
      "model_module_version": "~2.1.4",
      "model_name": "LayoutModel",
      "state": {
       "_model_module_version": "~2.1.4",
       "_view_module_version": "~2.1.4"
      }
     },
     "3a920583240a4095b4a4899d209f7e27": {
      "model_module": "jupyter-js-widgets",
      "model_module_version": "~2.1.4",
      "model_name": "ButtonStyleModel",
      "state": {
       "_model_module_version": "~2.1.4",
       "_view_module_version": "~2.1.4"
      }
     },
     "3a942ec03d894b25b3853cfe6f05a5c2": {
      "model_module": "jupyter-js-widgets",
      "model_module_version": "~2.1.4",
      "model_name": "LayoutModel",
      "state": {
       "_model_module_version": "~2.1.4",
       "_view_module_version": "~2.1.4"
      }
     },
     "3acd58a854894e6c8db663815024a77b": {
      "model_module": "jupyter-js-widgets",
      "model_module_version": "~2.1.4",
      "model_name": "DropdownModel",
      "state": {
       "_model_module_version": "~2.1.4",
       "_options_labels": [
        "All",
        "GreaterSydney",
        "RegionalNSW"
       ],
       "_view_module_version": "~2.1.4",
       "description": "LGAs:",
       "layout": "IPY_MODEL_16c2f90170f54fef82597e6024b11347",
       "value": "All"
      }
     },
     "3afa68ddbad94d00b2b45f2862a4ee04": {
      "model_module": "jupyter-js-widgets",
      "model_module_version": "~2.1.4",
      "model_name": "RadioButtonsModel",
      "state": {
       "_model_module_version": "~2.1.4",
       "_options_labels": [
        "sum_median_rank",
        "sum_mean_rank",
        "adj_median_rank",
        "adj_mean_rank"
       ],
       "_view_module_version": "~2.1.4",
       "description": "Sorting Order:",
       "layout": "IPY_MODEL_9510d68eaede46a89ee65fb498d1d8a6",
       "value": "adj_mean_rank"
      }
     },
     "3b85659a0e0b485eaa82bb91190d7268": {
      "model_module": "jupyter-js-widgets",
      "model_module_version": "~2.1.4",
      "model_name": "VBoxModel",
      "state": {
       "_dom_classes": [
        "widget-interact"
       ],
       "_model_module_version": "~2.1.4",
       "_view_module_version": "~2.1.4",
       "children": [
        "IPY_MODEL_36f1b4cd43954afe9284b8e214c2d074",
        "IPY_MODEL_d1bd84f86e0e47a5871d30144fc436c6",
        "IPY_MODEL_a79f65344b1342f99a74d78bc29b63bf"
       ],
       "layout": "IPY_MODEL_d6deb4bdb1a24243988693e3d990813a"
      }
     },
     "3c5f127375df4b9b8d34cb329f180e5b": {
      "model_module": "jupyter-js-widgets",
      "model_module_version": "~2.1.4",
      "model_name": "LayoutModel",
      "state": {
       "_model_module_version": "~2.1.4",
       "_view_module_version": "~2.1.4"
      }
     },
     "3c763889d41649be81dda58ad60fc8ff": {
      "model_module": "jupyter-js-widgets",
      "model_module_version": "~2.1.4",
      "model_name": "ButtonModel",
      "state": {
       "_model_module_version": "~2.1.4",
       "_view_module_version": "~2.1.4",
       "description": "Run Interact",
       "layout": "IPY_MODEL_64ce21c7996345e7bda4435ffc617f2c",
       "style": "IPY_MODEL_4f6a724b2d5141dba58574a856636769"
      }
     },
     "3cca404676d643479fe73ef043d301f6": {
      "model_module": "jupyter-js-widgets",
      "model_module_version": "~2.1.4",
      "model_name": "LayoutModel",
      "state": {
       "_model_module_version": "~2.1.4",
       "_view_module_version": "~2.1.4"
      }
     },
     "3d4ca2705c234dfcbadec7eed815145f": {
      "model_module": "jupyter-js-widgets",
      "model_module_version": "~2.1.4",
      "model_name": "OutputModel",
      "state": {
       "_dom_classes": [],
       "_model_module": "jupyter-js-widgets",
       "_model_module_version": "~2.1.4",
       "_view_module": "jupyter-js-widgets",
       "_view_module_version": "~2.1.4",
       "layout": "IPY_MODEL_4b98295ddca548269619ffff29deabae",
       "msg_throttle": 1
      }
     },
     "3e23280f856242cbab8cdeae19025e9c": {
      "model_module": "jupyter-js-widgets",
      "model_module_version": "~2.1.4",
      "model_name": "LayoutModel",
      "state": {
       "_model_module_version": "~2.1.4",
       "_view_module_version": "~2.1.4"
      }
     },
     "3ea0d999633d4c27a58d8f1e0d9f3eb0": {
      "model_module": "jupyter-js-widgets",
      "model_module_version": "~2.1.4",
      "model_name": "ButtonStyleModel",
      "state": {
       "_model_module_version": "~2.1.4",
       "_view_module_version": "~2.1.4"
      }
     },
     "3efa3e2024824c60be21b34c6ea1092f": {
      "model_module": "jupyter-js-widgets",
      "model_module_version": "~2.1.4",
      "model_name": "VBoxModel",
      "state": {
       "_dom_classes": [
        "widget-interact"
       ],
       "_model_module_version": "~2.1.4",
       "_view_module_version": "~2.1.4",
       "children": [
        "IPY_MODEL_b1909e2c2bb5475d83d9894a081b4c47",
        "IPY_MODEL_3105c4cc1d7240509a86bd28ebb7d1b5",
        "IPY_MODEL_1eab5aa6b0db49af97bdabe29b386d1e",
        "IPY_MODEL_0651acdd3c97475a90bcd832c8256522",
        "IPY_MODEL_4d52240831f041c59ecaa8a076622853"
       ],
       "layout": "IPY_MODEL_8c5cb3e07db64525b6baa1cce17c01db"
      }
     },
     "3f01e373ae2545b7afed8e8a9408cea1": {
      "model_module": "jupyter-js-widgets",
      "model_module_version": "~2.1.4",
      "model_name": "ButtonStyleModel",
      "state": {
       "_model_module_version": "~2.1.4",
       "_view_module_version": "~2.1.4"
      }
     },
     "3f510b4c1b5b45bf8605f31ea8995982": {
      "model_module": "jupyter-js-widgets",
      "model_module_version": "~2.1.4",
      "model_name": "VBoxModel",
      "state": {
       "_dom_classes": [
        "widget-interact"
       ],
       "_model_module_version": "~2.1.4",
       "_view_module_version": "~2.1.4",
       "children": [
        "IPY_MODEL_16f2d025c12a4c85b3c4557c9eb79b16",
        "IPY_MODEL_0be6df0c6e79469a80c5d5f0a2b48b61",
        "IPY_MODEL_72ae7a16d17b45a7a98eea4e2fbacbff",
        "IPY_MODEL_46423440ae2a41a7acfc50b02b38aca1"
       ],
       "layout": "IPY_MODEL_81595180e0504850a2d893c40dbfeb56"
      }
     },
     "3f784fb2af97410ca846583aeb79edcf": {
      "model_module": "jupyter-js-widgets",
      "model_module_version": "~2.1.4",
      "model_name": "SelectMultipleModel",
      "state": {
       "_model_module_version": "~2.1.4",
       "_options_labels": [
        "Homicide",
        "Assault",
        "Sexual offences",
        "Other offences against the person",
        "Robbery",
        "Property offences",
        "Drug Possession",
        "Drug Dealing",
        "Vice",
        "Weapons offences",
        "Other offences"
       ],
       "_view_module_version": "~2.1.4",
       "description": "Categories",
       "layout": "IPY_MODEL_066f60c64172413db6f4e8d64081082b",
       "value": [
        "Homicide",
        "Assault",
        "Sexual offences",
        "Other offences against the person",
        "Robbery",
        "Property offences",
        "Drug Possession",
        "Drug Dealing",
        "Vice",
        "Weapons offences",
        "Other offences"
       ]
      }
     },
     "403828e4a8994d50a0d56d11cd0c7b5b": {
      "model_module": "jupyter-js-widgets",
      "model_module_version": "~2.1.4",
      "model_name": "SelectMultipleModel",
      "state": {
       "_model_module_version": "~2.1.4",
       "_options_labels": [
        "Homicide",
        "Assault",
        "Sexual offences",
        "Other offences against the person",
        "Robbery",
        "Property offences",
        "Drug Possession",
        "Drug Dealing",
        "Vice",
        "Weapons offences",
        "Other offences"
       ],
       "_view_module_version": "~2.1.4",
       "description": "Categories",
       "layout": "IPY_MODEL_a4bb0e54655345548326fd86d248fdcd",
       "value": [
        "Homicide",
        "Assault",
        "Sexual offences",
        "Other offences against the person",
        "Robbery",
        "Property offences",
        "Drug Possession",
        "Drug Dealing",
        "Vice",
        "Weapons offences",
        "Other offences"
       ]
      }
     },
     "403f958f88284413bb27a68b21d4bd72": {
      "model_module": "jupyter-js-widgets",
      "model_module_version": "~2.1.4",
      "model_name": "OutputModel",
      "state": {
       "_dom_classes": [],
       "_model_module": "jupyter-js-widgets",
       "_model_module_version": "~2.1.4",
       "_view_module": "jupyter-js-widgets",
       "_view_module_version": "~2.1.4",
       "layout": "IPY_MODEL_fb38263c93e143f9801000252f7207ea",
       "msg_throttle": 1
      }
     },
     "40947bb5c40842a1b78d53592aa63089": {
      "model_module": "jupyter-js-widgets",
      "model_module_version": "~2.1.4",
      "model_name": "LayoutModel",
      "state": {
       "_model_module_version": "~2.1.4",
       "_view_module_version": "~2.1.4"
      }
     },
     "40c043136019467fab7680746c1ff710": {
      "model_module": "jupyter-js-widgets",
      "model_module_version": "~2.1.4",
      "model_name": "RadioButtonsModel",
      "state": {
       "_model_module_version": "~2.1.4",
       "_options_labels": [
        "sum_median_rank",
        "sum_mean_rank",
        "adj_median_rank",
        "adj_mean_rank"
       ],
       "_view_module_version": "~2.1.4",
       "description": "Sorting Order:",
       "layout": "IPY_MODEL_90ae4c96f0bd4841b117c09600e8a19e",
       "value": "adj_mean_rank"
      }
     },
     "4146aa3d3e3e47aa8ac223e994620a49": {
      "model_module": "jupyter-js-widgets",
      "model_module_version": "~2.1.4",
      "model_name": "VBoxModel",
      "state": {
       "_dom_classes": [
        "widget-interact"
       ],
       "_model_module_version": "~2.1.4",
       "_view_module_version": "~2.1.4",
       "children": [
        "IPY_MODEL_0662582b43024d88bf7408550e05b662",
        "IPY_MODEL_24c14e5d9817406a91906f07b1a9c235",
        "IPY_MODEL_e058a37baa39449fa7c06816a436260e"
       ],
       "layout": "IPY_MODEL_7d735bc615734eeda045837ae957b1da"
      }
     },
     "4189c64aa4cf4864bd25abcb5a019b16": {
      "model_module": "jupyter-js-widgets",
      "model_module_version": "~2.1.4",
      "model_name": "VBoxModel",
      "state": {
       "_dom_classes": [
        "widget-interact"
       ],
       "_model_module_version": "~2.1.4",
       "_view_module_version": "~2.1.4",
       "children": [
        "IPY_MODEL_127d57eca6054f269da1640608d4ddb4",
        "IPY_MODEL_a32b1879711f458295d8c032580bbafc",
        "IPY_MODEL_72c2e0ccc2a246649f7460a73bf62bcc"
       ],
       "layout": "IPY_MODEL_b1c160415e1e46f18cc7cc2dc4d48982"
      }
     },
     "419b74a27d3b446280c20d602f8cad4c": {
      "model_module": "jupyter-js-widgets",
      "model_module_version": "~2.1.4",
      "model_name": "LayoutModel",
      "state": {
       "_model_module_version": "~2.1.4",
       "_view_module_version": "~2.1.4"
      }
     },
     "432c0b7d85e7444080efe6086e7d347b": {
      "model_module": "jupyter-js-widgets",
      "model_module_version": "~2.1.4",
      "model_name": "SelectMultipleModel",
      "state": {
       "_model_module_version": "~2.1.4",
       "_options_labels": [
        "1995",
        "1996",
        "1997",
        "1998",
        "1999",
        "2000",
        "2001",
        "2002",
        "2003",
        "2004",
        "2005",
        "2006",
        "2007",
        "2008",
        "2009",
        "2010",
        "2011",
        "2012",
        "2013",
        "2014",
        "2015",
        "2016"
       ],
       "_view_module_version": "~2.1.4",
       "description": "Years",
       "layout": "IPY_MODEL_bc9e58bf8f3d4dd1b0ccb925703f8614",
       "value": [
        "2012",
        "2013",
        "2014",
        "2015",
        "2016"
       ]
      }
     },
     "432fa2aaec7e4a0bac04a98e65dc1178": {
      "model_module": "jupyter-js-widgets",
      "model_module_version": "~2.1.4",
      "model_name": "LayoutModel",
      "state": {
       "_model_module_version": "~2.1.4",
       "_view_module_version": "~2.1.4"
      }
     },
     "4364f2eed8134e44b2bec08b8eb21cdf": {
      "model_module": "jupyter-js-widgets",
      "model_module_version": "~2.1.4",
      "model_name": "LayoutModel",
      "state": {
       "_model_module_version": "~2.1.4",
       "_view_module_version": "~2.1.4",
       "display": "inline_flex",
       "flex_flow": "column"
      }
     },
     "43877d57b0994802a762028c4ee2ab5c": {
      "model_module": "jupyter-js-widgets",
      "model_module_version": "~2.1.4",
      "model_name": "LayoutModel",
      "state": {
       "_model_module_version": "~2.1.4",
       "_view_module_version": "~2.1.4"
      }
     },
     "439e3a04f476460ba1dd6c22469dfd80": {
      "model_module": "jupyter-js-widgets",
      "model_module_version": "~2.1.4",
      "model_name": "SelectMultipleModel",
      "state": {
       "_model_module_version": "~2.1.4",
       "_options_labels": [
        "Ashfield",
        "Auburn",
        "Bankstown",
        "Blacktown",
        "Blue Mountains",
        "Botany Bay",
        "Burwood",
        "Camden",
        "Campbelltown",
        "Canada Bay",
        "Canterbury",
        "Fairfield",
        "Gosford",
        "Hawkesbury",
        "Holroyd",
        "Hornsby",
        "Hunters Hill",
        "Hurstville",
        "Kogarah",
        "Ku-ring-gai",
        "Lane Cove",
        "Leichhardt",
        "Liverpool",
        "Manly",
        "Marrickville",
        "Mosman",
        "North Sydney",
        "Parramatta",
        "Penrith",
        "Pittwater",
        "Randwick",
        "Rockdale",
        "Ryde",
        "Strathfield",
        "Sutherland Shire",
        "Sydney",
        "The Hills Shire",
        "Warringah",
        "Waverley",
        "Willoughby",
        "Wollondilly",
        "Woollahra",
        "Wyong"
       ],
       "_view_module_version": "~2.1.4",
       "description": "LGA",
       "layout": "IPY_MODEL_83eb536a8e12479a90aa299ecae8fe7e",
       "value": [
        "Auburn",
        "Bankstown",
        "Blacktown",
        "Botany Bay",
        "Campbelltown",
        "Kogarah",
        "Ku-ring-gai",
        "Lane Cove",
        "Mosman",
        "North Sydney",
        "Sydney"
       ]
      }
     },
     "43b4722dad204cc4ad4297016e37cd26": {
      "model_module": "jupyter-js-widgets",
      "model_module_version": "~2.1.4",
      "model_name": "ButtonStyleModel",
      "state": {
       "_model_module_version": "~2.1.4",
       "_view_module_version": "~2.1.4"
      }
     },
     "44094f543c2b4eaa840353595f940fef": {
      "model_module": "jupyter-js-widgets",
      "model_module_version": "~2.1.4",
      "model_name": "OutputModel",
      "state": {
       "_dom_classes": [],
       "_model_module": "jupyter-js-widgets",
       "_model_module_version": "~2.1.4",
       "_view_module": "jupyter-js-widgets",
       "_view_module_version": "~2.1.4",
       "layout": "IPY_MODEL_a510f146eee74b0c86d7f3b93039a85d",
       "msg_throttle": 1
      }
     },
     "445276b58f864712b29d0e3a1df84758": {
      "model_module": "jupyter-js-widgets",
      "model_module_version": "~2.1.4",
      "model_name": "DropdownModel",
      "state": {
       "_model_module_version": "~2.1.4",
       "_options_labels": [
        "Albury",
        "Armidale Dumaresq",
        "Ashfield",
        "Auburn",
        "Ballina",
        "Balranald",
        "Bankstown",
        "Bathurst Regional",
        "Bega Valley",
        "Bellingen",
        "Berrigan",
        "Blacktown",
        "Bland",
        "Blayney",
        "Blue Mountains",
        "Bogan",
        "Bombala",
        "Boorowa",
        "Botany Bay",
        "Bourke",
        "Brewarrina",
        "Broken Hill",
        "Burwood",
        "Byron",
        "Cabonne",
        "Camden",
        "Campbelltown",
        "Canada Bay",
        "Canterbury",
        "Carrathool",
        "Central Darling",
        "Cessnock",
        "Clarence Valley",
        "Cobar",
        "Coffs Harbour",
        "Conargo",
        "Coolamon",
        "Cooma-Monaro",
        "Coonamble",
        "Cootamundra",
        "Corowa Shire",
        "Cowra",
        "Deniliquin",
        "Dubbo",
        "Dungog",
        "Eurobodalla",
        "Fairfield",
        "Forbes",
        "Gilgandra",
        "Glen Innes Severn",
        "Gloucester",
        "Gosford",
        "Goulburn Mulwaree",
        "Great Lakes",
        "Greater Hume Shire",
        "Greater Taree",
        "Griffith",
        "Gundagai",
        "Gunnedah",
        "Guyra",
        "Gwydir",
        "Harden",
        "Hawkesbury",
        "Hay",
        "Holroyd",
        "Hornsby",
        "Hunters Hill",
        "Hurstville",
        "Inverell",
        "Jerilderie",
        "Junee",
        "Kempsey",
        "Kiama",
        "Kogarah",
        "Ku-ring-gai",
        "Kyogle",
        "Lachlan",
        "Lake Macquarie",
        "Lane Cove",
        "Leeton",
        "Leichhardt",
        "Lismore",
        "Lithgow",
        "Liverpool",
        "Liverpool Plains",
        "Lockhart",
        "Maitland",
        "Manly",
        "Marrickville",
        "Mid-Western Regional",
        "Moree Plains",
        "Mosman",
        "Murray",
        "Murrumbidgee",
        "Muswellbrook",
        "Nambucca",
        "Narrabri",
        "Narrandera",
        "Narromine",
        "Newcastle",
        "North Sydney",
        "Oberon",
        "Orange",
        "Palerang",
        "Parkes",
        "Parramatta",
        "Penrith",
        "Pittwater",
        "Port Macquarie-Hastings",
        "Port Stephens",
        "Queanbeyan",
        "Randwick",
        "Richmond Valley",
        "Rockdale",
        "Ryde",
        "Shellharbour",
        "Shoalhaven",
        "Singleton",
        "Snowy River",
        "Strathfield",
        "Sutherland Shire",
        "Sydney",
        "Tamworth Regional",
        "Temora",
        "Tenterfield",
        "The Hills Shire",
        "Tumbarumba",
        "Tumut Shire",
        "Tweed",
        "Unincorporated Far West",
        "Upper Hunter Shire",
        "Upper Lachlan Shire",
        "Uralla",
        "Urana",
        "Wagga Wagga",
        "Wakool",
        "Walcha",
        "Walgett",
        "Warren",
        "Warringah",
        "Warrumbungle Shire",
        "Waverley",
        "Weddin",
        "Wellington",
        "Wentworth",
        "Willoughby",
        "Wingecarribee",
        "Wollondilly",
        "Wollongong",
        "Woollahra",
        "Wyong",
        "Yass Valley",
        "Young"
       ],
       "_view_module_version": "~2.1.4",
       "description": "LGA2",
       "layout": "IPY_MODEL_1119a2f50af14d829105ea767424742f",
       "value": "Lane Cove"
      }
     },
     "44ec6c61e6af4d5181af5fe2bb569a24": {
      "model_module": "jupyter-js-widgets",
      "model_module_version": "~2.1.4",
      "model_name": "LayoutModel",
      "state": {
       "_model_module_version": "~2.1.4",
       "_view_module_version": "~2.1.4",
       "display": "inline_flex",
       "flex_flow": "column"
      }
     },
     "46423440ae2a41a7acfc50b02b38aca1": {
      "model_module": "jupyter-js-widgets",
      "model_module_version": "~2.1.4",
      "model_name": "OutputModel",
      "state": {
       "_dom_classes": [],
       "_model_module": "jupyter-js-widgets",
       "_model_module_version": "~2.1.4",
       "_view_module": "jupyter-js-widgets",
       "_view_module_version": "~2.1.4",
       "layout": "IPY_MODEL_e52c0c5ed484430ea0006a2a56ec213d",
       "msg_throttle": 1
      }
     },
     "46479798eef94d43af184954d907bb66": {
      "model_module": "jupyter-js-widgets",
      "model_module_version": "~2.1.4",
      "model_name": "ButtonStyleModel",
      "state": {
       "_model_module_version": "~2.1.4",
       "_view_module_version": "~2.1.4"
      }
     },
     "46491dc532a3427a8bfae18d5b0e74a9": {
      "model_module": "jupyter-js-widgets",
      "model_module_version": "~2.1.4",
      "model_name": "LayoutModel",
      "state": {
       "_model_module_version": "~2.1.4",
       "_view_module_version": "~2.1.4",
       "display": "inline_flex",
       "flex_flow": "column"
      }
     },
     "46a72a7b3ff6492b9e81d0eded947f5b": {
      "model_module": "jupyter-js-widgets",
      "model_module_version": "~2.1.4",
      "model_name": "OutputModel",
      "state": {
       "_dom_classes": [],
       "_model_module": "jupyter-js-widgets",
       "_model_module_version": "~2.1.4",
       "_view_module": "jupyter-js-widgets",
       "_view_module_version": "~2.1.4",
       "layout": "IPY_MODEL_34c4a9f2b1504281befd0954d30b99b1",
       "msg_throttle": 1
      }
     },
     "46deb35a867d4be78b24f145388c883b": {
      "model_module": "jupyter-js-widgets",
      "model_module_version": "~2.1.4",
      "model_name": "LayoutModel",
      "state": {
       "_model_module_version": "~2.1.4",
       "_view_module_version": "~2.1.4"
      }
     },
     "46e92a0847c14ce1910e13a6e5f3041b": {
      "model_module": "jupyter-js-widgets",
      "model_module_version": "~2.1.4",
      "model_name": "ButtonStyleModel",
      "state": {
       "_model_module_version": "~2.1.4",
       "_view_module_version": "~2.1.4"
      }
     },
     "470703628a8941dc903e11d2d6d92fb9": {
      "model_module": "jupyter-js-widgets",
      "model_module_version": "~2.1.4",
      "model_name": "DropdownModel",
      "state": {
       "_model_module_version": "~2.1.4",
       "_options_labels": [
        "Albury",
        "Armidale Dumaresq",
        "Ashfield",
        "Auburn",
        "Ballina",
        "Balranald",
        "Bankstown",
        "Bathurst Regional",
        "Bega Valley",
        "Bellingen",
        "Berrigan",
        "Blacktown",
        "Bland",
        "Blayney",
        "Blue Mountains",
        "Bogan",
        "Bombala",
        "Boorowa",
        "Botany Bay",
        "Bourke",
        "Brewarrina",
        "Broken Hill",
        "Burwood",
        "Byron",
        "Cabonne",
        "Camden",
        "Campbelltown",
        "Canada Bay",
        "Canterbury",
        "Carrathool",
        "Central Darling",
        "Cessnock",
        "Clarence Valley",
        "Cobar",
        "Coffs Harbour",
        "Conargo",
        "Coolamon",
        "Cooma-Monaro",
        "Coonamble",
        "Cootamundra",
        "Corowa Shire",
        "Cowra",
        "Deniliquin",
        "Dubbo",
        "Dungog",
        "Eurobodalla",
        "Fairfield",
        "Forbes",
        "Gilgandra",
        "Glen Innes Severn",
        "Gloucester",
        "Gosford",
        "Goulburn Mulwaree",
        "Great Lakes",
        "Greater Hume Shire",
        "Greater Taree",
        "Griffith",
        "Gundagai",
        "Gunnedah",
        "Guyra",
        "Gwydir",
        "Harden",
        "Hawkesbury",
        "Hay",
        "Holroyd",
        "Hornsby",
        "Hunters Hill",
        "Hurstville",
        "Inverell",
        "Jerilderie",
        "Junee",
        "Kempsey",
        "Kiama",
        "Kogarah",
        "Ku-ring-gai",
        "Kyogle",
        "Lachlan",
        "Lake Macquarie",
        "Lane Cove",
        "Leeton",
        "Leichhardt",
        "Lismore",
        "Lithgow",
        "Liverpool",
        "Liverpool Plains",
        "Lockhart",
        "Maitland",
        "Manly",
        "Marrickville",
        "Mid-Western Regional",
        "Moree Plains",
        "Mosman",
        "Murray",
        "Murrumbidgee",
        "Muswellbrook",
        "Nambucca",
        "Narrabri",
        "Narrandera",
        "Narromine",
        "Newcastle",
        "North Sydney",
        "Oberon",
        "Orange",
        "Palerang",
        "Parkes",
        "Parramatta",
        "Penrith",
        "Pittwater",
        "Port Macquarie-Hastings",
        "Port Stephens",
        "Queanbeyan",
        "Randwick",
        "Richmond Valley",
        "Rockdale",
        "Ryde",
        "Shellharbour",
        "Shoalhaven",
        "Singleton",
        "Snowy River",
        "Strathfield",
        "Sutherland Shire",
        "Sydney",
        "Tamworth Regional",
        "Temora",
        "Tenterfield",
        "The Hills Shire",
        "Tumbarumba",
        "Tumut Shire",
        "Tweed",
        "Unincorporated Far West",
        "Upper Hunter Shire",
        "Upper Lachlan Shire",
        "Uralla",
        "Urana",
        "Wagga Wagga",
        "Wakool",
        "Walcha",
        "Walgett",
        "Warren",
        "Warringah",
        "Warrumbungle Shire",
        "Waverley",
        "Weddin",
        "Wellington",
        "Wentworth",
        "Willoughby",
        "Wingecarribee",
        "Wollondilly",
        "Wollongong",
        "Woollahra",
        "Wyong",
        "Yass Valley",
        "Young"
       ],
       "_view_module_version": "~2.1.4",
       "description": "LGA2",
       "layout": "IPY_MODEL_7ebdda677d1c447f86b2aa95b8cf1fe2",
       "value": "Lane Cove"
      }
     },
     "470ddaf0e95d41edb143fcae2424be42": {
      "model_module": "jupyter-js-widgets",
      "model_module_version": "~2.1.4",
      "model_name": "OutputModel",
      "state": {
       "_dom_classes": [],
       "_model_module": "jupyter-js-widgets",
       "_model_module_version": "~2.1.4",
       "_view_module": "jupyter-js-widgets",
       "_view_module_version": "~2.1.4",
       "layout": "IPY_MODEL_5ac76425b47d4951be4914cb978e8ffb",
       "msg_throttle": 1
      }
     },
     "471cdb996dd64bf18848ff088550d13a": {
      "model_module": "jupyter-js-widgets",
      "model_module_version": "~2.1.4",
      "model_name": "SelectMultipleModel",
      "state": {
       "_model_module_version": "~2.1.4",
       "_options_labels": [
        "Albury",
        "Armidale Dumaresq",
        "Ashfield",
        "Auburn",
        "Ballina",
        "Balranald",
        "Bankstown",
        "Bathurst Regional",
        "Bega Valley",
        "Bellingen",
        "Berrigan",
        "Blacktown",
        "Bland",
        "Blayney",
        "Blue Mountains",
        "Bogan",
        "Bombala",
        "Boorowa",
        "Botany Bay",
        "Bourke",
        "Brewarrina",
        "Broken Hill",
        "Burwood",
        "Byron",
        "Cabonne",
        "Camden",
        "Campbelltown",
        "Canada Bay",
        "Canterbury",
        "Carrathool",
        "Central Darling",
        "Cessnock",
        "Clarence Valley",
        "Cobar",
        "Coffs Harbour",
        "Conargo",
        "Coolamon",
        "Cooma-Monaro",
        "Coonamble",
        "Cootamundra",
        "Corowa Shire",
        "Cowra",
        "Deniliquin",
        "Dubbo",
        "Dungog",
        "Eurobodalla",
        "Fairfield",
        "Forbes",
        "Gilgandra",
        "Glen Innes Severn",
        "Gloucester",
        "Gosford",
        "Goulburn Mulwaree",
        "Great Lakes",
        "Greater Hume Shire",
        "Greater Taree",
        "Griffith",
        "Gundagai",
        "Gunnedah",
        "Guyra",
        "Gwydir",
        "Harden",
        "Hawkesbury",
        "Hay",
        "Holroyd",
        "Hornsby",
        "Hunters Hill",
        "Hurstville",
        "Inverell",
        "Jerilderie",
        "Junee",
        "Kempsey",
        "Kiama",
        "Kogarah",
        "Ku-ring-gai",
        "Kyogle",
        "Lachlan",
        "Lake Macquarie",
        "Lane Cove",
        "Leeton",
        "Leichhardt",
        "Lismore",
        "Lithgow",
        "Liverpool",
        "Liverpool Plains",
        "Lockhart",
        "Maitland",
        "Manly",
        "Marrickville",
        "Mid-Western Regional",
        "Moree Plains",
        "Mosman",
        "Murray",
        "Murrumbidgee",
        "Muswellbrook",
        "Nambucca",
        "Narrabri",
        "Narrandera",
        "Narromine",
        "Newcastle",
        "North Sydney",
        "Oberon",
        "Orange",
        "Palerang",
        "Parkes",
        "Parramatta",
        "Penrith",
        "Pittwater",
        "Port Macquarie-Hastings",
        "Port Stephens",
        "Queanbeyan",
        "Randwick",
        "Richmond Valley",
        "Rockdale",
        "Ryde",
        "Shellharbour",
        "Shoalhaven",
        "Singleton",
        "Snowy River",
        "Strathfield",
        "Sutherland Shire",
        "Sydney",
        "Tamworth Regional",
        "Temora",
        "Tenterfield",
        "The Hills Shire",
        "Tumbarumba",
        "Tumut Shire",
        "Tweed",
        "Unincorporated Far West",
        "Upper Hunter Shire",
        "Upper Lachlan Shire",
        "Uralla",
        "Urana",
        "Wagga Wagga",
        "Wakool",
        "Walcha",
        "Walgett",
        "Warren",
        "Warringah",
        "Warrumbungle Shire",
        "Waverley",
        "Weddin",
        "Wellington",
        "Wentworth",
        "Willoughby",
        "Wingecarribee",
        "Wollondilly",
        "Wollongong",
        "Woollahra",
        "Wyong",
        "Yass Valley",
        "Young"
       ],
       "_view_module_version": "~2.1.4",
       "description": "LGAs",
       "layout": "IPY_MODEL_0d19abbe9d4a478b99759fd22d83e164",
       "value": [
        "Sydney",
        "Blacktown",
        "Burwood",
        "Randwick",
        "Lane Cove",
        "Sutherland Shire"
       ]
      }
     },
     "472c56233885441aa0e8e5b39e22cf07": {
      "model_module": "jupyter-js-widgets",
      "model_module_version": "~2.1.4",
      "model_name": "LayoutModel",
      "state": {
       "_model_module_version": "~2.1.4",
       "_view_module_version": "~2.1.4"
      }
     },
     "47fd185c8fd745d9b8c0e6c79074fe6d": {
      "model_module": "jupyter-js-widgets",
      "model_module_version": "~2.1.4",
      "model_name": "ButtonModel",
      "state": {
       "_model_module_version": "~2.1.4",
       "_view_module_version": "~2.1.4",
       "description": "Run Interact",
       "layout": "IPY_MODEL_d5a9b9a39d8a4de6b3120edd8020d9bf",
       "style": "IPY_MODEL_538efbc003a2405185f3daa2a2b34887"
      }
     },
     "4812291c88c94b4bb4ebdb907bcbd1e2": {
      "model_module": "jupyter-js-widgets",
      "model_module_version": "~2.1.4",
      "model_name": "LayoutModel",
      "state": {
       "_model_module_version": "~2.1.4",
       "_view_module_version": "~2.1.4"
      }
     },
     "4836d2a32471407a89720064c729437e": {
      "model_module": "jupyter-js-widgets",
      "model_module_version": "~2.1.4",
      "model_name": "VBoxModel",
      "state": {
       "_dom_classes": [
        "widget-interact"
       ],
       "_model_module_version": "~2.1.4",
       "_view_module_version": "~2.1.4",
       "children": [
        "IPY_MODEL_0e6ee39f6e6540c9affcbab91afd4c5a",
        "IPY_MODEL_e1787354b24d4f2a929113ded7c15902",
        "IPY_MODEL_af6b5a7f83084d7782fd5d4f969123fe",
        "IPY_MODEL_132007559b88448cbe4024726d93168c",
        "IPY_MODEL_3197e673c1fa4b73be846f8927adf8d1"
       ],
       "layout": "IPY_MODEL_ee6ea24ea70541029f54f28f7f6d0bc3"
      }
     },
     "484965699d0049d88cc04f74c7880072": {
      "model_module": "jupyter-js-widgets",
      "model_module_version": "~2.1.4",
      "model_name": "VBoxModel",
      "state": {
       "_dom_classes": [
        "widget-interact"
       ],
       "_model_module_version": "~2.1.4",
       "_view_module_version": "~2.1.4",
       "children": [
        "IPY_MODEL_ed38315270ab44cb85c87ecf45cc3506",
        "IPY_MODEL_d43b761a191841a2868913a799993044",
        "IPY_MODEL_23be527bf21745d688d67964d18da1e2"
       ],
       "layout": "IPY_MODEL_2b8592fbd13348d28dd3d6d1b32ebbe0"
      }
     },
     "4858287d5bf0497b88e14676556e6e75": {
      "model_module": "jupyter-js-widgets",
      "model_module_version": "~2.1.4",
      "model_name": "LayoutModel",
      "state": {
       "_model_module_version": "~2.1.4",
       "_view_module_version": "~2.1.4"
      }
     },
     "486c8a1f805e46b8b47bb635b00d7996": {
      "model_module": "jupyter-js-widgets",
      "model_module_version": "~2.1.4",
      "model_name": "LayoutModel",
      "state": {
       "_model_module_version": "~2.1.4",
       "_view_module_version": "~2.1.4"
      }
     },
     "4873dc2f0727478dbe1e197f7cff9a51": {
      "model_module": "jupyter-js-widgets",
      "model_module_version": "~2.1.4",
      "model_name": "RadioButtonsModel",
      "state": {
       "_model_module_version": "~2.1.4",
       "_options_labels": [
        "sum_median_rank",
        "sum_mean_rank",
        "adj_median_rank",
        "adj_mean_rank"
       ],
       "_view_module_version": "~2.1.4",
       "description": "Sorting Order:",
       "layout": "IPY_MODEL_96f43a35a6de40488fb004a99e8d07e8",
       "value": "adj_mean_rank"
      }
     },
     "4887ff58b5d34d1a8644b5791e319156": {
      "model_module": "jupyter-js-widgets",
      "model_module_version": "~2.1.4",
      "model_name": "LayoutModel",
      "state": {
       "_model_module_version": "~2.1.4",
       "_view_module_version": "~2.1.4"
      }
     },
     "490272ff1ee74379ae7995db041db9f1": {
      "model_module": "jupyter-js-widgets",
      "model_module_version": "~2.1.4",
      "model_name": "ButtonModel",
      "state": {
       "_model_module_version": "~2.1.4",
       "_view_module_version": "~2.1.4",
       "description": "Run Interact",
       "layout": "IPY_MODEL_e03ba4445e564696889436095e4b465d",
       "style": "IPY_MODEL_3410be6845104ae99d491f0a837983ad"
      }
     },
     "4955638c9b3d4779bf13e54b434b4ced": {
      "model_module": "jupyter-js-widgets",
      "model_module_version": "~2.1.4",
      "model_name": "LayoutModel",
      "state": {
       "_model_module_version": "~2.1.4",
       "_view_module_version": "~2.1.4"
      }
     },
     "4a45d11fe8444a7ea297eea81f55f645": {
      "model_module": "jupyter-js-widgets",
      "model_module_version": "~2.1.4",
      "model_name": "LayoutModel",
      "state": {
       "_model_module_version": "~2.1.4",
       "_view_module_version": "~2.1.4"
      }
     },
     "4b0f5f403ce54cdf942cb383c6a3b03e": {
      "model_module": "jupyter-js-widgets",
      "model_module_version": "~2.1.4",
      "model_name": "RadioButtonsModel",
      "state": {
       "_model_module_version": "~2.1.4",
       "_options_labels": [
        "sum_median_rank",
        "sum_mean_rank",
        "adj_median_rank",
        "adj_mean_rank"
       ],
       "_view_module_version": "~2.1.4",
       "description": "Sorting Order:",
       "layout": "IPY_MODEL_a4fc2d7c8f6c4189bb05416e22cc5a28",
       "value": "adj_median_rank"
      }
     },
     "4b2fdb00ef134393a7b8e06a8697a23e": {
      "model_module": "jupyter-js-widgets",
      "model_module_version": "~2.1.4",
      "model_name": "LayoutModel",
      "state": {
       "_model_module_version": "~2.1.4",
       "_view_module_version": "~2.1.4"
      }
     },
     "4b55ef40a3304e0c92358d08dc6917e9": {
      "model_module": "jupyter-js-widgets",
      "model_module_version": "~2.1.4",
      "model_name": "OutputModel",
      "state": {
       "_dom_classes": [],
       "_model_module": "jupyter-js-widgets",
       "_model_module_version": "~2.1.4",
       "_view_module": "jupyter-js-widgets",
       "_view_module_version": "~2.1.4",
       "layout": "IPY_MODEL_ea9dc4de6c09426c82fd3758ac664c8c",
       "msg_throttle": 1
      }
     },
     "4b5fa85d555344bebcd933a57dfb7269": {
      "model_module": "jupyter-js-widgets",
      "model_module_version": "~2.1.4",
      "model_name": "ButtonStyleModel",
      "state": {
       "_model_module_version": "~2.1.4",
       "_view_module_version": "~2.1.4"
      }
     },
     "4b752cd5558a4b7485684101a13b300e": {
      "model_module": "jupyter-js-widgets",
      "model_module_version": "~2.1.4",
      "model_name": "SelectMultipleModel",
      "state": {
       "_model_module_version": "~2.1.4",
       "_options_labels": [
        "Homicide",
        "Assault",
        "Sexual offences",
        "Other offences against the person",
        "Robbery",
        "Property offences",
        "Drug Possession",
        "Drug Dealing",
        "Vice",
        "Weapons offences",
        "Other offences"
       ],
       "_view_module_version": "~2.1.4",
       "description": "Categories",
       "layout": "IPY_MODEL_f24f67102e8e4e19b55093686b2c64f4",
       "value": [
        "Homicide",
        "Assault",
        "Sexual offences",
        "Other offences against the person",
        "Robbery",
        "Property offences",
        "Drug Possession",
        "Drug Dealing",
        "Vice",
        "Weapons offences",
        "Other offences"
       ]
      }
     },
     "4b886c0b4c9d4ec78f996ffd8c1ca66d": {
      "model_module": "jupyter-js-widgets",
      "model_module_version": "~2.1.4",
      "model_name": "LayoutModel",
      "state": {
       "_model_module_version": "~2.1.4",
       "_view_module_version": "~2.1.4",
       "display": "inline_flex",
       "flex_flow": "column"
      }
     },
     "4b96ccf187aa451594657f3a1075e561": {
      "model_module": "jupyter-js-widgets",
      "model_module_version": "~2.1.4",
      "model_name": "LayoutModel",
      "state": {
       "_model_module_version": "~2.1.4",
       "_view_module_version": "~2.1.4"
      }
     },
     "4b98295ddca548269619ffff29deabae": {
      "model_module": "jupyter-js-widgets",
      "model_module_version": "~2.1.4",
      "model_name": "LayoutModel",
      "state": {
       "_model_module_version": "~2.1.4",
       "_view_module_version": "~2.1.4"
      }
     },
     "4be29c4643f840988c3b13e6e34e2ed2": {
      "model_module": "jupyter-js-widgets",
      "model_module_version": "~2.1.4",
      "model_name": "ButtonModel",
      "state": {
       "_model_module_version": "~2.1.4",
       "_view_module_version": "~2.1.4",
       "description": "Run Interact",
       "layout": "IPY_MODEL_6ebe536f329d4743a73561093f8106aa",
       "style": "IPY_MODEL_d97608d9550a4980907eec147e0409e4"
      }
     },
     "4d52240831f041c59ecaa8a076622853": {
      "model_module": "jupyter-js-widgets",
      "model_module_version": "~2.1.4",
      "model_name": "OutputModel",
      "state": {
       "_dom_classes": [],
       "_model_module": "jupyter-js-widgets",
       "_model_module_version": "~2.1.4",
       "_view_module": "jupyter-js-widgets",
       "_view_module_version": "~2.1.4",
       "layout": "IPY_MODEL_21df209e3f044cf1b27a3fe8126cce0f",
       "msg_throttle": 1
      }
     },
     "4db5b86ba40f4b37b63a1794d9a3e287": {
      "model_module": "jupyter-js-widgets",
      "model_module_version": "~2.1.4",
      "model_name": "ButtonStyleModel",
      "state": {
       "_model_module_version": "~2.1.4",
       "_view_module_version": "~2.1.4"
      }
     },
     "4e8f6e77e12b40fb9a0de7863928186b": {
      "model_module": "jupyter-js-widgets",
      "model_module_version": "~2.1.4",
      "model_name": "LayoutModel",
      "state": {
       "_model_module_version": "~2.1.4",
       "_view_module_version": "~2.1.4"
      }
     },
     "4f130156e28140648ed765967667a1b7": {
      "model_module": "jupyter-js-widgets",
      "model_module_version": "~2.1.4",
      "model_name": "ButtonModel",
      "state": {
       "_model_module_version": "~2.1.4",
       "_view_module_version": "~2.1.4",
       "description": "Run Interact",
       "layout": "IPY_MODEL_5c766fffbb54457f8a182fe522dff15b",
       "style": "IPY_MODEL_2188685a9dc641379084df80dbc8a66e"
      }
     },
     "4f3ff9ad066e42628fb577ae7aa98f53": {
      "model_module": "jupyter-js-widgets",
      "model_module_version": "~2.1.4",
      "model_name": "DropdownModel",
      "state": {
       "_model_module_version": "~2.1.4",
       "_options_labels": [
        "Albury",
        "Armidale Dumaresq",
        "Ashfield",
        "Auburn",
        "Ballina",
        "Balranald",
        "Bankstown",
        "Bathurst Regional",
        "Bega Valley",
        "Bellingen",
        "Berrigan",
        "Blacktown",
        "Bland",
        "Blayney",
        "Blue Mountains",
        "Bogan",
        "Bombala",
        "Boorowa",
        "Botany Bay",
        "Bourke",
        "Brewarrina",
        "Broken Hill",
        "Burwood",
        "Byron",
        "Cabonne",
        "Camden",
        "Campbelltown",
        "Canada Bay",
        "Canterbury",
        "Carrathool",
        "Central Darling",
        "Cessnock",
        "Clarence Valley",
        "Cobar",
        "Coffs Harbour",
        "Conargo",
        "Coolamon",
        "Cooma-Monaro",
        "Coonamble",
        "Cootamundra",
        "Corowa Shire",
        "Cowra",
        "Deniliquin",
        "Dubbo",
        "Dungog",
        "Eurobodalla",
        "Fairfield",
        "Forbes",
        "Gilgandra",
        "Glen Innes Severn",
        "Gloucester",
        "Gosford",
        "Goulburn Mulwaree",
        "Great Lakes",
        "Greater Hume Shire",
        "Greater Taree",
        "Griffith",
        "Gundagai",
        "Gunnedah",
        "Guyra",
        "Gwydir",
        "Harden",
        "Hawkesbury",
        "Hay",
        "Holroyd",
        "Hornsby",
        "Hunters Hill",
        "Hurstville",
        "Inverell",
        "Jerilderie",
        "Junee",
        "Kempsey",
        "Kiama",
        "Kogarah",
        "Ku-ring-gai",
        "Kyogle",
        "Lachlan",
        "Lake Macquarie",
        "Lane Cove",
        "Leeton",
        "Leichhardt",
        "Lismore",
        "Lithgow",
        "Liverpool",
        "Liverpool Plains",
        "Lockhart",
        "Maitland",
        "Manly",
        "Marrickville",
        "Mid-Western Regional",
        "Moree Plains",
        "Mosman",
        "Murray",
        "Murrumbidgee",
        "Muswellbrook",
        "Nambucca",
        "Narrabri",
        "Narrandera",
        "Narromine",
        "Newcastle",
        "North Sydney",
        "Oberon",
        "Orange",
        "Palerang",
        "Parkes",
        "Parramatta",
        "Penrith",
        "Pittwater",
        "Port Macquarie-Hastings",
        "Port Stephens",
        "Queanbeyan",
        "Randwick",
        "Richmond Valley",
        "Rockdale",
        "Ryde",
        "Shellharbour",
        "Shoalhaven",
        "Singleton",
        "Snowy River",
        "Strathfield",
        "Sutherland Shire",
        "Sydney",
        "Tamworth Regional",
        "Temora",
        "Tenterfield",
        "The Hills Shire",
        "Tumbarumba",
        "Tumut Shire",
        "Tweed",
        "Upper Hunter Shire",
        "Upper Lachlan Shire",
        "Uralla",
        "Urana",
        "Wagga Wagga",
        "Wakool",
        "Walcha",
        "Walgett",
        "Warren",
        "Warringah",
        "Warrumbungle Shire",
        "Waverley",
        "Weddin",
        "Wellington",
        "Wentworth",
        "Willoughby",
        "Wingecarribee",
        "Wollondilly",
        "Wollongong",
        "Woollahra",
        "Wyong",
        "Yass Valley",
        "Young",
        "Unincorporated Far West",
        "Lord Howe Island",
        "Prisons"
       ],
       "_view_module_version": "~2.1.4",
       "description": "sub",
       "layout": "IPY_MODEL_ac8124fe67f34e4c9191cbb57ea071ca",
       "value": "Ashfield"
      }
     },
     "4f6a724b2d5141dba58574a856636769": {
      "model_module": "jupyter-js-widgets",
      "model_module_version": "~2.1.4",
      "model_name": "ButtonStyleModel",
      "state": {
       "_model_module_version": "~2.1.4",
       "_view_module_version": "~2.1.4"
      }
     },
     "4fb7708622214ac8873bf188d5ca4489": {
      "model_module": "jupyter-js-widgets",
      "model_module_version": "~2.1.4",
      "model_name": "LayoutModel",
      "state": {
       "_model_module_version": "~2.1.4",
       "_view_module_version": "~2.1.4"
      }
     },
     "5006c870d1e445619e932d827923c9f5": {
      "model_module": "jupyter-js-widgets",
      "model_module_version": "~2.1.4",
      "model_name": "VBoxModel",
      "state": {
       "_dom_classes": [
        "widget-interact"
       ],
       "_model_module_version": "~2.1.4",
       "_view_module_version": "~2.1.4",
       "children": [
        "IPY_MODEL_1b225e2f21844a88bce6795984f2364d",
        "IPY_MODEL_a09ac8b57aaa4de283af173d426cc80c",
        "IPY_MODEL_6957591267a1425eaec59fbed1396965",
        "IPY_MODEL_85320396ba6a416bae7e61e20ffc4508"
       ],
       "layout": "IPY_MODEL_fdae9e75e371495d88bc544690b8e977"
      }
     },
     "500a481236a24935831ef6aa8603d939": {
      "model_module": "jupyter-js-widgets",
      "model_module_version": "~2.1.4",
      "model_name": "SelectMultipleModel",
      "state": {
       "_model_module_version": "~2.1.4",
       "_options_labels": [
        "Homicide",
        "Assault",
        "Sexual offences",
        "Other offences against the person",
        "Robbery",
        "Property offences",
        "Drug Possession",
        "Drug Dealing",
        "Vice",
        "Weapons offences",
        "Other offences"
       ],
       "_view_module_version": "~2.1.4",
       "description": "Categories",
       "layout": "IPY_MODEL_89f70fea736b4b588d9469e1cdabd9ee",
       "value": [
        "Homicide",
        "Assault",
        "Sexual offences",
        "Other offences against the person",
        "Robbery",
        "Property offences",
        "Drug Possession",
        "Drug Dealing",
        "Vice",
        "Weapons offences",
        "Other offences"
       ]
      }
     },
     "5050cc2576f749658802ce4674bb1e2e": {
      "model_module": "jupyter-js-widgets",
      "model_module_version": "~2.1.4",
      "model_name": "OutputModel",
      "state": {
       "_dom_classes": [],
       "_model_module": "jupyter-js-widgets",
       "_model_module_version": "~2.1.4",
       "_view_module": "jupyter-js-widgets",
       "_view_module_version": "~2.1.4",
       "layout": "IPY_MODEL_00fe4738e756496ebcbbb383b50439fd",
       "msg_throttle": 1
      }
     },
     "508837a1baae408a859f7dda89d04232": {
      "model_module": "jupyter-js-widgets",
      "model_module_version": "~2.1.4",
      "model_name": "LayoutModel",
      "state": {
       "_model_module_version": "~2.1.4",
       "_view_module_version": "~2.1.4",
       "display": "flex",
       "flex_flow": "column"
      }
     },
     "50a167e73bb947fd87375dba1ea9a7b6": {
      "model_module": "jupyter-js-widgets",
      "model_module_version": "~2.1.4",
      "model_name": "OutputModel",
      "state": {
       "_dom_classes": [],
       "_model_module": "jupyter-js-widgets",
       "_model_module_version": "~2.1.4",
       "_view_module": "jupyter-js-widgets",
       "_view_module_version": "~2.1.4",
       "layout": "IPY_MODEL_a261395cb87943769c4028921b12ae71",
       "msg_throttle": 1
      }
     },
     "510d4e7310184e789687971e904bfe6d": {
      "model_module": "jupyter-js-widgets",
      "model_module_version": "~2.1.4",
      "model_name": "VBoxModel",
      "state": {
       "_dom_classes": [
        "widget-interact"
       ],
       "_model_module_version": "~2.1.4",
       "_view_module_version": "~2.1.4",
       "children": [
        "IPY_MODEL_439e3a04f476460ba1dd6c22469dfd80",
        "IPY_MODEL_1f4cebffe7c34592b6798e8abfa62aa7",
        "IPY_MODEL_70fa48db5cae4d11ac0b0841488ba407"
       ],
       "layout": "IPY_MODEL_c96f696b05a8402a83b617b3aa984a07"
      }
     },
     "515900961d594ad7879341c7ce1d8a6f": {
      "model_module": "jupyter-js-widgets",
      "model_module_version": "~2.1.4",
      "model_name": "LayoutModel",
      "state": {
       "_model_module_version": "~2.1.4",
       "_view_module_version": "~2.1.4"
      }
     },
     "51930d58f1ea430da532eb345324c11f": {
      "model_module": "jupyter-js-widgets",
      "model_module_version": "~2.1.4",
      "model_name": "ButtonStyleModel",
      "state": {
       "_model_module_version": "~2.1.4",
       "_view_module_version": "~2.1.4"
      }
     },
     "51c64c0e3c3b42beaead7740b15f66b9": {
      "model_module": "jupyter-js-widgets",
      "model_module_version": "~2.1.4",
      "model_name": "LayoutModel",
      "state": {
       "_model_module_version": "~2.1.4",
       "_view_module_version": "~2.1.4"
      }
     },
     "5250e1eeadd74e9eabf426f399b9c2af": {
      "model_module": "jupyter-js-widgets",
      "model_module_version": "~2.1.4",
      "model_name": "LayoutModel",
      "state": {
       "_model_module_version": "~2.1.4",
       "_view_module_version": "~2.1.4"
      }
     },
     "528fa2e3c5624a128da3b832ced5ff6e": {
      "model_module": "jupyter-js-widgets",
      "model_module_version": "~2.1.4",
      "model_name": "VBoxModel",
      "state": {
       "_dom_classes": [
        "widget-interact"
       ],
       "_model_module_version": "~2.1.4",
       "_view_module_version": "~2.1.4",
       "children": [
        "IPY_MODEL_9a200e07c8824ea0aabcd3917cf10cdc",
        "IPY_MODEL_4f3ff9ad066e42628fb577ae7aa98f53",
        "IPY_MODEL_f24cffaec7b34b83884beadffc4f656f",
        "IPY_MODEL_e94afba18fc74685811ab4fb10b78de2"
       ],
       "layout": "IPY_MODEL_f55aca2948714402a3f99f60ffbd8ceb"
      }
     },
     "52e2c2fea4714a528e8b077015007546": {
      "model_module": "jupyter-js-widgets",
      "model_module_version": "~2.1.4",
      "model_name": "ButtonModel",
      "state": {
       "_model_module_version": "~2.1.4",
       "_view_module_version": "~2.1.4",
       "description": "Run Interact",
       "layout": "IPY_MODEL_68f4708bf307413db9f5fd13d8fc94e6",
       "style": "IPY_MODEL_99fa3f8b545a41089807980df4e08305"
      }
     },
     "5308d307af394bfc88cf568456041084": {
      "model_module": "jupyter-js-widgets",
      "model_module_version": "~2.1.4",
      "model_name": "VBoxModel",
      "state": {
       "_dom_classes": [
        "widget-interact"
       ],
       "_model_module_version": "~2.1.4",
       "_view_module_version": "~2.1.4",
       "children": [
        "IPY_MODEL_5a04c0d32f424553b5036cf73d0d486c",
        "IPY_MODEL_16aed3e820d04293868d88d3592b0861"
       ],
       "layout": "IPY_MODEL_7bd8e33fcf9b421da7086d18a074143c"
      }
     },
     "5320fc0ca5224eb89236a68e834d7deb": {
      "model_module": "jupyter-js-widgets",
      "model_module_version": "~2.1.4",
      "model_name": "SelectMultipleModel",
      "state": {
       "_model_module_version": "~2.1.4",
       "_options_labels": [
        "Homicide",
        "Assault",
        "Sexual offences",
        "Other offences against the person",
        "Robbery",
        "Property offences",
        "Drug Possession",
        "Drug Dealing",
        "Vice",
        "Weapons offences",
        "Other offences"
       ],
       "_view_module_version": "~2.1.4",
       "description": "Categories",
       "layout": "IPY_MODEL_cab6438d11d74e13905cdd9251589d66",
       "value": [
        "Homicide",
        "Assault",
        "Sexual offences",
        "Other offences against the person",
        "Robbery",
        "Drug Possession",
        "Drug Dealing",
        "Vice",
        "Weapons offences"
       ]
      }
     },
     "5387353c95ff4520abe6eec2561be410": {
      "model_module": "jupyter-js-widgets",
      "model_module_version": "~2.1.4",
      "model_name": "LayoutModel",
      "state": {
       "_model_module_version": "~2.1.4",
       "_view_module_version": "~2.1.4"
      }
     },
     "538da6db24a940d8979d37e8b64ca9b9": {
      "model_module": "jupyter-js-widgets",
      "model_module_version": "~2.1.4",
      "model_name": "OutputModel",
      "state": {
       "_dom_classes": [],
       "_model_module": "jupyter-js-widgets",
       "_model_module_version": "~2.1.4",
       "_view_module": "jupyter-js-widgets",
       "_view_module_version": "~2.1.4",
       "layout": "IPY_MODEL_4a45d11fe8444a7ea297eea81f55f645",
       "msg_throttle": 1
      }
     },
     "538efbc003a2405185f3daa2a2b34887": {
      "model_module": "jupyter-js-widgets",
      "model_module_version": "~2.1.4",
      "model_name": "ButtonStyleModel",
      "state": {
       "_model_module_version": "~2.1.4",
       "_view_module_version": "~2.1.4"
      }
     },
     "5437552343f34e59a49d0edc8e3ecf0e": {
      "model_module": "jupyter-js-widgets",
      "model_module_version": "~2.1.4",
      "model_name": "SelectMultipleModel",
      "state": {
       "_model_module_version": "~2.1.4",
       "_options_labels": [
        "Ashfield",
        "Auburn",
        "Bankstown",
        "Blacktown",
        "Blue Mountains",
        "Botany Bay",
        "Burwood",
        "Camden",
        "Campbelltown",
        "Canada Bay",
        "Canterbury",
        "Fairfield",
        "Gosford",
        "Hawkesbury",
        "Holroyd",
        "Hornsby",
        "Hunters Hill",
        "Hurstville",
        "Kogarah",
        "Ku-ring-gai",
        "Lane Cove",
        "Leichhardt",
        "Liverpool",
        "Manly",
        "Marrickville",
        "Mosman",
        "North Sydney",
        "Parramatta",
        "Penrith",
        "Pittwater",
        "Randwick",
        "Rockdale",
        "Ryde",
        "Strathfield",
        "Sutherland Shire",
        "Sydney",
        "The Hills Shire",
        "Warringah",
        "Waverley",
        "Willoughby",
        "Wollondilly",
        "Woollahra",
        "Wyong"
       ],
       "_view_module_version": "~2.1.4",
       "description": "LGA",
       "layout": "IPY_MODEL_7640b5f6b4f7450da12c56d8ba772d54",
       "value": [
        "Ashfield",
        "Bankstown",
        "Burwood",
        "Camden",
        "Ryde",
        "Sutherland Shire",
        "Sydney"
       ]
      }
     },
     "545980c9885f44c7ab2b119d646675c8": {
      "model_module": "jupyter-js-widgets",
      "model_module_version": "~2.1.4",
      "model_name": "LayoutModel",
      "state": {
       "_model_module_version": "~2.1.4",
       "_view_module_version": "~2.1.4"
      }
     },
     "547474c0eb2647e18848bec9731b57bc": {
      "model_module": "jupyter-js-widgets",
      "model_module_version": "~2.1.4",
      "model_name": "LayoutModel",
      "state": {
       "_model_module_version": "~2.1.4",
       "_view_module_version": "~2.1.4"
      }
     },
     "54c3a8b6360f4d8dbc03bbe5bad0456b": {
      "model_module": "jupyter-js-widgets",
      "model_module_version": "~2.1.4",
      "model_name": "DropdownModel",
      "state": {
       "_model_module_version": "~2.1.4",
       "_options_labels": [
        "Albury",
        "Armidale Dumaresq",
        "Ashfield",
        "Auburn",
        "Ballina",
        "Balranald",
        "Bankstown",
        "Bathurst Regional",
        "Bega Valley",
        "Bellingen",
        "Berrigan",
        "Blacktown",
        "Bland",
        "Blayney",
        "Blue Mountains",
        "Bogan",
        "Bombala",
        "Boorowa",
        "Botany Bay",
        "Bourke",
        "Brewarrina",
        "Broken Hill",
        "Burwood",
        "Byron",
        "Cabonne",
        "Camden",
        "Campbelltown",
        "Canada Bay",
        "Canterbury",
        "Carrathool",
        "Central Darling",
        "Cessnock",
        "Clarence Valley",
        "Cobar",
        "Coffs Harbour",
        "Conargo",
        "Coolamon",
        "Cooma-Monaro",
        "Coonamble",
        "Cootamundra",
        "Corowa Shire",
        "Cowra",
        "Deniliquin",
        "Dubbo",
        "Dungog",
        "Eurobodalla",
        "Fairfield",
        "Forbes",
        "Gilgandra",
        "Glen Innes Severn",
        "Gloucester",
        "Gosford",
        "Goulburn Mulwaree",
        "Great Lakes",
        "Greater Hume Shire",
        "Greater Taree",
        "Griffith",
        "Gundagai",
        "Gunnedah",
        "Guyra",
        "Gwydir",
        "Harden",
        "Hawkesbury",
        "Hay",
        "Holroyd",
        "Hornsby",
        "Hunters Hill",
        "Hurstville",
        "Inverell",
        "Jerilderie",
        "Junee",
        "Kempsey",
        "Kiama",
        "Kogarah",
        "Ku-ring-gai",
        "Kyogle",
        "Lachlan",
        "Lake Macquarie",
        "Lane Cove",
        "Leeton",
        "Leichhardt",
        "Lismore",
        "Lithgow",
        "Liverpool",
        "Liverpool Plains",
        "Lockhart",
        "Maitland",
        "Manly",
        "Marrickville",
        "Mid-Western Regional",
        "Moree Plains",
        "Mosman",
        "Murray",
        "Murrumbidgee",
        "Muswellbrook",
        "Nambucca",
        "Narrabri",
        "Narrandera",
        "Narromine",
        "Newcastle",
        "North Sydney",
        "Oberon",
        "Orange",
        "Palerang",
        "Parkes",
        "Parramatta",
        "Penrith",
        "Pittwater",
        "Port Macquarie-Hastings",
        "Port Stephens",
        "Queanbeyan",
        "Randwick",
        "Richmond Valley",
        "Rockdale",
        "Ryde",
        "Shellharbour",
        "Shoalhaven",
        "Singleton",
        "Snowy River",
        "Strathfield",
        "Sutherland Shire",
        "Sydney",
        "Tamworth Regional",
        "Temora",
        "Tenterfield",
        "The Hills Shire",
        "Tumbarumba",
        "Tumut Shire",
        "Tweed",
        "Upper Hunter Shire",
        "Upper Lachlan Shire",
        "Uralla",
        "Urana",
        "Wagga Wagga",
        "Wakool",
        "Walcha",
        "Walgett",
        "Warren",
        "Warringah",
        "Warrumbungle Shire",
        "Waverley",
        "Weddin",
        "Wellington",
        "Wentworth",
        "Willoughby",
        "Wingecarribee",
        "Wollondilly",
        "Wollongong",
        "Woollahra",
        "Wyong",
        "Yass Valley",
        "Young",
        "Unincorporated Far West",
        "Lord Howe Island",
        "Prisons"
       ],
       "_view_module_version": "~2.1.4",
       "description": "sub",
       "layout": "IPY_MODEL_c06b659d333a4509873254627983ebda",
       "value": "North Sydney"
      }
     },
     "551b75911fd1471cbd410d82b1855164": {
      "model_module": "jupyter-js-widgets",
      "model_module_version": "~2.1.4",
      "model_name": "LayoutModel",
      "state": {
       "_model_module_version": "~2.1.4",
       "_view_module_version": "~2.1.4"
      }
     },
     "55560b7704f84860b2eae4c95d6bd727": {
      "model_module": "jupyter-js-widgets",
      "model_module_version": "~2.1.4",
      "model_name": "LayoutModel",
      "state": {
       "_model_module_version": "~2.1.4",
       "_view_module_version": "~2.1.4",
       "width": "20%"
      }
     },
     "5569782e67e845de9bec4dcb51128e88": {
      "model_module": "jupyter-js-widgets",
      "model_module_version": "~2.1.4",
      "model_name": "ButtonModel",
      "state": {
       "_model_module_version": "~2.1.4",
       "_view_module_version": "~2.1.4",
       "description": "Run Interact",
       "layout": "IPY_MODEL_e40136ff70894d36baa0111fe16971ec",
       "style": "IPY_MODEL_c84b244abdc0438382a3387b7d84466a"
      }
     },
     "557b6bde2eb045da97c433d1166e3981": {
      "model_module": "jupyter-js-widgets",
      "model_module_version": "~2.1.4",
      "model_name": "LayoutModel",
      "state": {
       "_model_module_version": "~2.1.4",
       "_view_module_version": "~2.1.4"
      }
     },
     "5606ecb1fa524d49a3b78d143a1e2070": {
      "model_module": "jupyter-js-widgets",
      "model_module_version": "~2.1.4",
      "model_name": "LayoutModel",
      "state": {
       "_model_module_version": "~2.1.4",
       "_view_module_version": "~2.1.4"
      }
     },
     "56482c71ac37477ab5a968444f825597": {
      "model_module": "jupyter-js-widgets",
      "model_module_version": "~2.1.4",
      "model_name": "OutputModel",
      "state": {
       "_dom_classes": [],
       "_model_module": "jupyter-js-widgets",
       "_model_module_version": "~2.1.4",
       "_view_module": "jupyter-js-widgets",
       "_view_module_version": "~2.1.4",
       "layout": "IPY_MODEL_547474c0eb2647e18848bec9731b57bc",
       "msg_throttle": 1
      }
     },
     "564c4a5f0b944d9d9ef772d051bf3944": {
      "model_module": "jupyter-js-widgets",
      "model_module_version": "~2.1.4",
      "model_name": "SelectMultipleModel",
      "state": {
       "_model_module_version": "~2.1.4",
       "_options_labels": [
        "Albury",
        "Armidale Dumaresq",
        "Ashfield",
        "Auburn",
        "Ballina",
        "Balranald",
        "Bankstown",
        "Bathurst Regional",
        "Bega Valley",
        "Bellingen",
        "Berrigan",
        "Blacktown",
        "Bland",
        "Blayney",
        "Blue Mountains",
        "Bogan",
        "Bombala",
        "Boorowa",
        "Botany Bay",
        "Bourke",
        "Brewarrina",
        "Broken Hill",
        "Burwood",
        "Byron",
        "Cabonne",
        "Camden",
        "Campbelltown",
        "Canada Bay",
        "Canterbury",
        "Carrathool",
        "Central Darling",
        "Cessnock",
        "Clarence Valley",
        "Cobar",
        "Coffs Harbour",
        "Conargo",
        "Coolamon",
        "Cooma-Monaro",
        "Coonamble",
        "Cootamundra",
        "Corowa Shire",
        "Cowra",
        "Deniliquin",
        "Dubbo",
        "Dungog",
        "Eurobodalla",
        "Fairfield",
        "Forbes",
        "Gilgandra",
        "Glen Innes Severn",
        "Gloucester",
        "Gosford",
        "Goulburn Mulwaree",
        "Great Lakes",
        "Greater Hume Shire",
        "Greater Taree",
        "Griffith",
        "Gundagai",
        "Gunnedah",
        "Guyra",
        "Gwydir",
        "Harden",
        "Hawkesbury",
        "Hay",
        "Holroyd",
        "Hornsby",
        "Hunters Hill",
        "Hurstville",
        "Inverell",
        "Jerilderie",
        "Junee",
        "Kempsey",
        "Kiama",
        "Kogarah",
        "Ku-ring-gai",
        "Kyogle",
        "Lachlan",
        "Lake Macquarie",
        "Lane Cove",
        "Leeton",
        "Leichhardt",
        "Lismore",
        "Lithgow",
        "Liverpool",
        "Liverpool Plains",
        "Lockhart",
        "Maitland",
        "Manly",
        "Marrickville",
        "Mid-Western Regional",
        "Moree Plains",
        "Mosman",
        "Murray",
        "Murrumbidgee",
        "Muswellbrook",
        "Nambucca",
        "Narrabri",
        "Narrandera",
        "Narromine",
        "Newcastle",
        "North Sydney",
        "Oberon",
        "Orange",
        "Palerang",
        "Parkes",
        "Parramatta",
        "Penrith",
        "Pittwater",
        "Port Macquarie-Hastings",
        "Port Stephens",
        "Queanbeyan",
        "Randwick",
        "Richmond Valley",
        "Rockdale",
        "Ryde",
        "Shellharbour",
        "Shoalhaven",
        "Singleton",
        "Snowy River",
        "Strathfield",
        "Sutherland Shire",
        "Sydney",
        "Tamworth Regional",
        "Temora",
        "Tenterfield",
        "The Hills Shire",
        "Tumbarumba",
        "Tumut Shire",
        "Tweed",
        "Unincorporated Far West",
        "Upper Hunter Shire",
        "Upper Lachlan Shire",
        "Uralla",
        "Urana",
        "Wagga Wagga",
        "Wakool",
        "Walcha",
        "Walgett",
        "Warren",
        "Warringah",
        "Warrumbungle Shire",
        "Waverley",
        "Weddin",
        "Wellington",
        "Wentworth",
        "Willoughby",
        "Wingecarribee",
        "Wollondilly",
        "Wollongong",
        "Woollahra",
        "Wyong",
        "Yass Valley",
        "Young"
       ],
       "_view_module_version": "~2.1.4",
       "description": "LGAs",
       "layout": "IPY_MODEL_e3759950f24740a08eac1d7497a6fc60",
       "value": [
        "Sydney",
        "Blacktown",
        "Burwood",
        "Randwick",
        "Lane Cove",
        "Sutherland Shire"
       ]
      }
     },
     "56db9201c86c477791553a67e0dd0334": {
      "model_module": "jupyter-js-widgets",
      "model_module_version": "~2.1.4",
      "model_name": "LayoutModel",
      "state": {
       "_model_module_version": "~2.1.4",
       "_view_module_version": "~2.1.4",
       "display": "inline_flex",
       "flex_flow": "column"
      }
     },
     "56ddabdb4fe94539a5f26db05c70a1d5": {
      "model_module": "jupyter-js-widgets",
      "model_module_version": "~2.1.4",
      "model_name": "OutputModel",
      "state": {
       "_dom_classes": [],
       "_model_module": "jupyter-js-widgets",
       "_model_module_version": "~2.1.4",
       "_view_module": "jupyter-js-widgets",
       "_view_module_version": "~2.1.4",
       "layout": "IPY_MODEL_ee1c48b8865e41909f8ea0ba1768eeb8",
       "msg_throttle": 1
      }
     },
     "573bc1179b8f43c78595af785b4f3220": {
      "model_module": "jupyter-js-widgets",
      "model_module_version": "~2.1.4",
      "model_name": "ButtonModel",
      "state": {
       "_model_module_version": "~2.1.4",
       "_view_module_version": "~2.1.4",
       "description": "Run Interact",
       "layout": "IPY_MODEL_d6d859672c9749a5847ef39865c75349",
       "style": "IPY_MODEL_4b5fa85d555344bebcd933a57dfb7269"
      }
     },
     "57b8ce313b9045b4a326126180c5cf17": {
      "model_module": "jupyter-js-widgets",
      "model_module_version": "~2.1.4",
      "model_name": "ButtonModel",
      "state": {
       "_model_module_version": "~2.1.4",
       "_view_module_version": "~2.1.4",
       "description": "Run Interact",
       "layout": "IPY_MODEL_43877d57b0994802a762028c4ee2ab5c",
       "style": "IPY_MODEL_b21427ccbf6f4f57b4075fd24277cc06"
      }
     },
     "58332999449b401f9b4a3fd44c93986f": {
      "model_module": "jupyter-js-widgets",
      "model_module_version": "~2.1.4",
      "model_name": "LayoutModel",
      "state": {
       "_model_module_version": "~2.1.4",
       "_view_module_version": "~2.1.4"
      }
     },
     "58422e190b124e9ea293c105162050fa": {
      "model_module": "jupyter-js-widgets",
      "model_module_version": "~2.1.4",
      "model_name": "LayoutModel",
      "state": {
       "_model_module_version": "~2.1.4",
       "_view_module_version": "~2.1.4"
      }
     },
     "5902640815c6440cb731cb5badf22d43": {
      "model_module": "jupyter-js-widgets",
      "model_module_version": "~2.1.4",
      "model_name": "ButtonStyleModel",
      "state": {
       "_model_module_version": "~2.1.4",
       "_view_module_version": "~2.1.4"
      }
     },
     "599642e9c45948979745639e9dd40423": {
      "model_module": "jupyter-js-widgets",
      "model_module_version": "~2.1.4",
      "model_name": "OutputModel",
      "state": {
       "_dom_classes": [],
       "_model_module": "jupyter-js-widgets",
       "_model_module_version": "~2.1.4",
       "_view_module": "jupyter-js-widgets",
       "_view_module_version": "~2.1.4",
       "layout": "IPY_MODEL_85d61c621d1c470eb4e91587acb8cbfa",
       "msg_throttle": 1
      }
     },
     "5a04c0d32f424553b5036cf73d0d486c": {
      "model_module": "jupyter-js-widgets",
      "model_module_version": "~2.1.4",
      "model_name": "DropdownModel",
      "state": {
       "_model_module_version": "~2.1.4",
       "_options_labels": [
        "Homicide",
        "Assault",
        "Sexual offences",
        "Other offences against the person",
        "Robbery",
        "Property offences",
        "Drug Possession",
        "Drug Dealing",
        "Vice",
        "Weapons offences",
        "Other offences"
       ],
       "_view_module_version": "~2.1.4",
       "description": "Category",
       "layout": "IPY_MODEL_a062bc181d3c4625aa2483e50b5ab0a4",
       "value": "Sexual offences"
      }
     },
     "5a0d6e0c1b1b46e5bb254663b05f216c": {
      "model_module": "jupyter-js-widgets",
      "model_module_version": "~2.1.4",
      "model_name": "ButtonModel",
      "state": {
       "_model_module_version": "~2.1.4",
       "_view_module_version": "~2.1.4",
       "description": "Run Interact",
       "layout": "IPY_MODEL_d6f227183f0141d7b5183d4983dcc4d0",
       "style": "IPY_MODEL_f738fdac094846debc7611071dc010e6"
      }
     },
     "5a5002e5a3894c4a8c4ed4e72918d8f0": {
      "model_module": "jupyter-js-widgets",
      "model_module_version": "~2.1.4",
      "model_name": "ButtonModel",
      "state": {
       "_model_module_version": "~2.1.4",
       "_view_module_version": "~2.1.4",
       "description": "Run Interact",
       "layout": "IPY_MODEL_2832520b99a54aee8f4ba4a75914d175",
       "style": "IPY_MODEL_1365328dc63c4d1b9424c578a7b0b74e"
      }
     },
     "5a82441a5cca4acab1b4e5d9af8c77a6": {
      "model_module": "jupyter-js-widgets",
      "model_module_version": "~2.1.4",
      "model_name": "LayoutModel",
      "state": {
       "_model_module_version": "~2.1.4",
       "_view_module_version": "~2.1.4",
       "display": "inline_flex",
       "flex_flow": "column"
      }
     },
     "5a8463d3e1ed44bcaa1962c9f82cac07": {
      "model_module": "jupyter-js-widgets",
      "model_module_version": "~2.1.4",
      "model_name": "LayoutModel",
      "state": {
       "_model_module_version": "~2.1.4",
       "_view_module_version": "~2.1.4"
      }
     },
     "5ac76425b47d4951be4914cb978e8ffb": {
      "model_module": "jupyter-js-widgets",
      "model_module_version": "~2.1.4",
      "model_name": "LayoutModel",
      "state": {
       "_model_module_version": "~2.1.4",
       "_view_module_version": "~2.1.4"
      }
     },
     "5b05e32c8fef4b16a7ddc2d7be1bc373": {
      "model_module": "jupyter-js-widgets",
      "model_module_version": "~2.1.4",
      "model_name": "VBoxModel",
      "state": {
       "_dom_classes": [
        "widget-interact"
       ],
       "_model_module_version": "~2.1.4",
       "_view_module_version": "~2.1.4",
       "children": [
        "IPY_MODEL_f4ce3eabe21143cf96c219876c697149",
        "IPY_MODEL_072530b06f0645568c2a386ce0ddb290"
       ],
       "layout": "IPY_MODEL_83ddf2543ad9402a9960e3af04ccd66b"
      }
     },
     "5b1453c908854f3fb6a4838b23389367": {
      "model_module": "jupyter-js-widgets",
      "model_module_version": "~2.1.4",
      "model_name": "LayoutModel",
      "state": {
       "_model_module_version": "~2.1.4",
       "_view_module_version": "~2.1.4"
      }
     },
     "5b14a3edb3944b85a4dd5839c6c7d83c": {
      "model_module": "jupyter-js-widgets",
      "model_module_version": "~2.1.4",
      "model_name": "SelectMultipleModel",
      "state": {
       "_model_module_version": "~2.1.4",
       "_options_labels": [
        "Albury",
        "Armidale Dumaresq",
        "Ashfield",
        "Auburn",
        "Ballina",
        "Balranald",
        "Bankstown",
        "Bathurst Regional",
        "Bega Valley",
        "Bellingen",
        "Berrigan",
        "Blacktown",
        "Bland",
        "Blayney",
        "Blue Mountains",
        "Bogan",
        "Bombala",
        "Boorowa",
        "Botany Bay",
        "Bourke",
        "Brewarrina",
        "Broken Hill",
        "Burwood",
        "Byron",
        "Cabonne",
        "Camden",
        "Campbelltown",
        "Canada Bay",
        "Canterbury",
        "Carrathool",
        "Central Darling",
        "Cessnock",
        "Clarence Valley",
        "Cobar",
        "Coffs Harbour",
        "Conargo",
        "Coolamon",
        "Cooma-Monaro",
        "Coonamble",
        "Cootamundra",
        "Corowa Shire",
        "Cowra",
        "Deniliquin",
        "Dubbo",
        "Dungog",
        "Eurobodalla",
        "Fairfield",
        "Forbes",
        "Gilgandra",
        "Glen Innes Severn",
        "Gloucester",
        "Gosford",
        "Goulburn Mulwaree",
        "Great Lakes",
        "Greater Hume Shire",
        "Greater Taree",
        "Griffith",
        "Gundagai",
        "Gunnedah",
        "Guyra",
        "Gwydir",
        "Harden",
        "Hawkesbury",
        "Hay",
        "Holroyd",
        "Hornsby",
        "Hunters Hill",
        "Hurstville",
        "Inverell",
        "Jerilderie",
        "Junee",
        "Kempsey",
        "Kiama",
        "Kogarah",
        "Ku-ring-gai",
        "Kyogle",
        "Lachlan",
        "Lake Macquarie",
        "Lane Cove",
        "Leeton",
        "Leichhardt",
        "Lismore",
        "Lithgow",
        "Liverpool",
        "Liverpool Plains",
        "Lockhart",
        "Maitland",
        "Manly",
        "Marrickville",
        "Mid-Western Regional",
        "Moree Plains",
        "Mosman",
        "Murray",
        "Murrumbidgee",
        "Muswellbrook",
        "Nambucca",
        "Narrabri",
        "Narrandera",
        "Narromine",
        "Newcastle",
        "North Sydney",
        "Oberon",
        "Orange",
        "Palerang",
        "Parkes",
        "Parramatta",
        "Penrith",
        "Pittwater",
        "Port Macquarie-Hastings",
        "Port Stephens",
        "Queanbeyan",
        "Randwick",
        "Richmond Valley",
        "Rockdale",
        "Ryde",
        "Shellharbour",
        "Shoalhaven",
        "Singleton",
        "Snowy River",
        "Strathfield",
        "Sutherland Shire",
        "Sydney",
        "Tamworth Regional",
        "Temora",
        "Tenterfield",
        "The Hills Shire",
        "Tumbarumba",
        "Tumut Shire",
        "Tweed",
        "Unincorporated Far West",
        "Upper Hunter Shire",
        "Upper Lachlan Shire",
        "Uralla",
        "Urana",
        "Wagga Wagga",
        "Wakool",
        "Walcha",
        "Walgett",
        "Warren",
        "Warringah",
        "Warrumbungle Shire",
        "Waverley",
        "Weddin",
        "Wellington",
        "Wentworth",
        "Willoughby",
        "Wingecarribee",
        "Wollondilly",
        "Wollongong",
        "Woollahra",
        "Wyong",
        "Yass Valley",
        "Young"
       ],
       "_view_module_version": "~2.1.4",
       "description": "LGA",
       "layout": "IPY_MODEL_912069c0be494858a898891a004d52e1",
       "value": [
        "Ashfield",
        "Auburn",
        "Bankstown",
        "Clarence Valley",
        "Coffs Harbour",
        "Hay",
        "Strathfield",
        "Sutherland Shire",
        "Sydney"
       ]
      }
     },
     "5b50b95a6ac648e28a797093216cd329": {
      "model_module": "jupyter-js-widgets",
      "model_module_version": "~2.1.4",
      "model_name": "LayoutModel",
      "state": {
       "_model_module_version": "~2.1.4",
       "_view_module_version": "~2.1.4"
      }
     },
     "5b8133c6e5cf4a3bb5a36ad68478c733": {
      "model_module": "jupyter-js-widgets",
      "model_module_version": "~2.1.4",
      "model_name": "LayoutModel",
      "state": {
       "_model_module_version": "~2.1.4",
       "_view_module_version": "~2.1.4"
      }
     },
     "5b9e281080954371b87d556c06f60f3d": {
      "model_module": "jupyter-js-widgets",
      "model_module_version": "~2.1.4",
      "model_name": "LayoutModel",
      "state": {
       "_model_module_version": "~2.1.4",
       "_view_module_version": "~2.1.4"
      }
     },
     "5ba6836c0388419ab4f4376610e67992": {
      "model_module": "jupyter-js-widgets",
      "model_module_version": "~2.1.4",
      "model_name": "SelectMultipleModel",
      "state": {
       "_model_module_version": "~2.1.4",
       "_options_labels": [
        "1995",
        "1996",
        "1997",
        "1998",
        "1999",
        "2000",
        "2001",
        "2002",
        "2003",
        "2004",
        "2005",
        "2006",
        "2007",
        "2008",
        "2009",
        "2010",
        "2011",
        "2012",
        "2013",
        "2014",
        "2015",
        "2016"
       ],
       "_view_module_version": "~2.1.4",
       "description": "Years",
       "layout": "IPY_MODEL_62b4f88ff329440d8162530498880a7b",
       "value": [
        "2012",
        "2013",
        "2014",
        "2015",
        "2016"
       ]
      }
     },
     "5c766fffbb54457f8a182fe522dff15b": {
      "model_module": "jupyter-js-widgets",
      "model_module_version": "~2.1.4",
      "model_name": "LayoutModel",
      "state": {
       "_model_module_version": "~2.1.4",
       "_view_module_version": "~2.1.4"
      }
     },
     "5c834076cf1443c589d7922ebdfeee5d": {
      "model_module": "jupyter-js-widgets",
      "model_module_version": "~2.1.4",
      "model_name": "OutputModel",
      "state": {
       "_dom_classes": [],
       "_model_module": "jupyter-js-widgets",
       "_model_module_version": "~2.1.4",
       "_view_module": "jupyter-js-widgets",
       "_view_module_version": "~2.1.4",
       "layout": "IPY_MODEL_e4fcc56deb0d4e59a2b4d582323d902d",
       "msg_throttle": 1
      }
     },
     "5db906a5eb8f47af86f15016188bd33c": {
      "model_module": "jupyter-js-widgets",
      "model_module_version": "~2.1.4",
      "model_name": "LayoutModel",
      "state": {
       "_model_module_version": "~2.1.4",
       "_view_module_version": "~2.1.4"
      }
     },
     "5dd08c8fc98e40e49f57527d90bd2052": {
      "model_module": "jupyter-js-widgets",
      "model_module_version": "~2.1.4",
      "model_name": "LayoutModel",
      "state": {
       "_model_module_version": "~2.1.4",
       "_view_module_version": "~2.1.4"
      }
     },
     "5df18c4a03de499b9c934448c650818f": {
      "model_module": "jupyter-js-widgets",
      "model_module_version": "~2.1.4",
      "model_name": "RadioButtonsModel",
      "state": {
       "_model_module_version": "~2.1.4",
       "_options_labels": [
        "sum_median_rank",
        "sum_mean_rank",
        "adj_median_rank",
        "adj_mean_rank"
       ],
       "_view_module_version": "~2.1.4",
       "description": "Sorting Order:",
       "layout": "IPY_MODEL_97fb6e8bc22b4b45a4bb5667d8c27cc1",
       "value": "adj_mean_rank"
      }
     },
     "5e87e669ae054a8e9ced634d3837cd63": {
      "model_module": "jupyter-js-widgets",
      "model_module_version": "~2.1.4",
      "model_name": "LayoutModel",
      "state": {
       "_model_module_version": "~2.1.4",
       "_view_module_version": "~2.1.4"
      }
     },
     "5ef705dc19254d8e8500d50f72876c4b": {
      "model_module": "jupyter-js-widgets",
      "model_module_version": "~2.1.4",
      "model_name": "ButtonStyleModel",
      "state": {
       "_model_module_version": "~2.1.4",
       "_view_module_version": "~2.1.4"
      }
     },
     "5f4a4600a92e43dabe99113aba929051": {
      "model_module": "jupyter-js-widgets",
      "model_module_version": "~2.1.4",
      "model_name": "LayoutModel",
      "state": {
       "_model_module_version": "~2.1.4",
       "_view_module_version": "~2.1.4"
      }
     },
     "5f5cb233232046a4bedf50bf5a27361d": {
      "model_module": "jupyter-js-widgets",
      "model_module_version": "~2.1.4",
      "model_name": "RadioButtonsModel",
      "state": {
       "_model_module_version": "~2.1.4",
       "_options_labels": [
        "sum_median_rank",
        "sum_mean_rank",
        "adj_median_rank",
        "adj_mean_rank"
       ],
       "_view_module_version": "~2.1.4",
       "description": "Sorting Order:",
       "layout": "IPY_MODEL_1caaf5ae66b04af29a5bd895584496c0",
       "value": "adj_mean_rank"
      }
     },
     "6031813a317048b1833b2ccb775f42a1": {
      "model_module": "jupyter-js-widgets",
      "model_module_version": "~2.1.4",
      "model_name": "ButtonStyleModel",
      "state": {
       "_model_module_version": "~2.1.4",
       "_view_module_version": "~2.1.4"
      }
     },
     "605ec3cf1295414286a17f25589980e9": {
      "model_module": "jupyter-js-widgets",
      "model_module_version": "~2.1.4",
      "model_name": "VBoxModel",
      "state": {
       "_dom_classes": [
        "widget-interact"
       ],
       "_model_module_version": "~2.1.4",
       "_view_module_version": "~2.1.4",
       "children": [
        "IPY_MODEL_d23e1bf97cb24c23961237df03e19925",
        "IPY_MODEL_c2958d3b4d864d9d83db5de5d5bf95d3",
        "IPY_MODEL_b0fdc970fb8345e0b7b18706612b732d",
        "IPY_MODEL_3308fd6405d44dcea4ff0c8f17fcd777"
       ],
       "layout": "IPY_MODEL_46deb35a867d4be78b24f145388c883b"
      }
     },
     "60a736aef6834e6ea3044045fa8ca407": {
      "model_module": "jupyter-js-widgets",
      "model_module_version": "~2.1.4",
      "model_name": "SelectMultipleModel",
      "state": {
       "_model_module_version": "~2.1.4",
       "_options_labels": [
        "Albury",
        "Armidale Dumaresq",
        "Ashfield",
        "Auburn",
        "Ballina",
        "Balranald",
        "Bankstown",
        "Bathurst Regional",
        "Bega Valley",
        "Bellingen",
        "Berrigan",
        "Blacktown",
        "Bland",
        "Blayney",
        "Blue Mountains",
        "Bogan",
        "Bombala",
        "Boorowa",
        "Botany Bay",
        "Bourke",
        "Brewarrina",
        "Broken Hill",
        "Burwood",
        "Byron",
        "Cabonne",
        "Camden",
        "Campbelltown",
        "Canada Bay",
        "Canterbury",
        "Carrathool",
        "Central Darling",
        "Cessnock",
        "Clarence Valley",
        "Cobar",
        "Coffs Harbour",
        "Conargo",
        "Coolamon",
        "Cooma-Monaro",
        "Coonamble",
        "Cootamundra",
        "Corowa Shire",
        "Cowra",
        "Deniliquin",
        "Dubbo",
        "Dungog",
        "Eurobodalla",
        "Fairfield",
        "Forbes",
        "Gilgandra",
        "Glen Innes Severn",
        "Gloucester",
        "Gosford",
        "Goulburn Mulwaree",
        "Great Lakes",
        "Greater Hume Shire",
        "Greater Taree",
        "Griffith",
        "Gundagai",
        "Gunnedah",
        "Guyra",
        "Gwydir",
        "Harden",
        "Hawkesbury",
        "Hay",
        "Holroyd",
        "Hornsby",
        "Hunters Hill",
        "Hurstville",
        "Inverell",
        "Jerilderie",
        "Junee",
        "Kempsey",
        "Kiama",
        "Kogarah",
        "Ku-ring-gai",
        "Kyogle",
        "Lachlan",
        "Lake Macquarie",
        "Lane Cove",
        "Leeton",
        "Leichhardt",
        "Lismore",
        "Lithgow",
        "Liverpool",
        "Liverpool Plains",
        "Lockhart",
        "Maitland",
        "Manly",
        "Marrickville",
        "Mid-Western Regional",
        "Moree Plains",
        "Mosman",
        "Murray",
        "Murrumbidgee",
        "Muswellbrook",
        "Nambucca",
        "Narrabri",
        "Narrandera",
        "Narromine",
        "Newcastle",
        "North Sydney",
        "Oberon",
        "Orange",
        "Palerang",
        "Parkes",
        "Parramatta",
        "Penrith",
        "Pittwater",
        "Port Macquarie-Hastings",
        "Port Stephens",
        "Queanbeyan",
        "Randwick",
        "Richmond Valley",
        "Rockdale",
        "Ryde",
        "Shellharbour",
        "Shoalhaven",
        "Singleton",
        "Snowy River",
        "Strathfield",
        "Sutherland Shire",
        "Sydney",
        "Tamworth Regional",
        "Temora",
        "Tenterfield",
        "The Hills Shire",
        "Tumbarumba",
        "Tumut Shire",
        "Tweed",
        "Unincorporated Far West",
        "Upper Hunter Shire",
        "Upper Lachlan Shire",
        "Uralla",
        "Urana",
        "Wagga Wagga",
        "Wakool",
        "Walcha",
        "Walgett",
        "Warren",
        "Warringah",
        "Warrumbungle Shire",
        "Waverley",
        "Weddin",
        "Wellington",
        "Wentworth",
        "Willoughby",
        "Wingecarribee",
        "Wollondilly",
        "Wollongong",
        "Woollahra",
        "Wyong",
        "Yass Valley",
        "Young"
       ],
       "_view_module_version": "~2.1.4",
       "description": "LGA:",
       "layout": "IPY_MODEL_b4326b8bd778467f922802f5633d711b",
       "value": [
        "Hunters Hill",
        "Blacktown",
        "Ku-ring-gai",
        "Lane Cove",
        "Leichhardt",
        "Sydney"
       ]
      }
     },
     "61341718ea0e41019afd69b422c7da37": {
      "model_module": "jupyter-js-widgets",
      "model_module_version": "~2.1.4",
      "model_name": "ButtonModel",
      "state": {
       "_model_module_version": "~2.1.4",
       "_view_module_version": "~2.1.4",
       "description": "Run Interact",
       "layout": "IPY_MODEL_baa9fb0494f84de8bb18884b0999c3ce",
       "style": "IPY_MODEL_168231655f4d46108fc8a2d05e8e327b"
      }
     },
     "613c9a8744b14467916c775b9eb5464d": {
      "model_module": "jupyter-js-widgets",
      "model_module_version": "~2.1.4",
      "model_name": "ButtonModel",
      "state": {
       "_model_module_version": "~2.1.4",
       "_view_module_version": "~2.1.4",
       "description": "Run Interact",
       "layout": "IPY_MODEL_246e35f11d9d4aacb16793616c762a29",
       "style": "IPY_MODEL_d4eb1b562e874a4499b0f2610e698a8a"
      }
     },
     "6173e539af794d0e91491f67c42006e8": {
      "model_module": "jupyter-js-widgets",
      "model_module_version": "~2.1.4",
      "model_name": "DropdownModel",
      "state": {
       "_model_module_version": "~2.1.4",
       "_options_labels": [
        "1995",
        "1996",
        "1997",
        "1998",
        "1999",
        "2000",
        "2001",
        "2002",
        "2003",
        "2004",
        "2005",
        "2006",
        "2007",
        "2008",
        "2009",
        "2010",
        "2011",
        "2012",
        "2013",
        "2014",
        "2015",
        "2016"
       ],
       "_view_module_version": "~2.1.4",
       "description": "Year",
       "layout": "IPY_MODEL_766b0fb1f3b44843b6856a35f4359cc8",
       "value": "1995"
      }
     },
     "61923916178145a0bd23dba6e17382d5": {
      "model_module": "jupyter-js-widgets",
      "model_module_version": "~2.1.4",
      "model_name": "VBoxModel",
      "state": {
       "_dom_classes": [
        "widget-interact"
       ],
       "_model_module_version": "~2.1.4",
       "_view_module_version": "~2.1.4",
       "children": [
        "IPY_MODEL_ed7ac943734347a5bc11ed19b419a785",
        "IPY_MODEL_146aab8b28cd4c3ab9e76af676ac13d9",
        "IPY_MODEL_d27ac6a0237048c38fa422a80bf23d0f",
        "IPY_MODEL_538da6db24a940d8979d37e8b64ca9b9"
       ],
       "layout": "IPY_MODEL_7d8d7f28e5c948cb9c8d496da81d9dc0"
      }
     },
     "619f05cbab6148a6aa6fc2d066231789": {
      "model_module": "jupyter-js-widgets",
      "model_module_version": "~2.1.4",
      "model_name": "LayoutModel",
      "state": {
       "_model_module_version": "~2.1.4",
       "_view_module_version": "~2.1.4"
      }
     },
     "61aeba2673f347b1b4b84bdaa57c1c72": {
      "model_module": "jupyter-js-widgets",
      "model_module_version": "~2.1.4",
      "model_name": "LayoutModel",
      "state": {
       "_model_module_version": "~2.1.4",
       "_view_module_version": "~2.1.4"
      }
     },
     "62b4f88ff329440d8162530498880a7b": {
      "model_module": "jupyter-js-widgets",
      "model_module_version": "~2.1.4",
      "model_name": "LayoutModel",
      "state": {
       "_model_module_version": "~2.1.4",
       "_view_module_version": "~2.1.4",
       "display": "inline_flex",
       "width": "20%"
      }
     },
     "632e514fac6840fb945f4da9bd28c47d": {
      "model_module": "jupyter-js-widgets",
      "model_module_version": "~2.1.4",
      "model_name": "ButtonModel",
      "state": {
       "_model_module_version": "~2.1.4",
       "_view_module_version": "~2.1.4",
       "description": "Run Interact",
       "layout": "IPY_MODEL_0b90e03a048d4f55be5838ca02d2d05c",
       "style": "IPY_MODEL_b7871ff630584aedbe0dee51e4959169"
      }
     },
     "63b16121ed254c449ec2bcf3ae7f7014": {
      "model_module": "jupyter-js-widgets",
      "model_module_version": "~2.1.4",
      "model_name": "VBoxModel",
      "state": {
       "_dom_classes": [
        "widget-interact"
       ],
       "_model_module_version": "~2.1.4",
       "_view_module_version": "~2.1.4",
       "children": [
        "IPY_MODEL_fab7e77fd2a643d29781492a1a8547bb",
        "IPY_MODEL_57b8ce313b9045b4a326126180c5cf17",
        "IPY_MODEL_fd4f1f831b4948e198dbed6bf08b14b8"
       ],
       "layout": "IPY_MODEL_b702927397194abcaefda91913124179"
      }
     },
     "63ecb4b8a0e04e33aaf346703e8335a6": {
      "model_module": "jupyter-js-widgets",
      "model_module_version": "~2.1.4",
      "model_name": "VBoxModel",
      "state": {
       "_dom_classes": [
        "widget-interact"
       ],
       "_model_module_version": "~2.1.4",
       "_view_module_version": "~2.1.4",
       "children": [
        "IPY_MODEL_1fbf5a9b053743f195fef6533097b326",
        "IPY_MODEL_9696f07d5b2c437ead89bfe1d3dff49b",
        "IPY_MODEL_18103652e1bc4819964ec5c37be01698",
        "IPY_MODEL_aa018ef4dd3c423cbb0b74fa232a0e62",
        "IPY_MODEL_4b55ef40a3304e0c92358d08dc6917e9"
       ],
       "layout": "IPY_MODEL_6f1f9996bb5f4976bd254beece1b5a7e"
      }
     },
     "6405bc978eef4baa94c160e2ef9545fb": {
      "model_module": "jupyter-js-widgets",
      "model_module_version": "~2.1.4",
      "model_name": "LayoutModel",
      "state": {
       "_model_module_version": "~2.1.4",
       "_view_module_version": "~2.1.4"
      }
     },
     "641edf7bf18845e0b9968c9d3ecea9d7": {
      "model_module": "jupyter-js-widgets",
      "model_module_version": "~2.1.4",
      "model_name": "ButtonModel",
      "state": {
       "_model_module_version": "~2.1.4",
       "_view_module_version": "~2.1.4",
       "description": "Run Interact",
       "layout": "IPY_MODEL_08e336d799bf4523aa282b85563e135d",
       "style": "IPY_MODEL_46e92a0847c14ce1910e13a6e5f3041b"
      }
     },
     "643b990ebca048e1b1f1c185f5bc5b19": {
      "model_module": "jupyter-js-widgets",
      "model_module_version": "~2.1.4",
      "model_name": "LayoutModel",
      "state": {
       "_model_module_version": "~2.1.4",
       "_view_module_version": "~2.1.4"
      }
     },
     "64ce21c7996345e7bda4435ffc617f2c": {
      "model_module": "jupyter-js-widgets",
      "model_module_version": "~2.1.4",
      "model_name": "LayoutModel",
      "state": {
       "_model_module_version": "~2.1.4",
       "_view_module_version": "~2.1.4"
      }
     },
     "65900439bbcd4300b0735f9222c427d5": {
      "model_module": "jupyter-js-widgets",
      "model_module_version": "~2.1.4",
      "model_name": "DropdownModel",
      "state": {
       "_model_module_version": "~2.1.4",
       "_options_labels": [
        "All",
        "GreaterSydney",
        "RegionalNSW"
       ],
       "_view_module_version": "~2.1.4",
       "description": "LGAs:",
       "layout": "IPY_MODEL_eefe4802ceb441d7afb6379a5de85d50",
       "value": "RegionalNSW"
      }
     },
     "660c1bd848fe4739b0c5b2b3925fbc32": {
      "model_module": "jupyter-js-widgets",
      "model_module_version": "~2.1.4",
      "model_name": "SelectMultipleModel",
      "state": {
       "_model_module_version": "~2.1.4",
       "_options_labels": [
        "1995",
        "1996",
        "1997",
        "1998",
        "1999",
        "2000",
        "2001",
        "2002",
        "2003",
        "2004",
        "2005",
        "2006",
        "2007",
        "2008",
        "2009",
        "2010",
        "2011",
        "2012",
        "2013",
        "2014",
        "2015",
        "2016"
       ],
       "_view_module_version": "~2.1.4",
       "description": "Years",
       "layout": "IPY_MODEL_09b452def73248e2a994a331d63d27c0",
       "value": [
        "1995",
        "1996",
        "1997",
        "1998",
        "1999",
        "2000",
        "2001",
        "2002",
        "2003",
        "2004",
        "2005",
        "2006",
        "2007",
        "2008",
        "2009",
        "2010",
        "2011",
        "2012",
        "2013",
        "2014",
        "2015",
        "2016"
       ]
      }
     },
     "663cd6f88edd44849f423d63078cb503": {
      "model_module": "jupyter-js-widgets",
      "model_module_version": "~2.1.4",
      "model_name": "LayoutModel",
      "state": {
       "_model_module_version": "~2.1.4",
       "_view_module_version": "~2.1.4"
      }
     },
     "67432e29850c47229c36a76d142f06af": {
      "model_module": "jupyter-js-widgets",
      "model_module_version": "~2.1.4",
      "model_name": "ButtonModel",
      "state": {
       "_model_module_version": "~2.1.4",
       "_view_module_version": "~2.1.4",
       "description": "Run Interact",
       "layout": "IPY_MODEL_3e23280f856242cbab8cdeae19025e9c",
       "style": "IPY_MODEL_906ca5aec2474b92a91373c3eb455310"
      }
     },
     "679619c21dee4f94bd30094b93e88c78": {
      "model_module": "jupyter-js-widgets",
      "model_module_version": "~2.1.4",
      "model_name": "VBoxModel",
      "state": {
       "_dom_classes": [
        "widget-interact"
       ],
       "_model_module_version": "~2.1.4",
       "_view_module_version": "~2.1.4",
       "children": [
        "IPY_MODEL_150e5d52aa2b4979bc72d2f9c3e38658",
        "IPY_MODEL_e0e6e1a3715e4cebaf9b8f16e4517426",
        "IPY_MODEL_b6e7d71f3f784ebc91149162c4eabdde"
       ],
       "layout": "IPY_MODEL_5a8463d3e1ed44bcaa1962c9f82cac07"
      }
     },
     "67e0143b3b5444fa97d8e991b2489ce2": {
      "model_module": "jupyter-js-widgets",
      "model_module_version": "~2.1.4",
      "model_name": "ButtonModel",
      "state": {
       "_model_module_version": "~2.1.4",
       "_view_module_version": "~2.1.4",
       "description": "Run Interact",
       "layout": "IPY_MODEL_f2ccddb934a345989723c75b8df17d30",
       "style": "IPY_MODEL_46479798eef94d43af184954d907bb66"
      }
     },
     "686b65b08fb74f25b5ac426322de39e2": {
      "model_module": "jupyter-js-widgets",
      "model_module_version": "~2.1.4",
      "model_name": "OutputModel",
      "state": {
       "_dom_classes": [],
       "_model_module": "jupyter-js-widgets",
       "_model_module_version": "~2.1.4",
       "_view_module": "jupyter-js-widgets",
       "_view_module_version": "~2.1.4",
       "layout": "IPY_MODEL_643b990ebca048e1b1f1c185f5bc5b19",
       "msg_throttle": 1
      }
     },
     "68b3dc33c8844f3a9b2bb31f499710ca": {
      "model_module": "jupyter-js-widgets",
      "model_module_version": "~2.1.4",
      "model_name": "ButtonStyleModel",
      "state": {
       "_model_module_version": "~2.1.4",
       "_view_module_version": "~2.1.4"
      }
     },
     "68f4708bf307413db9f5fd13d8fc94e6": {
      "model_module": "jupyter-js-widgets",
      "model_module_version": "~2.1.4",
      "model_name": "LayoutModel",
      "state": {
       "_model_module_version": "~2.1.4",
       "_view_module_version": "~2.1.4"
      }
     },
     "6957591267a1425eaec59fbed1396965": {
      "model_module": "jupyter-js-widgets",
      "model_module_version": "~2.1.4",
      "model_name": "ButtonModel",
      "state": {
       "_model_module_version": "~2.1.4",
       "_view_module_version": "~2.1.4",
       "description": "Run Interact",
       "layout": "IPY_MODEL_d53bc3e627824d13a92a675427e5338c",
       "style": "IPY_MODEL_d0e1ff07d8954e2e8ef0d21cd76acad7"
      }
     },
     "6961f705527f4cdfa999b06882ace828": {
      "model_module": "jupyter-js-widgets",
      "model_module_version": "~2.1.4",
      "model_name": "DropdownModel",
      "state": {
       "_model_module_version": "~2.1.4",
       "_options_labels": [
        "All",
        "GreaterSydney",
        "RegionalNSW"
       ],
       "_view_module_version": "~2.1.4",
       "description": "LGAs:",
       "layout": "IPY_MODEL_18fac077632c4997a08b3c2b19703c0e",
       "value": "All"
      }
     },
     "69ee3f08f963424481caad48f96d797b": {
      "model_module": "jupyter-js-widgets",
      "model_module_version": "~2.1.4",
      "model_name": "LayoutModel",
      "state": {
       "_model_module_version": "~2.1.4",
       "_view_module_version": "~2.1.4",
       "display": "inline_flex",
       "flex_flow": "column"
      }
     },
     "6a20f50a547d4936b5ac34ce316ec3da": {
      "model_module": "jupyter-js-widgets",
      "model_module_version": "~2.1.4",
      "model_name": "LayoutModel",
      "state": {
       "_model_module_version": "~2.1.4",
       "_view_module_version": "~2.1.4"
      }
     },
     "6adafd87d0eb4854b6c648c2d3659198": {
      "model_module": "jupyter-js-widgets",
      "model_module_version": "~2.1.4",
      "model_name": "LayoutModel",
      "state": {
       "_model_module_version": "~2.1.4",
       "_view_module_version": "~2.1.4"
      }
     },
     "6b4fca5b1e9c40319866b814732582b4": {
      "model_module": "jupyter-js-widgets",
      "model_module_version": "~2.1.4",
      "model_name": "ButtonModel",
      "state": {
       "_model_module_version": "~2.1.4",
       "_view_module_version": "~2.1.4",
       "description": "Run Interact",
       "layout": "IPY_MODEL_348c48aa952145a7b1b96723a2172339",
       "style": "IPY_MODEL_d7df0c6cd23f44e087a326f2680914db"
      }
     },
     "6b633b3b51a44b75b5e2fc0fdb6683c5": {
      "model_module": "jupyter-js-widgets",
      "model_module_version": "~2.1.4",
      "model_name": "VBoxModel",
      "state": {
       "_dom_classes": [
        "widget-interact"
       ],
       "_model_module_version": "~2.1.4",
       "_view_module_version": "~2.1.4",
       "children": [
        "IPY_MODEL_65900439bbcd4300b0735f9222c427d5",
        "IPY_MODEL_359fc8127e5a4232b91e068814a3d983",
        "IPY_MODEL_500a481236a24935831ef6aa8603d939",
        "IPY_MODEL_573bc1179b8f43c78595af785b4f3220",
        "IPY_MODEL_686b65b08fb74f25b5ac426322de39e2"
       ],
       "layout": "IPY_MODEL_a121626df6c749f08e8ae577c30a834d"
      }
     },
     "6bea811d13294ae19ef7a7fdf205c91d": {
      "model_module": "jupyter-js-widgets",
      "model_module_version": "~2.1.4",
      "model_name": "LayoutModel",
      "state": {
       "_model_module_version": "~2.1.4",
       "_view_module_version": "~2.1.4"
      }
     },
     "6bf7b1a861474a12bdc9491cccc612f5": {
      "model_module": "jupyter-js-widgets",
      "model_module_version": "~2.1.4",
      "model_name": "RadioButtonsModel",
      "state": {
       "_model_module_version": "~2.1.4",
       "_options_labels": [
        "sum_median_rank",
        "sum_mean_rank",
        "adj_median_rank",
        "adj_mean_rank"
       ],
       "_view_module_version": "~2.1.4",
       "description": "Sorting Order:",
       "layout": "IPY_MODEL_c7c7ce0b3b9e4425bfd6b9dfdcee4535",
       "value": "adj_mean_rank"
      }
     },
     "6c13f3bef10340ed8cac303605025c7b": {
      "model_module": "jupyter-js-widgets",
      "model_module_version": "~2.1.4",
      "model_name": "VBoxModel",
      "state": {
       "_dom_classes": [
        "widget-interact"
       ],
       "_model_module_version": "~2.1.4",
       "_view_module_version": "~2.1.4",
       "children": [
        "IPY_MODEL_b1909e2c2bb5475d83d9894a081b4c47",
        "IPY_MODEL_3105c4cc1d7240509a86bd28ebb7d1b5",
        "IPY_MODEL_1eab5aa6b0db49af97bdabe29b386d1e",
        "IPY_MODEL_e6eaa25d59784f82b54cdce26b7cfe7c",
        "IPY_MODEL_1edc2c0cb1bc49cd9ab1a8ab6b01deed"
       ],
       "layout": "IPY_MODEL_e73203bcc5714593bfbf09f7ea5fb727"
      }
     },
     "6c9e68b73d054f08a8b86ea0aa347e7e": {
      "model_module": "jupyter-js-widgets",
      "model_module_version": "~2.1.4",
      "model_name": "LayoutModel",
      "state": {
       "_model_module_version": "~2.1.4",
       "_view_module_version": "~2.1.4",
       "width": "20%"
      }
     },
     "6d1652d7f3954510997f3fb9c8097197": {
      "model_module": "jupyter-js-widgets",
      "model_module_version": "~2.1.4",
      "model_name": "VBoxModel",
      "state": {
       "_dom_classes": [
        "widget-interact"
       ],
       "_model_module_version": "~2.1.4",
       "_view_module_version": "~2.1.4",
       "children": [
        "IPY_MODEL_1a131398bfc04974b2c5d6f0d6fb1176",
        "IPY_MODEL_d76fa90fa3a547fcbefd58cddcfc90bd",
        "IPY_MODEL_599642e9c45948979745639e9dd40423"
       ],
       "layout": "IPY_MODEL_bd1a63d1da244563a54967492076cae5"
      }
     },
     "6d499f8d92424ae7904776d3a757b685": {
      "model_module": "jupyter-js-widgets",
      "model_module_version": "~2.1.4",
      "model_name": "LayoutModel",
      "state": {
       "_model_module_version": "~2.1.4",
       "_view_module_version": "~2.1.4"
      }
     },
     "6d59f3971d7c432b8bf59546d5fd9525": {
      "model_module": "jupyter-js-widgets",
      "model_module_version": "~2.1.4",
      "model_name": "VBoxModel",
      "state": {
       "_dom_classes": [
        "widget-interact"
       ],
       "_model_module_version": "~2.1.4",
       "_view_module_version": "~2.1.4",
       "children": [
        "IPY_MODEL_a27e994acdda48d89b93a4fb039f957f",
        "IPY_MODEL_f3fc1ec27f224452978252c4201405d2"
       ],
       "layout": "IPY_MODEL_33d7d4a03fc7496c957f93ffcc58536c"
      }
     },
     "6db51497f09c49dfb1da95161ba080be": {
      "model_module": "jupyter-js-widgets",
      "model_module_version": "~2.1.4",
      "model_name": "DropdownModel",
      "state": {
       "_model_module_version": "~2.1.4",
       "_options_labels": [
        "Albury",
        "Armidale Dumaresq",
        "Ashfield",
        "Auburn",
        "Ballina",
        "Balranald",
        "Bankstown",
        "Bathurst Regional",
        "Bega Valley",
        "Bellingen",
        "Berrigan",
        "Blacktown",
        "Bland",
        "Blayney",
        "Blue Mountains",
        "Bogan",
        "Bombala",
        "Boorowa",
        "Botany Bay",
        "Bourke",
        "Brewarrina",
        "Broken Hill",
        "Burwood",
        "Byron",
        "Cabonne",
        "Camden",
        "Campbelltown",
        "Canada Bay",
        "Canterbury",
        "Carrathool",
        "Central Darling",
        "Cessnock",
        "Clarence Valley",
        "Cobar",
        "Coffs Harbour",
        "Conargo",
        "Coolamon",
        "Cooma-Monaro",
        "Coonamble",
        "Cootamundra",
        "Corowa Shire",
        "Cowra",
        "Deniliquin",
        "Dubbo",
        "Dungog",
        "Eurobodalla",
        "Fairfield",
        "Forbes",
        "Gilgandra",
        "Glen Innes Severn",
        "Gloucester",
        "Gosford",
        "Goulburn Mulwaree",
        "Great Lakes",
        "Greater Hume Shire",
        "Greater Taree",
        "Griffith",
        "Gundagai",
        "Gunnedah",
        "Guyra",
        "Gwydir",
        "Harden",
        "Hawkesbury",
        "Hay",
        "Holroyd",
        "Hornsby",
        "Hunters Hill",
        "Hurstville",
        "Inverell",
        "Jerilderie",
        "Junee",
        "Kempsey",
        "Kiama",
        "Kogarah",
        "Ku-ring-gai",
        "Kyogle",
        "Lachlan",
        "Lake Macquarie",
        "Lane Cove",
        "Leeton",
        "Leichhardt",
        "Lismore",
        "Lithgow",
        "Liverpool",
        "Liverpool Plains",
        "Lockhart",
        "Maitland",
        "Manly",
        "Marrickville",
        "Mid-Western Regional",
        "Moree Plains",
        "Mosman",
        "Murray",
        "Murrumbidgee",
        "Muswellbrook",
        "Nambucca",
        "Narrabri",
        "Narrandera",
        "Narromine",
        "Newcastle",
        "North Sydney",
        "Oberon",
        "Orange",
        "Palerang",
        "Parkes",
        "Parramatta",
        "Penrith",
        "Pittwater",
        "Port Macquarie-Hastings",
        "Port Stephens",
        "Queanbeyan",
        "Randwick",
        "Richmond Valley",
        "Rockdale",
        "Ryde",
        "Shellharbour",
        "Shoalhaven",
        "Singleton",
        "Snowy River",
        "Strathfield",
        "Sutherland Shire",
        "Sydney",
        "Tamworth Regional",
        "Temora",
        "Tenterfield",
        "The Hills Shire",
        "Tumbarumba",
        "Tumut Shire",
        "Tweed",
        "Unincorporated Far West",
        "Upper Hunter Shire",
        "Upper Lachlan Shire",
        "Uralla",
        "Urana",
        "Wagga Wagga",
        "Wakool",
        "Walcha",
        "Walgett",
        "Warren",
        "Warringah",
        "Warrumbungle Shire",
        "Waverley",
        "Weddin",
        "Wellington",
        "Wentworth",
        "Willoughby",
        "Wingecarribee",
        "Wollondilly",
        "Wollongong",
        "Woollahra",
        "Wyong",
        "Yass Valley",
        "Young"
       ],
       "_view_module_version": "~2.1.4",
       "description": "LGA1",
       "layout": "IPY_MODEL_dcfa20b0e8144875849a2a611a688939",
       "value": "Parramatta"
      }
     },
     "6dc0d3339221482d89d625a8ab78e37d": {
      "model_module": "jupyter-js-widgets",
      "model_module_version": "~2.1.4",
      "model_name": "LayoutModel",
      "state": {
       "_model_module_version": "~2.1.4",
       "_view_module_version": "~2.1.4"
      }
     },
     "6e402c3cff354fa5bc0bf375952b49a4": {
      "model_module": "jupyter-js-widgets",
      "model_module_version": "~2.1.4",
      "model_name": "LayoutModel",
      "state": {
       "_model_module_version": "~2.1.4",
       "_view_module_version": "~2.1.4"
      }
     },
     "6ebe536f329d4743a73561093f8106aa": {
      "model_module": "jupyter-js-widgets",
      "model_module_version": "~2.1.4",
      "model_name": "LayoutModel",
      "state": {
       "_model_module_version": "~2.1.4",
       "_view_module_version": "~2.1.4"
      }
     },
     "6ecf7eb6c5784128b26467d2f27a119e": {
      "model_module": "jupyter-js-widgets",
      "model_module_version": "~2.1.4",
      "model_name": "ButtonStyleModel",
      "state": {
       "_model_module_version": "~2.1.4",
       "_view_module_version": "~2.1.4"
      }
     },
     "6f1f9996bb5f4976bd254beece1b5a7e": {
      "model_module": "jupyter-js-widgets",
      "model_module_version": "~2.1.4",
      "model_name": "LayoutModel",
      "state": {
       "_model_module_version": "~2.1.4",
       "_view_module_version": "~2.1.4"
      }
     },
     "6f73b6398ad845fab8e332f5f1f5c4e0": {
      "model_module": "jupyter-js-widgets",
      "model_module_version": "~2.1.4",
      "model_name": "LayoutModel",
      "state": {
       "_model_module_version": "~2.1.4",
       "_view_module_version": "~2.1.4"
      }
     },
     "703874b463af4ee1937c9a5e5dc528c3": {
      "model_module": "jupyter-js-widgets",
      "model_module_version": "~2.1.4",
      "model_name": "LayoutModel",
      "state": {
       "_model_module_version": "~2.1.4",
       "_view_module_version": "~2.1.4"
      }
     },
     "706e1a0f5733442ca1ee9f6d59f591a4": {
      "model_module": "jupyter-js-widgets",
      "model_module_version": "~2.1.4",
      "model_name": "LayoutModel",
      "state": {
       "_model_module_version": "~2.1.4",
       "_view_module_version": "~2.1.4",
       "display": "flex",
       "flex_flow": "column"
      }
     },
     "70ea2b3662074a489912154441ec8113": {
      "model_module": "jupyter-js-widgets",
      "model_module_version": "~2.1.4",
      "model_name": "LayoutModel",
      "state": {
       "_model_module_version": "~2.1.4",
       "_view_module_version": "~2.1.4"
      }
     },
     "70fa48db5cae4d11ac0b0841488ba407": {
      "model_module": "jupyter-js-widgets",
      "model_module_version": "~2.1.4",
      "model_name": "OutputModel",
      "state": {
       "_dom_classes": [],
       "_model_module": "jupyter-js-widgets",
       "_model_module_version": "~2.1.4",
       "_view_module": "jupyter-js-widgets",
       "_view_module_version": "~2.1.4",
       "layout": "IPY_MODEL_247bc6f293454da7a2985d425bc65ab0",
       "msg_throttle": 1
      }
     },
     "71175e425a734a8892e47c763c524afb": {
      "model_module": "jupyter-js-widgets",
      "model_module_version": "~2.1.4",
      "model_name": "SelectMultipleModel",
      "state": {
       "_model_module_version": "~2.1.4",
       "_options_labels": [
        "1995",
        "1996",
        "1997",
        "1998",
        "1999",
        "2000",
        "2001",
        "2002",
        "2003",
        "2004",
        "2005",
        "2006",
        "2007",
        "2008",
        "2009",
        "2010",
        "2011",
        "2012",
        "2013",
        "2014",
        "2015",
        "2016"
       ],
       "_view_module_version": "~2.1.4",
       "description": "Years",
       "layout": "IPY_MODEL_89cc78baae254525aca5949b91ffd65b",
       "value": [
        "1995",
        "1996",
        "1997",
        "1998",
        "1999",
        "2000",
        "2001",
        "2002",
        "2003",
        "2004",
        "2005",
        "2006",
        "2007",
        "2008",
        "2009",
        "2010",
        "2011",
        "2012",
        "2013",
        "2014",
        "2015",
        "2016"
       ]
      }
     },
     "711f86156e034abaa4cb52340e69d25d": {
      "model_module": "jupyter-js-widgets",
      "model_module_version": "~2.1.4",
      "model_name": "OutputModel",
      "state": {
       "_dom_classes": [],
       "_model_module": "jupyter-js-widgets",
       "_model_module_version": "~2.1.4",
       "_view_module": "jupyter-js-widgets",
       "_view_module_version": "~2.1.4",
       "layout": "IPY_MODEL_d5cd7539ae9b44f09b98005edca82e18",
       "msg_throttle": 1
      }
     },
     "7181763c9cf24bbcb6d1843990a3c046": {
      "model_module": "jupyter-js-widgets",
      "model_module_version": "~2.1.4",
      "model_name": "VBoxModel",
      "state": {
       "_dom_classes": [
        "widget-interact"
       ],
       "_model_module_version": "~2.1.4",
       "_view_module_version": "~2.1.4",
       "children": [
        "IPY_MODEL_b1909e2c2bb5475d83d9894a081b4c47",
        "IPY_MODEL_3105c4cc1d7240509a86bd28ebb7d1b5",
        "IPY_MODEL_1eab5aa6b0db49af97bdabe29b386d1e",
        "IPY_MODEL_b2b14c1d0f314dccaace8a1b28922192",
        "IPY_MODEL_9d94e62f07274ef0831ad439a30e6d3d"
       ],
       "layout": "IPY_MODEL_2339e6eb559f45339fcd1fad575f5a51"
      }
     },
     "7196950300d84fe3ada0c0c27d2e0518": {
      "model_module": "jupyter-js-widgets",
      "model_module_version": "~2.1.4",
      "model_name": "ButtonStyleModel",
      "state": {
       "_model_module_version": "~2.1.4",
       "_view_module_version": "~2.1.4"
      }
     },
     "71d36702023342b9ac74b5fca22ca712": {
      "model_module": "jupyter-js-widgets",
      "model_module_version": "~2.1.4",
      "model_name": "VBoxModel",
      "state": {
       "_dom_classes": [
        "widget-interact"
       ],
       "_model_module_version": "~2.1.4",
       "_view_module_version": "~2.1.4",
       "children": [
        "IPY_MODEL_b1909e2c2bb5475d83d9894a081b4c47",
        "IPY_MODEL_3105c4cc1d7240509a86bd28ebb7d1b5",
        "IPY_MODEL_1eab5aa6b0db49af97bdabe29b386d1e",
        "IPY_MODEL_b257011b98ae4a62bb1f309f5e803f36",
        "IPY_MODEL_179802c266184499b23e445e45cb981d"
       ],
       "layout": "IPY_MODEL_070be3f2089a4e1eb4ca2868c5b0fbb2"
      }
     },
     "71efbaeb97b44cdc9bfc1a084fef75dc": {
      "model_module": "jupyter-js-widgets",
      "model_module_version": "~2.1.4",
      "model_name": "VBoxModel",
      "state": {
       "_dom_classes": [
        "widget-interact"
       ],
       "_model_module_version": "~2.1.4",
       "_view_module_version": "~2.1.4",
       "children": [
        "IPY_MODEL_b1909e2c2bb5475d83d9894a081b4c47",
        "IPY_MODEL_3105c4cc1d7240509a86bd28ebb7d1b5",
        "IPY_MODEL_1eab5aa6b0db49af97bdabe29b386d1e",
        "IPY_MODEL_38daae89def24a5fa121a953618247e7",
        "IPY_MODEL_730d088d9a6c4bd69c78697ff21a400c"
       ],
       "layout": "IPY_MODEL_df49bc3708514b0297d4309bc1e09f86"
      }
     },
     "71ff1f9eb9df4279bdcb56de5187f2de": {
      "model_module": "jupyter-js-widgets",
      "model_module_version": "~2.1.4",
      "model_name": "LayoutModel",
      "state": {
       "_model_module_version": "~2.1.4",
       "_view_module_version": "~2.1.4"
      }
     },
     "72646f66def144c9848adab167465774": {
      "model_module": "jupyter-js-widgets",
      "model_module_version": "~2.1.4",
      "model_name": "LayoutModel",
      "state": {
       "_model_module_version": "~2.1.4",
       "_view_module_version": "~2.1.4"
      }
     },
     "72ae7a16d17b45a7a98eea4e2fbacbff": {
      "model_module": "jupyter-js-widgets",
      "model_module_version": "~2.1.4",
      "model_name": "ButtonModel",
      "state": {
       "_model_module_version": "~2.1.4",
       "_view_module_version": "~2.1.4",
       "description": "Run Interact",
       "layout": "IPY_MODEL_d036aca26abd47b3bfe032ddfbdb6910",
       "style": "IPY_MODEL_3f01e373ae2545b7afed8e8a9408cea1"
      }
     },
     "72c2e0ccc2a246649f7460a73bf62bcc": {
      "model_module": "jupyter-js-widgets",
      "model_module_version": "~2.1.4",
      "model_name": "OutputModel",
      "state": {
       "_dom_classes": [],
       "_model_module": "jupyter-js-widgets",
       "_model_module_version": "~2.1.4",
       "_view_module": "jupyter-js-widgets",
       "_view_module_version": "~2.1.4",
       "layout": "IPY_MODEL_ab6311c4ab574357ae9a92f44e97e1eb",
       "msg_throttle": 1
      }
     },
     "72cdc227fc7647348e5bbbc1191c1acf": {
      "model_module": "jupyter-js-widgets",
      "model_module_version": "~2.1.4",
      "model_name": "ButtonStyleModel",
      "state": {
       "_model_module_version": "~2.1.4",
       "_view_module_version": "~2.1.4"
      }
     },
     "72e0c0acc6f6493793c9d0de1038c4ca": {
      "model_module": "jupyter-js-widgets",
      "model_module_version": "~2.1.4",
      "model_name": "SelectMultipleModel",
      "state": {
       "_model_module_version": "~2.1.4",
       "_options_labels": [
        "Homicide",
        "Assault",
        "Sexual offences",
        "Other offences against the person",
        "Robbery",
        "Property offences",
        "Drug Possession",
        "Drug Dealing",
        "Vice",
        "Weapons offences",
        "Other offences"
       ],
       "_view_module_version": "~2.1.4",
       "description": "Categories",
       "layout": "IPY_MODEL_ef18a533f3484712bdd35dd657ed5fde",
       "value": [
        "Homicide",
        "Assault",
        "Sexual offences",
        "Other offences against the person",
        "Robbery",
        "Drug Possession",
        "Drug Dealing",
        "Vice",
        "Weapons offences"
       ]
      }
     },
     "72e68840aa494cfe8ed76e06bde46eb0": {
      "model_module": "jupyter-js-widgets",
      "model_module_version": "~2.1.4",
      "model_name": "LayoutModel",
      "state": {
       "_model_module_version": "~2.1.4",
       "_view_module_version": "~2.1.4"
      }
     },
     "72f50f3cc042451e92e7211ff2e9e19a": {
      "model_module": "jupyter-js-widgets",
      "model_module_version": "~2.1.4",
      "model_name": "ButtonModel",
      "state": {
       "_model_module_version": "~2.1.4",
       "_view_module_version": "~2.1.4",
       "description": "Run Interact",
       "layout": "IPY_MODEL_7e128456f9b0414599ad0f395e0f32b2",
       "style": "IPY_MODEL_37e4d738f40040c8b8303245618fd27f"
      }
     },
     "730d088d9a6c4bd69c78697ff21a400c": {
      "model_module": "jupyter-js-widgets",
      "model_module_version": "~2.1.4",
      "model_name": "OutputModel",
      "state": {
       "_dom_classes": [],
       "_model_module": "jupyter-js-widgets",
       "_model_module_version": "~2.1.4",
       "_view_module": "jupyter-js-widgets",
       "_view_module_version": "~2.1.4",
       "layout": "IPY_MODEL_8f3a21bd1adb4ba6b77217fa028b9d38",
       "msg_throttle": 1
      }
     },
     "73176a8e67584fd7a682428a627f23ac": {
      "model_module": "jupyter-js-widgets",
      "model_module_version": "~2.1.4",
      "model_name": "LayoutModel",
      "state": {
       "_model_module_version": "~2.1.4",
       "_view_module_version": "~2.1.4"
      }
     },
     "736c10e8429346ff9d9a9e24586c38e4": {
      "model_module": "jupyter-js-widgets",
      "model_module_version": "~2.1.4",
      "model_name": "OutputModel",
      "state": {
       "_dom_classes": [],
       "_model_module": "jupyter-js-widgets",
       "_model_module_version": "~2.1.4",
       "_view_module": "jupyter-js-widgets",
       "_view_module_version": "~2.1.4",
       "layout": "IPY_MODEL_3cca404676d643479fe73ef043d301f6",
       "msg_throttle": 1
      }
     },
     "739a0e5fc50b4ad1876303d3a73af56b": {
      "model_module": "jupyter-js-widgets",
      "model_module_version": "~2.1.4",
      "model_name": "SelectMultipleModel",
      "state": {
       "_model_module_version": "~2.1.4",
       "_options_labels": [
        "1995",
        "1996",
        "1997",
        "1998",
        "1999",
        "2000",
        "2001",
        "2002",
        "2003",
        "2004",
        "2005",
        "2006",
        "2007",
        "2008",
        "2009",
        "2010",
        "2011",
        "2012",
        "2013",
        "2014",
        "2015",
        "2016"
       ],
       "_view_module_version": "~2.1.4",
       "description": "Years",
       "layout": "IPY_MODEL_d5f84bb985234628867cd792249315e3",
       "value": [
        "2012",
        "2013",
        "2014",
        "2015",
        "2016"
       ]
      }
     },
     "73dbe60959c24fcba8394e5fdb4e4c76": {
      "model_module": "jupyter-js-widgets",
      "model_module_version": "~2.1.4",
      "model_name": "SelectMultipleModel",
      "state": {
       "_model_module_version": "~2.1.4",
       "_options_labels": [
        "Homicide",
        "Assault",
        "Sexual offences",
        "Other offences against the person",
        "Robbery",
        "Property offences",
        "Drug Possession",
        "Drug Dealing",
        "Vice",
        "Weapons offences",
        "Other offences"
       ],
       "_view_module_version": "~2.1.4",
       "description": "Categories",
       "layout": "IPY_MODEL_1c4228a8a868414898dd0f562fe91de2",
       "value": [
        "Homicide",
        "Assault",
        "Sexual offences",
        "Other offences against the person",
        "Robbery",
        "Property offences",
        "Drug Possession",
        "Drug Dealing",
        "Vice",
        "Weapons offences",
        "Other offences"
       ]
      }
     },
     "73f1ee9021ba4b70a84773f846fee3c2": {
      "model_module": "jupyter-js-widgets",
      "model_module_version": "~2.1.4",
      "model_name": "OutputModel",
      "state": {
       "_dom_classes": [],
       "_model_module": "jupyter-js-widgets",
       "_model_module_version": "~2.1.4",
       "_view_module": "jupyter-js-widgets",
       "_view_module_version": "~2.1.4",
       "layout": "IPY_MODEL_d57dada287424f9199e7e3aebf612ae2",
       "msg_throttle": 1
      }
     },
     "74c2fcaec0c74976a560159770279f65": {
      "model_module": "jupyter-js-widgets",
      "model_module_version": "~2.1.4",
      "model_name": "LayoutModel",
      "state": {
       "_model_module_version": "~2.1.4",
       "_view_module_version": "~2.1.4"
      }
     },
     "74f0dfbc94324608b7d69ff7c403a82e": {
      "model_module": "jupyter-js-widgets",
      "model_module_version": "~2.1.4",
      "model_name": "LayoutModel",
      "state": {
       "_model_module_version": "~2.1.4",
       "_view_module_version": "~2.1.4"
      }
     },
     "757e10abb59845a1b2fe46984f887a58": {
      "model_module": "jupyter-js-widgets",
      "model_module_version": "~2.1.4",
      "model_name": "ButtonStyleModel",
      "state": {
       "_model_module_version": "~2.1.4",
       "_view_module_version": "~2.1.4"
      }
     },
     "762225c1fde64889ab8549765e829b6a": {
      "model_module": "jupyter-js-widgets",
      "model_module_version": "~2.1.4",
      "model_name": "LayoutModel",
      "state": {
       "_model_module_version": "~2.1.4",
       "_view_module_version": "~2.1.4"
      }
     },
     "762c32bde491440ca5d4b9d7a37d303b": {
      "model_module": "jupyter-js-widgets",
      "model_module_version": "~2.1.4",
      "model_name": "ButtonModel",
      "state": {
       "_model_module_version": "~2.1.4",
       "_view_module_version": "~2.1.4",
       "description": "Run Interact",
       "layout": "IPY_MODEL_39776fb71ab949bca30548de5996f3fe",
       "style": "IPY_MODEL_d7c077f8b4674483b47ef7a1c83d8911"
      }
     },
     "7640b5f6b4f7450da12c56d8ba772d54": {
      "model_module": "jupyter-js-widgets",
      "model_module_version": "~2.1.4",
      "model_name": "LayoutModel",
      "state": {
       "_model_module_version": "~2.1.4",
       "_view_module_version": "~2.1.4",
       "display": "inline_flex",
       "flex_flow": "column"
      }
     },
     "7656f7628c66495e85857b43824de07b": {
      "model_module": "jupyter-js-widgets",
      "model_module_version": "~2.1.4",
      "model_name": "LayoutModel",
      "state": {
       "_model_module_version": "~2.1.4",
       "_view_module_version": "~2.1.4"
      }
     },
     "766b0fb1f3b44843b6856a35f4359cc8": {
      "model_module": "jupyter-js-widgets",
      "model_module_version": "~2.1.4",
      "model_name": "LayoutModel",
      "state": {
       "_model_module_version": "~2.1.4",
       "_view_module_version": "~2.1.4"
      }
     },
     "76e888035ca94a82a0097a51f7e9bf52": {
      "model_module": "jupyter-js-widgets",
      "model_module_version": "~2.1.4",
      "model_name": "VBoxModel",
      "state": {
       "_dom_classes": [
        "widget-interact"
       ],
       "_model_module_version": "~2.1.4",
       "_view_module_version": "~2.1.4",
       "children": [
        "IPY_MODEL_60a736aef6834e6ea3044045fa8ca407",
        "IPY_MODEL_af0a1f40d2d744eaa4fb9db7d9aed98e",
        "IPY_MODEL_244b357153b644ffb2793a1afe3c676d",
        "IPY_MODEL_8035593caa6840749deeaad322894566"
       ],
       "layout": "IPY_MODEL_432fa2aaec7e4a0bac04a98e65dc1178"
      }
     },
     "771b89ee99c040bfa12058c5a4e6178a": {
      "model_module": "jupyter-js-widgets",
      "model_module_version": "~2.1.4",
      "model_name": "OutputModel",
      "state": {
       "_dom_classes": [],
       "_model_module": "jupyter-js-widgets",
       "_model_module_version": "~2.1.4",
       "_view_module": "jupyter-js-widgets",
       "_view_module_version": "~2.1.4",
       "layout": "IPY_MODEL_3008829809714766b273821e25342a10",
       "msg_throttle": 1
      }
     },
     "772a1dc35f4642c1953f02f95ffbe7c9": {
      "model_module": "jupyter-js-widgets",
      "model_module_version": "~2.1.4",
      "model_name": "LayoutModel",
      "state": {
       "_model_module_version": "~2.1.4",
       "_view_module_version": "~2.1.4",
       "display": "inline_flex",
       "flex_flow": "column",
       "width": "20%"
      }
     },
     "774dd89bad004f8a85ea2e851bf4c9c5": {
      "model_module": "jupyter-js-widgets",
      "model_module_version": "~2.1.4",
      "model_name": "LayoutModel",
      "state": {
       "_model_module_version": "~2.1.4",
       "_view_module_version": "~2.1.4",
       "width": "20%"
      }
     },
     "77577b475d05411d8e8379d34cb92e61": {
      "model_module": "jupyter-js-widgets",
      "model_module_version": "~2.1.4",
      "model_name": "VBoxModel",
      "state": {
       "_dom_classes": [
        "widget-interact"
       ],
       "_model_module_version": "~2.1.4",
       "_view_module_version": "~2.1.4",
       "children": [
        "IPY_MODEL_ac69614dfd834a2497168dac48440525",
        "IPY_MODEL_b45566692f4f451baf0f76daf81e90ed"
       ],
       "layout": "IPY_MODEL_b6c5f263e05747f98b16a72320c321da"
      }
     },
     "778c00f6568c40a9b8eadfe59e3dd4f7": {
      "model_module": "jupyter-js-widgets",
      "model_module_version": "~2.1.4",
      "model_name": "OutputModel",
      "state": {
       "_dom_classes": [],
       "_model_module": "jupyter-js-widgets",
       "_model_module_version": "~2.1.4",
       "_view_module": "jupyter-js-widgets",
       "_view_module_version": "~2.1.4",
       "layout": "IPY_MODEL_9ce54502d6564a74b75cf7f5114d5ec4",
       "msg_throttle": 1
      }
     },
     "77dad1aebda34ab2871ca83359506fa7": {
      "model_module": "jupyter-js-widgets",
      "model_module_version": "~2.1.4",
      "model_name": "VBoxModel",
      "state": {
       "_dom_classes": [
        "widget-interact"
       ],
       "_model_module_version": "~2.1.4",
       "_view_module_version": "~2.1.4",
       "children": [
        "IPY_MODEL_b1909e2c2bb5475d83d9894a081b4c47",
        "IPY_MODEL_3105c4cc1d7240509a86bd28ebb7d1b5",
        "IPY_MODEL_1eab5aa6b0db49af97bdabe29b386d1e",
        "IPY_MODEL_ee01cd79a938480bbff9e680af1fcb4c",
        "IPY_MODEL_b553d1c8724a4486b7e5b50713225ad9"
       ],
       "layout": "IPY_MODEL_c1a51ab44ba344779814caa8f0f47c9b"
      }
     },
     "77ea532e573f415a960dba67a833c5b8": {
      "model_module": "jupyter-js-widgets",
      "model_module_version": "~2.1.4",
      "model_name": "LayoutModel",
      "state": {
       "_model_module_version": "~2.1.4",
       "_view_module_version": "~2.1.4"
      }
     },
     "7810ed4dacd0432a928de2e00dcc22c9": {
      "model_module": "jupyter-js-widgets",
      "model_module_version": "~2.1.4",
      "model_name": "OutputModel",
      "state": {
       "_dom_classes": [],
       "_model_module": "jupyter-js-widgets",
       "_model_module_version": "~2.1.4",
       "_view_module": "jupyter-js-widgets",
       "_view_module_version": "~2.1.4",
       "layout": "IPY_MODEL_5b50b95a6ac648e28a797093216cd329",
       "msg_throttle": 1
      }
     },
     "787a7fd26cc8469d8b7f5a0df899061a": {
      "model_module": "jupyter-js-widgets",
      "model_module_version": "~2.1.4",
      "model_name": "ButtonStyleModel",
      "state": {
       "_model_module_version": "~2.1.4",
       "_view_module_version": "~2.1.4"
      }
     },
     "78c6fa05c4d34c39bbd37cb200c6a1e6": {
      "model_module": "jupyter-js-widgets",
      "model_module_version": "~2.1.4",
      "model_name": "RadioButtonsModel",
      "state": {
       "_model_module_version": "~2.1.4",
       "_options_labels": [
        "sum_median_rank",
        "sum_mean_rank",
        "adj_median_rank",
        "adj_mean_rank"
       ],
       "_view_module_version": "~2.1.4",
       "description": "Sorting Order:",
       "layout": "IPY_MODEL_bfb5c8354b134dee9505680f0030ee30",
       "value": "adj_mean_rank"
      }
     },
     "79221edf6f614e729f00d26eb624e76b": {
      "model_module": "jupyter-js-widgets",
      "model_module_version": "~2.1.4",
      "model_name": "LayoutModel",
      "state": {
       "_model_module_version": "~2.1.4",
       "_view_module_version": "~2.1.4"
      }
     },
     "79ee07e96f914816b3f022fa8665058c": {
      "model_module": "jupyter-js-widgets",
      "model_module_version": "~2.1.4",
      "model_name": "LayoutModel",
      "state": {
       "_model_module_version": "~2.1.4",
       "_view_module_version": "~2.1.4"
      }
     },
     "79f9de2c60d949b4acad1b846648f589": {
      "model_module": "jupyter-js-widgets",
      "model_module_version": "~2.1.4",
      "model_name": "SelectMultipleModel",
      "state": {
       "_model_module_version": "~2.1.4",
       "_options_labels": [
        "Homicide",
        "Assault",
        "Sexual offences",
        "Other offences against the person",
        "Robbery",
        "Property offences",
        "Drug Possession",
        "Drug Dealing",
        "Vice",
        "Weapons offences",
        "Other offences"
       ],
       "_view_module_version": "~2.1.4",
       "description": "Categories",
       "layout": "IPY_MODEL_5a82441a5cca4acab1b4e5d9af8c77a6",
       "value": [
        "Homicide",
        "Assault",
        "Sexual offences",
        "Other offences against the person",
        "Robbery",
        "Property offences",
        "Drug Possession",
        "Drug Dealing",
        "Vice",
        "Weapons offences",
        "Other offences"
       ]
      }
     },
     "7a2d43fb93184ce8b4a7c5b0fddca437": {
      "model_module": "jupyter-js-widgets",
      "model_module_version": "~2.1.4",
      "model_name": "LayoutModel",
      "state": {
       "_model_module_version": "~2.1.4",
       "_view_module_version": "~2.1.4"
      }
     },
     "7a8be5b1cd704c1ca0e66ad31d704317": {
      "model_module": "jupyter-js-widgets",
      "model_module_version": "~2.1.4",
      "model_name": "ButtonStyleModel",
      "state": {
       "_model_module_version": "~2.1.4",
       "_view_module_version": "~2.1.4"
      }
     },
     "7a97f1e6b47f4fbeaf3d43d156944c90": {
      "model_module": "jupyter-js-widgets",
      "model_module_version": "~2.1.4",
      "model_name": "ButtonModel",
      "state": {
       "_model_module_version": "~2.1.4",
       "_view_module_version": "~2.1.4",
       "description": "Run Interact",
       "layout": "IPY_MODEL_7656f7628c66495e85857b43824de07b",
       "style": "IPY_MODEL_757e10abb59845a1b2fe46984f887a58"
      }
     },
     "7ae0bc06c6b74049a0364669e969a3d0": {
      "model_module": "jupyter-js-widgets",
      "model_module_version": "~2.1.4",
      "model_name": "SelectMultipleModel",
      "state": {
       "_model_module_version": "~2.1.4",
       "_options_labels": [
        "Homicide",
        "Assault",
        "Sexual offences",
        "Other offences against the person",
        "Robbery",
        "Property offences",
        "Drug Possession",
        "Drug Dealing",
        "Vice",
        "Weapons offences",
        "Other offences"
       ],
       "_view_module_version": "~2.1.4",
       "description": "Categories",
       "layout": "IPY_MODEL_44ec6c61e6af4d5181af5fe2bb569a24",
       "value": [
        "Homicide",
        "Assault",
        "Sexual offences",
        "Other offences against the person",
        "Robbery",
        "Property offences",
        "Drug Possession",
        "Drug Dealing",
        "Vice",
        "Weapons offences",
        "Other offences"
       ]
      }
     },
     "7ae38c00e30b4a14911c44e0e88e552e": {
      "model_module": "jupyter-js-widgets",
      "model_module_version": "~2.1.4",
      "model_name": "SelectMultipleModel",
      "state": {
       "_model_module_version": "~2.1.4",
       "_options_labels": [
        "1995",
        "1996",
        "1997",
        "1998",
        "1999",
        "2000",
        "2001",
        "2002",
        "2003",
        "2004",
        "2005",
        "2006",
        "2007",
        "2008",
        "2009",
        "2010",
        "2011",
        "2012",
        "2013",
        "2014",
        "2015",
        "2016"
       ],
       "_view_module_version": "~2.1.4",
       "description": "Years",
       "layout": "IPY_MODEL_706e1a0f5733442ca1ee9f6d59f591a4",
       "value": [
        "2008"
       ]
      }
     },
     "7b638cb5831544f4abcf6c42be8b252a": {
      "model_module": "jupyter-js-widgets",
      "model_module_version": "~2.1.4",
      "model_name": "RadioButtonsModel",
      "state": {
       "_model_module_version": "~2.1.4",
       "_options_labels": [
        "sum_median_rank",
        "sum_mean_rank",
        "adj_median_rank",
        "adj_mean_rank"
       ],
       "_view_module_version": "~2.1.4",
       "description": "Sorting Order:",
       "layout": "IPY_MODEL_2c37c3f1989541449d2a0ec66565217d",
       "value": "sum_mean_rank"
      }
     },
     "7bd8e33fcf9b421da7086d18a074143c": {
      "model_module": "jupyter-js-widgets",
      "model_module_version": "~2.1.4",
      "model_name": "LayoutModel",
      "state": {
       "_model_module_version": "~2.1.4",
       "_view_module_version": "~2.1.4"
      }
     },
     "7bf688fbc63a43f8865e2e4fb6bfa5c7": {
      "model_module": "jupyter-js-widgets",
      "model_module_version": "~2.1.4",
      "model_name": "VBoxModel",
      "state": {
       "_dom_classes": [
        "widget-interact"
       ],
       "_model_module_version": "~2.1.4",
       "_view_module_version": "~2.1.4",
       "children": [
        "IPY_MODEL_eb060e651ddf4c4796f9d5da765abe72",
        "IPY_MODEL_5ba6836c0388419ab4f4376610e67992",
        "IPY_MODEL_81445db4e6fe423992f6a1f350a19cc3",
        "IPY_MODEL_92190aa58d894a83af5ff2e6522bb74c",
        "IPY_MODEL_851b8aefbedf4ee48d692558bc19f0f8"
       ],
       "layout": "IPY_MODEL_d9649e9e7eb741c6bb2d62ea7faafa8b"
      }
     },
     "7c480782e40a49ed87bb7cfad61089fc": {
      "model_module": "jupyter-js-widgets",
      "model_module_version": "~2.1.4",
      "model_name": "VBoxModel",
      "state": {
       "_dom_classes": [
        "widget-interact"
       ],
       "_model_module_version": "~2.1.4",
       "_view_module_version": "~2.1.4",
       "children": [
        "IPY_MODEL_cda4f7c0038549db9741494c40f84b57",
        "IPY_MODEL_660c1bd848fe4739b0c5b2b3925fbc32",
        "IPY_MODEL_3f784fb2af97410ca846583aeb79edcf",
        "IPY_MODEL_d6d60fe2310d4ad5a80425d4c773b0bd",
        "IPY_MODEL_403f958f88284413bb27a68b21d4bd72"
       ],
       "layout": "IPY_MODEL_6e402c3cff354fa5bc0bf375952b49a4"
      }
     },
     "7c81102489d84149b335e592c114955d": {
      "model_module": "jupyter-js-widgets",
      "model_module_version": "~2.1.4",
      "model_name": "LayoutModel",
      "state": {
       "_model_module_version": "~2.1.4",
       "_view_module_version": "~2.1.4"
      }
     },
     "7ca01041eee345edb3e510a15890a895": {
      "model_module": "jupyter-js-widgets",
      "model_module_version": "~2.1.4",
      "model_name": "LayoutModel",
      "state": {
       "_model_module_version": "~2.1.4",
       "_view_module_version": "~2.1.4"
      }
     },
     "7cc0e28ff5dc448196fadbc8ffe8f8c6": {
      "model_module": "jupyter-js-widgets",
      "model_module_version": "~2.1.4",
      "model_name": "ButtonModel",
      "state": {
       "_model_module_version": "~2.1.4",
       "_view_module_version": "~2.1.4",
       "description": "Run Interact",
       "layout": "IPY_MODEL_da4af3be0015441cbb4ded1ac7035504",
       "style": "IPY_MODEL_3a920583240a4095b4a4899d209f7e27"
      }
     },
     "7ce1ef1895a24e12a8f0393deb21407f": {
      "model_module": "jupyter-js-widgets",
      "model_module_version": "~2.1.4",
      "model_name": "DropdownModel",
      "state": {
       "_model_module_version": "~2.1.4",
       "_options_labels": [
        "All",
        "GreaterSydney",
        "RegionalNSW"
       ],
       "_view_module_version": "~2.1.4",
       "description": "LGAs:",
       "layout": "IPY_MODEL_0eba51b5c11648539876f2ad14293feb",
       "value": "All"
      }
     },
     "7d5249cd91514403b77463a6f4ce4104": {
      "model_module": "jupyter-js-widgets",
      "model_module_version": "~2.1.4",
      "model_name": "ButtonModel",
      "state": {
       "_model_module_version": "~2.1.4",
       "_view_module_version": "~2.1.4",
       "description": "Run Interact",
       "layout": "IPY_MODEL_a7a8539aec504f1eb1518b5759e8576d",
       "style": "IPY_MODEL_43b4722dad204cc4ad4297016e37cd26"
      }
     },
     "7d735bc615734eeda045837ae957b1da": {
      "model_module": "jupyter-js-widgets",
      "model_module_version": "~2.1.4",
      "model_name": "LayoutModel",
      "state": {
       "_model_module_version": "~2.1.4",
       "_view_module_version": "~2.1.4"
      }
     },
     "7d77d6dbc8f4459189a99bce623709a4": {
      "model_module": "jupyter-js-widgets",
      "model_module_version": "~2.1.4",
      "model_name": "ButtonStyleModel",
      "state": {
       "_model_module_version": "~2.1.4",
       "_view_module_version": "~2.1.4"
      }
     },
     "7d8d7f28e5c948cb9c8d496da81d9dc0": {
      "model_module": "jupyter-js-widgets",
      "model_module_version": "~2.1.4",
      "model_name": "LayoutModel",
      "state": {
       "_model_module_version": "~2.1.4",
       "_view_module_version": "~2.1.4"
      }
     },
     "7d90c1bb37b84ef2936a7973fe76f5b2": {
      "model_module": "jupyter-js-widgets",
      "model_module_version": "~2.1.4",
      "model_name": "LayoutModel",
      "state": {
       "_model_module_version": "~2.1.4",
       "_view_module_version": "~2.1.4"
      }
     },
     "7dea33bdcdec48e7be9422a53fa91a77": {
      "model_module": "jupyter-js-widgets",
      "model_module_version": "~2.1.4",
      "model_name": "VBoxModel",
      "state": {
       "_dom_classes": [
        "widget-interact"
       ],
       "_model_module_version": "~2.1.4",
       "_view_module_version": "~2.1.4",
       "children": [
        "IPY_MODEL_7ce1ef1895a24e12a8f0393deb21407f",
        "IPY_MODEL_c8c288398a2a491594fb218caa4b840a",
        "IPY_MODEL_ea29d51514514bd39cc4dc1ea10c435c",
        "IPY_MODEL_613c9a8744b14467916c775b9eb5464d",
        "IPY_MODEL_86116332b85b44489c7708c719761dd3"
       ],
       "layout": "IPY_MODEL_4887ff58b5d34d1a8644b5791e319156"
      }
     },
     "7deca0874acd426594b962cad93f46cf": {
      "model_module": "jupyter-js-widgets",
      "model_module_version": "~2.1.4",
      "model_name": "ButtonStyleModel",
      "state": {
       "_model_module_version": "~2.1.4",
       "_view_module_version": "~2.1.4"
      }
     },
     "7e0a85dba82c4523b569537a922018a3": {
      "model_module": "jupyter-js-widgets",
      "model_module_version": "~2.1.4",
      "model_name": "ButtonStyleModel",
      "state": {
       "_model_module_version": "~2.1.4",
       "_view_module_version": "~2.1.4"
      }
     },
     "7e128456f9b0414599ad0f395e0f32b2": {
      "model_module": "jupyter-js-widgets",
      "model_module_version": "~2.1.4",
      "model_name": "LayoutModel",
      "state": {
       "_model_module_version": "~2.1.4",
       "_view_module_version": "~2.1.4"
      }
     },
     "7e3554328c9542d6a6decb5b8c7a143a": {
      "model_module": "jupyter-js-widgets",
      "model_module_version": "~2.1.4",
      "model_name": "ButtonModel",
      "state": {
       "_model_module_version": "~2.1.4",
       "_view_module_version": "~2.1.4",
       "description": "Run Interact",
       "layout": "IPY_MODEL_b965df0b58684af28bcb75b0751d18f2",
       "style": "IPY_MODEL_3402403a9dad40a595d875bac28b368d"
      }
     },
     "7e57046874d54b87a6fff20b659c4701": {
      "model_module": "jupyter-js-widgets",
      "model_module_version": "~2.1.4",
      "model_name": "LayoutModel",
      "state": {
       "_model_module_version": "~2.1.4",
       "_view_module_version": "~2.1.4"
      }
     },
     "7e5d4cc08cbc40b39dd4aabfc7efb412": {
      "model_module": "jupyter-js-widgets",
      "model_module_version": "~2.1.4",
      "model_name": "LayoutModel",
      "state": {
       "_model_module_version": "~2.1.4",
       "_view_module_version": "~2.1.4",
       "width": "20%"
      }
     },
     "7ebdda677d1c447f86b2aa95b8cf1fe2": {
      "model_module": "jupyter-js-widgets",
      "model_module_version": "~2.1.4",
      "model_name": "LayoutModel",
      "state": {
       "_model_module_version": "~2.1.4",
       "_view_module_version": "~2.1.4"
      }
     },
     "7fa0262b097c4c019e7b9b432673c23f": {
      "model_module": "jupyter-js-widgets",
      "model_module_version": "~2.1.4",
      "model_name": "DropdownModel",
      "state": {
       "_model_module_version": "~2.1.4",
       "_options_labels": [
        "Homicide",
        "Assault",
        "Sexual offences",
        "Other offences against the person",
        "Robbery",
        "Property offences",
        "Drug Possession",
        "Drug Dealing",
        "Vice",
        "Weapons offences",
        "Other offences"
       ],
       "_view_module_version": "~2.1.4",
       "description": "Category",
       "layout": "IPY_MODEL_9dc53de6b737462490eb602633b81446",
       "value": "Drug Dealing"
      }
     },
     "801f9a98c4114f1199edbf1c9e945b25": {
      "model_module": "jupyter-js-widgets",
      "model_module_version": "~2.1.4",
      "model_name": "LayoutModel",
      "state": {
       "_model_module_version": "~2.1.4",
       "_view_module_version": "~2.1.4"
      }
     },
     "8035593caa6840749deeaad322894566": {
      "model_module": "jupyter-js-widgets",
      "model_module_version": "~2.1.4",
      "model_name": "OutputModel",
      "state": {
       "_dom_classes": [],
       "_model_module": "jupyter-js-widgets",
       "_model_module_version": "~2.1.4",
       "_view_module": "jupyter-js-widgets",
       "_view_module_version": "~2.1.4",
       "layout": "IPY_MODEL_096780ddfde8447d8b9121a8e91ba64b",
       "msg_throttle": 1
      }
     },
     "8089abf71e3341569d270e653bbda95c": {
      "model_module": "jupyter-js-widgets",
      "model_module_version": "~2.1.4",
      "model_name": "VBoxModel",
      "state": {
       "_dom_classes": [
        "widget-interact"
       ],
       "_model_module_version": "~2.1.4",
       "_view_module_version": "~2.1.4",
       "children": [
        "IPY_MODEL_3acd58a854894e6c8db663815024a77b",
        "IPY_MODEL_432c0b7d85e7444080efe6086e7d347b",
        "IPY_MODEL_79f9de2c60d949b4acad1b846648f589",
        "IPY_MODEL_33ab6d554d5346db810c10e531634bf5",
        "IPY_MODEL_bf2d54531046488c8fb94ef71cbfee8e"
       ],
       "layout": "IPY_MODEL_d3bed47bf303454d9375e575c01add78"
      }
     },
     "80abc1777beb492f801267e4362f0a30": {
      "model_module": "jupyter-js-widgets",
      "model_module_version": "~2.1.4",
      "model_name": "LayoutModel",
      "state": {
       "_model_module_version": "~2.1.4",
       "_view_module_version": "~2.1.4"
      }
     },
     "80f13a7a856a4ac7801f343885886aea": {
      "model_module": "jupyter-js-widgets",
      "model_module_version": "~2.1.4",
      "model_name": "LayoutModel",
      "state": {
       "_model_module_version": "~2.1.4",
       "_view_module_version": "~2.1.4"
      }
     },
     "81445db4e6fe423992f6a1f350a19cc3": {
      "model_module": "jupyter-js-widgets",
      "model_module_version": "~2.1.4",
      "model_name": "SelectMultipleModel",
      "state": {
       "_model_module_version": "~2.1.4",
       "_options_labels": [
        "Homicide",
        "Assault",
        "Sexual offences",
        "Other offences against the person",
        "Robbery",
        "Property offences",
        "Drug Possession",
        "Drug Dealing",
        "Vice",
        "Weapons offences",
        "Other offences"
       ],
       "_view_module_version": "~2.1.4",
       "description": "Categories",
       "layout": "IPY_MODEL_8799b4d43c7e46b8b2a17fe846d3f6b7",
       "value": [
        "Homicide",
        "Assault",
        "Sexual offences",
        "Other offences against the person",
        "Robbery",
        "Property offences",
        "Drug Possession",
        "Drug Dealing",
        "Vice",
        "Weapons offences",
        "Other offences"
       ]
      }
     },
     "81595180e0504850a2d893c40dbfeb56": {
      "model_module": "jupyter-js-widgets",
      "model_module_version": "~2.1.4",
      "model_name": "LayoutModel",
      "state": {
       "_model_module_version": "~2.1.4",
       "_view_module_version": "~2.1.4"
      }
     },
     "8225520d8efb4db589c3b0357b5694f5": {
      "model_module": "jupyter-js-widgets",
      "model_module_version": "~2.1.4",
      "model_name": "LayoutModel",
      "state": {
       "_model_module_version": "~2.1.4",
       "_view_module_version": "~2.1.4",
       "display": "inline_flex",
       "flex_flow": "column"
      }
     },
     "827d027bf9bf436db748a1e2c249e564": {
      "model_module": "jupyter-js-widgets",
      "model_module_version": "~2.1.4",
      "model_name": "OutputModel",
      "state": {
       "_dom_classes": [],
       "_model_module": "jupyter-js-widgets",
       "_model_module_version": "~2.1.4",
       "_view_module": "jupyter-js-widgets",
       "_view_module_version": "~2.1.4",
       "layout": "IPY_MODEL_3a2aab6c6c1644b39c3e78c164f70f9b",
       "msg_throttle": 1
      }
     },
     "829522de13c34919909a9aa560ae9688": {
      "model_module": "jupyter-js-widgets",
      "model_module_version": "~2.1.4",
      "model_name": "OutputModel",
      "state": {
       "_dom_classes": [],
       "_model_module": "jupyter-js-widgets",
       "_model_module_version": "~2.1.4",
       "_view_module": "jupyter-js-widgets",
       "_view_module_version": "~2.1.4",
       "layout": "IPY_MODEL_aed59a74f2cf451582b9f4242f7c69b1",
       "msg_throttle": 1
      }
     },
     "82a0bab8fc9a40b39d29bcc91948a758": {
      "model_module": "jupyter-js-widgets",
      "model_module_version": "~2.1.4",
      "model_name": "VBoxModel",
      "state": {
       "_dom_classes": [
        "widget-interact"
       ],
       "_model_module_version": "~2.1.4",
       "_view_module_version": "~2.1.4",
       "children": [
        "IPY_MODEL_4873dc2f0727478dbe1e197f7cff9a51",
        "IPY_MODEL_f6ae4da0a24a4cb089bcd523a6b61da4",
        "IPY_MODEL_c8123fb72cd74c77a89be50ad34e6ed7"
       ],
       "layout": "IPY_MODEL_9319af91582746898a8d5a6a7d34ca2c"
      }
     },
     "82d145a0aa564ea5baa52652b06312c6": {
      "model_module": "jupyter-js-widgets",
      "model_module_version": "~2.1.4",
      "model_name": "LayoutModel",
      "state": {
       "_model_module_version": "~2.1.4",
       "_view_module_version": "~2.1.4"
      }
     },
     "82f9f70614bb47fcb7833369a6fdac8c": {
      "model_module": "jupyter-js-widgets",
      "model_module_version": "~2.1.4",
      "model_name": "LayoutModel",
      "state": {
       "_model_module_version": "~2.1.4",
       "_view_module_version": "~2.1.4"
      }
     },
     "830d432263894db6ae80e83919734ddf": {
      "model_module": "jupyter-js-widgets",
      "model_module_version": "~2.1.4",
      "model_name": "RadioButtonsModel",
      "state": {
       "_model_module_version": "~2.1.4",
       "_options_labels": [
        "sum_median_rank",
        "sum_mean_rank",
        "adj_median_rank",
        "adj_mean_rank"
       ],
       "_view_module_version": "~2.1.4",
       "description": "Sorting Order:",
       "layout": "IPY_MODEL_6a20f50a547d4936b5ac34ce316ec3da",
       "value": "sum_median_rank"
      }
     },
     "834d24d5d2774ff89f28ea78f955bfbd": {
      "model_module": "jupyter-js-widgets",
      "model_module_version": "~2.1.4",
      "model_name": "LayoutModel",
      "state": {
       "_model_module_version": "~2.1.4",
       "_view_module_version": "~2.1.4"
      }
     },
     "83562a885d1e4dcb9ff630af927b8484": {
      "model_module": "jupyter-js-widgets",
      "model_module_version": "~2.1.4",
      "model_name": "DropdownModel",
      "state": {
       "_model_module_version": "~2.1.4",
       "_options_labels": [
        "All",
        "GreaterSydney",
        "RegionalNSW"
       ],
       "_view_module_version": "~2.1.4",
       "description": "LGAs:",
       "layout": "IPY_MODEL_774dd89bad004f8a85ea2e851bf4c9c5",
       "value": "All"
      }
     },
     "83a549c8d7c742c8b34b00e518f10936": {
      "model_module": "jupyter-js-widgets",
      "model_module_version": "~2.1.4",
      "model_name": "LayoutModel",
      "state": {
       "_model_module_version": "~2.1.4",
       "_view_module_version": "~2.1.4"
      }
     },
     "83b0f863e7c0494b87ca31492f5cae06": {
      "model_module": "jupyter-js-widgets",
      "model_module_version": "~2.1.4",
      "model_name": "LayoutModel",
      "state": {
       "_model_module_version": "~2.1.4",
       "_view_module_version": "~2.1.4"
      }
     },
     "83ddf2543ad9402a9960e3af04ccd66b": {
      "model_module": "jupyter-js-widgets",
      "model_module_version": "~2.1.4",
      "model_name": "LayoutModel",
      "state": {
       "_model_module_version": "~2.1.4",
       "_view_module_version": "~2.1.4"
      }
     },
     "83eb536a8e12479a90aa299ecae8fe7e": {
      "model_module": "jupyter-js-widgets",
      "model_module_version": "~2.1.4",
      "model_name": "LayoutModel",
      "state": {
       "_model_module_version": "~2.1.4",
       "_view_module_version": "~2.1.4",
       "display": "inline_flex",
       "flex_flow": "column"
      }
     },
     "84290f8074274f239699ac38a5315a60": {
      "model_module": "jupyter-js-widgets",
      "model_module_version": "~2.1.4",
      "model_name": "VBoxModel",
      "state": {
       "_dom_classes": [
        "widget-interact"
       ],
       "_model_module_version": "~2.1.4",
       "_view_module_version": "~2.1.4",
       "children": [
        "IPY_MODEL_254456f9f0a04ab4878674f296d39050",
        "IPY_MODEL_ad901cb4a1fc4c46bb7fc67c6a6ff4d4",
        "IPY_MODEL_61341718ea0e41019afd69b422c7da37",
        "IPY_MODEL_9d6d766ac9744fdaa1eae6b12370dd50"
       ],
       "layout": "IPY_MODEL_346e0527dbf742c5ac2804d49be60f6e"
      }
     },
     "8489d3b41f7d4170b6eb71516019c17f": {
      "model_module": "jupyter-js-widgets",
      "model_module_version": "~2.1.4",
      "model_name": "ButtonStyleModel",
      "state": {
       "_model_module_version": "~2.1.4",
       "_view_module_version": "~2.1.4"
      }
     },
     "84ad0e65b690415f9526e86a19042ba1": {
      "model_module": "jupyter-js-widgets",
      "model_module_version": "~2.1.4",
      "model_name": "LayoutModel",
      "state": {
       "_model_module_version": "~2.1.4",
       "_view_module_version": "~2.1.4"
      }
     },
     "8501544cb6694acd8ed3803f4a7f53c3": {
      "model_module": "jupyter-js-widgets",
      "model_module_version": "~2.1.4",
      "model_name": "LayoutModel",
      "state": {
       "_model_module_version": "~2.1.4",
       "_view_module_version": "~2.1.4"
      }
     },
     "851b8aefbedf4ee48d692558bc19f0f8": {
      "model_module": "jupyter-js-widgets",
      "model_module_version": "~2.1.4",
      "model_name": "OutputModel",
      "state": {
       "_dom_classes": [],
       "_model_module": "jupyter-js-widgets",
       "_model_module_version": "~2.1.4",
       "_view_module": "jupyter-js-widgets",
       "_view_module_version": "~2.1.4",
       "layout": "IPY_MODEL_e03ed375bab74af5ab082d001a9cea56",
       "msg_throttle": 1
      }
     },
     "85320396ba6a416bae7e61e20ffc4508": {
      "model_module": "jupyter-js-widgets",
      "model_module_version": "~2.1.4",
      "model_name": "OutputModel",
      "state": {
       "_dom_classes": [],
       "_model_module": "jupyter-js-widgets",
       "_model_module_version": "~2.1.4",
       "_view_module": "jupyter-js-widgets",
       "_view_module_version": "~2.1.4",
       "layout": "IPY_MODEL_e81647968a9f4bccb98ebb6354885808",
       "msg_throttle": 1
      }
     },
     "85d61c621d1c470eb4e91587acb8cbfa": {
      "model_module": "jupyter-js-widgets",
      "model_module_version": "~2.1.4",
      "model_name": "LayoutModel",
      "state": {
       "_model_module_version": "~2.1.4",
       "_view_module_version": "~2.1.4"
      }
     },
     "86116332b85b44489c7708c719761dd3": {
      "model_module": "jupyter-js-widgets",
      "model_module_version": "~2.1.4",
      "model_name": "OutputModel",
      "state": {
       "_dom_classes": [],
       "_model_module": "jupyter-js-widgets",
       "_model_module_version": "~2.1.4",
       "_view_module": "jupyter-js-widgets",
       "_view_module_version": "~2.1.4",
       "layout": "IPY_MODEL_c56d3dc6499d41aea02f36c07a470ecc",
       "msg_throttle": 1
      }
     },
     "866d831354ae45c9ba5d3d9ec32f405f": {
      "model_module": "jupyter-js-widgets",
      "model_module_version": "~2.1.4",
      "model_name": "LayoutModel",
      "state": {
       "_model_module_version": "~2.1.4",
       "_view_module_version": "~2.1.4",
       "display": "inline_flex",
       "flex_flow": "column",
       "width": "20%"
      }
     },
     "86ddd07d42294ebb8eb5479a72a92cba": {
      "model_module": "jupyter-js-widgets",
      "model_module_version": "~2.1.4",
      "model_name": "LayoutModel",
      "state": {
       "_model_module_version": "~2.1.4",
       "_view_module_version": "~2.1.4",
       "display": "flex",
       "width": "20%"
      }
     },
     "8708a04967f74cbbb045529dccbcf4cf": {
      "model_module": "jupyter-js-widgets",
      "model_module_version": "~2.1.4",
      "model_name": "LayoutModel",
      "state": {
       "_model_module_version": "~2.1.4",
       "_view_module_version": "~2.1.4",
       "display": "inline_flex",
       "flex_flow": "column"
      }
     },
     "873f1248aa504108be4145825e1bca13": {
      "model_module": "jupyter-js-widgets",
      "model_module_version": "~2.1.4",
      "model_name": "VBoxModel",
      "state": {
       "_dom_classes": [
        "widget-interact"
       ],
       "_model_module_version": "~2.1.4",
       "_view_module_version": "~2.1.4",
       "children": [
        "IPY_MODEL_14cdd000ed99426586da8f38e0ef18a3",
        "IPY_MODEL_18d37b2dfd994ebe976865fd40c7d928",
        "IPY_MODEL_02cfda9250324383bae105f121f2435c"
       ],
       "layout": "IPY_MODEL_2a668e1e04154d998cf95cf3dbd2ae88"
      }
     },
     "8799b4d43c7e46b8b2a17fe846d3f6b7": {
      "model_module": "jupyter-js-widgets",
      "model_module_version": "~2.1.4",
      "model_name": "LayoutModel",
      "state": {
       "_model_module_version": "~2.1.4",
       "_view_module_version": "~2.1.4",
       "display": "inline_flex",
       "flex_flow": "column"
      }
     },
     "88071f74efec47b5b83470b7f5980233": {
      "model_module": "jupyter-js-widgets",
      "model_module_version": "~2.1.4",
      "model_name": "LayoutModel",
      "state": {
       "_model_module_version": "~2.1.4",
       "_view_module_version": "~2.1.4"
      }
     },
     "891ea168efd14f85b6e40eaccb343ad3": {
      "model_module": "jupyter-js-widgets",
      "model_module_version": "~2.1.4",
      "model_name": "ButtonStyleModel",
      "state": {
       "_model_module_version": "~2.1.4",
       "_view_module_version": "~2.1.4"
      }
     },
     "896008f08f0e42db9dcf05faee45f4cb": {
      "model_module": "jupyter-js-widgets",
      "model_module_version": "~2.1.4",
      "model_name": "VBoxModel",
      "state": {
       "_dom_classes": [
        "widget-interact"
       ],
       "_model_module_version": "~2.1.4",
       "_view_module_version": "~2.1.4",
       "children": [
        "IPY_MODEL_d018f67b71f346278bd8f21771805eaf",
        "IPY_MODEL_9ecc6007d3ce46d481c215762089f45a",
        "IPY_MODEL_5a5002e5a3894c4a8c4ed4e72918d8f0",
        "IPY_MODEL_e4d45c8e362d4067be21b8f7c07d3ae3"
       ],
       "layout": "IPY_MODEL_ee7f1ae435f3418fb9ebbd9f50cbe8ac"
      }
     },
     "89aebb7170c34196b481df29d1d07ae1": {
      "model_module": "jupyter-js-widgets",
      "model_module_version": "~2.1.4",
      "model_name": "ButtonStyleModel",
      "state": {
       "_model_module_version": "~2.1.4",
       "_view_module_version": "~2.1.4"
      }
     },
     "89cc78baae254525aca5949b91ffd65b": {
      "model_module": "jupyter-js-widgets",
      "model_module_version": "~2.1.4",
      "model_name": "LayoutModel",
      "state": {
       "_model_module_version": "~2.1.4",
       "_view_module_version": "~2.1.4",
       "display": "flex",
       "flex_flow": "column"
      }
     },
     "89f70fea736b4b588d9469e1cdabd9ee": {
      "model_module": "jupyter-js-widgets",
      "model_module_version": "~2.1.4",
      "model_name": "LayoutModel",
      "state": {
       "_model_module_version": "~2.1.4",
       "_view_module_version": "~2.1.4",
       "display": "inline_flex",
       "flex_flow": "column"
      }
     },
     "8a30546976d84011955defc6459e12e4": {
      "model_module": "jupyter-js-widgets",
      "model_module_version": "~2.1.4",
      "model_name": "ButtonModel",
      "state": {
       "_model_module_version": "~2.1.4",
       "_view_module_version": "~2.1.4",
       "description": "Run Interact",
       "layout": "IPY_MODEL_e062c7ca04d649dfbdbc584b51e583b4",
       "style": "IPY_MODEL_5ef705dc19254d8e8500d50f72876c4b"
      }
     },
     "8a9f5a5389f046e4b28b2528d952141e": {
      "model_module": "jupyter-js-widgets",
      "model_module_version": "~2.1.4",
      "model_name": "VBoxModel",
      "state": {
       "_dom_classes": [
        "widget-interact"
       ],
       "_model_module_version": "~2.1.4",
       "_view_module_version": "~2.1.4",
       "children": [
        "IPY_MODEL_b1909e2c2bb5475d83d9894a081b4c47",
        "IPY_MODEL_3105c4cc1d7240509a86bd28ebb7d1b5",
        "IPY_MODEL_1eab5aa6b0db49af97bdabe29b386d1e",
        "IPY_MODEL_8be5e86a5560475fabbcf750d9b12163",
        "IPY_MODEL_d7b2a99c79674658b8f4ff6819126184"
       ],
       "layout": "IPY_MODEL_d4ca66290d0b439d917b818266d9b348"
      }
     },
     "8af932014bb846d9bbaf4ac61f2a6676": {
      "model_module": "jupyter-js-widgets",
      "model_module_version": "~2.1.4",
      "model_name": "VBoxModel",
      "state": {
       "_dom_classes": [
        "widget-interact"
       ],
       "_model_module_version": "~2.1.4",
       "_view_module_version": "~2.1.4",
       "children": [
        "IPY_MODEL_35ce297ea8ba43ee884071042744535a",
        "IPY_MODEL_e87c7c24bebe4260a360fbed4ee70d6f",
        "IPY_MODEL_fa0a8e95841248079a806299ec3d2cb5",
        "IPY_MODEL_3d4ca2705c234dfcbadec7eed815145f"
       ],
       "layout": "IPY_MODEL_0785fe958b1d43e48d1b29c3649ff94b"
      }
     },
     "8b69ed389db54eb59f0c04f4eeeee149": {
      "model_module": "jupyter-js-widgets",
      "model_module_version": "~2.1.4",
      "model_name": "LayoutModel",
      "state": {
       "_model_module_version": "~2.1.4",
       "_view_module_version": "~2.1.4"
      }
     },
     "8be009bac6074b22af415f217e7ee9bf": {
      "model_module": "jupyter-js-widgets",
      "model_module_version": "~2.1.4",
      "model_name": "LayoutModel",
      "state": {
       "_model_module_version": "~2.1.4",
       "_view_module_version": "~2.1.4"
      }
     },
     "8be5e86a5560475fabbcf750d9b12163": {
      "model_module": "jupyter-js-widgets",
      "model_module_version": "~2.1.4",
      "model_name": "ButtonModel",
      "state": {
       "_model_module_version": "~2.1.4",
       "_view_module_version": "~2.1.4",
       "description": "Run Interact",
       "layout": "IPY_MODEL_071530c332b74ceeb768c54f7f94542c",
       "style": "IPY_MODEL_047f05680f3347119413eb0ae136c851"
      }
     },
     "8bfda329338b4351a2f435e4d3e8c147": {
      "model_module": "jupyter-js-widgets",
      "model_module_version": "~2.1.4",
      "model_name": "OutputModel",
      "state": {
       "_dom_classes": [],
       "_model_module": "jupyter-js-widgets",
       "_model_module_version": "~2.1.4",
       "_view_module": "jupyter-js-widgets",
       "_view_module_version": "~2.1.4",
       "layout": "IPY_MODEL_e371ca821fcb4645b80839c39a9e716b",
       "msg_throttle": 1
      }
     },
     "8c5cb3e07db64525b6baa1cce17c01db": {
      "model_module": "jupyter-js-widgets",
      "model_module_version": "~2.1.4",
      "model_name": "LayoutModel",
      "state": {
       "_model_module_version": "~2.1.4",
       "_view_module_version": "~2.1.4"
      }
     },
     "8d72d1117ae744fe8ca1fee91000c820": {
      "model_module": "jupyter-js-widgets",
      "model_module_version": "~2.1.4",
      "model_name": "VBoxModel",
      "state": {
       "_dom_classes": [
        "widget-interact"
       ],
       "_model_module_version": "~2.1.4",
       "_view_module_version": "~2.1.4",
       "children": [
        "IPY_MODEL_3105c4cc1d7240509a86bd28ebb7d1b5",
        "IPY_MODEL_1eab5aa6b0db49af97bdabe29b386d1e",
        "IPY_MODEL_b1909e2c2bb5475d83d9894a081b4c47",
        "IPY_MODEL_632e514fac6840fb945f4da9bd28c47d",
        "IPY_MODEL_0c2ff38c5c5140719bcc5f435a5f2f09"
       ],
       "layout": "IPY_MODEL_d8f6a04f21304338937fb84025e848ef"
      }
     },
     "8d8ab0eda2284ed69785cdf8ddc670ed": {
      "model_module": "jupyter-js-widgets",
      "model_module_version": "~2.1.4",
      "model_name": "OutputModel",
      "state": {
       "_dom_classes": [],
       "_model_module": "jupyter-js-widgets",
       "_model_module_version": "~2.1.4",
       "_view_module": "jupyter-js-widgets",
       "_view_module_version": "~2.1.4",
       "layout": "IPY_MODEL_3a52c084adef49ee9ee3a5c9ee8b40f9",
       "msg_throttle": 1
      }
     },
     "8d9d9162e0bd450ba49376fd6728d21d": {
      "model_module": "jupyter-js-widgets",
      "model_module_version": "~2.1.4",
      "model_name": "SelectMultipleModel",
      "state": {
       "_model_module_version": "~2.1.4",
       "_options_labels": [
        "Albury",
        "Armidale Dumaresq",
        "Ashfield",
        "Auburn",
        "Ballina",
        "Balranald",
        "Bankstown",
        "Bathurst Regional",
        "Bega Valley",
        "Bellingen",
        "Berrigan",
        "Blacktown",
        "Bland",
        "Blayney",
        "Blue Mountains",
        "Bogan",
        "Bombala",
        "Boorowa",
        "Botany Bay",
        "Bourke",
        "Brewarrina",
        "Broken Hill",
        "Burwood",
        "Byron",
        "Cabonne",
        "Camden",
        "Campbelltown",
        "Canada Bay",
        "Canterbury",
        "Carrathool",
        "Central Darling",
        "Cessnock",
        "Clarence Valley",
        "Cobar",
        "Coffs Harbour",
        "Conargo",
        "Coolamon",
        "Cooma-Monaro",
        "Coonamble",
        "Cootamundra",
        "Corowa Shire",
        "Cowra",
        "Deniliquin",
        "Dubbo",
        "Dungog",
        "Eurobodalla",
        "Fairfield",
        "Forbes",
        "Gilgandra",
        "Glen Innes Severn",
        "Gloucester",
        "Gosford",
        "Goulburn Mulwaree",
        "Great Lakes",
        "Greater Hume Shire",
        "Greater Taree",
        "Griffith",
        "Gundagai",
        "Gunnedah",
        "Guyra",
        "Gwydir",
        "Harden",
        "Hawkesbury",
        "Hay",
        "Holroyd",
        "Hornsby",
        "Hunters Hill",
        "Hurstville",
        "Inverell",
        "Jerilderie",
        "Junee",
        "Kempsey",
        "Kiama",
        "Kogarah",
        "Ku-ring-gai",
        "Kyogle",
        "Lachlan",
        "Lake Macquarie",
        "Lane Cove",
        "Leeton",
        "Leichhardt",
        "Lismore",
        "Lithgow",
        "Liverpool",
        "Liverpool Plains",
        "Lockhart",
        "Maitland",
        "Manly",
        "Marrickville",
        "Mid-Western Regional",
        "Moree Plains",
        "Mosman",
        "Murray",
        "Murrumbidgee",
        "Muswellbrook",
        "Nambucca",
        "Narrabri",
        "Narrandera",
        "Narromine",
        "Newcastle",
        "North Sydney",
        "Oberon",
        "Orange",
        "Palerang",
        "Parkes",
        "Parramatta",
        "Penrith",
        "Pittwater",
        "Port Macquarie-Hastings",
        "Port Stephens",
        "Queanbeyan",
        "Randwick",
        "Richmond Valley",
        "Rockdale",
        "Ryde",
        "Shellharbour",
        "Shoalhaven",
        "Singleton",
        "Snowy River",
        "Strathfield",
        "Sutherland Shire",
        "Sydney",
        "Tamworth Regional",
        "Temora",
        "Tenterfield",
        "The Hills Shire",
        "Tumbarumba",
        "Tumut Shire",
        "Tweed",
        "Unincorporated Far West",
        "Upper Hunter Shire",
        "Upper Lachlan Shire",
        "Uralla",
        "Urana",
        "Wagga Wagga",
        "Wakool",
        "Walcha",
        "Walgett",
        "Warren",
        "Warringah",
        "Warrumbungle Shire",
        "Waverley",
        "Weddin",
        "Wellington",
        "Wentworth",
        "Willoughby",
        "Wingecarribee",
        "Wollondilly",
        "Wollongong",
        "Woollahra",
        "Wyong",
        "Yass Valley",
        "Young"
       ],
       "_view_module_version": "~2.1.4",
       "description": "LGAs",
       "layout": "IPY_MODEL_0cc85748bc584c9caa73fc90108993c3",
       "value": [
        "Sydney",
        "Blacktown",
        "Burwood",
        "Randwick",
        "Lane Cove",
        "Sutherland Shire"
       ]
      }
     },
     "8dabf55faec24f24801f7888150a294b": {
      "model_module": "jupyter-js-widgets",
      "model_module_version": "~2.1.4",
      "model_name": "LayoutModel",
      "state": {
       "_model_module_version": "~2.1.4",
       "_view_module_version": "~2.1.4",
       "display": "inline_flex",
       "flex_flow": "column"
      }
     },
     "8e381cbe1ccc43d6bf7461a56a158dec": {
      "model_module": "jupyter-js-widgets",
      "model_module_version": "~2.1.4",
      "model_name": "RadioButtonsModel",
      "state": {
       "_model_module_version": "~2.1.4",
       "_options_labels": [
        "sum_median_rank",
        "sum_mean_rank",
        "adj_median_rank",
        "adj_mean_rank"
       ],
       "_view_module_version": "~2.1.4",
       "description": "Sorting Order:",
       "layout": "IPY_MODEL_23147e47a3ce4942bc4e075a18617ea0",
       "value": "adj_mean_rank"
      }
     },
     "8e850717b21046f0b302983a4c1989b3": {
      "model_module": "jupyter-js-widgets",
      "model_module_version": "~2.1.4",
      "model_name": "LayoutModel",
      "state": {
       "_model_module_version": "~2.1.4",
       "_view_module_version": "~2.1.4"
      }
     },
     "8ea70e9acfe0485bb83c42ed20fa8b77": {
      "model_module": "jupyter-js-widgets",
      "model_module_version": "~2.1.4",
      "model_name": "ButtonStyleModel",
      "state": {
       "_model_module_version": "~2.1.4",
       "_view_module_version": "~2.1.4"
      }
     },
     "8f3a21bd1adb4ba6b77217fa028b9d38": {
      "model_module": "jupyter-js-widgets",
      "model_module_version": "~2.1.4",
      "model_name": "LayoutModel",
      "state": {
       "_model_module_version": "~2.1.4",
       "_view_module_version": "~2.1.4"
      }
     },
     "8f785d5368444110ac528c10ceb28969": {
      "model_module": "jupyter-js-widgets",
      "model_module_version": "~2.1.4",
      "model_name": "LayoutModel",
      "state": {
       "_model_module_version": "~2.1.4",
       "_view_module_version": "~2.1.4",
       "width": "20%"
      }
     },
     "905a7968d9d24b32850d092efab186bc": {
      "model_module": "jupyter-js-widgets",
      "model_module_version": "~2.1.4",
      "model_name": "LayoutModel",
      "state": {
       "_model_module_version": "~2.1.4",
       "_view_module_version": "~2.1.4",
       "display": "inline_flex",
       "flex_flow": "column"
      }
     },
     "906ca5aec2474b92a91373c3eb455310": {
      "model_module": "jupyter-js-widgets",
      "model_module_version": "~2.1.4",
      "model_name": "ButtonStyleModel",
      "state": {
       "_model_module_version": "~2.1.4",
       "_view_module_version": "~2.1.4"
      }
     },
     "90ae4c96f0bd4841b117c09600e8a19e": {
      "model_module": "jupyter-js-widgets",
      "model_module_version": "~2.1.4",
      "model_name": "LayoutModel",
      "state": {
       "_model_module_version": "~2.1.4",
       "_view_module_version": "~2.1.4"
      }
     },
     "90fa1a360bdb4659911299d688fc9c1d": {
      "model_module": "jupyter-js-widgets",
      "model_module_version": "~2.1.4",
      "model_name": "LayoutModel",
      "state": {
       "_model_module_version": "~2.1.4",
       "_view_module_version": "~2.1.4"
      }
     },
     "912069c0be494858a898891a004d52e1": {
      "model_module": "jupyter-js-widgets",
      "model_module_version": "~2.1.4",
      "model_name": "LayoutModel",
      "state": {
       "_model_module_version": "~2.1.4",
       "_view_module_version": "~2.1.4",
       "display": "inline_flex",
       "flex_flow": "column"
      }
     },
     "919099bf3e8d4e3398deeba40be0749d": {
      "model_module": "jupyter-js-widgets",
      "model_module_version": "~2.1.4",
      "model_name": "LayoutModel",
      "state": {
       "_model_module_version": "~2.1.4",
       "_view_module_version": "~2.1.4"
      }
     },
     "919ba258f0074a28985f05d3c556c865": {
      "model_module": "jupyter-js-widgets",
      "model_module_version": "~2.1.4",
      "model_name": "VBoxModel",
      "state": {
       "_dom_classes": [
        "widget-interact"
       ],
       "_model_module_version": "~2.1.4",
       "_view_module_version": "~2.1.4",
       "children": [
        "IPY_MODEL_b1909e2c2bb5475d83d9894a081b4c47",
        "IPY_MODEL_3105c4cc1d7240509a86bd28ebb7d1b5",
        "IPY_MODEL_1eab5aa6b0db49af97bdabe29b386d1e",
        "IPY_MODEL_0aac651944144304892017ba7e2e213a",
        "IPY_MODEL_17085e5e63a7481f9c26916db0ba9d14"
       ],
       "layout": "IPY_MODEL_1431f0b11e72495e93d2cfa9168eb18b"
      }
     },
     "91bdfe02ab96468e81bf34ae72683123": {
      "model_module": "jupyter-js-widgets",
      "model_module_version": "~2.1.4",
      "model_name": "LayoutModel",
      "state": {
       "_model_module_version": "~2.1.4",
       "_view_module_version": "~2.1.4"
      }
     },
     "91ceb5b458ee4552b49321ca27280520": {
      "model_module": "jupyter-js-widgets",
      "model_module_version": "~2.1.4",
      "model_name": "ButtonStyleModel",
      "state": {
       "_model_module_version": "~2.1.4",
       "_view_module_version": "~2.1.4"
      }
     },
     "9217d5fe9e89405eae6545e0f071d3cc": {
      "model_module": "jupyter-js-widgets",
      "model_module_version": "~2.1.4",
      "model_name": "VBoxModel",
      "state": {
       "_dom_classes": [
        "widget-interact"
       ],
       "_model_module_version": "~2.1.4",
       "_view_module_version": "~2.1.4",
       "children": [
        "IPY_MODEL_72e0c0acc6f6493793c9d0de1038c4ca",
        "IPY_MODEL_271dffa4a52f4b0b82144a689996f529",
        "IPY_MODEL_1f84109c5cea4172a855e4ad4304a0af"
       ],
       "layout": "IPY_MODEL_b82b272407754903becd5e0a983cff7f"
      }
     },
     "92190aa58d894a83af5ff2e6522bb74c": {
      "model_module": "jupyter-js-widgets",
      "model_module_version": "~2.1.4",
      "model_name": "ButtonModel",
      "state": {
       "_model_module_version": "~2.1.4",
       "_view_module_version": "~2.1.4",
       "description": "Run Interact",
       "layout": "IPY_MODEL_515900961d594ad7879341c7ce1d8a6f",
       "style": "IPY_MODEL_72cdc227fc7647348e5bbbc1191c1acf"
      }
     },
     "9252b1f049404be9906b2a1583e39e98": {
      "model_module": "jupyter-js-widgets",
      "model_module_version": "~2.1.4",
      "model_name": "ButtonModel",
      "state": {
       "_model_module_version": "~2.1.4",
       "_view_module_version": "~2.1.4",
       "description": "Run Interact",
       "layout": "IPY_MODEL_b5cb6c260bd7461a9cee16bb560438aa",
       "style": "IPY_MODEL_5902640815c6440cb731cb5badf22d43"
      }
     },
     "92c070de2e664854b353f7894d39f605": {
      "model_module": "jupyter-js-widgets",
      "model_module_version": "~2.1.4",
      "model_name": "ButtonModel",
      "state": {
       "_model_module_version": "~2.1.4",
       "_view_module_version": "~2.1.4",
       "description": "Run Interact",
       "layout": "IPY_MODEL_032b95e1c04f45cb95b7697d8420b63e",
       "style": "IPY_MODEL_8489d3b41f7d4170b6eb71516019c17f"
      }
     },
     "9319af91582746898a8d5a6a7d34ca2c": {
      "model_module": "jupyter-js-widgets",
      "model_module_version": "~2.1.4",
      "model_name": "LayoutModel",
      "state": {
       "_model_module_version": "~2.1.4",
       "_view_module_version": "~2.1.4"
      }
     },
     "934de4088ac94302b0c55e4cb58176c0": {
      "model_module": "jupyter-js-widgets",
      "model_module_version": "~2.1.4",
      "model_name": "LayoutModel",
      "state": {
       "_model_module_version": "~2.1.4",
       "_view_module_version": "~2.1.4"
      }
     },
     "936a1beceb1647859fcea51edb04b114": {
      "model_module": "jupyter-js-widgets",
      "model_module_version": "~2.1.4",
      "model_name": "LayoutModel",
      "state": {
       "_model_module_version": "~2.1.4",
       "_view_module_version": "~2.1.4"
      }
     },
     "9381f60fa4064d6db91bbd6a98fc014f": {
      "model_module": "jupyter-js-widgets",
      "model_module_version": "~2.1.4",
      "model_name": "ButtonStyleModel",
      "state": {
       "_model_module_version": "~2.1.4",
       "_view_module_version": "~2.1.4"
      }
     },
     "943e156190ba49a590bea553db99230d": {
      "model_module": "jupyter-js-widgets",
      "model_module_version": "~2.1.4",
      "model_name": "ButtonStyleModel",
      "state": {
       "_model_module_version": "~2.1.4",
       "_view_module_version": "~2.1.4"
      }
     },
     "9510d68eaede46a89ee65fb498d1d8a6": {
      "model_module": "jupyter-js-widgets",
      "model_module_version": "~2.1.4",
      "model_name": "LayoutModel",
      "state": {
       "_model_module_version": "~2.1.4",
       "_view_module_version": "~2.1.4"
      }
     },
     "9517605775f54900a38d4556ccdc8942": {
      "model_module": "jupyter-js-widgets",
      "model_module_version": "~2.1.4",
      "model_name": "ButtonStyleModel",
      "state": {
       "_model_module_version": "~2.1.4",
       "_view_module_version": "~2.1.4"
      }
     },
     "956d6fda4cec49d2aa1156bd11d732af": {
      "model_module": "jupyter-js-widgets",
      "model_module_version": "~2.1.4",
      "model_name": "LayoutModel",
      "state": {
       "_model_module_version": "~2.1.4",
       "_view_module_version": "~2.1.4"
      }
     },
     "96046c8461074c809a351c996899af4f": {
      "model_module": "jupyter-js-widgets",
      "model_module_version": "~2.1.4",
      "model_name": "LayoutModel",
      "state": {
       "_model_module_version": "~2.1.4",
       "_view_module_version": "~2.1.4"
      }
     },
     "9696f07d5b2c437ead89bfe1d3dff49b": {
      "model_module": "jupyter-js-widgets",
      "model_module_version": "~2.1.4",
      "model_name": "SelectMultipleModel",
      "state": {
       "_model_module_version": "~2.1.4",
       "_options_labels": [
        "1995",
        "1996",
        "1997",
        "1998",
        "1999",
        "2000",
        "2001",
        "2002",
        "2003",
        "2004",
        "2005",
        "2006",
        "2007",
        "2008",
        "2009",
        "2010",
        "2011",
        "2012",
        "2013",
        "2014",
        "2015",
        "2016"
       ],
       "_view_module_version": "~2.1.4",
       "description": "Years",
       "layout": "IPY_MODEL_86ddd07d42294ebb8eb5479a72a92cba",
       "value": [
        "2012",
        "2013",
        "2014",
        "2015",
        "2016"
       ]
      }
     },
     "96cde4b1bebf43599b36eed5feae8eb8": {
      "model_module": "jupyter-js-widgets",
      "model_module_version": "~2.1.4",
      "model_name": "LayoutModel",
      "state": {
       "_model_module_version": "~2.1.4",
       "_view_module_version": "~2.1.4"
      }
     },
     "96f43a35a6de40488fb004a99e8d07e8": {
      "model_module": "jupyter-js-widgets",
      "model_module_version": "~2.1.4",
      "model_name": "LayoutModel",
      "state": {
       "_model_module_version": "~2.1.4",
       "_view_module_version": "~2.1.4"
      }
     },
     "9702e5e6a65f42b199f9e80a1bcb4560": {
      "model_module": "jupyter-js-widgets",
      "model_module_version": "~2.1.4",
      "model_name": "LayoutModel",
      "state": {
       "_model_module_version": "~2.1.4",
       "_view_module_version": "~2.1.4",
       "display": "inline_flex",
       "flex_flow": "column"
      }
     },
     "97735829d78d40d4bc1734a09dbb2645": {
      "model_module": "jupyter-js-widgets",
      "model_module_version": "~2.1.4",
      "model_name": "LayoutModel",
      "state": {
       "_model_module_version": "~2.1.4",
       "_view_module_version": "~2.1.4",
       "width": "20%"
      }
     },
     "97fb6e8bc22b4b45a4bb5667d8c27cc1": {
      "model_module": "jupyter-js-widgets",
      "model_module_version": "~2.1.4",
      "model_name": "LayoutModel",
      "state": {
       "_model_module_version": "~2.1.4",
       "_view_module_version": "~2.1.4"
      }
     },
     "99fa3f8b545a41089807980df4e08305": {
      "model_module": "jupyter-js-widgets",
      "model_module_version": "~2.1.4",
      "model_name": "ButtonStyleModel",
      "state": {
       "_model_module_version": "~2.1.4",
       "_view_module_version": "~2.1.4"
      }
     },
     "9a200e07c8824ea0aabcd3917cf10cdc": {
      "model_module": "jupyter-js-widgets",
      "model_module_version": "~2.1.4",
      "model_name": "SelectMultipleModel",
      "state": {
       "_model_module_version": "~2.1.4",
       "_options_labels": [
        "1995",
        "1996",
        "1997",
        "1998",
        "1999",
        "2000",
        "2001",
        "2002",
        "2003",
        "2004",
        "2005",
        "2006",
        "2007",
        "2008",
        "2009",
        "2010",
        "2011",
        "2012",
        "2013",
        "2014",
        "2015",
        "2016"
       ],
       "_view_module_version": "~2.1.4",
       "description": "Year",
       "layout": "IPY_MODEL_2ad7ba3c526b408093e3d9180b2b4bac",
       "value": [
        "1995",
        "1996",
        "1997",
        "1998",
        "1999",
        "2000",
        "2001",
        "2002",
        "2003",
        "2004",
        "2005",
        "2006",
        "2007",
        "2008",
        "2009",
        "2010",
        "2011",
        "2012",
        "2013",
        "2014",
        "2015",
        "2016"
       ]
      }
     },
     "9a8d1a2eff804ff5bbcca5b8a962bb49": {
      "model_module": "jupyter-js-widgets",
      "model_module_version": "~2.1.4",
      "model_name": "LayoutModel",
      "state": {
       "_model_module_version": "~2.1.4",
       "_view_module_version": "~2.1.4"
      }
     },
     "9b47902903de4d03ba13a0dbc4f3023a": {
      "model_module": "jupyter-js-widgets",
      "model_module_version": "~2.1.4",
      "model_name": "VBoxModel",
      "state": {
       "_dom_classes": [
        "widget-interact"
       ],
       "_model_module_version": "~2.1.4",
       "_view_module_version": "~2.1.4",
       "children": [
        "IPY_MODEL_fd3d890a73354478967249438564115c",
        "IPY_MODEL_bb7e314e873947d1b26b32d8900bfc4a",
        "IPY_MODEL_fbdd90175b9c46bf91393f477a925244",
        "IPY_MODEL_7e3554328c9542d6a6decb5b8c7a143a",
        "IPY_MODEL_38ff3544ca4846279d2cbadfc294299a"
       ],
       "layout": "IPY_MODEL_af774fa342a743c1b3744311b6872203"
      }
     },
     "9b4b90e70aee4458a83c77a5ee9e1292": {
      "model_module": "jupyter-js-widgets",
      "model_module_version": "~2.1.4",
      "model_name": "VBoxModel",
      "state": {
       "_dom_classes": [
        "widget-interact"
       ],
       "_model_module_version": "~2.1.4",
       "_view_module_version": "~2.1.4",
       "children": [
        "IPY_MODEL_3afa68ddbad94d00b2b45f2862a4ee04",
        "IPY_MODEL_52e2c2fea4714a528e8b077015007546",
        "IPY_MODEL_470ddaf0e95d41edb143fcae2424be42"
       ],
       "layout": "IPY_MODEL_34ce473c86614c4a9a9c6a9cfbc7a177"
      }
     },
     "9b7498c24feb47bfb17f39fe216dd3cb": {
      "model_module": "jupyter-js-widgets",
      "model_module_version": "~2.1.4",
      "model_name": "ButtonModel",
      "state": {
       "_model_module_version": "~2.1.4",
       "_view_module_version": "~2.1.4",
       "description": "Run Interact",
       "layout": "IPY_MODEL_83b0f863e7c0494b87ca31492f5cae06",
       "style": "IPY_MODEL_7deca0874acd426594b962cad93f46cf"
      }
     },
     "9b7ab406183c44b9a744ee2f5a09a38f": {
      "model_module": "jupyter-js-widgets",
      "model_module_version": "~2.1.4",
      "model_name": "LayoutModel",
      "state": {
       "_model_module_version": "~2.1.4",
       "_view_module_version": "~2.1.4"
      }
     },
     "9ce54502d6564a74b75cf7f5114d5ec4": {
      "model_module": "jupyter-js-widgets",
      "model_module_version": "~2.1.4",
      "model_name": "LayoutModel",
      "state": {
       "_model_module_version": "~2.1.4",
       "_view_module_version": "~2.1.4"
      }
     },
     "9d6d766ac9744fdaa1eae6b12370dd50": {
      "model_module": "jupyter-js-widgets",
      "model_module_version": "~2.1.4",
      "model_name": "OutputModel",
      "state": {
       "_dom_classes": [],
       "_model_module": "jupyter-js-widgets",
       "_model_module_version": "~2.1.4",
       "_view_module": "jupyter-js-widgets",
       "_view_module_version": "~2.1.4",
       "layout": "IPY_MODEL_8be009bac6074b22af415f217e7ee9bf",
       "msg_throttle": 1
      }
     },
     "9d94e62f07274ef0831ad439a30e6d3d": {
      "model_module": "jupyter-js-widgets",
      "model_module_version": "~2.1.4",
      "model_name": "OutputModel",
      "state": {
       "_dom_classes": [],
       "_model_module": "jupyter-js-widgets",
       "_model_module_version": "~2.1.4",
       "_view_module": "jupyter-js-widgets",
       "_view_module_version": "~2.1.4",
       "layout": "IPY_MODEL_b12921dcf8064590b3269fe934921b4b",
       "msg_throttle": 1
      }
     },
     "9dc53de6b737462490eb602633b81446": {
      "model_module": "jupyter-js-widgets",
      "model_module_version": "~2.1.4",
      "model_name": "LayoutModel",
      "state": {
       "_model_module_version": "~2.1.4",
       "_view_module_version": "~2.1.4"
      }
     },
     "9e452853ac274fb0980c6347dfd804d1": {
      "model_module": "jupyter-js-widgets",
      "model_module_version": "~2.1.4",
      "model_name": "LayoutModel",
      "state": {
       "_model_module_version": "~2.1.4",
       "_view_module_version": "~2.1.4"
      }
     },
     "9e4542a8c99a4e48828791be25935f0e": {
      "model_module": "jupyter-js-widgets",
      "model_module_version": "~2.1.4",
      "model_name": "OutputModel",
      "state": {
       "_dom_classes": [],
       "_model_module": "jupyter-js-widgets",
       "_model_module_version": "~2.1.4",
       "_view_module": "jupyter-js-widgets",
       "_view_module_version": "~2.1.4",
       "layout": "IPY_MODEL_aa6bc82f9f1e417fb25bfdf479420f55",
       "msg_throttle": 1
      }
     },
     "9ec94457e1a546908b328ff2ae4bbe9e": {
      "model_module": "jupyter-js-widgets",
      "model_module_version": "~2.1.4",
      "model_name": "OutputModel",
      "state": {
       "_dom_classes": [],
       "_model_module": "jupyter-js-widgets",
       "_model_module_version": "~2.1.4",
       "_view_module": "jupyter-js-widgets",
       "_view_module_version": "~2.1.4",
       "layout": "IPY_MODEL_e92a26a4f74047879b2468ac809752a4",
       "msg_throttle": 1
      }
     },
     "9ecc6007d3ce46d481c215762089f45a": {
      "model_module": "jupyter-js-widgets",
      "model_module_version": "~2.1.4",
      "model_name": "DropdownModel",
      "state": {
       "_model_module_version": "~2.1.4",
       "_options_labels": [
        "Albury",
        "Armidale Dumaresq",
        "Ashfield",
        "Auburn",
        "Ballina",
        "Balranald",
        "Bankstown",
        "Bathurst Regional",
        "Bega Valley",
        "Bellingen",
        "Berrigan",
        "Blacktown",
        "Bland",
        "Blayney",
        "Blue Mountains",
        "Bogan",
        "Bombala",
        "Boorowa",
        "Botany Bay",
        "Bourke",
        "Brewarrina",
        "Broken Hill",
        "Burwood",
        "Byron",
        "Cabonne",
        "Camden",
        "Campbelltown",
        "Canada Bay",
        "Canterbury",
        "Carrathool",
        "Central Darling",
        "Cessnock",
        "Clarence Valley",
        "Cobar",
        "Coffs Harbour",
        "Conargo",
        "Coolamon",
        "Cooma-Monaro",
        "Coonamble",
        "Cootamundra",
        "Corowa Shire",
        "Cowra",
        "Deniliquin",
        "Dubbo",
        "Dungog",
        "Eurobodalla",
        "Fairfield",
        "Forbes",
        "Gilgandra",
        "Glen Innes Severn",
        "Gloucester",
        "Gosford",
        "Goulburn Mulwaree",
        "Great Lakes",
        "Greater Hume Shire",
        "Greater Taree",
        "Griffith",
        "Gundagai",
        "Gunnedah",
        "Guyra",
        "Gwydir",
        "Harden",
        "Hawkesbury",
        "Hay",
        "Holroyd",
        "Hornsby",
        "Hunters Hill",
        "Hurstville",
        "Inverell",
        "Jerilderie",
        "Junee",
        "Kempsey",
        "Kiama",
        "Kogarah",
        "Ku-ring-gai",
        "Kyogle",
        "Lachlan",
        "Lake Macquarie",
        "Lane Cove",
        "Leeton",
        "Leichhardt",
        "Lismore",
        "Lithgow",
        "Liverpool",
        "Liverpool Plains",
        "Lockhart",
        "Maitland",
        "Manly",
        "Marrickville",
        "Mid-Western Regional",
        "Moree Plains",
        "Mosman",
        "Murray",
        "Murrumbidgee",
        "Muswellbrook",
        "Nambucca",
        "Narrabri",
        "Narrandera",
        "Narromine",
        "Newcastle",
        "North Sydney",
        "Oberon",
        "Orange",
        "Palerang",
        "Parkes",
        "Parramatta",
        "Penrith",
        "Pittwater",
        "Port Macquarie-Hastings",
        "Port Stephens",
        "Queanbeyan",
        "Randwick",
        "Richmond Valley",
        "Rockdale",
        "Ryde",
        "Shellharbour",
        "Shoalhaven",
        "Singleton",
        "Snowy River",
        "Strathfield",
        "Sutherland Shire",
        "Sydney",
        "Tamworth Regional",
        "Temora",
        "Tenterfield",
        "The Hills Shire",
        "Tumbarumba",
        "Tumut Shire",
        "Tweed",
        "Unincorporated Far West",
        "Upper Hunter Shire",
        "Upper Lachlan Shire",
        "Uralla",
        "Urana",
        "Wagga Wagga",
        "Wakool",
        "Walcha",
        "Walgett",
        "Warren",
        "Warringah",
        "Warrumbungle Shire",
        "Waverley",
        "Weddin",
        "Wellington",
        "Wentworth",
        "Willoughby",
        "Wingecarribee",
        "Wollondilly",
        "Wollongong",
        "Woollahra",
        "Wyong",
        "Yass Valley",
        "Young"
       ],
       "_view_module_version": "~2.1.4",
       "description": "LGA2",
       "layout": "IPY_MODEL_8225520d8efb4db589c3b0357b5694f5",
       "value": "Lane Cove"
      }
     },
     "9f20b225eafe4e8b95491fd29c8f44c0": {
      "model_module": "jupyter-js-widgets",
      "model_module_version": "~2.1.4",
      "model_name": "ButtonModel",
      "state": {
       "_model_module_version": "~2.1.4",
       "_view_module_version": "~2.1.4",
       "description": "Run Interact",
       "layout": "IPY_MODEL_ba434ada42e347aaaa9946e68d5d3681",
       "style": "IPY_MODEL_f94af6bcd9f343a8aeb899d87a6065ea"
      }
     },
     "9f5bb393c3094e80904a01fdff18487a": {
      "model_module": "jupyter-js-widgets",
      "model_module_version": "~2.1.4",
      "model_name": "ButtonStyleModel",
      "state": {
       "_model_module_version": "~2.1.4",
       "_view_module_version": "~2.1.4"
      }
     },
     "9f625352b1f74dffb1bf6db7d28838e0": {
      "model_module": "jupyter-js-widgets",
      "model_module_version": "~2.1.4",
      "model_name": "LayoutModel",
      "state": {
       "_model_module_version": "~2.1.4",
       "_view_module_version": "~2.1.4",
       "width": "20%"
      }
     },
     "9f69050f13a04179a39a4b4458bbfd07": {
      "model_module": "jupyter-js-widgets",
      "model_module_version": "~2.1.4",
      "model_name": "ButtonStyleModel",
      "state": {
       "_model_module_version": "~2.1.4",
       "_view_module_version": "~2.1.4"
      }
     },
     "a061206ca1d24e96932007c8bbbdfd40": {
      "model_module": "jupyter-js-widgets",
      "model_module_version": "~2.1.4",
      "model_name": "ButtonStyleModel",
      "state": {
       "_model_module_version": "~2.1.4",
       "_view_module_version": "~2.1.4"
      }
     },
     "a062bc181d3c4625aa2483e50b5ab0a4": {
      "model_module": "jupyter-js-widgets",
      "model_module_version": "~2.1.4",
      "model_name": "LayoutModel",
      "state": {
       "_model_module_version": "~2.1.4",
       "_view_module_version": "~2.1.4"
      }
     },
     "a09ac8b57aaa4de283af173d426cc80c": {
      "model_module": "jupyter-js-widgets",
      "model_module_version": "~2.1.4",
      "model_name": "DropdownModel",
      "state": {
       "_model_module_version": "~2.1.4",
       "_options_labels": [
        "1995",
        "1996",
        "1997",
        "1998",
        "1999",
        "2000",
        "2001",
        "2002",
        "2003",
        "2004",
        "2005",
        "2006",
        "2007",
        "2008",
        "2009",
        "2010",
        "2011",
        "2012",
        "2013",
        "2014",
        "2015",
        "2016"
       ],
       "_view_module_version": "~2.1.4",
       "description": "Year:",
       "layout": "IPY_MODEL_09d5fa8e1c9149228c9f9da0b0a795ef",
       "value": "2016"
      }
     },
     "a121626df6c749f08e8ae577c30a834d": {
      "model_module": "jupyter-js-widgets",
      "model_module_version": "~2.1.4",
      "model_name": "LayoutModel",
      "state": {
       "_model_module_version": "~2.1.4",
       "_view_module_version": "~2.1.4"
      }
     },
     "a261395cb87943769c4028921b12ae71": {
      "model_module": "jupyter-js-widgets",
      "model_module_version": "~2.1.4",
      "model_name": "LayoutModel",
      "state": {
       "_model_module_version": "~2.1.4",
       "_view_module_version": "~2.1.4"
      }
     },
     "a26d59a585674a3d911f26b0ebf66994": {
      "model_module": "jupyter-js-widgets",
      "model_module_version": "~2.1.4",
      "model_name": "ButtonStyleModel",
      "state": {
       "_model_module_version": "~2.1.4",
       "_view_module_version": "~2.1.4"
      }
     },
     "a27e994acdda48d89b93a4fb039f957f": {
      "model_module": "jupyter-js-widgets",
      "model_module_version": "~2.1.4",
      "model_name": "DropdownModel",
      "state": {
       "_model_module_version": "~2.1.4",
       "_options_labels": [
        "Homicide",
        "Assault",
        "Sexual offences",
        "Other offences against the person",
        "Robbery",
        "Property offences",
        "Drug Possession",
        "Drug Dealing",
        "Vice",
        "Weapons offences",
        "Other offences"
       ],
       "_view_module_version": "~2.1.4",
       "description": "Category",
       "layout": "IPY_MODEL_ab2b406ac6c14121a6eb5829bcbfe905",
       "value": "Homicide"
      }
     },
     "a29984283cd14dcf81150a8eeeac7b2a": {
      "model_module": "jupyter-js-widgets",
      "model_module_version": "~2.1.4",
      "model_name": "OutputModel",
      "state": {
       "_dom_classes": [],
       "_model_module": "jupyter-js-widgets",
       "_model_module_version": "~2.1.4",
       "_view_module": "jupyter-js-widgets",
       "_view_module_version": "~2.1.4",
       "layout": "IPY_MODEL_01d456e605734bf8a06a8303a36c18e3",
       "msg_throttle": 1
      }
     },
     "a32b1879711f458295d8c032580bbafc": {
      "model_module": "jupyter-js-widgets",
      "model_module_version": "~2.1.4",
      "model_name": "ButtonModel",
      "state": {
       "_model_module_version": "~2.1.4",
       "_view_module_version": "~2.1.4",
       "description": "Run Interact",
       "layout": "IPY_MODEL_5b1453c908854f3fb6a4838b23389367",
       "style": "IPY_MODEL_2c8aee79906b40a5903b348351fa927f"
      }
     },
     "a3858255be054451a6ca7024449b09fa": {
      "model_module": "jupyter-js-widgets",
      "model_module_version": "~2.1.4",
      "model_name": "OutputModel",
      "state": {
       "_dom_classes": [],
       "_model_module": "jupyter-js-widgets",
       "_model_module_version": "~2.1.4",
       "_view_module": "jupyter-js-widgets",
       "_view_module_version": "~2.1.4",
       "layout": "IPY_MODEL_74f0dfbc94324608b7d69ff7c403a82e",
       "msg_throttle": 1
      }
     },
     "a394e92b08c6436ca1b1de01103ce92d": {
      "model_module": "jupyter-js-widgets",
      "model_module_version": "~2.1.4",
      "model_name": "LayoutModel",
      "state": {
       "_model_module_version": "~2.1.4",
       "_view_module_version": "~2.1.4",
       "display": "inline_flex",
       "flex_flow": "column",
       "width": "20%"
      }
     },
     "a3d13dd48e3646668b0e23789e9cbc6f": {
      "model_module": "jupyter-js-widgets",
      "model_module_version": "~2.1.4",
      "model_name": "LayoutModel",
      "state": {
       "_model_module_version": "~2.1.4",
       "_view_module_version": "~2.1.4"
      }
     },
     "a3d3a6e58d70456b836f0aa1847a3b8f": {
      "model_module": "jupyter-js-widgets",
      "model_module_version": "~2.1.4",
      "model_name": "LayoutModel",
      "state": {
       "_model_module_version": "~2.1.4",
       "_view_module_version": "~2.1.4",
       "width": "20%"
      }
     },
     "a41237ac97594c979383f8e19d2991be": {
      "model_module": "jupyter-js-widgets",
      "model_module_version": "~2.1.4",
      "model_name": "LayoutModel",
      "state": {
       "_model_module_version": "~2.1.4",
       "_view_module_version": "~2.1.4"
      }
     },
     "a4bb0e54655345548326fd86d248fdcd": {
      "model_module": "jupyter-js-widgets",
      "model_module_version": "~2.1.4",
      "model_name": "LayoutModel",
      "state": {
       "_model_module_version": "~2.1.4",
       "_view_module_version": "~2.1.4",
       "display": "inline_flex",
       "flex_flow": "column"
      }
     },
     "a4fc2d7c8f6c4189bb05416e22cc5a28": {
      "model_module": "jupyter-js-widgets",
      "model_module_version": "~2.1.4",
      "model_name": "LayoutModel",
      "state": {
       "_model_module_version": "~2.1.4",
       "_view_module_version": "~2.1.4"
      }
     },
     "a510f146eee74b0c86d7f3b93039a85d": {
      "model_module": "jupyter-js-widgets",
      "model_module_version": "~2.1.4",
      "model_name": "LayoutModel",
      "state": {
       "_model_module_version": "~2.1.4",
       "_view_module_version": "~2.1.4"
      }
     },
     "a58e17f3611649f59a194983d35ad700": {
      "model_module": "jupyter-js-widgets",
      "model_module_version": "~2.1.4",
      "model_name": "VBoxModel",
      "state": {
       "_dom_classes": [
        "widget-interact"
       ],
       "_model_module_version": "~2.1.4",
       "_view_module_version": "~2.1.4",
       "children": [
        "IPY_MODEL_830d432263894db6ae80e83919734ddf",
        "IPY_MODEL_6b4fca5b1e9c40319866b814732582b4",
        "IPY_MODEL_36839760b3374a13bc61f3606133c843"
       ],
       "layout": "IPY_MODEL_386732dd9eba4d89bc1eca816daf90db"
      }
     },
     "a5ea757e85e940848d35cd01ce383a4c": {
      "model_module": "jupyter-js-widgets",
      "model_module_version": "~2.1.4",
      "model_name": "OutputModel",
      "state": {
       "_dom_classes": [],
       "_model_module": "jupyter-js-widgets",
       "_model_module_version": "~2.1.4",
       "_view_module": "jupyter-js-widgets",
       "_view_module_version": "~2.1.4",
       "layout": "IPY_MODEL_7e57046874d54b87a6fff20b659c4701",
       "msg_throttle": 1
      }
     },
     "a6935ff5240644cea2cb32bc0cbd65f9": {
      "model_module": "jupyter-js-widgets",
      "model_module_version": "~2.1.4",
      "model_name": "LayoutModel",
      "state": {
       "_model_module_version": "~2.1.4",
       "_view_module_version": "~2.1.4"
      }
     },
     "a6a2964e8dce426e812e1fbe7174211d": {
      "model_module": "jupyter-js-widgets",
      "model_module_version": "~2.1.4",
      "model_name": "LayoutModel",
      "state": {
       "_model_module_version": "~2.1.4",
       "_view_module_version": "~2.1.4"
      }
     },
     "a764b25821d94600960a04b9cd6314c7": {
      "model_module": "jupyter-js-widgets",
      "model_module_version": "~2.1.4",
      "model_name": "ButtonStyleModel",
      "state": {
       "_model_module_version": "~2.1.4",
       "_view_module_version": "~2.1.4"
      }
     },
     "a79f65344b1342f99a74d78bc29b63bf": {
      "model_module": "jupyter-js-widgets",
      "model_module_version": "~2.1.4",
      "model_name": "OutputModel",
      "state": {
       "_dom_classes": [],
       "_model_module": "jupyter-js-widgets",
       "_model_module_version": "~2.1.4",
       "_view_module": "jupyter-js-widgets",
       "_view_module_version": "~2.1.4",
       "layout": "IPY_MODEL_fa8bbdac3adc49c6b929b738d55e162d",
       "msg_throttle": 1
      }
     },
     "a7a8539aec504f1eb1518b5759e8576d": {
      "model_module": "jupyter-js-widgets",
      "model_module_version": "~2.1.4",
      "model_name": "LayoutModel",
      "state": {
       "_model_module_version": "~2.1.4",
       "_view_module_version": "~2.1.4"
      }
     },
     "a8142fff05484647bfc6299cf0f4bacd": {
      "model_module": "jupyter-js-widgets",
      "model_module_version": "~2.1.4",
      "model_name": "LayoutModel",
      "state": {
       "_model_module_version": "~2.1.4",
       "_view_module_version": "~2.1.4"
      }
     },
     "a82a6f8a09d64f3799b782b86d5e5424": {
      "model_module": "jupyter-js-widgets",
      "model_module_version": "~2.1.4",
      "model_name": "OutputModel",
      "state": {
       "_dom_classes": [],
       "_model_module": "jupyter-js-widgets",
       "_model_module_version": "~2.1.4",
       "_view_module": "jupyter-js-widgets",
       "_view_module_version": "~2.1.4",
       "layout": "IPY_MODEL_ecb312221193412386114dc598345411",
       "msg_throttle": 1
      }
     },
     "a8c6f145e6a54f7aa9dd035cf8770ec4": {
      "model_module": "jupyter-js-widgets",
      "model_module_version": "~2.1.4",
      "model_name": "DropdownModel",
      "state": {
       "_model_module_version": "~2.1.4",
       "_options_labels": [
        "Albury",
        "Armidale Dumaresq",
        "Ashfield",
        "Auburn",
        "Ballina",
        "Balranald",
        "Bankstown",
        "Bathurst Regional",
        "Bega Valley",
        "Bellingen",
        "Berrigan",
        "Blacktown",
        "Bland",
        "Blayney",
        "Blue Mountains",
        "Bogan",
        "Bombala",
        "Boorowa",
        "Botany Bay",
        "Bourke",
        "Brewarrina",
        "Broken Hill",
        "Burwood",
        "Byron",
        "Cabonne",
        "Camden",
        "Campbelltown",
        "Canada Bay",
        "Canterbury",
        "Carrathool",
        "Central Darling",
        "Cessnock",
        "Clarence Valley",
        "Cobar",
        "Coffs Harbour",
        "Conargo",
        "Coolamon",
        "Cooma-Monaro",
        "Coonamble",
        "Cootamundra",
        "Corowa Shire",
        "Cowra",
        "Deniliquin",
        "Dubbo",
        "Dungog",
        "Eurobodalla",
        "Fairfield",
        "Forbes",
        "Gilgandra",
        "Glen Innes Severn",
        "Gloucester",
        "Gosford",
        "Goulburn Mulwaree",
        "Great Lakes",
        "Greater Hume Shire",
        "Greater Taree",
        "Griffith",
        "Gundagai",
        "Gunnedah",
        "Guyra",
        "Gwydir",
        "Harden",
        "Hawkesbury",
        "Hay",
        "Holroyd",
        "Hornsby",
        "Hunters Hill",
        "Hurstville",
        "Inverell",
        "Jerilderie",
        "Junee",
        "Kempsey",
        "Kiama",
        "Kogarah",
        "Ku-ring-gai",
        "Kyogle",
        "Lachlan",
        "Lake Macquarie",
        "Lane Cove",
        "Leeton",
        "Leichhardt",
        "Lismore",
        "Lithgow",
        "Liverpool",
        "Liverpool Plains",
        "Lockhart",
        "Maitland",
        "Manly",
        "Marrickville",
        "Mid-Western Regional",
        "Moree Plains",
        "Mosman",
        "Murray",
        "Murrumbidgee",
        "Muswellbrook",
        "Nambucca",
        "Narrabri",
        "Narrandera",
        "Narromine",
        "Newcastle",
        "North Sydney",
        "Oberon",
        "Orange",
        "Palerang",
        "Parkes",
        "Parramatta",
        "Penrith",
        "Pittwater",
        "Port Macquarie-Hastings",
        "Port Stephens",
        "Queanbeyan",
        "Randwick",
        "Richmond Valley",
        "Rockdale",
        "Ryde",
        "Shellharbour",
        "Shoalhaven",
        "Singleton",
        "Snowy River",
        "Strathfield",
        "Sutherland Shire",
        "Sydney",
        "Tamworth Regional",
        "Temora",
        "Tenterfield",
        "The Hills Shire",
        "Tumbarumba",
        "Tumut Shire",
        "Tweed",
        "Unincorporated Far West",
        "Upper Hunter Shire",
        "Upper Lachlan Shire",
        "Uralla",
        "Urana",
        "Wagga Wagga",
        "Wakool",
        "Walcha",
        "Walgett",
        "Warren",
        "Warringah",
        "Warrumbungle Shire",
        "Waverley",
        "Weddin",
        "Wellington",
        "Wentworth",
        "Willoughby",
        "Wingecarribee",
        "Wollondilly",
        "Wollongong",
        "Woollahra",
        "Wyong",
        "Yass Valley",
        "Young"
       ],
       "_view_module_version": "~2.1.4",
       "description": "LGA1",
       "layout": "IPY_MODEL_5e87e669ae054a8e9ced634d3837cd63",
       "value": "Randwick"
      }
     },
     "a9007ea92f1b400ea915d0f8d20b8768": {
      "model_module": "jupyter-js-widgets",
      "model_module_version": "~2.1.4",
      "model_name": "SelectMultipleModel",
      "state": {
       "_model_module_version": "~2.1.4",
       "_options_labels": [
        "1995",
        "1996",
        "1997",
        "1998",
        "1999",
        "2000",
        "2001",
        "2002",
        "2003",
        "2004",
        "2005",
        "2006",
        "2007",
        "2008",
        "2009",
        "2010",
        "2011",
        "2012",
        "2013",
        "2014",
        "2015",
        "2016"
       ],
       "_view_module_version": "~2.1.4",
       "description": "Years",
       "layout": "IPY_MODEL_0ea3f0d755b14aaf8b963dc782664358",
       "value": [
        "1995",
        "1996",
        "1997",
        "1998",
        "1999",
        "2000",
        "2001",
        "2002",
        "2003",
        "2004",
        "2005",
        "2006",
        "2007",
        "2008",
        "2009",
        "2010",
        "2011",
        "2012",
        "2013",
        "2014",
        "2015",
        "2016"
       ]
      }
     },
     "a9325ffd96cc4c14bf6d53dd97f08fde": {
      "model_module": "jupyter-js-widgets",
      "model_module_version": "~2.1.4",
      "model_name": "VBoxModel",
      "state": {
       "_dom_classes": [
        "widget-interact"
       ],
       "_model_module_version": "~2.1.4",
       "_view_module_version": "~2.1.4",
       "children": [
        "IPY_MODEL_b1909e2c2bb5475d83d9894a081b4c47",
        "IPY_MODEL_3105c4cc1d7240509a86bd28ebb7d1b5",
        "IPY_MODEL_1eab5aa6b0db49af97bdabe29b386d1e",
        "IPY_MODEL_3725acf4af7a4c0e9fde0aaab8116637",
        "IPY_MODEL_f2efcbbc84924376bae7c50499dbf8de"
       ],
       "layout": "IPY_MODEL_80f13a7a856a4ac7801f343885886aea"
      }
     },
     "a9ec751788f24cd78afaa7b93f7e075f": {
      "model_module": "jupyter-js-widgets",
      "model_module_version": "~2.1.4",
      "model_name": "LayoutModel",
      "state": {
       "_model_module_version": "~2.1.4",
       "_view_module_version": "~2.1.4",
       "display": "inline_flex",
       "flex_flow": "column"
      }
     },
     "aa018ef4dd3c423cbb0b74fa232a0e62": {
      "model_module": "jupyter-js-widgets",
      "model_module_version": "~2.1.4",
      "model_name": "ButtonModel",
      "state": {
       "_model_module_version": "~2.1.4",
       "_view_module_version": "~2.1.4",
       "description": "Run Interact",
       "layout": "IPY_MODEL_be70899021f348b78c33a4582af29481",
       "style": "IPY_MODEL_943e156190ba49a590bea553db99230d"
      }
     },
     "aa439b364555414f97372a27033d228e": {
      "model_module": "jupyter-js-widgets",
      "model_module_version": "~2.1.4",
      "model_name": "SelectMultipleModel",
      "state": {
       "_model_module_version": "~2.1.4",
       "_options_labels": [
        "1995",
        "1996",
        "1997",
        "1998",
        "1999",
        "2000",
        "2001",
        "2002",
        "2003",
        "2004",
        "2005",
        "2006",
        "2007",
        "2008",
        "2009",
        "2010",
        "2011",
        "2012",
        "2013",
        "2014",
        "2015",
        "2016"
       ],
       "_view_module_version": "~2.1.4",
       "description": "Years",
       "layout": "IPY_MODEL_508837a1baae408a859f7dda89d04232",
       "value": [
        "1995",
        "1996",
        "1997",
        "1998",
        "1999",
        "2000",
        "2001",
        "2002",
        "2003",
        "2004",
        "2005",
        "2006",
        "2007",
        "2008",
        "2009",
        "2010",
        "2011",
        "2012",
        "2013",
        "2014",
        "2015",
        "2016"
       ]
      }
     },
     "aa6bc82f9f1e417fb25bfdf479420f55": {
      "model_module": "jupyter-js-widgets",
      "model_module_version": "~2.1.4",
      "model_name": "LayoutModel",
      "state": {
       "_model_module_version": "~2.1.4",
       "_view_module_version": "~2.1.4"
      }
     },
     "aaaca744460542399e4df86980d69a1f": {
      "model_module": "jupyter-js-widgets",
      "model_module_version": "~2.1.4",
      "model_name": "VBoxModel",
      "state": {
       "_dom_classes": [
        "widget-interact"
       ],
       "_model_module_version": "~2.1.4",
       "_view_module_version": "~2.1.4",
       "children": [
        "IPY_MODEL_1f9de501fea24c60af8d89a0ca498990",
        "IPY_MODEL_1f40c0b6b3074ea2a1d13746b21c4260",
        "IPY_MODEL_d453f51bc68742ecacfbeb7899bc6ca9"
       ],
       "layout": "IPY_MODEL_4e8f6e77e12b40fb9a0de7863928186b"
      }
     },
     "ab2b406ac6c14121a6eb5829bcbfe905": {
      "model_module": "jupyter-js-widgets",
      "model_module_version": "~2.1.4",
      "model_name": "LayoutModel",
      "state": {
       "_model_module_version": "~2.1.4",
       "_view_module_version": "~2.1.4"
      }
     },
     "ab539ac785774e44bd255fb605752e52": {
      "model_module": "jupyter-js-widgets",
      "model_module_version": "~2.1.4",
      "model_name": "VBoxModel",
      "state": {
       "_dom_classes": [
        "widget-interact"
       ],
       "_model_module_version": "~2.1.4",
       "_view_module_version": "~2.1.4",
       "children": [
        "IPY_MODEL_7b638cb5831544f4abcf6c42be8b252a",
        "IPY_MODEL_7cc0e28ff5dc448196fadbc8ffe8f8c6",
        "IPY_MODEL_da6110dc06b344a4a63202efdcb20c96"
       ],
       "layout": "IPY_MODEL_d219196023f44925b8c669d048d4e444"
      }
     },
     "ab62ae13aa224cc1927b136f80b355a0": {
      "model_module": "jupyter-js-widgets",
      "model_module_version": "~2.1.4",
      "model_name": "LayoutModel",
      "state": {
       "_model_module_version": "~2.1.4",
       "_view_module_version": "~2.1.4"
      }
     },
     "ab6311c4ab574357ae9a92f44e97e1eb": {
      "model_module": "jupyter-js-widgets",
      "model_module_version": "~2.1.4",
      "model_name": "LayoutModel",
      "state": {
       "_model_module_version": "~2.1.4",
       "_view_module_version": "~2.1.4"
      }
     },
     "ac100858887d483fae3865852d4a7f35": {
      "model_module": "jupyter-js-widgets",
      "model_module_version": "~2.1.4",
      "model_name": "LayoutModel",
      "state": {
       "_model_module_version": "~2.1.4",
       "_view_module_version": "~2.1.4",
       "display": "flex",
       "flex_flow": "column"
      }
     },
     "ac35271a37fd4c9c8fd08c625dee74cd": {
      "model_module": "jupyter-js-widgets",
      "model_module_version": "~2.1.4",
      "model_name": "VBoxModel",
      "state": {
       "_dom_classes": [
        "widget-interact"
       ],
       "_model_module_version": "~2.1.4",
       "_view_module_version": "~2.1.4",
       "children": [
        "IPY_MODEL_6bf7b1a861474a12bdc9491cccc612f5",
        "IPY_MODEL_376289ed04c44edf94917cc745b2ec11",
        "IPY_MODEL_35ad5c4c24054dc8a1b69bb6cf448a1e"
       ],
       "layout": "IPY_MODEL_f4253aea1c394693a837e673c3b6b827"
      }
     },
     "ac69614dfd834a2497168dac48440525": {
      "model_module": "jupyter-js-widgets",
      "model_module_version": "~2.1.4",
      "model_name": "DropdownModel",
      "state": {
       "_model_module_version": "~2.1.4",
       "_options_labels": [
        "Homicide",
        "Assault",
        "Sexual offences",
        "Other offences against the person",
        "Robbery",
        "Property offences",
        "Drug Possession",
        "Drug Dealing",
        "Vice",
        "Weapons offences",
        "Other offences"
       ],
       "_view_module_version": "~2.1.4",
       "description": "Category",
       "layout": "IPY_MODEL_7d90c1bb37b84ef2936a7973fe76f5b2",
       "value": "Other offences"
      }
     },
     "ac8124fe67f34e4c9191cbb57ea071ca": {
      "model_module": "jupyter-js-widgets",
      "model_module_version": "~2.1.4",
      "model_name": "LayoutModel",
      "state": {
       "_model_module_version": "~2.1.4",
       "_view_module_version": "~2.1.4"
      }
     },
     "accac25439f04553973cf5bf8125347a": {
      "model_module": "jupyter-js-widgets",
      "model_module_version": "~2.1.4",
      "model_name": "DropdownModel",
      "state": {
       "_model_module_version": "~2.1.4",
       "_options_labels": [
        "Albury",
        "Armidale Dumaresq",
        "Ashfield",
        "Auburn",
        "Ballina",
        "Balranald",
        "Bankstown",
        "Bathurst Regional",
        "Bega Valley",
        "Bellingen",
        "Berrigan",
        "Blacktown",
        "Bland",
        "Blayney",
        "Blue Mountains",
        "Bogan",
        "Bombala",
        "Boorowa",
        "Botany Bay",
        "Bourke",
        "Brewarrina",
        "Broken Hill",
        "Burwood",
        "Byron",
        "Cabonne",
        "Camden",
        "Campbelltown",
        "Canada Bay",
        "Canterbury",
        "Carrathool",
        "Central Darling",
        "Cessnock",
        "Clarence Valley",
        "Cobar",
        "Coffs Harbour",
        "Conargo",
        "Coolamon",
        "Cooma-Monaro",
        "Coonamble",
        "Cootamundra",
        "Corowa Shire",
        "Cowra",
        "Deniliquin",
        "Dubbo",
        "Dungog",
        "Eurobodalla",
        "Fairfield",
        "Forbes",
        "Gilgandra",
        "Glen Innes Severn",
        "Gloucester",
        "Gosford",
        "Goulburn Mulwaree",
        "Great Lakes",
        "Greater Hume Shire",
        "Greater Taree",
        "Griffith",
        "Gundagai",
        "Gunnedah",
        "Guyra",
        "Gwydir",
        "Harden",
        "Hawkesbury",
        "Hay",
        "Holroyd",
        "Hornsby",
        "Hunters Hill",
        "Hurstville",
        "Inverell",
        "Jerilderie",
        "Junee",
        "Kempsey",
        "Kiama",
        "Kogarah",
        "Ku-ring-gai",
        "Kyogle",
        "Lachlan",
        "Lake Macquarie",
        "Lane Cove",
        "Leeton",
        "Leichhardt",
        "Lismore",
        "Lithgow",
        "Liverpool",
        "Liverpool Plains",
        "Lockhart",
        "Maitland",
        "Manly",
        "Marrickville",
        "Mid-Western Regional",
        "Moree Plains",
        "Mosman",
        "Murray",
        "Murrumbidgee",
        "Muswellbrook",
        "Nambucca",
        "Narrabri",
        "Narrandera",
        "Narromine",
        "Newcastle",
        "North Sydney",
        "Oberon",
        "Orange",
        "Palerang",
        "Parkes",
        "Parramatta",
        "Penrith",
        "Pittwater",
        "Port Macquarie-Hastings",
        "Port Stephens",
        "Queanbeyan",
        "Randwick",
        "Richmond Valley",
        "Rockdale",
        "Ryde",
        "Shellharbour",
        "Shoalhaven",
        "Singleton",
        "Snowy River",
        "Strathfield",
        "Sutherland Shire",
        "Sydney",
        "Tamworth Regional",
        "Temora",
        "Tenterfield",
        "The Hills Shire",
        "Tumbarumba",
        "Tumut Shire",
        "Tweed",
        "Unincorporated Far West",
        "Upper Hunter Shire",
        "Upper Lachlan Shire",
        "Uralla",
        "Urana",
        "Wagga Wagga",
        "Wakool",
        "Walcha",
        "Walgett",
        "Warren",
        "Warringah",
        "Warrumbungle Shire",
        "Waverley",
        "Weddin",
        "Wellington",
        "Wentworth",
        "Willoughby",
        "Wingecarribee",
        "Wollondilly",
        "Wollongong",
        "Woollahra",
        "Wyong",
        "Yass Valley",
        "Young"
       ],
       "_view_module_version": "~2.1.4",
       "description": "LGA1",
       "layout": "IPY_MODEL_da99322ec7204a5cb3b9beb664a5d85e",
       "value": "Randwick"
      }
     },
     "ad901cb4a1fc4c46bb7fc67c6a6ff4d4": {
      "model_module": "jupyter-js-widgets",
      "model_module_version": "~2.1.4",
      "model_name": "DropdownModel",
      "state": {
       "_model_module_version": "~2.1.4",
       "_options_labels": [
        "Albury",
        "Armidale Dumaresq",
        "Ashfield",
        "Auburn",
        "Ballina",
        "Balranald",
        "Bankstown",
        "Bathurst Regional",
        "Bega Valley",
        "Bellingen",
        "Berrigan",
        "Blacktown",
        "Bland",
        "Blayney",
        "Blue Mountains",
        "Bogan",
        "Bombala",
        "Boorowa",
        "Botany Bay",
        "Bourke",
        "Brewarrina",
        "Broken Hill",
        "Burwood",
        "Byron",
        "Cabonne",
        "Camden",
        "Campbelltown",
        "Canada Bay",
        "Canterbury",
        "Carrathool",
        "Central Darling",
        "Cessnock",
        "Clarence Valley",
        "Cobar",
        "Coffs Harbour",
        "Conargo",
        "Coolamon",
        "Cooma-Monaro",
        "Coonamble",
        "Cootamundra",
        "Corowa Shire",
        "Cowra",
        "Deniliquin",
        "Dubbo",
        "Dungog",
        "Eurobodalla",
        "Fairfield",
        "Forbes",
        "Gilgandra",
        "Glen Innes Severn",
        "Gloucester",
        "Gosford",
        "Goulburn Mulwaree",
        "Great Lakes",
        "Greater Hume Shire",
        "Greater Taree",
        "Griffith",
        "Gundagai",
        "Gunnedah",
        "Guyra",
        "Gwydir",
        "Harden",
        "Hawkesbury",
        "Hay",
        "Holroyd",
        "Hornsby",
        "Hunters Hill",
        "Hurstville",
        "Inverell",
        "Jerilderie",
        "Junee",
        "Kempsey",
        "Kiama",
        "Kogarah",
        "Ku-ring-gai",
        "Kyogle",
        "Lachlan",
        "Lake Macquarie",
        "Lane Cove",
        "Leeton",
        "Leichhardt",
        "Lismore",
        "Lithgow",
        "Liverpool",
        "Liverpool Plains",
        "Lockhart",
        "Maitland",
        "Manly",
        "Marrickville",
        "Mid-Western Regional",
        "Moree Plains",
        "Mosman",
        "Murray",
        "Murrumbidgee",
        "Muswellbrook",
        "Nambucca",
        "Narrabri",
        "Narrandera",
        "Narromine",
        "Newcastle",
        "North Sydney",
        "Oberon",
        "Orange",
        "Palerang",
        "Parkes",
        "Parramatta",
        "Penrith",
        "Pittwater",
        "Port Macquarie-Hastings",
        "Port Stephens",
        "Queanbeyan",
        "Randwick",
        "Richmond Valley",
        "Rockdale",
        "Ryde",
        "Shellharbour",
        "Shoalhaven",
        "Singleton",
        "Snowy River",
        "Strathfield",
        "Sutherland Shire",
        "Sydney",
        "Tamworth Regional",
        "Temora",
        "Tenterfield",
        "The Hills Shire",
        "Tumbarumba",
        "Tumut Shire",
        "Tweed",
        "Unincorporated Far West",
        "Upper Hunter Shire",
        "Upper Lachlan Shire",
        "Uralla",
        "Urana",
        "Wagga Wagga",
        "Wakool",
        "Walcha",
        "Walgett",
        "Warren",
        "Warringah",
        "Warrumbungle Shire",
        "Waverley",
        "Weddin",
        "Wellington",
        "Wentworth",
        "Willoughby",
        "Wingecarribee",
        "Wollondilly",
        "Wollongong",
        "Woollahra",
        "Wyong",
        "Yass Valley",
        "Young"
       ],
       "_view_module_version": "~2.1.4",
       "description": "LGA2",
       "layout": "IPY_MODEL_77ea532e573f415a960dba67a833c5b8",
       "value": "Lane Cove"
      }
     },
     "ade54bb43d074bdf8424a94c7f794a89": {
      "model_module": "jupyter-js-widgets",
      "model_module_version": "~2.1.4",
      "model_name": "ButtonStyleModel",
      "state": {
       "_model_module_version": "~2.1.4",
       "_view_module_version": "~2.1.4"
      }
     },
     "ae1df19591754029acc4f4c879fbce0c": {
      "model_module": "jupyter-js-widgets",
      "model_module_version": "~2.1.4",
      "model_name": "LayoutModel",
      "state": {
       "_model_module_version": "~2.1.4",
       "_view_module_version": "~2.1.4"
      }
     },
     "ae86a84f34154c5b9c24ee40058fcc9b": {
      "model_module": "jupyter-js-widgets",
      "model_module_version": "~2.1.4",
      "model_name": "LayoutModel",
      "state": {
       "_model_module_version": "~2.1.4",
       "_view_module_version": "~2.1.4"
      }
     },
     "aec1e7e7ee9345239bf24023da8af9b4": {
      "model_module": "jupyter-js-widgets",
      "model_module_version": "~2.1.4",
      "model_name": "LayoutModel",
      "state": {
       "_model_module_version": "~2.1.4",
       "_view_module_version": "~2.1.4",
       "width": "20%"
      }
     },
     "aed59a74f2cf451582b9f4242f7c69b1": {
      "model_module": "jupyter-js-widgets",
      "model_module_version": "~2.1.4",
      "model_name": "LayoutModel",
      "state": {
       "_model_module_version": "~2.1.4",
       "_view_module_version": "~2.1.4"
      }
     },
     "af0a1f40d2d744eaa4fb9db7d9aed98e": {
      "model_module": "jupyter-js-widgets",
      "model_module_version": "~2.1.4",
      "model_name": "DropdownModel",
      "state": {
       "_model_module_version": "~2.1.4",
       "_options_labels": [
        "1995",
        "1996",
        "1997",
        "1998",
        "1999",
        "2000",
        "2001",
        "2002",
        "2003",
        "2004",
        "2005",
        "2006",
        "2007",
        "2008",
        "2009",
        "2010",
        "2011",
        "2012",
        "2013",
        "2014",
        "2015",
        "2016"
       ],
       "_view_module_version": "~2.1.4",
       "description": "Year:",
       "layout": "IPY_MODEL_f002685fc47641f7afa4b90de3700419",
       "value": "2016"
      }
     },
     "af6b5a7f83084d7782fd5d4f969123fe": {
      "model_module": "jupyter-js-widgets",
      "model_module_version": "~2.1.4",
      "model_name": "SelectMultipleModel",
      "state": {
       "_model_module_version": "~2.1.4",
       "_options_labels": [
        "Homicide",
        "Assault",
        "Sexual offences",
        "Other offences against the person",
        "Robbery",
        "Property offences",
        "Drug Possession",
        "Drug Dealing",
        "Vice",
        "Weapons offences",
        "Other offences"
       ],
       "_view_module_version": "~2.1.4",
       "description": "Categories",
       "layout": "IPY_MODEL_c88142c614b3432fb8ee89432189f963",
       "value": [
        "Homicide",
        "Assault",
        "Sexual offences",
        "Other offences against the person",
        "Robbery",
        "Property offences",
        "Drug Possession",
        "Drug Dealing",
        "Vice",
        "Weapons offences",
        "Other offences"
       ]
      }
     },
     "af774fa342a743c1b3744311b6872203": {
      "model_module": "jupyter-js-widgets",
      "model_module_version": "~2.1.4",
      "model_name": "LayoutModel",
      "state": {
       "_model_module_version": "~2.1.4",
       "_view_module_version": "~2.1.4"
      }
     },
     "b00f18d470284e3d8896f7960c3b11f6": {
      "model_module": "jupyter-js-widgets",
      "model_module_version": "~2.1.4",
      "model_name": "LayoutModel",
      "state": {
       "_model_module_version": "~2.1.4",
       "_view_module_version": "~2.1.4",
       "display": "inline_flex",
       "flex_flow": "column",
       "width": "20%"
      }
     },
     "b0506a775c9a48788394d40915c374f4": {
      "model_module": "jupyter-js-widgets",
      "model_module_version": "~2.1.4",
      "model_name": "LayoutModel",
      "state": {
       "_model_module_version": "~2.1.4",
       "_view_module_version": "~2.1.4"
      }
     },
     "b0b2cd5964774b469961516ca052067f": {
      "model_module": "jupyter-js-widgets",
      "model_module_version": "~2.1.4",
      "model_name": "VBoxModel",
      "state": {
       "_dom_classes": [
        "widget-interact"
       ],
       "_model_module_version": "~2.1.4",
       "_view_module_version": "~2.1.4",
       "children": [
        "IPY_MODEL_83562a885d1e4dcb9ff630af927b8484",
        "IPY_MODEL_ba77f0adf6fc487ca3f07509901c008b",
        "IPY_MODEL_d0726696ee3540fe8ffeece8de2da4dc",
        "IPY_MODEL_9f20b225eafe4e8b95491fd29c8f44c0",
        "IPY_MODEL_829522de13c34919909a9aa560ae9688"
       ],
       "layout": "IPY_MODEL_34aca24c1ec64a3e846b5aba1fc787b8"
      }
     },
     "b0dbadb99ae94b23bee178229ff03a4c": {
      "model_module": "jupyter-js-widgets",
      "model_module_version": "~2.1.4",
      "model_name": "LayoutModel",
      "state": {
       "_model_module_version": "~2.1.4",
       "_view_module_version": "~2.1.4"
      }
     },
     "b0fdc970fb8345e0b7b18706612b732d": {
      "model_module": "jupyter-js-widgets",
      "model_module_version": "~2.1.4",
      "model_name": "ButtonModel",
      "state": {
       "_model_module_version": "~2.1.4",
       "_view_module_version": "~2.1.4",
       "description": "Run Interact",
       "layout": "IPY_MODEL_ae86a84f34154c5b9c24ee40058fcc9b",
       "style": "IPY_MODEL_118195dcca14470ea1278d15617f1f38"
      }
     },
     "b12921dcf8064590b3269fe934921b4b": {
      "model_module": "jupyter-js-widgets",
      "model_module_version": "~2.1.4",
      "model_name": "LayoutModel",
      "state": {
       "_model_module_version": "~2.1.4",
       "_view_module_version": "~2.1.4"
      }
     },
     "b1909e2c2bb5475d83d9894a081b4c47": {
      "model_module": "jupyter-js-widgets",
      "model_module_version": "~2.1.4",
      "model_name": "DropdownModel",
      "state": {
       "_model_module_version": "~2.1.4",
       "_options_labels": [
        "All",
        "GreaterSydney",
        "RegionalNSW"
       ],
       "_view_module_version": "~2.1.4",
       "description": "LGAs:",
       "layout": "IPY_MODEL_d7015c4267fd4e4592261622aec4463c",
       "value": "GreaterSydney"
      }
     },
     "b1c160415e1e46f18cc7cc2dc4d48982": {
      "model_module": "jupyter-js-widgets",
      "model_module_version": "~2.1.4",
      "model_name": "LayoutModel",
      "state": {
       "_model_module_version": "~2.1.4",
       "_view_module_version": "~2.1.4"
      }
     },
     "b21427ccbf6f4f57b4075fd24277cc06": {
      "model_module": "jupyter-js-widgets",
      "model_module_version": "~2.1.4",
      "model_name": "ButtonStyleModel",
      "state": {
       "_model_module_version": "~2.1.4",
       "_view_module_version": "~2.1.4"
      }
     },
     "b257011b98ae4a62bb1f309f5e803f36": {
      "model_module": "jupyter-js-widgets",
      "model_module_version": "~2.1.4",
      "model_name": "ButtonModel",
      "state": {
       "_model_module_version": "~2.1.4",
       "_view_module_version": "~2.1.4",
       "description": "Run Interact",
       "layout": "IPY_MODEL_a6a2964e8dce426e812e1fbe7174211d",
       "style": "IPY_MODEL_a061206ca1d24e96932007c8bbbdfd40"
      }
     },
     "b2b14c1d0f314dccaace8a1b28922192": {
      "model_module": "jupyter-js-widgets",
      "model_module_version": "~2.1.4",
      "model_name": "ButtonModel",
      "state": {
       "_model_module_version": "~2.1.4",
       "_view_module_version": "~2.1.4",
       "description": "Run Interact",
       "layout": "IPY_MODEL_30401088e2e147428b2f55bba842ce7b",
       "style": "IPY_MODEL_e7b1d079702744edb6702eff99de043e"
      }
     },
     "b2d0e9eb60b947b8ab3988c5eb3776e0": {
      "model_module": "jupyter-js-widgets",
      "model_module_version": "~2.1.4",
      "model_name": "LayoutModel",
      "state": {
       "_model_module_version": "~2.1.4",
       "_view_module_version": "~2.1.4"
      }
     },
     "b3fb9258143847f3926f840baa789650": {
      "model_module": "jupyter-js-widgets",
      "model_module_version": "~2.1.4",
      "model_name": "LayoutModel",
      "state": {
       "_model_module_version": "~2.1.4",
       "_view_module_version": "~2.1.4"
      }
     },
     "b4310ddb0c6f4eddbbddae2de7733a25": {
      "model_module": "jupyter-js-widgets",
      "model_module_version": "~2.1.4",
      "model_name": "VBoxModel",
      "state": {
       "_dom_classes": [
        "widget-interact"
       ],
       "_model_module_version": "~2.1.4",
       "_view_module_version": "~2.1.4",
       "children": [
        "IPY_MODEL_5b14a3edb3944b85a4dd5839c6c7d83c",
        "IPY_MODEL_39febcf1cca84efc9d41a1c398f5efd8",
        "IPY_MODEL_2da1df3f0a9b4d1b90e7e5921e5f3240"
       ],
       "layout": "IPY_MODEL_472c56233885441aa0e8e5b39e22cf07"
      }
     },
     "b4326b8bd778467f922802f5633d711b": {
      "model_module": "jupyter-js-widgets",
      "model_module_version": "~2.1.4",
      "model_name": "LayoutModel",
      "state": {
       "_model_module_version": "~2.1.4",
       "_view_module_version": "~2.1.4",
       "display": "inline_flex",
       "flex_flow": "column"
      }
     },
     "b45566692f4f451baf0f76daf81e90ed": {
      "model_module": "jupyter-js-widgets",
      "model_module_version": "~2.1.4",
      "model_name": "OutputModel",
      "state": {
       "_dom_classes": [],
       "_model_module": "jupyter-js-widgets",
       "_model_module_version": "~2.1.4",
       "_view_module": "jupyter-js-widgets",
       "_view_module_version": "~2.1.4",
       "layout": "IPY_MODEL_801f9a98c4114f1199edbf1c9e945b25",
       "msg_throttle": 1
      }
     },
     "b4a89866cc5e4baca433e28bdbd222e5": {
      "model_module": "jupyter-js-widgets",
      "model_module_version": "~2.1.4",
      "model_name": "LayoutModel",
      "state": {
       "_model_module_version": "~2.1.4",
       "_view_module_version": "~2.1.4"
      }
     },
     "b54638579e3f4cd19127387a118f0709": {
      "model_module": "jupyter-js-widgets",
      "model_module_version": "~2.1.4",
      "model_name": "ButtonStyleModel",
      "state": {
       "_model_module_version": "~2.1.4",
       "_view_module_version": "~2.1.4"
      }
     },
     "b553d1c8724a4486b7e5b50713225ad9": {
      "model_module": "jupyter-js-widgets",
      "model_module_version": "~2.1.4",
      "model_name": "OutputModel",
      "state": {
       "_dom_classes": [],
       "_model_module": "jupyter-js-widgets",
       "_model_module_version": "~2.1.4",
       "_view_module": "jupyter-js-widgets",
       "_view_module_version": "~2.1.4",
       "layout": "IPY_MODEL_ebb8a0e83cf145af82d6c82496d69fcd",
       "msg_throttle": 1
      }
     },
     "b5cb6c260bd7461a9cee16bb560438aa": {
      "model_module": "jupyter-js-widgets",
      "model_module_version": "~2.1.4",
      "model_name": "LayoutModel",
      "state": {
       "_model_module_version": "~2.1.4",
       "_view_module_version": "~2.1.4"
      }
     },
     "b697ccc95b52484b858d385d446ebd66": {
      "model_module": "jupyter-js-widgets",
      "model_module_version": "~2.1.4",
      "model_name": "VBoxModel",
      "state": {
       "_dom_classes": [
        "widget-interact"
       ],
       "_model_module_version": "~2.1.4",
       "_view_module_version": "~2.1.4",
       "children": [
        "IPY_MODEL_d032a9b8632242128558b59d8a83a2d8",
        "IPY_MODEL_71175e425a734a8892e47c763c524afb",
        "IPY_MODEL_4b752cd5558a4b7485684101a13b300e",
        "IPY_MODEL_92c070de2e664854b353f7894d39f605",
        "IPY_MODEL_0d0bff9ed6384a7da119db3d6a8dfa95"
       ],
       "layout": "IPY_MODEL_3c5f127375df4b9b8d34cb329f180e5b"
      }
     },
     "b6aa3e68e5f141d9a7de287ceffdabd1": {
      "model_module": "jupyter-js-widgets",
      "model_module_version": "~2.1.4",
      "model_name": "ButtonModel",
      "state": {
       "_model_module_version": "~2.1.4",
       "_view_module_version": "~2.1.4",
       "description": "Run Interact",
       "layout": "IPY_MODEL_5b9e281080954371b87d556c06f60f3d",
       "style": "IPY_MODEL_3ea0d999633d4c27a58d8f1e0d9f3eb0"
      }
     },
     "b6c5f263e05747f98b16a72320c321da": {
      "model_module": "jupyter-js-widgets",
      "model_module_version": "~2.1.4",
      "model_name": "LayoutModel",
      "state": {
       "_model_module_version": "~2.1.4",
       "_view_module_version": "~2.1.4"
      }
     },
     "b6e7d71f3f784ebc91149162c4eabdde": {
      "model_module": "jupyter-js-widgets",
      "model_module_version": "~2.1.4",
      "model_name": "OutputModel",
      "state": {
       "_dom_classes": [],
       "_model_module": "jupyter-js-widgets",
       "_model_module_version": "~2.1.4",
       "_view_module": "jupyter-js-widgets",
       "_view_module_version": "~2.1.4",
       "layout": "IPY_MODEL_4858287d5bf0497b88e14676556e6e75",
       "msg_throttle": 1
      }
     },
     "b6ed8ccab7264938b3d770e8e20029d5": {
      "model_module": "jupyter-js-widgets",
      "model_module_version": "~2.1.4",
      "model_name": "OutputModel",
      "state": {
       "_dom_classes": [],
       "_model_module": "jupyter-js-widgets",
       "_model_module_version": "~2.1.4",
       "_view_module": "jupyter-js-widgets",
       "_view_module_version": "~2.1.4",
       "layout": "IPY_MODEL_c05f09fda1a847cf905043df9eba41ef",
       "msg_throttle": 1
      }
     },
     "b702927397194abcaefda91913124179": {
      "model_module": "jupyter-js-widgets",
      "model_module_version": "~2.1.4",
      "model_name": "LayoutModel",
      "state": {
       "_model_module_version": "~2.1.4",
       "_view_module_version": "~2.1.4"
      }
     },
     "b76b3f76743c41588fd0b3683bdc2fe6": {
      "model_module": "jupyter-js-widgets",
      "model_module_version": "~2.1.4",
      "model_name": "ButtonStyleModel",
      "state": {
       "_model_module_version": "~2.1.4",
       "_view_module_version": "~2.1.4"
      }
     },
     "b7871ff630584aedbe0dee51e4959169": {
      "model_module": "jupyter-js-widgets",
      "model_module_version": "~2.1.4",
      "model_name": "ButtonStyleModel",
      "state": {
       "_model_module_version": "~2.1.4",
       "_view_module_version": "~2.1.4"
      }
     },
     "b81dd29630b14dcb80cffdc6e410d7ec": {
      "model_module": "jupyter-js-widgets",
      "model_module_version": "~2.1.4",
      "model_name": "LayoutModel",
      "state": {
       "_model_module_version": "~2.1.4",
       "_view_module_version": "~2.1.4"
      }
     },
     "b82b272407754903becd5e0a983cff7f": {
      "model_module": "jupyter-js-widgets",
      "model_module_version": "~2.1.4",
      "model_name": "LayoutModel",
      "state": {
       "_model_module_version": "~2.1.4",
       "_view_module_version": "~2.1.4"
      }
     },
     "b8a24f2b77974ccdb1f5c004493d01fc": {
      "model_module": "jupyter-js-widgets",
      "model_module_version": "~2.1.4",
      "model_name": "LayoutModel",
      "state": {
       "_model_module_version": "~2.1.4",
       "_view_module_version": "~2.1.4"
      }
     },
     "b9327fc6841649ceb8953834dc17c2a1": {
      "model_module": "jupyter-js-widgets",
      "model_module_version": "~2.1.4",
      "model_name": "OutputModel",
      "state": {
       "_dom_classes": [],
       "_model_module": "jupyter-js-widgets",
       "_model_module_version": "~2.1.4",
       "_view_module": "jupyter-js-widgets",
       "_view_module_version": "~2.1.4",
       "layout": "IPY_MODEL_72e68840aa494cfe8ed76e06bde46eb0",
       "msg_throttle": 1
      }
     },
     "b965df0b58684af28bcb75b0751d18f2": {
      "model_module": "jupyter-js-widgets",
      "model_module_version": "~2.1.4",
      "model_name": "LayoutModel",
      "state": {
       "_model_module_version": "~2.1.4",
       "_view_module_version": "~2.1.4"
      }
     },
     "b9824dae28564908a7a7c1a5ba8ca9f0": {
      "model_module": "jupyter-js-widgets",
      "model_module_version": "~2.1.4",
      "model_name": "ButtonStyleModel",
      "state": {
       "_model_module_version": "~2.1.4",
       "_view_module_version": "~2.1.4"
      }
     },
     "ba434ada42e347aaaa9946e68d5d3681": {
      "model_module": "jupyter-js-widgets",
      "model_module_version": "~2.1.4",
      "model_name": "LayoutModel",
      "state": {
       "_model_module_version": "~2.1.4",
       "_view_module_version": "~2.1.4"
      }
     },
     "ba77f0adf6fc487ca3f07509901c008b": {
      "model_module": "jupyter-js-widgets",
      "model_module_version": "~2.1.4",
      "model_name": "SelectMultipleModel",
      "state": {
       "_model_module_version": "~2.1.4",
       "_options_labels": [
        "1995",
        "1996",
        "1997",
        "1998",
        "1999",
        "2000",
        "2001",
        "2002",
        "2003",
        "2004",
        "2005",
        "2006",
        "2007",
        "2008",
        "2009",
        "2010",
        "2011",
        "2012",
        "2013",
        "2014",
        "2015",
        "2016"
       ],
       "_view_module_version": "~2.1.4",
       "description": "Years",
       "layout": "IPY_MODEL_34528c81266d41959671b0fb04ac37bc",
       "value": [
        "1995",
        "1996",
        "1997",
        "1998",
        "1999",
        "2000",
        "2001",
        "2002",
        "2003",
        "2004",
        "2005",
        "2006",
        "2007",
        "2008",
        "2009",
        "2010",
        "2011",
        "2012",
        "2013",
        "2014",
        "2015",
        "2016"
       ]
      }
     },
     "ba83c8ce4e9c454bad669d21e4e26e3c": {
      "model_module": "jupyter-js-widgets",
      "model_module_version": "~2.1.4",
      "model_name": "VBoxModel",
      "state": {
       "_dom_classes": [
        "widget-interact"
       ],
       "_model_module_version": "~2.1.4",
       "_view_module_version": "~2.1.4",
       "children": [
        "IPY_MODEL_277b1b21684c4aafa0b8c8455f7cc38a",
        "IPY_MODEL_fb647e6f09b54aa083eaed3fddf5c9ce",
        "IPY_MODEL_292532275c4645cba677375d40fbb363",
        "IPY_MODEL_d326163b10a44b88a9454207e8e9d953"
       ],
       "layout": "IPY_MODEL_70ea2b3662074a489912154441ec8113"
      }
     },
     "baa9fb0494f84de8bb18884b0999c3ce": {
      "model_module": "jupyter-js-widgets",
      "model_module_version": "~2.1.4",
      "model_name": "LayoutModel",
      "state": {
       "_model_module_version": "~2.1.4",
       "_view_module_version": "~2.1.4"
      }
     },
     "bb0208b8e88f4ba89727b4ff7c5ee392": {
      "model_module": "jupyter-js-widgets",
      "model_module_version": "~2.1.4",
      "model_name": "ButtonModel",
      "state": {
       "_model_module_version": "~2.1.4",
       "_view_module_version": "~2.1.4",
       "description": "Run Interact",
       "layout": "IPY_MODEL_96046c8461074c809a351c996899af4f",
       "style": "IPY_MODEL_32af6275ee064e9a81e5180965a63722"
      }
     },
     "bb7e314e873947d1b26b32d8900bfc4a": {
      "model_module": "jupyter-js-widgets",
      "model_module_version": "~2.1.4",
      "model_name": "SelectMultipleModel",
      "state": {
       "_model_module_version": "~2.1.4",
       "_options_labels": [
        "1995",
        "1996",
        "1997",
        "1998",
        "1999",
        "2000",
        "2001",
        "2002",
        "2003",
        "2004",
        "2005",
        "2006",
        "2007",
        "2008",
        "2009",
        "2010",
        "2011",
        "2012",
        "2013",
        "2014",
        "2015",
        "2016"
       ],
       "_view_module_version": "~2.1.4",
       "description": "Years",
       "layout": "IPY_MODEL_f2725adaca764f149ea2db8ebb7f9d8b",
       "value": [
        "1995",
        "1996",
        "1997",
        "1998",
        "1999",
        "2000",
        "2001",
        "2002",
        "2003",
        "2004",
        "2005",
        "2006",
        "2007",
        "2008",
        "2009",
        "2010",
        "2011",
        "2012",
        "2013",
        "2014",
        "2015",
        "2016"
       ]
      }
     },
     "bc7ffafbbc574c4390768b31661e31b4": {
      "model_module": "jupyter-js-widgets",
      "model_module_version": "~2.1.4",
      "model_name": "VBoxModel",
      "state": {
       "_dom_classes": [
        "widget-interact"
       ],
       "_model_module_version": "~2.1.4",
       "_view_module_version": "~2.1.4",
       "children": [
        "IPY_MODEL_b1909e2c2bb5475d83d9894a081b4c47",
        "IPY_MODEL_3105c4cc1d7240509a86bd28ebb7d1b5",
        "IPY_MODEL_1eab5aa6b0db49af97bdabe29b386d1e",
        "IPY_MODEL_5569782e67e845de9bec4dcb51128e88",
        "IPY_MODEL_a5ea757e85e940848d35cd01ce383a4c"
       ],
       "layout": "IPY_MODEL_ca2672d6da3d4251851516097f8b9341"
      }
     },
     "bc9e58bf8f3d4dd1b0ccb925703f8614": {
      "model_module": "jupyter-js-widgets",
      "model_module_version": "~2.1.4",
      "model_name": "LayoutModel",
      "state": {
       "_model_module_version": "~2.1.4",
       "_view_module_version": "~2.1.4",
       "display": "flex",
       "flex_flow": "row",
       "width": "20%"
      }
     },
     "bca5388f8e6d4da89c7c04bde50fb0fc": {
      "model_module": "jupyter-js-widgets",
      "model_module_version": "~2.1.4",
      "model_name": "LayoutModel",
      "state": {
       "_model_module_version": "~2.1.4",
       "_view_module_version": "~2.1.4"
      }
     },
     "bd1a63d1da244563a54967492076cae5": {
      "model_module": "jupyter-js-widgets",
      "model_module_version": "~2.1.4",
      "model_name": "LayoutModel",
      "state": {
       "_model_module_version": "~2.1.4",
       "_view_module_version": "~2.1.4"
      }
     },
     "bd88140fa8f44223aaa0db8337301324": {
      "model_module": "jupyter-js-widgets",
      "model_module_version": "~2.1.4",
      "model_name": "SelectMultipleModel",
      "state": {
       "_model_module_version": "~2.1.4",
       "_options_labels": [
        "Albury",
        "Armidale Dumaresq",
        "Ashfield",
        "Auburn",
        "Ballina",
        "Balranald",
        "Bankstown",
        "Bathurst Regional",
        "Bega Valley",
        "Bellingen",
        "Berrigan",
        "Blacktown",
        "Bland",
        "Blayney",
        "Blue Mountains",
        "Bogan",
        "Bombala",
        "Boorowa",
        "Botany Bay",
        "Bourke",
        "Brewarrina",
        "Broken Hill",
        "Burwood",
        "Byron",
        "Cabonne",
        "Camden",
        "Campbelltown",
        "Canada Bay",
        "Canterbury",
        "Carrathool",
        "Central Darling",
        "Cessnock",
        "Clarence Valley",
        "Cobar",
        "Coffs Harbour",
        "Conargo",
        "Coolamon",
        "Cooma-Monaro",
        "Coonamble",
        "Cootamundra",
        "Corowa Shire",
        "Cowra",
        "Deniliquin",
        "Dubbo",
        "Dungog",
        "Eurobodalla",
        "Fairfield",
        "Forbes",
        "Gilgandra",
        "Glen Innes Severn",
        "Gloucester",
        "Gosford",
        "Goulburn Mulwaree",
        "Great Lakes",
        "Greater Hume Shire",
        "Greater Taree",
        "Griffith",
        "Gundagai",
        "Gunnedah",
        "Guyra",
        "Gwydir",
        "Harden",
        "Hawkesbury",
        "Hay",
        "Holroyd",
        "Hornsby",
        "Hunters Hill",
        "Hurstville",
        "Inverell",
        "Jerilderie",
        "Junee",
        "Kempsey",
        "Kiama",
        "Kogarah",
        "Ku-ring-gai",
        "Kyogle",
        "Lachlan",
        "Lake Macquarie",
        "Lane Cove",
        "Leeton",
        "Leichhardt",
        "Lismore",
        "Lithgow",
        "Liverpool",
        "Liverpool Plains",
        "Lockhart",
        "Maitland",
        "Manly",
        "Marrickville",
        "Mid-Western Regional",
        "Moree Plains",
        "Mosman",
        "Murray",
        "Murrumbidgee",
        "Muswellbrook",
        "Nambucca",
        "Narrabri",
        "Narrandera",
        "Narromine",
        "Newcastle",
        "North Sydney",
        "Oberon",
        "Orange",
        "Palerang",
        "Parkes",
        "Parramatta",
        "Penrith",
        "Pittwater",
        "Port Macquarie-Hastings",
        "Port Stephens",
        "Queanbeyan",
        "Randwick",
        "Richmond Valley",
        "Rockdale",
        "Ryde",
        "Shellharbour",
        "Shoalhaven",
        "Singleton",
        "Snowy River",
        "Strathfield",
        "Sutherland Shire",
        "Sydney",
        "Tamworth Regional",
        "Temora",
        "Tenterfield",
        "The Hills Shire",
        "Tumbarumba",
        "Tumut Shire",
        "Tweed",
        "Unincorporated Far West",
        "Upper Hunter Shire",
        "Upper Lachlan Shire",
        "Uralla",
        "Urana",
        "Wagga Wagga",
        "Wakool",
        "Walcha",
        "Walgett",
        "Warren",
        "Warringah",
        "Warrumbungle Shire",
        "Waverley",
        "Weddin",
        "Wellington",
        "Wentworth",
        "Willoughby",
        "Wingecarribee",
        "Wollondilly",
        "Wollongong",
        "Woollahra",
        "Wyong",
        "Yass Valley",
        "Young"
       ],
       "_view_module_version": "~2.1.4",
       "description": "LGA",
       "layout": "IPY_MODEL_69ee3f08f963424481caad48f96d797b",
       "value": [
        "Ashfield",
        "Auburn",
        "Blacktown",
        "Byron",
        "Coffs Harbour",
        "Hunters Hill",
        "Manly",
        "Mosman",
        "Parramatta",
        "Ryde",
        "Strathfield",
        "Sydney"
       ]
      }
     },
     "bda5fa0d71e3444681f1cfd801d2312c": {
      "model_module": "jupyter-js-widgets",
      "model_module_version": "~2.1.4",
      "model_name": "ButtonStyleModel",
      "state": {
       "_model_module_version": "~2.1.4",
       "_view_module_version": "~2.1.4"
      }
     },
     "be70899021f348b78c33a4582af29481": {
      "model_module": "jupyter-js-widgets",
      "model_module_version": "~2.1.4",
      "model_name": "LayoutModel",
      "state": {
       "_model_module_version": "~2.1.4",
       "_view_module_version": "~2.1.4"
      }
     },
     "be89171af1994b02abb8f93f9d2cb57d": {
      "model_module": "jupyter-js-widgets",
      "model_module_version": "~2.1.4",
      "model_name": "OutputModel",
      "state": {
       "_dom_classes": [],
       "_model_module": "jupyter-js-widgets",
       "_model_module_version": "~2.1.4",
       "_view_module": "jupyter-js-widgets",
       "_view_module_version": "~2.1.4",
       "layout": "IPY_MODEL_b3fb9258143847f3926f840baa789650",
       "msg_throttle": 1
      }
     },
     "bec6e9026b2f4adeb2108ffee5352092": {
      "model_module": "jupyter-js-widgets",
      "model_module_version": "~2.1.4",
      "model_name": "LayoutModel",
      "state": {
       "_model_module_version": "~2.1.4",
       "_view_module_version": "~2.1.4"
      }
     },
     "becff28c3caa4402bf24abc2c6c723fc": {
      "model_module": "jupyter-js-widgets",
      "model_module_version": "~2.1.4",
      "model_name": "LayoutModel",
      "state": {
       "_model_module_version": "~2.1.4",
       "_view_module_version": "~2.1.4"
      }
     },
     "beeef818882c4151afe2b06e75ee77a5": {
      "model_module": "jupyter-js-widgets",
      "model_module_version": "~2.1.4",
      "model_name": "LayoutModel",
      "state": {
       "_model_module_version": "~2.1.4",
       "_view_module_version": "~2.1.4"
      }
     },
     "bef95fe83d2b4dacbb05917523779fa3": {
      "model_module": "jupyter-js-widgets",
      "model_module_version": "~2.1.4",
      "model_name": "SelectMultipleModel",
      "state": {
       "_model_module_version": "~2.1.4",
       "_options_labels": [
        "Albury",
        "Armidale Dumaresq",
        "Ashfield",
        "Auburn",
        "Ballina",
        "Balranald",
        "Bankstown",
        "Bathurst Regional",
        "Bega Valley",
        "Bellingen",
        "Berrigan",
        "Blacktown",
        "Bland",
        "Blayney",
        "Blue Mountains",
        "Bogan",
        "Bombala",
        "Boorowa",
        "Botany Bay",
        "Bourke",
        "Brewarrina",
        "Broken Hill",
        "Burwood",
        "Byron",
        "Cabonne",
        "Camden",
        "Campbelltown",
        "Canada Bay",
        "Canterbury",
        "Carrathool",
        "Central Darling",
        "Cessnock",
        "Clarence Valley",
        "Cobar",
        "Coffs Harbour",
        "Conargo",
        "Coolamon",
        "Cooma-Monaro",
        "Coonamble",
        "Cootamundra",
        "Corowa Shire",
        "Cowra",
        "Deniliquin",
        "Dubbo",
        "Dungog",
        "Eurobodalla",
        "Fairfield",
        "Forbes",
        "Gilgandra",
        "Glen Innes Severn",
        "Gloucester",
        "Gosford",
        "Goulburn Mulwaree",
        "Great Lakes",
        "Greater Hume Shire",
        "Greater Taree",
        "Griffith",
        "Gundagai",
        "Gunnedah",
        "Guyra",
        "Gwydir",
        "Harden",
        "Hawkesbury",
        "Hay",
        "Holroyd",
        "Hornsby",
        "Hunters Hill",
        "Hurstville",
        "Inverell",
        "Jerilderie",
        "Junee",
        "Kempsey",
        "Kiama",
        "Kogarah",
        "Ku-ring-gai",
        "Kyogle",
        "Lachlan",
        "Lake Macquarie",
        "Lane Cove",
        "Leeton",
        "Leichhardt",
        "Lismore",
        "Lithgow",
        "Liverpool",
        "Liverpool Plains",
        "Lockhart",
        "Maitland",
        "Manly",
        "Marrickville",
        "Mid-Western Regional",
        "Moree Plains",
        "Mosman",
        "Murray",
        "Murrumbidgee",
        "Muswellbrook",
        "Nambucca",
        "Narrabri",
        "Narrandera",
        "Narromine",
        "Newcastle",
        "North Sydney",
        "Oberon",
        "Orange",
        "Palerang",
        "Parkes",
        "Parramatta",
        "Penrith",
        "Pittwater",
        "Port Macquarie-Hastings",
        "Port Stephens",
        "Queanbeyan",
        "Randwick",
        "Richmond Valley",
        "Rockdale",
        "Ryde",
        "Shellharbour",
        "Shoalhaven",
        "Singleton",
        "Snowy River",
        "Strathfield",
        "Sutherland Shire",
        "Sydney",
        "Tamworth Regional",
        "Temora",
        "Tenterfield",
        "The Hills Shire",
        "Tumbarumba",
        "Tumut Shire",
        "Tweed",
        "Unincorporated Far West",
        "Upper Hunter Shire",
        "Upper Lachlan Shire",
        "Uralla",
        "Urana",
        "Wagga Wagga",
        "Wakool",
        "Walcha",
        "Walgett",
        "Warren",
        "Warringah",
        "Warrumbungle Shire",
        "Waverley",
        "Weddin",
        "Wellington",
        "Wentworth",
        "Willoughby",
        "Wingecarribee",
        "Wollondilly",
        "Wollongong",
        "Woollahra",
        "Wyong",
        "Yass Valley",
        "Young"
       ],
       "_view_module_version": "~2.1.4",
       "description": "LGAs",
       "layout": "IPY_MODEL_f46d84c5597341e8b1e234503e45de0c",
       "value": [
        "Sydney",
        "Blacktown",
        "Burwood",
        "Randwick",
        "Lane Cove",
        "Sutherland Shire"
       ]
      }
     },
     "bf1e3bff144a4e5db004768d213a174b": {
      "model_module": "jupyter-js-widgets",
      "model_module_version": "~2.1.4",
      "model_name": "LayoutModel",
      "state": {
       "_model_module_version": "~2.1.4",
       "_view_module_version": "~2.1.4"
      }
     },
     "bf2d54531046488c8fb94ef71cbfee8e": {
      "model_module": "jupyter-js-widgets",
      "model_module_version": "~2.1.4",
      "model_name": "OutputModel",
      "state": {
       "_dom_classes": [],
       "_model_module": "jupyter-js-widgets",
       "_model_module_version": "~2.1.4",
       "_view_module": "jupyter-js-widgets",
       "_view_module_version": "~2.1.4",
       "layout": "IPY_MODEL_5dd08c8fc98e40e49f57527d90bd2052",
       "msg_throttle": 1
      }
     },
     "bf69bc526425484799307d6cea050469": {
      "model_module": "jupyter-js-widgets",
      "model_module_version": "~2.1.4",
      "model_name": "VBoxModel",
      "state": {
       "_dom_classes": [
        "widget-interact"
       ],
       "_model_module_version": "~2.1.4",
       "_view_module_version": "~2.1.4",
       "children": [
        "IPY_MODEL_e37f749a92d44d37b386c979c3957f79",
        "IPY_MODEL_a9007ea92f1b400ea915d0f8d20b8768",
        "IPY_MODEL_7ae0bc06c6b74049a0364669e969a3d0",
        "IPY_MODEL_08f21d192c444360904dce25d78789ba",
        "IPY_MODEL_e04414310c074c15a9d35af4a83c6f04"
       ],
       "layout": "IPY_MODEL_e2190ab55e9c4167971f14919ecc61d5"
      }
     },
     "bfb5c8354b134dee9505680f0030ee30": {
      "model_module": "jupyter-js-widgets",
      "model_module_version": "~2.1.4",
      "model_name": "LayoutModel",
      "state": {
       "_model_module_version": "~2.1.4",
       "_view_module_version": "~2.1.4"
      }
     },
     "c0498033632d41cbaca48b02ff6cc728": {
      "model_module": "jupyter-js-widgets",
      "model_module_version": "~2.1.4",
      "model_name": "DropdownModel",
      "state": {
       "_model_module_version": "~2.1.4",
       "_options_labels": [
        "Albury",
        "Armidale Dumaresq",
        "Ashfield",
        "Auburn",
        "Ballina",
        "Balranald",
        "Bankstown",
        "Bathurst Regional",
        "Bega Valley",
        "Bellingen",
        "Berrigan",
        "Blacktown",
        "Bland",
        "Blayney",
        "Blue Mountains",
        "Bogan",
        "Bombala",
        "Boorowa",
        "Botany Bay",
        "Bourke",
        "Brewarrina",
        "Broken Hill",
        "Burwood",
        "Byron",
        "Cabonne",
        "Camden",
        "Campbelltown",
        "Canada Bay",
        "Canterbury",
        "Carrathool",
        "Central Darling",
        "Cessnock",
        "Clarence Valley",
        "Cobar",
        "Coffs Harbour",
        "Conargo",
        "Coolamon",
        "Cooma-Monaro",
        "Coonamble",
        "Cootamundra",
        "Corowa Shire",
        "Cowra",
        "Deniliquin",
        "Dubbo",
        "Dungog",
        "Eurobodalla",
        "Fairfield",
        "Forbes",
        "Gilgandra",
        "Glen Innes Severn",
        "Gloucester",
        "Gosford",
        "Goulburn Mulwaree",
        "Great Lakes",
        "Greater Hume Shire",
        "Greater Taree",
        "Griffith",
        "Gundagai",
        "Gunnedah",
        "Guyra",
        "Gwydir",
        "Harden",
        "Hawkesbury",
        "Hay",
        "Holroyd",
        "Hornsby",
        "Hunters Hill",
        "Hurstville",
        "Inverell",
        "Jerilderie",
        "Junee",
        "Kempsey",
        "Kiama",
        "Kogarah",
        "Ku-ring-gai",
        "Kyogle",
        "Lachlan",
        "Lake Macquarie",
        "Lane Cove",
        "Leeton",
        "Leichhardt",
        "Lismore",
        "Lithgow",
        "Liverpool",
        "Liverpool Plains",
        "Lockhart",
        "Maitland",
        "Manly",
        "Marrickville",
        "Mid-Western Regional",
        "Moree Plains",
        "Mosman",
        "Murray",
        "Murrumbidgee",
        "Muswellbrook",
        "Nambucca",
        "Narrabri",
        "Narrandera",
        "Narromine",
        "Newcastle",
        "North Sydney",
        "Oberon",
        "Orange",
        "Palerang",
        "Parkes",
        "Parramatta",
        "Penrith",
        "Pittwater",
        "Port Macquarie-Hastings",
        "Port Stephens",
        "Queanbeyan",
        "Randwick",
        "Richmond Valley",
        "Rockdale",
        "Ryde",
        "Shellharbour",
        "Shoalhaven",
        "Singleton",
        "Snowy River",
        "Strathfield",
        "Sutherland Shire",
        "Sydney",
        "Tamworth Regional",
        "Temora",
        "Tenterfield",
        "The Hills Shire",
        "Tumbarumba",
        "Tumut Shire",
        "Tweed",
        "Unincorporated Far West",
        "Upper Hunter Shire",
        "Upper Lachlan Shire",
        "Uralla",
        "Urana",
        "Wagga Wagga",
        "Wakool",
        "Walcha",
        "Walgett",
        "Warren",
        "Warringah",
        "Warrumbungle Shire",
        "Waverley",
        "Weddin",
        "Wellington",
        "Wentworth",
        "Willoughby",
        "Wingecarribee",
        "Wollondilly",
        "Wollongong",
        "Woollahra",
        "Wyong",
        "Yass Valley",
        "Young"
       ],
       "_view_module_version": "~2.1.4",
       "description": "LGA1",
       "layout": "IPY_MODEL_ff14872bc2a8412a83b5b776459b6a7a",
       "value": "Randwick"
      }
     },
     "c05f09fda1a847cf905043df9eba41ef": {
      "model_module": "jupyter-js-widgets",
      "model_module_version": "~2.1.4",
      "model_name": "LayoutModel",
      "state": {
       "_model_module_version": "~2.1.4",
       "_view_module_version": "~2.1.4"
      }
     },
     "c06b659d333a4509873254627983ebda": {
      "model_module": "jupyter-js-widgets",
      "model_module_version": "~2.1.4",
      "model_name": "LayoutModel",
      "state": {
       "_model_module_version": "~2.1.4",
       "_view_module_version": "~2.1.4"
      }
     },
     "c0fdca378e484c06bc5dc73bf843f68d": {
      "model_module": "jupyter-js-widgets",
      "model_module_version": "~2.1.4",
      "model_name": "ButtonStyleModel",
      "state": {
       "_model_module_version": "~2.1.4",
       "_view_module_version": "~2.1.4"
      }
     },
     "c16ecbe63f8a434c87c27451184f8c69": {
      "model_module": "jupyter-js-widgets",
      "model_module_version": "~2.1.4",
      "model_name": "LayoutModel",
      "state": {
       "_model_module_version": "~2.1.4",
       "_view_module_version": "~2.1.4"
      }
     },
     "c17a423a72e940d392caae05446cd57e": {
      "model_module": "jupyter-js-widgets",
      "model_module_version": "~2.1.4",
      "model_name": "VBoxModel",
      "state": {
       "_dom_classes": [
        "widget-interact"
       ],
       "_model_module_version": "~2.1.4",
       "_view_module_version": "~2.1.4",
       "children": [
        "IPY_MODEL_6db51497f09c49dfb1da95161ba080be",
        "IPY_MODEL_d16eddeaa0734214b4376600ead94532",
        "IPY_MODEL_d895c8d424444a2cabb4b23105170591",
        "IPY_MODEL_73f1ee9021ba4b70a84773f846fee3c2"
       ],
       "layout": "IPY_MODEL_d4b90bd7d95d41d98a3ca2b6288f9ab2"
      }
     },
     "c189661fe3cd4627bc9604fda5a16efb": {
      "model_module": "jupyter-js-widgets",
      "model_module_version": "~2.1.4",
      "model_name": "LayoutModel",
      "state": {
       "_model_module_version": "~2.1.4",
       "_view_module_version": "~2.1.4"
      }
     },
     "c1a51ab44ba344779814caa8f0f47c9b": {
      "model_module": "jupyter-js-widgets",
      "model_module_version": "~2.1.4",
      "model_name": "LayoutModel",
      "state": {
       "_model_module_version": "~2.1.4",
       "_view_module_version": "~2.1.4"
      }
     },
     "c2747bc528d243e2804d61a34b1ba24e": {
      "model_module": "jupyter-js-widgets",
      "model_module_version": "~2.1.4",
      "model_name": "VBoxModel",
      "state": {
       "_dom_classes": [
        "widget-interact"
       ],
       "_model_module_version": "~2.1.4",
       "_view_module_version": "~2.1.4",
       "children": [
        "IPY_MODEL_b1909e2c2bb5475d83d9894a081b4c47",
        "IPY_MODEL_3105c4cc1d7240509a86bd28ebb7d1b5",
        "IPY_MODEL_1eab5aa6b0db49af97bdabe29b386d1e",
        "IPY_MODEL_da84ff2f52234dc0b0cee36653cd5efa",
        "IPY_MODEL_a82a6f8a09d64f3799b782b86d5e5424"
       ],
       "layout": "IPY_MODEL_cf8beb7a09ac4c98b92461b9eeb8042c"
      }
     },
     "c2958d3b4d864d9d83db5de5d5bf95d3": {
      "model_module": "jupyter-js-widgets",
      "model_module_version": "~2.1.4",
      "model_name": "DropdownModel",
      "state": {
       "_model_module_version": "~2.1.4",
       "_options_labels": [
        "Albury",
        "Armidale Dumaresq",
        "Ashfield",
        "Auburn",
        "Ballina",
        "Balranald",
        "Bankstown",
        "Bathurst Regional",
        "Bega Valley",
        "Bellingen",
        "Berrigan",
        "Blacktown",
        "Bland",
        "Blayney",
        "Blue Mountains",
        "Bogan",
        "Bombala",
        "Boorowa",
        "Botany Bay",
        "Bourke",
        "Brewarrina",
        "Broken Hill",
        "Burwood",
        "Byron",
        "Cabonne",
        "Camden",
        "Campbelltown",
        "Canada Bay",
        "Canterbury",
        "Carrathool",
        "Central Darling",
        "Cessnock",
        "Clarence Valley",
        "Cobar",
        "Coffs Harbour",
        "Conargo",
        "Coolamon",
        "Cooma-Monaro",
        "Coonamble",
        "Cootamundra",
        "Corowa Shire",
        "Cowra",
        "Deniliquin",
        "Dubbo",
        "Dungog",
        "Eurobodalla",
        "Fairfield",
        "Forbes",
        "Gilgandra",
        "Glen Innes Severn",
        "Gloucester",
        "Gosford",
        "Goulburn Mulwaree",
        "Great Lakes",
        "Greater Hume Shire",
        "Greater Taree",
        "Griffith",
        "Gundagai",
        "Gunnedah",
        "Guyra",
        "Gwydir",
        "Harden",
        "Hawkesbury",
        "Hay",
        "Holroyd",
        "Hornsby",
        "Hunters Hill",
        "Hurstville",
        "Inverell",
        "Jerilderie",
        "Junee",
        "Kempsey",
        "Kiama",
        "Kogarah",
        "Ku-ring-gai",
        "Kyogle",
        "Lachlan",
        "Lake Macquarie",
        "Lane Cove",
        "Leeton",
        "Leichhardt",
        "Lismore",
        "Lithgow",
        "Liverpool",
        "Liverpool Plains",
        "Lockhart",
        "Maitland",
        "Manly",
        "Marrickville",
        "Mid-Western Regional",
        "Moree Plains",
        "Mosman",
        "Murray",
        "Murrumbidgee",
        "Muswellbrook",
        "Nambucca",
        "Narrabri",
        "Narrandera",
        "Narromine",
        "Newcastle",
        "North Sydney",
        "Oberon",
        "Orange",
        "Palerang",
        "Parkes",
        "Parramatta",
        "Penrith",
        "Pittwater",
        "Port Macquarie-Hastings",
        "Port Stephens",
        "Queanbeyan",
        "Randwick",
        "Richmond Valley",
        "Rockdale",
        "Ryde",
        "Shellharbour",
        "Shoalhaven",
        "Singleton",
        "Snowy River",
        "Strathfield",
        "Sutherland Shire",
        "Sydney",
        "Tamworth Regional",
        "Temora",
        "Tenterfield",
        "The Hills Shire",
        "Tumbarumba",
        "Tumut Shire",
        "Tweed",
        "Upper Hunter Shire",
        "Upper Lachlan Shire",
        "Uralla",
        "Urana",
        "Wagga Wagga",
        "Wakool",
        "Walcha",
        "Walgett",
        "Warren",
        "Warringah",
        "Warrumbungle Shire",
        "Waverley",
        "Weddin",
        "Wellington",
        "Wentworth",
        "Willoughby",
        "Wingecarribee",
        "Wollondilly",
        "Wollongong",
        "Woollahra",
        "Wyong",
        "Yass Valley",
        "Young",
        "Unincorporated Far West",
        "Lord Howe Island",
        "Prisons"
       ],
       "_view_module_version": "~2.1.4",
       "description": "sub",
       "layout": "IPY_MODEL_e70b260469fb471cb8115a4a2275bfba",
       "value": "Albury"
      }
     },
     "c2a069bb0bd24ac08835922255bf9489": {
      "model_module": "jupyter-js-widgets",
      "model_module_version": "~2.1.4",
      "model_name": "VBoxModel",
      "state": {
       "_dom_classes": [
        "widget-interact"
       ],
       "_model_module_version": "~2.1.4",
       "_view_module_version": "~2.1.4",
       "children": [
        "IPY_MODEL_5320fc0ca5224eb89236a68e834d7deb",
        "IPY_MODEL_15e91d2ef613471c9f205db6e125dd40",
        "IPY_MODEL_711f86156e034abaa4cb52340e69d25d"
       ],
       "layout": "IPY_MODEL_21e6e91d22ac4c5ab4bd8daff028fa8f"
      }
     },
     "c311c81de4714fec9a59de6400665d2a": {
      "model_module": "jupyter-js-widgets",
      "model_module_version": "~2.1.4",
      "model_name": "ButtonModel",
      "state": {
       "_model_module_version": "~2.1.4",
       "_view_module_version": "~2.1.4",
       "description": "Run Interact",
       "layout": "IPY_MODEL_40947bb5c40842a1b78d53592aa63089",
       "style": "IPY_MODEL_d4dcfebee9cc4cffa0221f64bf086606"
      }
     },
     "c3b3e18902dd4166a4288d694438ee18": {
      "model_module": "jupyter-js-widgets",
      "model_module_version": "~2.1.4",
      "model_name": "DropdownModel",
      "state": {
       "_model_module_version": "~2.1.4",
       "_options_labels": [
        "All",
        "GreaterSydney",
        "RegionalNSW"
       ],
       "_view_module_version": "~2.1.4",
       "description": "LGAs:",
       "layout": "IPY_MODEL_9f625352b1f74dffb1bf6db7d28838e0",
       "value": "All"
      }
     },
     "c3d676cf9a314fa390107ca0fba0122b": {
      "model_module": "jupyter-js-widgets",
      "model_module_version": "~2.1.4",
      "model_name": "ButtonStyleModel",
      "state": {
       "_model_module_version": "~2.1.4",
       "_view_module_version": "~2.1.4"
      }
     },
     "c4bd4c25be7c412cafb22afc44add833": {
      "model_module": "jupyter-js-widgets",
      "model_module_version": "~2.1.4",
      "model_name": "DropdownModel",
      "state": {
       "_model_module_version": "~2.1.4",
       "_options_labels": [
        "All",
        "GreaterSydney",
        "RegionalNSW"
       ],
       "_view_module_version": "~2.1.4",
       "description": "LGAs:",
       "layout": "IPY_MODEL_2c69f138b41b459fb4ffbd0a4b24c881",
       "value": "All"
      }
     },
     "c56d3dc6499d41aea02f36c07a470ecc": {
      "model_module": "jupyter-js-widgets",
      "model_module_version": "~2.1.4",
      "model_name": "LayoutModel",
      "state": {
       "_model_module_version": "~2.1.4",
       "_view_module_version": "~2.1.4"
      }
     },
     "c5c03686a2ac4e898a760de5a2807b6f": {
      "model_module": "jupyter-js-widgets",
      "model_module_version": "~2.1.4",
      "model_name": "LayoutModel",
      "state": {
       "_model_module_version": "~2.1.4",
       "_view_module_version": "~2.1.4",
       "display": "flex",
       "flex_flow": "column",
       "width": "20%"
      }
     },
     "c65fcd4f2d224b5d8f320d16920e0774": {
      "model_module": "jupyter-js-widgets",
      "model_module_version": "~2.1.4",
      "model_name": "DropdownModel",
      "state": {
       "_model_module_version": "~2.1.4",
       "_options_labels": [
        "1995",
        "1996",
        "1997",
        "1998",
        "1999",
        "2000",
        "2001",
        "2002",
        "2003",
        "2004",
        "2005",
        "2006",
        "2007",
        "2008",
        "2009",
        "2010",
        "2011",
        "2012",
        "2013",
        "2014",
        "2015",
        "2016"
       ],
       "_view_module_version": "~2.1.4",
       "description": "Year",
       "layout": "IPY_MODEL_936a1beceb1647859fcea51edb04b114",
       "value": "2000"
      }
     },
     "c6bb4f1cc6a7413f9e5c188de5673ece": {
      "model_module": "jupyter-js-widgets",
      "model_module_version": "~2.1.4",
      "model_name": "LayoutModel",
      "state": {
       "_model_module_version": "~2.1.4",
       "_view_module_version": "~2.1.4"
      }
     },
     "c6e330c837f94758b19edd5fd4768f82": {
      "model_module": "jupyter-js-widgets",
      "model_module_version": "~2.1.4",
      "model_name": "LayoutModel",
      "state": {
       "_model_module_version": "~2.1.4",
       "_view_module_version": "~2.1.4"
      }
     },
     "c72e017e71714693a61656f41aec6e97": {
      "model_module": "jupyter-js-widgets",
      "model_module_version": "~2.1.4",
      "model_name": "SelectMultipleModel",
      "state": {
       "_model_module_version": "~2.1.4",
       "_options_labels": [
        "1995",
        "1996",
        "1997",
        "1998",
        "1999",
        "2000",
        "2001",
        "2002",
        "2003",
        "2004",
        "2005",
        "2006",
        "2007",
        "2008",
        "2009",
        "2010",
        "2011",
        "2012",
        "2013",
        "2014",
        "2015",
        "2016"
       ],
       "_view_module_version": "~2.1.4",
       "description": "Years",
       "layout": "IPY_MODEL_197cc269038c45a999b506e5a0038507",
       "value": [
        "1995",
        "1996",
        "1997",
        "1998",
        "1999",
        "2000",
        "2001",
        "2002",
        "2003",
        "2004",
        "2005",
        "2006",
        "2007",
        "2008",
        "2009",
        "2010",
        "2011",
        "2012",
        "2013",
        "2014",
        "2015",
        "2016"
       ]
      }
     },
     "c72fd4d94fdd4c72bdfa4c11f5036a8b": {
      "model_module": "jupyter-js-widgets",
      "model_module_version": "~2.1.4",
      "model_name": "VBoxModel",
      "state": {
       "_dom_classes": [
        "widget-interact"
       ],
       "_model_module_version": "~2.1.4",
       "_view_module_version": "~2.1.4",
       "children": [
        "IPY_MODEL_b1909e2c2bb5475d83d9894a081b4c47",
        "IPY_MODEL_3105c4cc1d7240509a86bd28ebb7d1b5",
        "IPY_MODEL_1eab5aa6b0db49af97bdabe29b386d1e",
        "IPY_MODEL_67e0143b3b5444fa97d8e991b2489ce2",
        "IPY_MODEL_c7d31969a4a746c5a4f0dea0067d5c2f"
       ],
       "layout": "IPY_MODEL_4955638c9b3d4779bf13e54b434b4ced"
      }
     },
     "c7a2e67a6448428bbb12a2d5a9f7bc4b": {
      "model_module": "jupyter-js-widgets",
      "model_module_version": "~2.1.4",
      "model_name": "VBoxModel",
      "state": {
       "_dom_classes": [
        "widget-interact"
       ],
       "_model_module_version": "~2.1.4",
       "_view_module_version": "~2.1.4",
       "children": [
        "IPY_MODEL_3105c4cc1d7240509a86bd28ebb7d1b5",
        "IPY_MODEL_1eab5aa6b0db49af97bdabe29b386d1e",
        "IPY_MODEL_7a97f1e6b47f4fbeaf3d43d156944c90",
        "IPY_MODEL_be89171af1994b02abb8f93f9d2cb57d"
       ],
       "layout": "IPY_MODEL_f4c290bd750d46189644efbb72309271"
      }
     },
     "c7bd566392244877b1d9d3d1173833ca": {
      "model_module": "jupyter-js-widgets",
      "model_module_version": "~2.1.4",
      "model_name": "DropdownModel",
      "state": {
       "_model_module_version": "~2.1.4",
       "_options_labels": [
        "Albury",
        "Armidale Dumaresq",
        "Ashfield",
        "Auburn",
        "Ballina",
        "Balranald",
        "Bankstown",
        "Bathurst Regional",
        "Bega Valley",
        "Bellingen",
        "Berrigan",
        "Blacktown",
        "Bland",
        "Blayney",
        "Blue Mountains",
        "Bogan",
        "Bombala",
        "Boorowa",
        "Botany Bay",
        "Bourke",
        "Brewarrina",
        "Broken Hill",
        "Burwood",
        "Byron",
        "Cabonne",
        "Camden",
        "Campbelltown",
        "Canada Bay",
        "Canterbury",
        "Carrathool",
        "Central Darling",
        "Cessnock",
        "Clarence Valley",
        "Cobar",
        "Coffs Harbour",
        "Conargo",
        "Coolamon",
        "Cooma-Monaro",
        "Coonamble",
        "Cootamundra",
        "Corowa Shire",
        "Cowra",
        "Deniliquin",
        "Dubbo",
        "Dungog",
        "Eurobodalla",
        "Fairfield",
        "Forbes",
        "Gilgandra",
        "Glen Innes Severn",
        "Gloucester",
        "Gosford",
        "Goulburn Mulwaree",
        "Great Lakes",
        "Greater Hume Shire",
        "Greater Taree",
        "Griffith",
        "Gundagai",
        "Gunnedah",
        "Guyra",
        "Gwydir",
        "Harden",
        "Hawkesbury",
        "Hay",
        "Holroyd",
        "Hornsby",
        "Hunters Hill",
        "Hurstville",
        "Inverell",
        "Jerilderie",
        "Junee",
        "Kempsey",
        "Kiama",
        "Kogarah",
        "Ku-ring-gai",
        "Kyogle",
        "Lachlan",
        "Lake Macquarie",
        "Lane Cove",
        "Leeton",
        "Leichhardt",
        "Lismore",
        "Lithgow",
        "Liverpool",
        "Liverpool Plains",
        "Lockhart",
        "Maitland",
        "Manly",
        "Marrickville",
        "Mid-Western Regional",
        "Moree Plains",
        "Mosman",
        "Murray",
        "Murrumbidgee",
        "Muswellbrook",
        "Nambucca",
        "Narrabri",
        "Narrandera",
        "Narromine",
        "Newcastle",
        "North Sydney",
        "Oberon",
        "Orange",
        "Palerang",
        "Parkes",
        "Parramatta",
        "Penrith",
        "Pittwater",
        "Port Macquarie-Hastings",
        "Port Stephens",
        "Queanbeyan",
        "Randwick",
        "Richmond Valley",
        "Rockdale",
        "Ryde",
        "Shellharbour",
        "Shoalhaven",
        "Singleton",
        "Snowy River",
        "Strathfield",
        "Sutherland Shire",
        "Sydney",
        "Tamworth Regional",
        "Temora",
        "Tenterfield",
        "The Hills Shire",
        "Tumbarumba",
        "Tumut Shire",
        "Tweed",
        "Unincorporated Far West",
        "Upper Hunter Shire",
        "Upper Lachlan Shire",
        "Uralla",
        "Urana",
        "Wagga Wagga",
        "Wakool",
        "Walcha",
        "Walgett",
        "Warren",
        "Warringah",
        "Warrumbungle Shire",
        "Waverley",
        "Weddin",
        "Wellington",
        "Wentworth",
        "Willoughby",
        "Wingecarribee",
        "Wollondilly",
        "Wollongong",
        "Woollahra",
        "Wyong",
        "Yass Valley",
        "Young"
       ],
       "_view_module_version": "~2.1.4",
       "description": "LGA1",
       "layout": "IPY_MODEL_3435c050f44b48cb82f27ace19709733",
       "value": "Randwick"
      }
     },
     "c7c7ce0b3b9e4425bfd6b9dfdcee4535": {
      "model_module": "jupyter-js-widgets",
      "model_module_version": "~2.1.4",
      "model_name": "LayoutModel",
      "state": {
       "_model_module_version": "~2.1.4",
       "_view_module_version": "~2.1.4"
      }
     },
     "c7d31969a4a746c5a4f0dea0067d5c2f": {
      "model_module": "jupyter-js-widgets",
      "model_module_version": "~2.1.4",
      "model_name": "OutputModel",
      "state": {
       "_dom_classes": [],
       "_model_module": "jupyter-js-widgets",
       "_model_module_version": "~2.1.4",
       "_view_module": "jupyter-js-widgets",
       "_view_module_version": "~2.1.4",
       "layout": "IPY_MODEL_9a8d1a2eff804ff5bbcca5b8a962bb49",
       "msg_throttle": 1
      }
     },
     "c8123fb72cd74c77a89be50ad34e6ed7": {
      "model_module": "jupyter-js-widgets",
      "model_module_version": "~2.1.4",
      "model_name": "OutputModel",
      "state": {
       "_dom_classes": [],
       "_model_module": "jupyter-js-widgets",
       "_model_module_version": "~2.1.4",
       "_view_module": "jupyter-js-widgets",
       "_view_module_version": "~2.1.4",
       "layout": "IPY_MODEL_71ff1f9eb9df4279bdcb56de5187f2de",
       "msg_throttle": 1
      }
     },
     "c846a16054114022b47b5c7cef35dd92": {
      "model_module": "jupyter-js-widgets",
      "model_module_version": "~2.1.4",
      "model_name": "LayoutModel",
      "state": {
       "_model_module_version": "~2.1.4",
       "_view_module_version": "~2.1.4"
      }
     },
     "c84b244abdc0438382a3387b7d84466a": {
      "model_module": "jupyter-js-widgets",
      "model_module_version": "~2.1.4",
      "model_name": "ButtonStyleModel",
      "state": {
       "_model_module_version": "~2.1.4",
       "_view_module_version": "~2.1.4"
      }
     },
     "c84bb6366c0a432e87f187cbf382031b": {
      "model_module": "jupyter-js-widgets",
      "model_module_version": "~2.1.4",
      "model_name": "LayoutModel",
      "state": {
       "_model_module_version": "~2.1.4",
       "_view_module_version": "~2.1.4"
      }
     },
     "c863d86cf41c4f9c9bdb0ae2514fd618": {
      "model_module": "jupyter-js-widgets",
      "model_module_version": "~2.1.4",
      "model_name": "SelectMultipleModel",
      "state": {
       "_model_module_version": "~2.1.4",
       "_options_labels": [
        "Albury",
        "Armidale Dumaresq",
        "Ashfield",
        "Auburn",
        "Ballina",
        "Balranald",
        "Bankstown",
        "Bathurst Regional",
        "Bega Valley",
        "Bellingen",
        "Berrigan",
        "Blacktown",
        "Bland",
        "Blayney",
        "Blue Mountains",
        "Bogan",
        "Bombala",
        "Boorowa",
        "Botany Bay",
        "Bourke",
        "Brewarrina",
        "Broken Hill",
        "Burwood",
        "Byron",
        "Cabonne",
        "Camden",
        "Campbelltown",
        "Canada Bay",
        "Canterbury",
        "Carrathool",
        "Central Darling",
        "Cessnock",
        "Clarence Valley",
        "Cobar",
        "Coffs Harbour",
        "Conargo",
        "Coolamon",
        "Cooma-Monaro",
        "Coonamble",
        "Cootamundra",
        "Corowa Shire",
        "Cowra",
        "Deniliquin",
        "Dubbo",
        "Dungog",
        "Eurobodalla",
        "Fairfield",
        "Forbes",
        "Gilgandra",
        "Glen Innes Severn",
        "Gloucester",
        "Gosford",
        "Goulburn Mulwaree",
        "Great Lakes",
        "Greater Hume Shire",
        "Greater Taree",
        "Griffith",
        "Gundagai",
        "Gunnedah",
        "Guyra",
        "Gwydir",
        "Harden",
        "Hawkesbury",
        "Hay",
        "Holroyd",
        "Hornsby",
        "Hunters Hill",
        "Hurstville",
        "Inverell",
        "Jerilderie",
        "Junee",
        "Kempsey",
        "Kiama",
        "Kogarah",
        "Ku-ring-gai",
        "Kyogle",
        "Lachlan",
        "Lake Macquarie",
        "Lane Cove",
        "Leeton",
        "Leichhardt",
        "Lismore",
        "Lithgow",
        "Liverpool",
        "Liverpool Plains",
        "Lockhart",
        "Maitland",
        "Manly",
        "Marrickville",
        "Mid-Western Regional",
        "Moree Plains",
        "Mosman",
        "Murray",
        "Murrumbidgee",
        "Muswellbrook",
        "Nambucca",
        "Narrabri",
        "Narrandera",
        "Narromine",
        "Newcastle",
        "North Sydney",
        "Oberon",
        "Orange",
        "Palerang",
        "Parkes",
        "Parramatta",
        "Penrith",
        "Pittwater",
        "Port Macquarie-Hastings",
        "Port Stephens",
        "Queanbeyan",
        "Randwick",
        "Richmond Valley",
        "Rockdale",
        "Ryde",
        "Shellharbour",
        "Shoalhaven",
        "Singleton",
        "Snowy River",
        "Strathfield",
        "Sutherland Shire",
        "Sydney",
        "Tamworth Regional",
        "Temora",
        "Tenterfield",
        "The Hills Shire",
        "Tumbarumba",
        "Tumut Shire",
        "Tweed",
        "Unincorporated Far West",
        "Upper Hunter Shire",
        "Upper Lachlan Shire",
        "Uralla",
        "Urana",
        "Wagga Wagga",
        "Wakool",
        "Walcha",
        "Walgett",
        "Warren",
        "Warringah",
        "Warrumbungle Shire",
        "Waverley",
        "Weddin",
        "Wellington",
        "Wentworth",
        "Willoughby",
        "Wingecarribee",
        "Wollondilly",
        "Wollongong",
        "Woollahra",
        "Wyong",
        "Yass Valley",
        "Young"
       ],
       "_view_module_version": "~2.1.4",
       "description": "LGA:",
       "layout": "IPY_MODEL_3911692340824f4580ed9ecc44b6220e",
       "value": [
        "Ashfield",
        "Auburn",
        "Bankstown",
        "Blacktown",
        "Canterbury",
        "Coffs Harbour",
        "Hunters Hill",
        "Ku-ring-gai",
        "Lane Cove",
        "Leichhardt",
        "Manly",
        "Randwick",
        "Sydney"
       ]
      }
     },
     "c8650007553f40b69d8024885ae60305": {
      "model_module": "jupyter-js-widgets",
      "model_module_version": "~2.1.4",
      "model_name": "LayoutModel",
      "state": {
       "_model_module_version": "~2.1.4",
       "_view_module_version": "~2.1.4"
      }
     },
     "c87738d45b1747e38f71581fe12dffaf": {
      "model_module": "jupyter-js-widgets",
      "model_module_version": "~2.1.4",
      "model_name": "LayoutModel",
      "state": {
       "_model_module_version": "~2.1.4",
       "_view_module_version": "~2.1.4"
      }
     },
     "c88142c614b3432fb8ee89432189f963": {
      "model_module": "jupyter-js-widgets",
      "model_module_version": "~2.1.4",
      "model_name": "LayoutModel",
      "state": {
       "_model_module_version": "~2.1.4",
       "_view_module_version": "~2.1.4",
       "display": "inline_flex",
       "flex_flow": "column"
      }
     },
     "c8c288398a2a491594fb218caa4b840a": {
      "model_module": "jupyter-js-widgets",
      "model_module_version": "~2.1.4",
      "model_name": "SelectMultipleModel",
      "state": {
       "_model_module_version": "~2.1.4",
       "_options_labels": [
        "1995",
        "1996",
        "1997",
        "1998",
        "1999",
        "2000",
        "2001",
        "2002",
        "2003",
        "2004",
        "2005",
        "2006",
        "2007",
        "2008",
        "2009",
        "2010",
        "2011",
        "2012",
        "2013",
        "2014",
        "2015",
        "2016"
       ],
       "_view_module_version": "~2.1.4",
       "description": "Years",
       "layout": "IPY_MODEL_c5c03686a2ac4e898a760de5a2807b6f",
       "value": [
        "2012",
        "2013",
        "2014",
        "2015",
        "2016"
       ]
      }
     },
     "c92ca8ed0c4c453c8501da2f864da601": {
      "model_module": "jupyter-js-widgets",
      "model_module_version": "~2.1.4",
      "model_name": "OutputModel",
      "state": {
       "_dom_classes": [],
       "_model_module": "jupyter-js-widgets",
       "_model_module_version": "~2.1.4",
       "_view_module": "jupyter-js-widgets",
       "_view_module_version": "~2.1.4",
       "layout": "IPY_MODEL_83a549c8d7c742c8b34b00e518f10936",
       "msg_throttle": 1
      }
     },
     "c96f696b05a8402a83b617b3aa984a07": {
      "model_module": "jupyter-js-widgets",
      "model_module_version": "~2.1.4",
      "model_name": "LayoutModel",
      "state": {
       "_model_module_version": "~2.1.4",
       "_view_module_version": "~2.1.4"
      }
     },
     "ca2672d6da3d4251851516097f8b9341": {
      "model_module": "jupyter-js-widgets",
      "model_module_version": "~2.1.4",
      "model_name": "LayoutModel",
      "state": {
       "_model_module_version": "~2.1.4",
       "_view_module_version": "~2.1.4"
      }
     },
     "cab6438d11d74e13905cdd9251589d66": {
      "model_module": "jupyter-js-widgets",
      "model_module_version": "~2.1.4",
      "model_name": "LayoutModel",
      "state": {
       "_model_module_version": "~2.1.4",
       "_view_module_version": "~2.1.4",
       "display": "inline_flex",
       "flex_flow": "column"
      }
     },
     "cbd2d4079d71428c98defd10440dde1d": {
      "model_module": "jupyter-js-widgets",
      "model_module_version": "~2.1.4",
      "model_name": "LayoutModel",
      "state": {
       "_model_module_version": "~2.1.4",
       "_view_module_version": "~2.1.4"
      }
     },
     "cc8626f755374d8883b33d005d5766df": {
      "model_module": "jupyter-js-widgets",
      "model_module_version": "~2.1.4",
      "model_name": "LayoutModel",
      "state": {
       "_model_module_version": "~2.1.4",
       "_view_module_version": "~2.1.4"
      }
     },
     "ccabbdab4580435bb31a65468077e079": {
      "model_module": "jupyter-js-widgets",
      "model_module_version": "~2.1.4",
      "model_name": "SelectMultipleModel",
      "state": {
       "_model_module_version": "~2.1.4",
       "_options_labels": [
        "Homicide",
        "Assault",
        "Sexual offences",
        "Other offences against the person",
        "Robbery",
        "Property offences",
        "Drug Possession",
        "Drug Dealing",
        "Vice",
        "Weapons offences",
        "Other offences"
       ],
       "_view_module_version": "~2.1.4",
       "description": "Categories",
       "layout": "IPY_MODEL_a9ec751788f24cd78afaa7b93f7e075f",
       "value": [
        "Homicide",
        "Assault",
        "Sexual offences",
        "Other offences against the person",
        "Robbery",
        "Property offences",
        "Drug Possession",
        "Drug Dealing",
        "Vice",
        "Weapons offences",
        "Other offences"
       ]
      }
     },
     "cce0dea2f11a4402b87cb55daf69064f": {
      "model_module": "jupyter-js-widgets",
      "model_module_version": "~2.1.4",
      "model_name": "LayoutModel",
      "state": {
       "_model_module_version": "~2.1.4",
       "_view_module_version": "~2.1.4"
      }
     },
     "cd1de7dd91a3459ca8f96536027699c5": {
      "model_module": "jupyter-js-widgets",
      "model_module_version": "~2.1.4",
      "model_name": "VBoxModel",
      "state": {
       "_dom_classes": [
        "widget-interact"
       ],
       "_model_module_version": "~2.1.4",
       "_view_module_version": "~2.1.4",
       "children": [
        "IPY_MODEL_c3b3e18902dd4166a4288d694438ee18",
        "IPY_MODEL_cd6fe26d5af14df2ad4d08736b8c4381",
        "IPY_MODEL_73dbe60959c24fcba8394e5fdb4e4c76",
        "IPY_MODEL_762c32bde491440ca5d4b9d7a37d303b",
        "IPY_MODEL_56ddabdb4fe94539a5f26db05c70a1d5"
       ],
       "layout": "IPY_MODEL_3a942ec03d894b25b3853cfe6f05a5c2"
      }
     },
     "cd411242e91b46358da73ce0f100d2be": {
      "model_module": "jupyter-js-widgets",
      "model_module_version": "~2.1.4",
      "model_name": "VBoxModel",
      "state": {
       "_dom_classes": [
        "widget-interact"
       ],
       "_model_module_version": "~2.1.4",
       "_view_module_version": "~2.1.4",
       "children": [
        "IPY_MODEL_40c043136019467fab7680746c1ff710",
        "IPY_MODEL_5a0d6e0c1b1b46e5bb254663b05f216c",
        "IPY_MODEL_c92ca8ed0c4c453c8501da2f864da601"
       ],
       "layout": "IPY_MODEL_03300f2a742e4447b684aba19145524b"
      }
     },
     "cd6fe26d5af14df2ad4d08736b8c4381": {
      "model_module": "jupyter-js-widgets",
      "model_module_version": "~2.1.4",
      "model_name": "SelectMultipleModel",
      "state": {
       "_model_module_version": "~2.1.4",
       "_options_labels": [
        "1995",
        "1996",
        "1997",
        "1998",
        "1999",
        "2000",
        "2001",
        "2002",
        "2003",
        "2004",
        "2005",
        "2006",
        "2007",
        "2008",
        "2009",
        "2010",
        "2011",
        "2012",
        "2013",
        "2014",
        "2015",
        "2016"
       ],
       "_view_module_version": "~2.1.4",
       "description": "Years",
       "layout": "IPY_MODEL_05fa1ee5fa474df7ba9829b69fe7c20e",
       "value": [
        "2012",
        "2013",
        "2014",
        "2015",
        "2016"
       ]
      }
     },
     "cd84465ba2de44a2b68ce5708508b4a0": {
      "model_module": "jupyter-js-widgets",
      "model_module_version": "~2.1.4",
      "model_name": "VBoxModel",
      "state": {
       "_dom_classes": [
        "widget-interact"
       ],
       "_model_module_version": "~2.1.4",
       "_view_module_version": "~2.1.4",
       "children": [
        "IPY_MODEL_b1909e2c2bb5475d83d9894a081b4c47",
        "IPY_MODEL_3105c4cc1d7240509a86bd28ebb7d1b5",
        "IPY_MODEL_1eab5aa6b0db49af97bdabe29b386d1e",
        "IPY_MODEL_7d5249cd91514403b77463a6f4ce4104",
        "IPY_MODEL_a3858255be054451a6ca7024449b09fa"
       ],
       "layout": "IPY_MODEL_28bccdf671bc4b4abdbf2c655b22a919"
      }
     },
     "cda4f7c0038549db9741494c40f84b57": {
      "model_module": "jupyter-js-widgets",
      "model_module_version": "~2.1.4",
      "model_name": "DropdownModel",
      "state": {
       "_model_module_version": "~2.1.4",
       "_options_labels": [
        "All",
        "GreaterSydney",
        "RegionalNSW"
       ],
       "_view_module_version": "~2.1.4",
       "description": "LGAs:",
       "layout": "IPY_MODEL_8f785d5368444110ac528c10ceb28969",
       "value": "All"
      }
     },
     "cdfd1ed005fd47bea7a070b9057cc6f7": {
      "model_module": "jupyter-js-widgets",
      "model_module_version": "~2.1.4",
      "model_name": "LayoutModel",
      "state": {
       "_model_module_version": "~2.1.4",
       "_view_module_version": "~2.1.4"
      }
     },
     "ce3539a1bf794075a49545b85b4d6e3b": {
      "model_module": "jupyter-js-widgets",
      "model_module_version": "~2.1.4",
      "model_name": "ButtonStyleModel",
      "state": {
       "_model_module_version": "~2.1.4",
       "_view_module_version": "~2.1.4"
      }
     },
     "ce5372d89ee7414bb0bf6e9208476c33": {
      "model_module": "jupyter-js-widgets",
      "model_module_version": "~2.1.4",
      "model_name": "ButtonModel",
      "state": {
       "_model_module_version": "~2.1.4",
       "_view_module_version": "~2.1.4",
       "description": "Run Interact",
       "layout": "IPY_MODEL_cc8626f755374d8883b33d005d5766df",
       "style": "IPY_MODEL_89aebb7170c34196b481df29d1d07ae1"
      }
     },
     "ced6d59f7f3642ad83e7e68fbe3f62a1": {
      "model_module": "jupyter-js-widgets",
      "model_module_version": "~2.1.4",
      "model_name": "VBoxModel",
      "state": {
       "_dom_classes": [
        "widget-interact"
       ],
       "_model_module_version": "~2.1.4",
       "_view_module_version": "~2.1.4",
       "children": [
        "IPY_MODEL_e97ef925ad6d4c6fb82821074b057d28",
        "IPY_MODEL_54c3a8b6360f4d8dbc03bbe5bad0456b",
        "IPY_MODEL_390d33838020480983c21684b84647ae",
        "IPY_MODEL_df935b96009d4024932fcbfb929f1b09"
       ],
       "layout": "IPY_MODEL_6d499f8d92424ae7904776d3a757b685"
      }
     },
     "cf670316d68d4d9a9a3e2c007bab46ed": {
      "model_module": "jupyter-js-widgets",
      "model_module_version": "~2.1.4",
      "model_name": "LayoutModel",
      "state": {
       "_model_module_version": "~2.1.4",
       "_view_module_version": "~2.1.4"
      }
     },
     "cf8beb7a09ac4c98b92461b9eeb8042c": {
      "model_module": "jupyter-js-widgets",
      "model_module_version": "~2.1.4",
      "model_name": "LayoutModel",
      "state": {
       "_model_module_version": "~2.1.4",
       "_view_module_version": "~2.1.4"
      }
     },
     "cffa691c24ee43f28ec62573f2d07c22": {
      "model_module": "jupyter-js-widgets",
      "model_module_version": "~2.1.4",
      "model_name": "LayoutModel",
      "state": {
       "_model_module_version": "~2.1.4",
       "_view_module_version": "~2.1.4"
      }
     },
     "d018f67b71f346278bd8f21771805eaf": {
      "model_module": "jupyter-js-widgets",
      "model_module_version": "~2.1.4",
      "model_name": "DropdownModel",
      "state": {
       "_model_module_version": "~2.1.4",
       "_options_labels": [
        "Albury",
        "Armidale Dumaresq",
        "Ashfield",
        "Auburn",
        "Ballina",
        "Balranald",
        "Bankstown",
        "Bathurst Regional",
        "Bega Valley",
        "Bellingen",
        "Berrigan",
        "Blacktown",
        "Bland",
        "Blayney",
        "Blue Mountains",
        "Bogan",
        "Bombala",
        "Boorowa",
        "Botany Bay",
        "Bourke",
        "Brewarrina",
        "Broken Hill",
        "Burwood",
        "Byron",
        "Cabonne",
        "Camden",
        "Campbelltown",
        "Canada Bay",
        "Canterbury",
        "Carrathool",
        "Central Darling",
        "Cessnock",
        "Clarence Valley",
        "Cobar",
        "Coffs Harbour",
        "Conargo",
        "Coolamon",
        "Cooma-Monaro",
        "Coonamble",
        "Cootamundra",
        "Corowa Shire",
        "Cowra",
        "Deniliquin",
        "Dubbo",
        "Dungog",
        "Eurobodalla",
        "Fairfield",
        "Forbes",
        "Gilgandra",
        "Glen Innes Severn",
        "Gloucester",
        "Gosford",
        "Goulburn Mulwaree",
        "Great Lakes",
        "Greater Hume Shire",
        "Greater Taree",
        "Griffith",
        "Gundagai",
        "Gunnedah",
        "Guyra",
        "Gwydir",
        "Harden",
        "Hawkesbury",
        "Hay",
        "Holroyd",
        "Hornsby",
        "Hunters Hill",
        "Hurstville",
        "Inverell",
        "Jerilderie",
        "Junee",
        "Kempsey",
        "Kiama",
        "Kogarah",
        "Ku-ring-gai",
        "Kyogle",
        "Lachlan",
        "Lake Macquarie",
        "Lane Cove",
        "Leeton",
        "Leichhardt",
        "Lismore",
        "Lithgow",
        "Liverpool",
        "Liverpool Plains",
        "Lockhart",
        "Maitland",
        "Manly",
        "Marrickville",
        "Mid-Western Regional",
        "Moree Plains",
        "Mosman",
        "Murray",
        "Murrumbidgee",
        "Muswellbrook",
        "Nambucca",
        "Narrabri",
        "Narrandera",
        "Narromine",
        "Newcastle",
        "North Sydney",
        "Oberon",
        "Orange",
        "Palerang",
        "Parkes",
        "Parramatta",
        "Penrith",
        "Pittwater",
        "Port Macquarie-Hastings",
        "Port Stephens",
        "Queanbeyan",
        "Randwick",
        "Richmond Valley",
        "Rockdale",
        "Ryde",
        "Shellharbour",
        "Shoalhaven",
        "Singleton",
        "Snowy River",
        "Strathfield",
        "Sutherland Shire",
        "Sydney",
        "Tamworth Regional",
        "Temora",
        "Tenterfield",
        "The Hills Shire",
        "Tumbarumba",
        "Tumut Shire",
        "Tweed",
        "Unincorporated Far West",
        "Upper Hunter Shire",
        "Upper Lachlan Shire",
        "Uralla",
        "Urana",
        "Wagga Wagga",
        "Wakool",
        "Walcha",
        "Walgett",
        "Warren",
        "Warringah",
        "Warrumbungle Shire",
        "Waverley",
        "Weddin",
        "Wellington",
        "Wentworth",
        "Willoughby",
        "Wingecarribee",
        "Wollondilly",
        "Wollongong",
        "Woollahra",
        "Wyong",
        "Yass Valley",
        "Young"
       ],
       "_view_module_version": "~2.1.4",
       "description": "LGA1",
       "layout": "IPY_MODEL_0ec47ea93f0f4c058419b3cb879fb6ec",
       "value": "Randwick"
      }
     },
     "d032a9b8632242128558b59d8a83a2d8": {
      "model_module": "jupyter-js-widgets",
      "model_module_version": "~2.1.4",
      "model_name": "DropdownModel",
      "state": {
       "_model_module_version": "~2.1.4",
       "_options_labels": [
        "All",
        "GreaterSydney",
        "RegionalNSW"
       ],
       "_view_module_version": "~2.1.4",
       "description": "LGAs:",
       "layout": "IPY_MODEL_aec1e7e7ee9345239bf24023da8af9b4",
       "value": "GreaterSydney"
      }
     },
     "d036aca26abd47b3bfe032ddfbdb6910": {
      "model_module": "jupyter-js-widgets",
      "model_module_version": "~2.1.4",
      "model_name": "LayoutModel",
      "state": {
       "_model_module_version": "~2.1.4",
       "_view_module_version": "~2.1.4"
      }
     },
     "d0726696ee3540fe8ffeece8de2da4dc": {
      "model_module": "jupyter-js-widgets",
      "model_module_version": "~2.1.4",
      "model_name": "SelectMultipleModel",
      "state": {
       "_model_module_version": "~2.1.4",
       "_options_labels": [
        "Homicide",
        "Assault",
        "Sexual offences",
        "Other offences against the person",
        "Robbery",
        "Property offences",
        "Drug Possession",
        "Drug Dealing",
        "Vice",
        "Weapons offences",
        "Other offences"
       ],
       "_view_module_version": "~2.1.4",
       "description": "Categories",
       "layout": "IPY_MODEL_46491dc532a3427a8bfae18d5b0e74a9",
       "value": [
        "Homicide",
        "Assault",
        "Sexual offences",
        "Other offences against the person",
        "Robbery",
        "Property offences",
        "Drug Possession",
        "Drug Dealing",
        "Vice",
        "Weapons offences",
        "Other offences"
       ]
      }
     },
     "d08db23509a44d93bac71fddecf6388e": {
      "model_module": "jupyter-js-widgets",
      "model_module_version": "~2.1.4",
      "model_name": "LayoutModel",
      "state": {
       "_model_module_version": "~2.1.4",
       "_view_module_version": "~2.1.4"
      }
     },
     "d0e1ff07d8954e2e8ef0d21cd76acad7": {
      "model_module": "jupyter-js-widgets",
      "model_module_version": "~2.1.4",
      "model_name": "ButtonStyleModel",
      "state": {
       "_model_module_version": "~2.1.4",
       "_view_module_version": "~2.1.4"
      }
     },
     "d16eddeaa0734214b4376600ead94532": {
      "model_module": "jupyter-js-widgets",
      "model_module_version": "~2.1.4",
      "model_name": "DropdownModel",
      "state": {
       "_model_module_version": "~2.1.4",
       "_options_labels": [
        "Albury",
        "Armidale Dumaresq",
        "Ashfield",
        "Auburn",
        "Ballina",
        "Balranald",
        "Bankstown",
        "Bathurst Regional",
        "Bega Valley",
        "Bellingen",
        "Berrigan",
        "Blacktown",
        "Bland",
        "Blayney",
        "Blue Mountains",
        "Bogan",
        "Bombala",
        "Boorowa",
        "Botany Bay",
        "Bourke",
        "Brewarrina",
        "Broken Hill",
        "Burwood",
        "Byron",
        "Cabonne",
        "Camden",
        "Campbelltown",
        "Canada Bay",
        "Canterbury",
        "Carrathool",
        "Central Darling",
        "Cessnock",
        "Clarence Valley",
        "Cobar",
        "Coffs Harbour",
        "Conargo",
        "Coolamon",
        "Cooma-Monaro",
        "Coonamble",
        "Cootamundra",
        "Corowa Shire",
        "Cowra",
        "Deniliquin",
        "Dubbo",
        "Dungog",
        "Eurobodalla",
        "Fairfield",
        "Forbes",
        "Gilgandra",
        "Glen Innes Severn",
        "Gloucester",
        "Gosford",
        "Goulburn Mulwaree",
        "Great Lakes",
        "Greater Hume Shire",
        "Greater Taree",
        "Griffith",
        "Gundagai",
        "Gunnedah",
        "Guyra",
        "Gwydir",
        "Harden",
        "Hawkesbury",
        "Hay",
        "Holroyd",
        "Hornsby",
        "Hunters Hill",
        "Hurstville",
        "Inverell",
        "Jerilderie",
        "Junee",
        "Kempsey",
        "Kiama",
        "Kogarah",
        "Ku-ring-gai",
        "Kyogle",
        "Lachlan",
        "Lake Macquarie",
        "Lane Cove",
        "Leeton",
        "Leichhardt",
        "Lismore",
        "Lithgow",
        "Liverpool",
        "Liverpool Plains",
        "Lockhart",
        "Maitland",
        "Manly",
        "Marrickville",
        "Mid-Western Regional",
        "Moree Plains",
        "Mosman",
        "Murray",
        "Murrumbidgee",
        "Muswellbrook",
        "Nambucca",
        "Narrabri",
        "Narrandera",
        "Narromine",
        "Newcastle",
        "North Sydney",
        "Oberon",
        "Orange",
        "Palerang",
        "Parkes",
        "Parramatta",
        "Penrith",
        "Pittwater",
        "Port Macquarie-Hastings",
        "Port Stephens",
        "Queanbeyan",
        "Randwick",
        "Richmond Valley",
        "Rockdale",
        "Ryde",
        "Shellharbour",
        "Shoalhaven",
        "Singleton",
        "Snowy River",
        "Strathfield",
        "Sutherland Shire",
        "Sydney",
        "Tamworth Regional",
        "Temora",
        "Tenterfield",
        "The Hills Shire",
        "Tumbarumba",
        "Tumut Shire",
        "Tweed",
        "Unincorporated Far West",
        "Upper Hunter Shire",
        "Upper Lachlan Shire",
        "Uralla",
        "Urana",
        "Wagga Wagga",
        "Wakool",
        "Walcha",
        "Walgett",
        "Warren",
        "Warringah",
        "Warrumbungle Shire",
        "Waverley",
        "Weddin",
        "Wellington",
        "Wentworth",
        "Willoughby",
        "Wingecarribee",
        "Wollondilly",
        "Wollongong",
        "Woollahra",
        "Wyong",
        "Yass Valley",
        "Young"
       ],
       "_view_module_version": "~2.1.4",
       "description": "LGA2",
       "layout": "IPY_MODEL_91bdfe02ab96468e81bf34ae72683123",
       "value": "Lane Cove"
      }
     },
     "d1bd84f86e0e47a5871d30144fc436c6": {
      "model_module": "jupyter-js-widgets",
      "model_module_version": "~2.1.4",
      "model_name": "ButtonModel",
      "state": {
       "_model_module_version": "~2.1.4",
       "_view_module_version": "~2.1.4",
       "description": "Run Interact",
       "layout": "IPY_MODEL_f0e54da6c01341be8330bf689eb84dd6",
       "style": "IPY_MODEL_7d77d6dbc8f4459189a99bce623709a4"
      }
     },
     "d219196023f44925b8c669d048d4e444": {
      "model_module": "jupyter-js-widgets",
      "model_module_version": "~2.1.4",
      "model_name": "LayoutModel",
      "state": {
       "_model_module_version": "~2.1.4",
       "_view_module_version": "~2.1.4"
      }
     },
     "d2329de395b34902929fc2abb41f152e": {
      "model_module": "jupyter-js-widgets",
      "model_module_version": "~2.1.4",
      "model_name": "SelectMultipleModel",
      "state": {
       "_model_module_version": "~2.1.4",
       "_options_labels": [
        "Homicide",
        "Assault",
        "Sexual offences",
        "Other offences against the person",
        "Robbery",
        "Property offences",
        "Drug Possession",
        "Drug Dealing",
        "Vice",
        "Weapons offences",
        "Other offences"
       ],
       "_view_module_version": "~2.1.4",
       "description": "Categories",
       "layout": "IPY_MODEL_56db9201c86c477791553a67e0dd0334",
       "value": [
        "Homicide",
        "Assault",
        "Sexual offences",
        "Other offences against the person",
        "Robbery",
        "Property offences",
        "Drug Possession",
        "Drug Dealing",
        "Vice",
        "Weapons offences",
        "Other offences"
       ]
      }
     },
     "d232d8da3ff9410da7570ee25a070087": {
      "model_module": "jupyter-js-widgets",
      "model_module_version": "~2.1.4",
      "model_name": "DropdownModel",
      "state": {
       "_model_module_version": "~2.1.4",
       "_options_labels": [
        "All",
        "GreaterSydney",
        "RegionalNSW"
       ],
       "_view_module_version": "~2.1.4",
       "description": "LGAs:",
       "layout": "IPY_MODEL_6c9e68b73d054f08a8b86ea0aa347e7e",
       "value": "All"
      }
     },
     "d23e1bf97cb24c23961237df03e19925": {
      "model_module": "jupyter-js-widgets",
      "model_module_version": "~2.1.4",
      "model_name": "SelectMultipleModel",
      "state": {
       "_model_module_version": "~2.1.4",
       "_options_labels": [
        "1995",
        "1996",
        "1997",
        "1998",
        "1999",
        "2000",
        "2001",
        "2002",
        "2003",
        "2004",
        "2005",
        "2006",
        "2007",
        "2008",
        "2009",
        "2010",
        "2011",
        "2012",
        "2013",
        "2014",
        "2015",
        "2016"
       ],
       "_view_module_version": "~2.1.4",
       "description": "Year",
       "layout": "IPY_MODEL_772a1dc35f4642c1953f02f95ffbe7c9",
       "value": [
        "1995",
        "1996",
        "1997",
        "1998",
        "1999",
        "2000",
        "2001",
        "2002",
        "2003",
        "2004",
        "2005",
        "2006",
        "2007",
        "2008",
        "2009",
        "2010",
        "2011",
        "2012",
        "2013",
        "2014",
        "2015",
        "2016"
       ]
      }
     },
     "d25b63ff10e645c1997196d87d0fe56a": {
      "model_module": "jupyter-js-widgets",
      "model_module_version": "~2.1.4",
      "model_name": "LayoutModel",
      "state": {
       "_model_module_version": "~2.1.4",
       "_view_module_version": "~2.1.4"
      }
     },
     "d27ac6a0237048c38fa422a80bf23d0f": {
      "model_module": "jupyter-js-widgets",
      "model_module_version": "~2.1.4",
      "model_name": "ButtonModel",
      "state": {
       "_model_module_version": "~2.1.4",
       "_view_module_version": "~2.1.4",
       "description": "Run Interact",
       "layout": "IPY_MODEL_b0506a775c9a48788394d40915c374f4",
       "style": "IPY_MODEL_e458b77beb414a9089f9ed1656177b9d"
      }
     },
     "d2dd6a302dfe40599a56cb243e200b8a": {
      "model_module": "jupyter-js-widgets",
      "model_module_version": "~2.1.4",
      "model_name": "VBoxModel",
      "state": {
       "_dom_classes": [
        "widget-interact"
       ],
       "_model_module_version": "~2.1.4",
       "_view_module_version": "~2.1.4",
       "children": [
        "IPY_MODEL_78c6fa05c4d34c39bbd37cb200c6a1e6",
        "IPY_MODEL_9252b1f049404be9906b2a1583e39e98",
        "IPY_MODEL_2a7c3ec2f66343539229b9a5fd4d4f90"
       ],
       "layout": "IPY_MODEL_2e1b0ab47b114ce3934f4b7df45d7f19"
      }
     },
     "d326163b10a44b88a9454207e8e9d953": {
      "model_module": "jupyter-js-widgets",
      "model_module_version": "~2.1.4",
      "model_name": "OutputModel",
      "state": {
       "_dom_classes": [],
       "_model_module": "jupyter-js-widgets",
       "_model_module_version": "~2.1.4",
       "_view_module": "jupyter-js-widgets",
       "_view_module_version": "~2.1.4",
       "layout": "IPY_MODEL_84ad0e65b690415f9526e86a19042ba1",
       "msg_throttle": 1
      }
     },
     "d3bed47bf303454d9375e575c01add78": {
      "model_module": "jupyter-js-widgets",
      "model_module_version": "~2.1.4",
      "model_name": "LayoutModel",
      "state": {
       "_model_module_version": "~2.1.4",
       "_view_module_version": "~2.1.4"
      }
     },
     "d43b761a191841a2868913a799993044": {
      "model_module": "jupyter-js-widgets",
      "model_module_version": "~2.1.4",
      "model_name": "ButtonModel",
      "state": {
       "_model_module_version": "~2.1.4",
       "_view_module_version": "~2.1.4",
       "description": "Run Interact",
       "layout": "IPY_MODEL_f6f1f5c19e504d71871bf24e60588af0",
       "style": "IPY_MODEL_1812eac69c9b416fa205068435561482"
      }
     },
     "d453f51bc68742ecacfbeb7899bc6ca9": {
      "model_module": "jupyter-js-widgets",
      "model_module_version": "~2.1.4",
      "model_name": "OutputModel",
      "state": {
       "_dom_classes": [],
       "_model_module": "jupyter-js-widgets",
       "_model_module_version": "~2.1.4",
       "_view_module": "jupyter-js-widgets",
       "_view_module_version": "~2.1.4",
       "layout": "IPY_MODEL_1a18ec9649eb4b4ebedd574f3b59e66c",
       "msg_throttle": 1
      }
     },
     "d4b90bd7d95d41d98a3ca2b6288f9ab2": {
      "model_module": "jupyter-js-widgets",
      "model_module_version": "~2.1.4",
      "model_name": "LayoutModel",
      "state": {
       "_model_module_version": "~2.1.4",
       "_view_module_version": "~2.1.4"
      }
     },
     "d4ca66290d0b439d917b818266d9b348": {
      "model_module": "jupyter-js-widgets",
      "model_module_version": "~2.1.4",
      "model_name": "LayoutModel",
      "state": {
       "_model_module_version": "~2.1.4",
       "_view_module_version": "~2.1.4"
      }
     },
     "d4dcfebee9cc4cffa0221f64bf086606": {
      "model_module": "jupyter-js-widgets",
      "model_module_version": "~2.1.4",
      "model_name": "ButtonStyleModel",
      "state": {
       "_model_module_version": "~2.1.4",
       "_view_module_version": "~2.1.4"
      }
     },
     "d4eb1b562e874a4499b0f2610e698a8a": {
      "model_module": "jupyter-js-widgets",
      "model_module_version": "~2.1.4",
      "model_name": "ButtonStyleModel",
      "state": {
       "_model_module_version": "~2.1.4",
       "_view_module_version": "~2.1.4"
      }
     },
     "d5194fb613f34649a184b018c9075f5c": {
      "model_module": "jupyter-js-widgets",
      "model_module_version": "~2.1.4",
      "model_name": "LayoutModel",
      "state": {
       "_model_module_version": "~2.1.4",
       "_view_module_version": "~2.1.4",
       "display": "inline_flex",
       "flex_flow": "column"
      }
     },
     "d52ae7d0e53d4e039f7f7d5b41c5760b": {
      "model_module": "jupyter-js-widgets",
      "model_module_version": "~2.1.4",
      "model_name": "VBoxModel",
      "state": {
       "_dom_classes": [
        "widget-interact"
       ],
       "_model_module_version": "~2.1.4",
       "_view_module_version": "~2.1.4",
       "children": [
        "IPY_MODEL_a8c6f145e6a54f7aa9dd035cf8770ec4",
        "IPY_MODEL_faaf72993833423187ccedd86ce13471",
        "IPY_MODEL_0ee2f9cd5095406bb68b1057af494096",
        "IPY_MODEL_778c00f6568c40a9b8eadfe59e3dd4f7"
       ],
       "layout": "IPY_MODEL_8e850717b21046f0b302983a4c1989b3"
      }
     },
     "d53bc3e627824d13a92a675427e5338c": {
      "model_module": "jupyter-js-widgets",
      "model_module_version": "~2.1.4",
      "model_name": "LayoutModel",
      "state": {
       "_model_module_version": "~2.1.4",
       "_view_module_version": "~2.1.4"
      }
     },
     "d57dada287424f9199e7e3aebf612ae2": {
      "model_module": "jupyter-js-widgets",
      "model_module_version": "~2.1.4",
      "model_name": "LayoutModel",
      "state": {
       "_model_module_version": "~2.1.4",
       "_view_module_version": "~2.1.4"
      }
     },
     "d5a9b9a39d8a4de6b3120edd8020d9bf": {
      "model_module": "jupyter-js-widgets",
      "model_module_version": "~2.1.4",
      "model_name": "LayoutModel",
      "state": {
       "_model_module_version": "~2.1.4",
       "_view_module_version": "~2.1.4"
      }
     },
     "d5cd7539ae9b44f09b98005edca82e18": {
      "model_module": "jupyter-js-widgets",
      "model_module_version": "~2.1.4",
      "model_name": "LayoutModel",
      "state": {
       "_model_module_version": "~2.1.4",
       "_view_module_version": "~2.1.4"
      }
     },
     "d5f84bb985234628867cd792249315e3": {
      "model_module": "jupyter-js-widgets",
      "model_module_version": "~2.1.4",
      "model_name": "LayoutModel",
      "state": {
       "_model_module_version": "~2.1.4",
       "_view_module_version": "~2.1.4",
       "width": "20%"
      }
     },
     "d6102c4947184922bba76fe670487929": {
      "model_module": "jupyter-js-widgets",
      "model_module_version": "~2.1.4",
      "model_name": "LayoutModel",
      "state": {
       "_model_module_version": "~2.1.4",
       "_view_module_version": "~2.1.4"
      }
     },
     "d62c15e327714c49beb2216b050c9ab4": {
      "model_module": "jupyter-js-widgets",
      "model_module_version": "~2.1.4",
      "model_name": "LayoutModel",
      "state": {
       "_model_module_version": "~2.1.4",
       "_view_module_version": "~2.1.4"
      }
     },
     "d6d60fe2310d4ad5a80425d4c773b0bd": {
      "model_module": "jupyter-js-widgets",
      "model_module_version": "~2.1.4",
      "model_name": "ButtonModel",
      "state": {
       "_model_module_version": "~2.1.4",
       "_view_module_version": "~2.1.4",
       "description": "Run Interact",
       "layout": "IPY_MODEL_cf670316d68d4d9a9a3e2c007bab46ed",
       "style": "IPY_MODEL_4db5b86ba40f4b37b63a1794d9a3e287"
      }
     },
     "d6d859672c9749a5847ef39865c75349": {
      "model_module": "jupyter-js-widgets",
      "model_module_version": "~2.1.4",
      "model_name": "LayoutModel",
      "state": {
       "_model_module_version": "~2.1.4",
       "_view_module_version": "~2.1.4"
      }
     },
     "d6deb4bdb1a24243988693e3d990813a": {
      "model_module": "jupyter-js-widgets",
      "model_module_version": "~2.1.4",
      "model_name": "LayoutModel",
      "state": {
       "_model_module_version": "~2.1.4",
       "_view_module_version": "~2.1.4"
      }
     },
     "d6e6d2a9f42649cfb424a4b0b126a11e": {
      "model_module": "jupyter-js-widgets",
      "model_module_version": "~2.1.4",
      "model_name": "VBoxModel",
      "state": {
       "_dom_classes": [
        "widget-interact"
       ],
       "_model_module_version": "~2.1.4",
       "_view_module_version": "~2.1.4",
       "layout": "IPY_MODEL_f68947adf5dc4b3aab988be94f9343d7"
      }
     },
     "d6edc1d00c424d4086914aff97b27f3b": {
      "model_module": "jupyter-js-widgets",
      "model_module_version": "~2.1.4",
      "model_name": "LayoutModel",
      "state": {
       "_model_module_version": "~2.1.4",
       "_view_module_version": "~2.1.4"
      }
     },
     "d6f227183f0141d7b5183d4983dcc4d0": {
      "model_module": "jupyter-js-widgets",
      "model_module_version": "~2.1.4",
      "model_name": "LayoutModel",
      "state": {
       "_model_module_version": "~2.1.4",
       "_view_module_version": "~2.1.4"
      }
     },
     "d7015c4267fd4e4592261622aec4463c": {
      "model_module": "jupyter-js-widgets",
      "model_module_version": "~2.1.4",
      "model_name": "LayoutModel",
      "state": {
       "_model_module_version": "~2.1.4",
       "_view_module_version": "~2.1.4",
       "width": "20%"
      }
     },
     "d76fa90fa3a547fcbefd58cddcfc90bd": {
      "model_module": "jupyter-js-widgets",
      "model_module_version": "~2.1.4",
      "model_name": "ButtonModel",
      "state": {
       "_model_module_version": "~2.1.4",
       "_view_module_version": "~2.1.4",
       "description": "Run Interact",
       "layout": "IPY_MODEL_74c2fcaec0c74976a560159770279f65",
       "style": "IPY_MODEL_9517605775f54900a38d4556ccdc8942"
      }
     },
     "d7b2a99c79674658b8f4ff6819126184": {
      "model_module": "jupyter-js-widgets",
      "model_module_version": "~2.1.4",
      "model_name": "OutputModel",
      "state": {
       "_dom_classes": [],
       "_model_module": "jupyter-js-widgets",
       "_model_module_version": "~2.1.4",
       "_view_module": "jupyter-js-widgets",
       "_view_module_version": "~2.1.4",
       "layout": "IPY_MODEL_a6935ff5240644cea2cb32bc0cbd65f9",
       "msg_throttle": 1
      }
     },
     "d7c077f8b4674483b47ef7a1c83d8911": {
      "model_module": "jupyter-js-widgets",
      "model_module_version": "~2.1.4",
      "model_name": "ButtonStyleModel",
      "state": {
       "_model_module_version": "~2.1.4",
       "_view_module_version": "~2.1.4"
      }
     },
     "d7df0c6cd23f44e087a326f2680914db": {
      "model_module": "jupyter-js-widgets",
      "model_module_version": "~2.1.4",
      "model_name": "ButtonStyleModel",
      "state": {
       "_model_module_version": "~2.1.4",
       "_view_module_version": "~2.1.4"
      }
     },
     "d88ea4bdfdda419f81511ddcbdf3b384": {
      "model_module": "jupyter-js-widgets",
      "model_module_version": "~2.1.4",
      "model_name": "VBoxModel",
      "state": {
       "_dom_classes": [
        "widget-interact"
       ],
       "_model_module_version": "~2.1.4",
       "_view_module_version": "~2.1.4",
       "children": [
        "IPY_MODEL_c863d86cf41c4f9c9bdb0ae2514fd618",
        "IPY_MODEL_e4a2deaeb2dc49f5ba6a598860050654",
        "IPY_MODEL_37af4a6f07c1410eb3496aabdc77a959",
        "IPY_MODEL_03d993fc8dfa4f34942ae886ff610284"
       ],
       "layout": "IPY_MODEL_1268c519da9e43c09c7c6e4df8971097"
      }
     },
     "d895c8d424444a2cabb4b23105170591": {
      "model_module": "jupyter-js-widgets",
      "model_module_version": "~2.1.4",
      "model_name": "ButtonModel",
      "state": {
       "_model_module_version": "~2.1.4",
       "_view_module_version": "~2.1.4",
       "description": "Run Interact",
       "layout": "IPY_MODEL_cffa691c24ee43f28ec62573f2d07c22",
       "style": "IPY_MODEL_ce3539a1bf794075a49545b85b4d6e3b"
      }
     },
     "d8f6a04f21304338937fb84025e848ef": {
      "model_module": "jupyter-js-widgets",
      "model_module_version": "~2.1.4",
      "model_name": "LayoutModel",
      "state": {
       "_model_module_version": "~2.1.4",
       "_view_module_version": "~2.1.4"
      }
     },
     "d9029f300b5049a2af6c396dafe3ce9e": {
      "model_module": "jupyter-js-widgets",
      "model_module_version": "~2.1.4",
      "model_name": "OutputModel",
      "state": {
       "_dom_classes": [],
       "_model_module": "jupyter-js-widgets",
       "_model_module_version": "~2.1.4",
       "_view_module": "jupyter-js-widgets",
       "_view_module_version": "~2.1.4",
       "layout": "IPY_MODEL_c846a16054114022b47b5c7cef35dd92",
       "msg_throttle": 1
      }
     },
     "d906f16c1922444b97cbae6f92650884": {
      "model_module": "jupyter-js-widgets",
      "model_module_version": "~2.1.4",
      "model_name": "LayoutModel",
      "state": {
       "_model_module_version": "~2.1.4",
       "_view_module_version": "~2.1.4",
       "width": "20%"
      }
     },
     "d9649e9e7eb741c6bb2d62ea7faafa8b": {
      "model_module": "jupyter-js-widgets",
      "model_module_version": "~2.1.4",
      "model_name": "LayoutModel",
      "state": {
       "_model_module_version": "~2.1.4",
       "_view_module_version": "~2.1.4"
      }
     },
     "d97608d9550a4980907eec147e0409e4": {
      "model_module": "jupyter-js-widgets",
      "model_module_version": "~2.1.4",
      "model_name": "ButtonStyleModel",
      "state": {
       "_model_module_version": "~2.1.4",
       "_view_module_version": "~2.1.4"
      }
     },
     "da4af3be0015441cbb4ded1ac7035504": {
      "model_module": "jupyter-js-widgets",
      "model_module_version": "~2.1.4",
      "model_name": "LayoutModel",
      "state": {
       "_model_module_version": "~2.1.4",
       "_view_module_version": "~2.1.4"
      }
     },
     "da4dccafd87a47b2bbc23fc3074ee756": {
      "model_module": "jupyter-js-widgets",
      "model_module_version": "~2.1.4",
      "model_name": "OutputModel",
      "state": {
       "_dom_classes": [],
       "_model_module": "jupyter-js-widgets",
       "_model_module_version": "~2.1.4",
       "_view_module": "jupyter-js-widgets",
       "_view_module_version": "~2.1.4",
       "layout": "IPY_MODEL_cdfd1ed005fd47bea7a070b9057cc6f7",
       "msg_throttle": 1
      }
     },
     "da6110dc06b344a4a63202efdcb20c96": {
      "model_module": "jupyter-js-widgets",
      "model_module_version": "~2.1.4",
      "model_name": "OutputModel",
      "state": {
       "_dom_classes": [],
       "_model_module": "jupyter-js-widgets",
       "_model_module_version": "~2.1.4",
       "_view_module": "jupyter-js-widgets",
       "_view_module_version": "~2.1.4",
       "layout": "IPY_MODEL_bf1e3bff144a4e5db004768d213a174b",
       "msg_throttle": 1
      }
     },
     "da84ff2f52234dc0b0cee36653cd5efa": {
      "model_module": "jupyter-js-widgets",
      "model_module_version": "~2.1.4",
      "model_name": "ButtonModel",
      "state": {
       "_model_module_version": "~2.1.4",
       "_view_module_version": "~2.1.4",
       "description": "Run Interact",
       "layout": "IPY_MODEL_e8ec0c3c2dea4fda97c31e0c1b56e948",
       "style": "IPY_MODEL_c0fdca378e484c06bc5dc73bf843f68d"
      }
     },
     "da99322ec7204a5cb3b9beb664a5d85e": {
      "model_module": "jupyter-js-widgets",
      "model_module_version": "~2.1.4",
      "model_name": "LayoutModel",
      "state": {
       "_model_module_version": "~2.1.4",
       "_view_module_version": "~2.1.4"
      }
     },
     "db30d8c4c58342ab91c57ced24516fc1": {
      "model_module": "jupyter-js-widgets",
      "model_module_version": "~2.1.4",
      "model_name": "VBoxModel",
      "state": {
       "_dom_classes": [
        "widget-interact"
       ],
       "_model_module_version": "~2.1.4",
       "_view_module_version": "~2.1.4",
       "children": [
        "IPY_MODEL_cda4f7c0038549db9741494c40f84b57",
        "IPY_MODEL_660c1bd848fe4739b0c5b2b3925fbc32",
        "IPY_MODEL_3f784fb2af97410ca846583aeb79edcf",
        "IPY_MODEL_72f50f3cc042451e92e7211ff2e9e19a",
        "IPY_MODEL_2a334c705c414f6984050b816b2980a2"
       ],
       "layout": "IPY_MODEL_5b8133c6e5cf4a3bb5a36ad68478c733"
      }
     },
     "dcfa20b0e8144875849a2a611a688939": {
      "model_module": "jupyter-js-widgets",
      "model_module_version": "~2.1.4",
      "model_name": "LayoutModel",
      "state": {
       "_model_module_version": "~2.1.4",
       "_view_module_version": "~2.1.4"
      }
     },
     "dd78210295b549f68b3adedffe7b7e0a": {
      "model_module": "jupyter-js-widgets",
      "model_module_version": "~2.1.4",
      "model_name": "ButtonStyleModel",
      "state": {
       "_model_module_version": "~2.1.4",
       "_view_module_version": "~2.1.4"
      }
     },
     "ddb57b0cdb074de5993abf667cc68d6f": {
      "model_module": "jupyter-js-widgets",
      "model_module_version": "~2.1.4",
      "model_name": "LayoutModel",
      "state": {
       "_model_module_version": "~2.1.4",
       "_view_module_version": "~2.1.4"
      }
     },
     "de08f824db0f4b089218ec27ad80f1dd": {
      "model_module": "jupyter-js-widgets",
      "model_module_version": "~2.1.4",
      "model_name": "ButtonModel",
      "state": {
       "_model_module_version": "~2.1.4",
       "_view_module_version": "~2.1.4",
       "description": "Run Interact",
       "layout": "IPY_MODEL_8b69ed389db54eb59f0c04f4eeeee149",
       "style": "IPY_MODEL_3342260dab9240afba3b4bfcf878a000"
      }
     },
     "df1d6ff7bb854d5dbf5c239b105930e9": {
      "model_module": "jupyter-js-widgets",
      "model_module_version": "~2.1.4",
      "model_name": "ButtonStyleModel",
      "state": {
       "_model_module_version": "~2.1.4",
       "_view_module_version": "~2.1.4"
      }
     },
     "df49bc3708514b0297d4309bc1e09f86": {
      "model_module": "jupyter-js-widgets",
      "model_module_version": "~2.1.4",
      "model_name": "LayoutModel",
      "state": {
       "_model_module_version": "~2.1.4",
       "_view_module_version": "~2.1.4"
      }
     },
     "df8967bc8ba9470c9b653f42e71fd490": {
      "model_module": "jupyter-js-widgets",
      "model_module_version": "~2.1.4",
      "model_name": "VBoxModel",
      "state": {
       "_dom_classes": [
        "widget-interact"
       ],
       "_model_module_version": "~2.1.4",
       "_view_module_version": "~2.1.4",
       "children": [
        "IPY_MODEL_0eb6c4872ab54b9f8b27aac2883f5d16",
        "IPY_MODEL_641edf7bf18845e0b9968c9d3ecea9d7",
        "IPY_MODEL_b6ed8ccab7264938b3d770e8e20029d5"
       ],
       "layout": "IPY_MODEL_b0dbadb99ae94b23bee178229ff03a4c"
      }
     },
     "df935b96009d4024932fcbfb929f1b09": {
      "model_module": "jupyter-js-widgets",
      "model_module_version": "~2.1.4",
      "model_name": "OutputModel",
      "state": {
       "_dom_classes": [],
       "_model_module": "jupyter-js-widgets",
       "_model_module_version": "~2.1.4",
       "_view_module": "jupyter-js-widgets",
       "_view_module_version": "~2.1.4",
       "layout": "IPY_MODEL_82d145a0aa564ea5baa52652b06312c6",
       "msg_throttle": 1
      }
     },
     "dfcc097bb84e446e95e8f0b3dd225369": {
      "model_module": "jupyter-js-widgets",
      "model_module_version": "~2.1.4",
      "model_name": "ButtonStyleModel",
      "state": {
       "_model_module_version": "~2.1.4",
       "_view_module_version": "~2.1.4"
      }
     },
     "e03ba4445e564696889436095e4b465d": {
      "model_module": "jupyter-js-widgets",
      "model_module_version": "~2.1.4",
      "model_name": "LayoutModel",
      "state": {
       "_model_module_version": "~2.1.4",
       "_view_module_version": "~2.1.4"
      }
     },
     "e03ed375bab74af5ab082d001a9cea56": {
      "model_module": "jupyter-js-widgets",
      "model_module_version": "~2.1.4",
      "model_name": "LayoutModel",
      "state": {
       "_model_module_version": "~2.1.4",
       "_view_module_version": "~2.1.4"
      }
     },
     "e04414310c074c15a9d35af4a83c6f04": {
      "model_module": "jupyter-js-widgets",
      "model_module_version": "~2.1.4",
      "model_name": "OutputModel",
      "state": {
       "_dom_classes": [],
       "_model_module": "jupyter-js-widgets",
       "_model_module_version": "~2.1.4",
       "_view_module": "jupyter-js-widgets",
       "_view_module_version": "~2.1.4",
       "layout": "IPY_MODEL_2c114377f05941e282a44e5c3cb62d89",
       "msg_throttle": 1
      }
     },
     "e058a37baa39449fa7c06816a436260e": {
      "model_module": "jupyter-js-widgets",
      "model_module_version": "~2.1.4",
      "model_name": "OutputModel",
      "state": {
       "_dom_classes": [],
       "_model_module": "jupyter-js-widgets",
       "_model_module_version": "~2.1.4",
       "_view_module": "jupyter-js-widgets",
       "_view_module_version": "~2.1.4",
       "layout": "IPY_MODEL_1c68609dfc384d8abb1c0df9eabfbdfe",
       "msg_throttle": 1
      }
     },
     "e062c7ca04d649dfbdbc584b51e583b4": {
      "model_module": "jupyter-js-widgets",
      "model_module_version": "~2.1.4",
      "model_name": "LayoutModel",
      "state": {
       "_model_module_version": "~2.1.4",
       "_view_module_version": "~2.1.4"
      }
     },
     "e0e6e1a3715e4cebaf9b8f16e4517426": {
      "model_module": "jupyter-js-widgets",
      "model_module_version": "~2.1.4",
      "model_name": "ButtonModel",
      "state": {
       "_model_module_version": "~2.1.4",
       "_view_module_version": "~2.1.4",
       "description": "Run Interact",
       "layout": "IPY_MODEL_d6102c4947184922bba76fe670487929",
       "style": "IPY_MODEL_c3d676cf9a314fa390107ca0fba0122b"
      }
     },
     "e12db1cc1be143d7b3aa021dc722e7ed": {
      "model_module": "jupyter-js-widgets",
      "model_module_version": "~2.1.4",
      "model_name": "LayoutModel",
      "state": {
       "_model_module_version": "~2.1.4",
       "_view_module_version": "~2.1.4",
       "display": "inline_flex",
       "flex_flow": "column"
      }
     },
     "e177064bfc764920a30040c8cfe721b1": {
      "model_module": "jupyter-js-widgets",
      "model_module_version": "~2.1.4",
      "model_name": "LayoutModel",
      "state": {
       "_model_module_version": "~2.1.4",
       "_view_module_version": "~2.1.4"
      }
     },
     "e1787354b24d4f2a929113ded7c15902": {
      "model_module": "jupyter-js-widgets",
      "model_module_version": "~2.1.4",
      "model_name": "SelectMultipleModel",
      "state": {
       "_model_module_version": "~2.1.4",
       "_options_labels": [
        "1995",
        "1996",
        "1997",
        "1998",
        "1999",
        "2000",
        "2001",
        "2002",
        "2003",
        "2004",
        "2005",
        "2006",
        "2007",
        "2008",
        "2009",
        "2010",
        "2011",
        "2012",
        "2013",
        "2014",
        "2015",
        "2016"
       ],
       "_view_module_version": "~2.1.4",
       "description": "Years",
       "layout": "IPY_MODEL_ac100858887d483fae3865852d4a7f35",
       "value": [
        "1995",
        "1996",
        "1997",
        "1998",
        "1999",
        "2000",
        "2001",
        "2002",
        "2003",
        "2004",
        "2005",
        "2006",
        "2007",
        "2008",
        "2009",
        "2010",
        "2011",
        "2012",
        "2013",
        "2014",
        "2015",
        "2016"
       ]
      }
     },
     "e2190ab55e9c4167971f14919ecc61d5": {
      "model_module": "jupyter-js-widgets",
      "model_module_version": "~2.1.4",
      "model_name": "LayoutModel",
      "state": {
       "_model_module_version": "~2.1.4",
       "_view_module_version": "~2.1.4"
      }
     },
     "e2a889541ba34af195f4772f4d842441": {
      "model_module": "jupyter-js-widgets",
      "model_module_version": "~2.1.4",
      "model_name": "VBoxModel",
      "state": {
       "_dom_classes": [
        "widget-interact"
       ],
       "_model_module_version": "~2.1.4",
       "_view_module_version": "~2.1.4",
       "children": [
        "IPY_MODEL_d232d8da3ff9410da7570ee25a070087",
        "IPY_MODEL_7ae38c00e30b4a14911c44e0e88e552e",
        "IPY_MODEL_02f9a8c6814a41bf811e8cf636c6a871",
        "IPY_MODEL_bb0208b8e88f4ba89727b4ff7c5ee392",
        "IPY_MODEL_8d8ab0eda2284ed69785cdf8ddc670ed"
       ],
       "layout": "IPY_MODEL_545980c9885f44c7ab2b119d646675c8"
      }
     },
     "e2fb7ec853de43f18636133fb6067db5": {
      "model_module": "jupyter-js-widgets",
      "model_module_version": "~2.1.4",
      "model_name": "OutputModel",
      "state": {
       "_dom_classes": [],
       "_model_module": "jupyter-js-widgets",
       "_model_module_version": "~2.1.4",
       "_view_module": "jupyter-js-widgets",
       "_view_module_version": "~2.1.4",
       "layout": "IPY_MODEL_5250e1eeadd74e9eabf426f399b9c2af",
       "msg_throttle": 1
      }
     },
     "e2fd4ad847ff40ad8ebda4dbd1e278cd": {
      "model_module": "jupyter-js-widgets",
      "model_module_version": "~2.1.4",
      "model_name": "ButtonStyleModel",
      "state": {
       "_model_module_version": "~2.1.4",
       "_view_module_version": "~2.1.4"
      }
     },
     "e371ca821fcb4645b80839c39a9e716b": {
      "model_module": "jupyter-js-widgets",
      "model_module_version": "~2.1.4",
      "model_name": "LayoutModel",
      "state": {
       "_model_module_version": "~2.1.4",
       "_view_module_version": "~2.1.4"
      }
     },
     "e3759950f24740a08eac1d7497a6fc60": {
      "model_module": "jupyter-js-widgets",
      "model_module_version": "~2.1.4",
      "model_name": "LayoutModel",
      "state": {
       "_model_module_version": "~2.1.4",
       "_view_module_version": "~2.1.4",
       "display": "inline_flex",
       "flex_flow": "column"
      }
     },
     "e37f749a92d44d37b386c979c3957f79": {
      "model_module": "jupyter-js-widgets",
      "model_module_version": "~2.1.4",
      "model_name": "DropdownModel",
      "state": {
       "_model_module_version": "~2.1.4",
       "_options_labels": [
        "All",
        "GreaterSydney",
        "RegionalNSW"
       ],
       "_view_module_version": "~2.1.4",
       "description": "LGAs:",
       "layout": "IPY_MODEL_55560b7704f84860b2eae4c95d6bd727",
       "value": "All"
      }
     },
     "e3be4ae65f4443e5bee93dd8a97c93ca": {
      "model_module": "jupyter-js-widgets",
      "model_module_version": "~2.1.4",
      "model_name": "VBoxModel",
      "state": {
       "_dom_classes": [
        "widget-interact"
       ],
       "_model_module_version": "~2.1.4",
       "_view_module_version": "~2.1.4",
       "children": [
        "IPY_MODEL_255029d1ae3c46e880cb66ab5f3e5724",
        "IPY_MODEL_26188a8a0ead4cd58e36089725997360",
        "IPY_MODEL_403828e4a8994d50a0d56d11cd0c7b5b",
        "IPY_MODEL_1efd151b3e044dc29814cc9749288815",
        "IPY_MODEL_da4dccafd87a47b2bbc23fc3074ee756"
       ],
       "layout": "IPY_MODEL_d25b63ff10e645c1997196d87d0fe56a"
      }
     },
     "e3da70af00674ca9b14ac8c48819f1a6": {
      "model_module": "jupyter-js-widgets",
      "model_module_version": "~2.1.4",
      "model_name": "LayoutModel",
      "state": {
       "_model_module_version": "~2.1.4",
       "_view_module_version": "~2.1.4",
       "display": "inline_flex",
       "flex_flow": "column"
      }
     },
     "e3ea3e100a7e4e72b886c8a1443bc1aa": {
      "model_module": "jupyter-js-widgets",
      "model_module_version": "~2.1.4",
      "model_name": "LayoutModel",
      "state": {
       "_model_module_version": "~2.1.4",
       "_view_module_version": "~2.1.4"
      }
     },
     "e3fe65db7ab44514999104281da615a2": {
      "model_module": "jupyter-js-widgets",
      "model_module_version": "~2.1.4",
      "model_name": "VBoxModel",
      "state": {
       "_dom_classes": [
        "widget-interact"
       ],
       "_model_module_version": "~2.1.4",
       "_view_module_version": "~2.1.4",
       "children": [
        "IPY_MODEL_7fa0262b097c4c019e7b9b432673c23f",
        "IPY_MODEL_20280240ad3045ad823b0f3597382ca4"
       ],
       "layout": "IPY_MODEL_35b1c39f8bf741eda83acb744acb515e"
      }
     },
     "e40136ff70894d36baa0111fe16971ec": {
      "model_module": "jupyter-js-widgets",
      "model_module_version": "~2.1.4",
      "model_name": "LayoutModel",
      "state": {
       "_model_module_version": "~2.1.4",
       "_view_module_version": "~2.1.4"
      }
     },
     "e4413ffa53ff4cf0862df473e135f036": {
      "model_module": "jupyter-js-widgets",
      "model_module_version": "~2.1.4",
      "model_name": "VBoxModel",
      "state": {
       "_dom_classes": [
        "widget-interact"
       ],
       "_model_module_version": "~2.1.4",
       "_view_module_version": "~2.1.4",
       "children": [
        "IPY_MODEL_564c4a5f0b944d9d9ef772d051bf3944",
        "IPY_MODEL_9b7498c24feb47bfb17f39fe216dd3cb",
        "IPY_MODEL_d9029f300b5049a2af6c396dafe3ce9e"
       ],
       "layout": "IPY_MODEL_7a2d43fb93184ce8b4a7c5b0fddca437"
      }
     },
     "e458b77beb414a9089f9ed1656177b9d": {
      "model_module": "jupyter-js-widgets",
      "model_module_version": "~2.1.4",
      "model_name": "ButtonStyleModel",
      "state": {
       "_model_module_version": "~2.1.4",
       "_view_module_version": "~2.1.4"
      }
     },
     "e4a2deaeb2dc49f5ba6a598860050654": {
      "model_module": "jupyter-js-widgets",
      "model_module_version": "~2.1.4",
      "model_name": "DropdownModel",
      "state": {
       "_model_module_version": "~2.1.4",
       "_options_labels": [
        "1995",
        "1996",
        "1997",
        "1998",
        "1999",
        "2000",
        "2001",
        "2002",
        "2003",
        "2004",
        "2005",
        "2006",
        "2007",
        "2008",
        "2009",
        "2010",
        "2011",
        "2012",
        "2013",
        "2014",
        "2015",
        "2016"
       ],
       "_view_module_version": "~2.1.4",
       "description": "Year:",
       "layout": "IPY_MODEL_fc44b51d98b04495b38689ce183689bb",
       "value": "2016"
      }
     },
     "e4d45c8e362d4067be21b8f7c07d3ae3": {
      "model_module": "jupyter-js-widgets",
      "model_module_version": "~2.1.4",
      "model_name": "OutputModel",
      "state": {
       "_dom_classes": [],
       "_model_module": "jupyter-js-widgets",
       "_model_module_version": "~2.1.4",
       "_view_module": "jupyter-js-widgets",
       "_view_module_version": "~2.1.4",
       "layout": "IPY_MODEL_58332999449b401f9b4a3fd44c93986f",
       "msg_throttle": 1
      }
     },
     "e4fcc56deb0d4e59a2b4d582323d902d": {
      "model_module": "jupyter-js-widgets",
      "model_module_version": "~2.1.4",
      "model_name": "LayoutModel",
      "state": {
       "_model_module_version": "~2.1.4",
       "_view_module_version": "~2.1.4"
      }
     },
     "e52c0c5ed484430ea0006a2a56ec213d": {
      "model_module": "jupyter-js-widgets",
      "model_module_version": "~2.1.4",
      "model_name": "LayoutModel",
      "state": {
       "_model_module_version": "~2.1.4",
       "_view_module_version": "~2.1.4"
      }
     },
     "e65a6f5442f14278bbc51c01e4b77d11": {
      "model_module": "jupyter-js-widgets",
      "model_module_version": "~2.1.4",
      "model_name": "ButtonModel",
      "state": {
       "_model_module_version": "~2.1.4",
       "_view_module_version": "~2.1.4",
       "description": "Run Interact",
       "layout": "IPY_MODEL_7ca01041eee345edb3e510a15890a895",
       "style": "IPY_MODEL_6031813a317048b1833b2ccb775f42a1"
      }
     },
     "e6e22922ffad45a188e8d68143887870": {
      "model_module": "jupyter-js-widgets",
      "model_module_version": "~2.1.4",
      "model_name": "LayoutModel",
      "state": {
       "_model_module_version": "~2.1.4",
       "_view_module_version": "~2.1.4"
      }
     },
     "e6eaa25d59784f82b54cdce26b7cfe7c": {
      "model_module": "jupyter-js-widgets",
      "model_module_version": "~2.1.4",
      "model_name": "ButtonModel",
      "state": {
       "_model_module_version": "~2.1.4",
       "_view_module_version": "~2.1.4",
       "description": "Run Interact",
       "layout": "IPY_MODEL_26169978658a4400817a8f8b446f24cd",
       "style": "IPY_MODEL_2bb67141b86c45c0847dc2f0fd738d47"
      }
     },
     "e70b260469fb471cb8115a4a2275bfba": {
      "model_module": "jupyter-js-widgets",
      "model_module_version": "~2.1.4",
      "model_name": "LayoutModel",
      "state": {
       "_model_module_version": "~2.1.4",
       "_view_module_version": "~2.1.4"
      }
     },
     "e73203bcc5714593bfbf09f7ea5fb727": {
      "model_module": "jupyter-js-widgets",
      "model_module_version": "~2.1.4",
      "model_name": "LayoutModel",
      "state": {
       "_model_module_version": "~2.1.4",
       "_view_module_version": "~2.1.4"
      }
     },
     "e74fc88021de4359be5648a5ad2c9671": {
      "model_module": "jupyter-js-widgets",
      "model_module_version": "~2.1.4",
      "model_name": "ButtonModel",
      "state": {
       "_model_module_version": "~2.1.4",
       "_view_module_version": "~2.1.4",
       "description": "Run Interact",
       "layout": "IPY_MODEL_c6bb4f1cc6a7413f9e5c188de5673ece",
       "style": "IPY_MODEL_bda5fa0d71e3444681f1cfd801d2312c"
      }
     },
     "e7b1d079702744edb6702eff99de043e": {
      "model_module": "jupyter-js-widgets",
      "model_module_version": "~2.1.4",
      "model_name": "ButtonStyleModel",
      "state": {
       "_model_module_version": "~2.1.4",
       "_view_module_version": "~2.1.4"
      }
     },
     "e81647968a9f4bccb98ebb6354885808": {
      "model_module": "jupyter-js-widgets",
      "model_module_version": "~2.1.4",
      "model_name": "LayoutModel",
      "state": {
       "_model_module_version": "~2.1.4",
       "_view_module_version": "~2.1.4"
      }
     },
     "e87c7c24bebe4260a360fbed4ee70d6f": {
      "model_module": "jupyter-js-widgets",
      "model_module_version": "~2.1.4",
      "model_name": "DropdownModel",
      "state": {
       "_model_module_version": "~2.1.4",
       "_options_labels": [
        "Ashfield",
        "Auburn",
        "Bankstown",
        "Blacktown",
        "Blue Mountains",
        "Botany Bay",
        "Burwood",
        "Camden",
        "Campbelltown",
        "Canada Bay",
        "Canterbury",
        "Fairfield",
        "Gosford",
        "Hawkesbury",
        "Holroyd",
        "Hornsby",
        "Hunters Hill",
        "Hurstville",
        "Kogarah",
        "Ku-ring-gai",
        "Lane Cove",
        "Leichhardt",
        "Liverpool",
        "Manly",
        "Marrickville",
        "Mosman",
        "North Sydney",
        "Parramatta",
        "Penrith",
        "Pittwater",
        "Randwick",
        "Rockdale",
        "Ryde",
        "Strathfield",
        "Sutherland Shire",
        "Sydney",
        "The Hills Shire",
        "Warringah",
        "Waverley",
        "Willoughby",
        "Wollondilly",
        "Woollahra",
        "Wyong"
       ],
       "_view_module_version": "~2.1.4",
       "description": "LGA2",
       "layout": "IPY_MODEL_0a6d63d0dd43477abb886ef20be6a96a",
       "value": "Lane Cove"
      }
     },
     "e8ec0c3c2dea4fda97c31e0c1b56e948": {
      "model_module": "jupyter-js-widgets",
      "model_module_version": "~2.1.4",
      "model_name": "LayoutModel",
      "state": {
       "_model_module_version": "~2.1.4",
       "_view_module_version": "~2.1.4"
      }
     },
     "e92a26a4f74047879b2468ac809752a4": {
      "model_module": "jupyter-js-widgets",
      "model_module_version": "~2.1.4",
      "model_name": "LayoutModel",
      "state": {
       "_model_module_version": "~2.1.4",
       "_view_module_version": "~2.1.4"
      }
     },
     "e9451a79e09841fda8135888865b864c": {
      "model_module": "jupyter-js-widgets",
      "model_module_version": "~2.1.4",
      "model_name": "LayoutModel",
      "state": {
       "_model_module_version": "~2.1.4",
       "_view_module_version": "~2.1.4"
      }
     },
     "e94afba18fc74685811ab4fb10b78de2": {
      "model_module": "jupyter-js-widgets",
      "model_module_version": "~2.1.4",
      "model_name": "OutputModel",
      "state": {
       "_dom_classes": [],
       "_model_module": "jupyter-js-widgets",
       "_model_module_version": "~2.1.4",
       "_view_module": "jupyter-js-widgets",
       "_view_module_version": "~2.1.4",
       "layout": "IPY_MODEL_7c81102489d84149b335e592c114955d",
       "msg_throttle": 1
      }
     },
     "e96a6ae8e72a410394f5387426fa4784": {
      "model_module": "jupyter-js-widgets",
      "model_module_version": "~2.1.4",
      "model_name": "ButtonStyleModel",
      "state": {
       "_model_module_version": "~2.1.4",
       "_view_module_version": "~2.1.4"
      }
     },
     "e97ef925ad6d4c6fb82821074b057d28": {
      "model_module": "jupyter-js-widgets",
      "model_module_version": "~2.1.4",
      "model_name": "SelectMultipleModel",
      "state": {
       "_model_module_version": "~2.1.4",
       "_options_labels": [
        "1995",
        "1996",
        "1997",
        "1998",
        "1999",
        "2000",
        "2001",
        "2002",
        "2003",
        "2004",
        "2005",
        "2006",
        "2007",
        "2008",
        "2009",
        "2010",
        "2011",
        "2012",
        "2013",
        "2014",
        "2015",
        "2016"
       ],
       "_view_module_version": "~2.1.4",
       "description": "Year",
       "layout": "IPY_MODEL_a394e92b08c6436ca1b1de01103ce92d",
       "value": [
        "1995",
        "1996",
        "1997",
        "1998",
        "1999",
        "2000",
        "2001",
        "2002",
        "2003",
        "2004",
        "2005",
        "2006",
        "2007",
        "2008",
        "2009",
        "2010",
        "2011",
        "2012",
        "2013",
        "2014",
        "2015",
        "2016"
       ]
      }
     },
     "ea29d51514514bd39cc4dc1ea10c435c": {
      "model_module": "jupyter-js-widgets",
      "model_module_version": "~2.1.4",
      "model_name": "SelectMultipleModel",
      "state": {
       "_model_module_version": "~2.1.4",
       "_options_labels": [
        "Homicide",
        "Assault",
        "Sexual offences",
        "Other offences against the person",
        "Robbery",
        "Property offences",
        "Drug Possession",
        "Drug Dealing",
        "Vice",
        "Weapons offences",
        "Other offences"
       ],
       "_view_module_version": "~2.1.4",
       "description": "Categories",
       "layout": "IPY_MODEL_4b886c0b4c9d4ec78f996ffd8c1ca66d",
       "value": [
        "Homicide",
        "Assault",
        "Sexual offences",
        "Other offences against the person",
        "Robbery",
        "Property offences",
        "Drug Possession",
        "Drug Dealing",
        "Vice",
        "Weapons offences",
        "Other offences"
       ]
      }
     },
     "ea9dc4de6c09426c82fd3758ac664c8c": {
      "model_module": "jupyter-js-widgets",
      "model_module_version": "~2.1.4",
      "model_name": "LayoutModel",
      "state": {
       "_model_module_version": "~2.1.4",
       "_view_module_version": "~2.1.4"
      }
     },
     "eb060e651ddf4c4796f9d5da765abe72": {
      "model_module": "jupyter-js-widgets",
      "model_module_version": "~2.1.4",
      "model_name": "DropdownModel",
      "state": {
       "_model_module_version": "~2.1.4",
       "_options_labels": [
        "All",
        "GreaterSydney",
        "RegionalNSW"
       ],
       "_view_module_version": "~2.1.4",
       "description": "LGAs:",
       "layout": "IPY_MODEL_d906f16c1922444b97cbae6f92650884",
       "value": "All"
      }
     },
     "eb4c863cfffb4a57ade90e62a8381232": {
      "model_module": "jupyter-js-widgets",
      "model_module_version": "~2.1.4",
      "model_name": "LayoutModel",
      "state": {
       "_model_module_version": "~2.1.4",
       "_view_module_version": "~2.1.4"
      }
     },
     "eb838b9f531c49de9435d77ef0fc3e9f": {
      "model_module": "jupyter-js-widgets",
      "model_module_version": "~2.1.4",
      "model_name": "LayoutModel",
      "state": {
       "_model_module_version": "~2.1.4",
       "_view_module_version": "~2.1.4"
      }
     },
     "ebb8a0e83cf145af82d6c82496d69fcd": {
      "model_module": "jupyter-js-widgets",
      "model_module_version": "~2.1.4",
      "model_name": "LayoutModel",
      "state": {
       "_model_module_version": "~2.1.4",
       "_view_module_version": "~2.1.4"
      }
     },
     "ec2e1427f9234f869e7d4c42ea478842": {
      "model_module": "jupyter-js-widgets",
      "model_module_version": "~2.1.4",
      "model_name": "LayoutModel",
      "state": {
       "_model_module_version": "~2.1.4",
       "_view_module_version": "~2.1.4"
      }
     },
     "ec564d5be3ea4d5a96b11dd0f73f6ea3": {
      "model_module": "jupyter-js-widgets",
      "model_module_version": "~2.1.4",
      "model_name": "VBoxModel",
      "state": {
       "_dom_classes": [
        "widget-interact"
       ],
       "_model_module_version": "~2.1.4",
       "_view_module_version": "~2.1.4",
       "children": [
        "IPY_MODEL_fc2177786c364386b51ec9f671e80ae5",
        "IPY_MODEL_c72e017e71714693a61656f41aec6e97",
        "IPY_MODEL_041298555b294d15b3ce20681a4d7f7a",
        "IPY_MODEL_67432e29850c47229c36a76d142f06af",
        "IPY_MODEL_5c834076cf1443c589d7922ebdfeee5d"
       ],
       "layout": "IPY_MODEL_9b7ab406183c44b9a744ee2f5a09a38f"
      }
     },
     "ecb312221193412386114dc598345411": {
      "model_module": "jupyter-js-widgets",
      "model_module_version": "~2.1.4",
      "model_name": "LayoutModel",
      "state": {
       "_model_module_version": "~2.1.4",
       "_view_module_version": "~2.1.4"
      }
     },
     "ed03de46cc6c4c5cbf1398163094c647": {
      "model_module": "jupyter-js-widgets",
      "model_module_version": "~2.1.4",
      "model_name": "ButtonStyleModel",
      "state": {
       "_model_module_version": "~2.1.4",
       "_view_module_version": "~2.1.4"
      }
     },
     "ed38315270ab44cb85c87ecf45cc3506": {
      "model_module": "jupyter-js-widgets",
      "model_module_version": "~2.1.4",
      "model_name": "RadioButtonsModel",
      "state": {
       "_model_module_version": "~2.1.4",
       "_options_labels": [
        "sum_median_rank",
        "sum_mean_rank",
        "adj_median_rank",
        "adj_mean_rank"
       ],
       "_view_module_version": "~2.1.4",
       "description": "Sorting Order:",
       "layout": "IPY_MODEL_cbd2d4079d71428c98defd10440dde1d",
       "value": "sum_median_rank"
      }
     },
     "ed7ac943734347a5bc11ed19b419a785": {
      "model_module": "jupyter-js-widgets",
      "model_module_version": "~2.1.4",
      "model_name": "DropdownModel",
      "state": {
       "_model_module_version": "~2.1.4",
       "_options_labels": [
        "Ashfield",
        "Auburn",
        "Bankstown",
        "Blacktown",
        "Blue Mountains",
        "Botany Bay",
        "Burwood",
        "Camden",
        "Campbelltown",
        "Canada Bay",
        "Canterbury",
        "Fairfield",
        "Gosford",
        "Hawkesbury",
        "Holroyd",
        "Hornsby",
        "Hunters Hill",
        "Hurstville",
        "Kogarah",
        "Ku-ring-gai",
        "Lane Cove",
        "Leichhardt",
        "Liverpool",
        "Manly",
        "Marrickville",
        "Mosman",
        "North Sydney",
        "Parramatta",
        "Penrith",
        "Pittwater",
        "Randwick",
        "Rockdale",
        "Ryde",
        "Strathfield",
        "Sutherland Shire",
        "Sydney",
        "The Hills Shire",
        "Warringah",
        "Waverley",
        "Willoughby",
        "Wollondilly",
        "Woollahra",
        "Wyong"
       ],
       "_view_module_version": "~2.1.4",
       "description": "LGA1",
       "layout": "IPY_MODEL_4fb7708622214ac8873bf188d5ca4489",
       "value": "Leichhardt"
      }
     },
     "edb10dc370ca40589d4391a1897bcb1d": {
      "model_module": "jupyter-js-widgets",
      "model_module_version": "~2.1.4",
      "model_name": "VBoxModel",
      "state": {
       "_dom_classes": [
        "widget-interact"
       ],
       "_model_module_version": "~2.1.4",
       "_view_module_version": "~2.1.4",
       "children": [
        "IPY_MODEL_0e959243778542bab6bca7e1e7443366",
        "IPY_MODEL_efe6c5e82d7d4084acf7d5436b15186b",
        "IPY_MODEL_ce5372d89ee7414bb0bf6e9208476c33",
        "IPY_MODEL_44094f543c2b4eaa840353595f940fef"
       ],
       "layout": "IPY_MODEL_96cde4b1bebf43599b36eed5feae8eb8"
      }
     },
     "ee01cd79a938480bbff9e680af1fcb4c": {
      "model_module": "jupyter-js-widgets",
      "model_module_version": "~2.1.4",
      "model_name": "ButtonModel",
      "state": {
       "_model_module_version": "~2.1.4",
       "_view_module_version": "~2.1.4",
       "description": "Run Interact",
       "layout": "IPY_MODEL_07fefcd8832940a4a7214a1382219367",
       "style": "IPY_MODEL_7e0a85dba82c4523b569537a922018a3"
      }
     },
     "ee1c48b8865e41909f8ea0ba1768eeb8": {
      "model_module": "jupyter-js-widgets",
      "model_module_version": "~2.1.4",
      "model_name": "LayoutModel",
      "state": {
       "_model_module_version": "~2.1.4",
       "_view_module_version": "~2.1.4"
      }
     },
     "ee27c759c3924a70878957134e215fce": {
      "model_module": "jupyter-js-widgets",
      "model_module_version": "~2.1.4",
      "model_name": "LayoutModel",
      "state": {
       "_model_module_version": "~2.1.4",
       "_view_module_version": "~2.1.4",
       "display": "inline_flex",
       "flex_flow": "column"
      }
     },
     "ee4e736455ab4475ae76cd888aa42bf8": {
      "model_module": "jupyter-js-widgets",
      "model_module_version": "~2.1.4",
      "model_name": "OutputModel",
      "state": {
       "_dom_classes": [],
       "_model_module": "jupyter-js-widgets",
       "_model_module_version": "~2.1.4",
       "_view_module": "jupyter-js-widgets",
       "_view_module_version": "~2.1.4",
       "layout": "IPY_MODEL_9e452853ac274fb0980c6347dfd804d1",
       "msg_throttle": 1
      }
     },
     "ee6ea24ea70541029f54f28f7f6d0bc3": {
      "model_module": "jupyter-js-widgets",
      "model_module_version": "~2.1.4",
      "model_name": "LayoutModel",
      "state": {
       "_model_module_version": "~2.1.4",
       "_view_module_version": "~2.1.4"
      }
     },
     "ee7f1ae435f3418fb9ebbd9f50cbe8ac": {
      "model_module": "jupyter-js-widgets",
      "model_module_version": "~2.1.4",
      "model_name": "LayoutModel",
      "state": {
       "_model_module_version": "~2.1.4",
       "_view_module_version": "~2.1.4"
      }
     },
     "eeaa1bad02de44d29400862c227ab40f": {
      "model_module": "jupyter-js-widgets",
      "model_module_version": "~2.1.4",
      "model_name": "ButtonModel",
      "state": {
       "_model_module_version": "~2.1.4",
       "_view_module_version": "~2.1.4",
       "description": "Run Interact",
       "layout": "IPY_MODEL_f1550e5e9d9d43b1b8cedbeb87eadda7",
       "style": "IPY_MODEL_ade54bb43d074bdf8424a94c7f794a89"
      }
     },
     "eefe4802ceb441d7afb6379a5de85d50": {
      "model_module": "jupyter-js-widgets",
      "model_module_version": "~2.1.4",
      "model_name": "LayoutModel",
      "state": {
       "_model_module_version": "~2.1.4",
       "_view_module_version": "~2.1.4",
       "width": "20%"
      }
     },
     "ef18a533f3484712bdd35dd657ed5fde": {
      "model_module": "jupyter-js-widgets",
      "model_module_version": "~2.1.4",
      "model_name": "LayoutModel",
      "state": {
       "_model_module_version": "~2.1.4",
       "_view_module_version": "~2.1.4",
       "display": "inline_flex",
       "flex_flow": "column"
      }
     },
     "efe6c5e82d7d4084acf7d5436b15186b": {
      "model_module": "jupyter-js-widgets",
      "model_module_version": "~2.1.4",
      "model_name": "DropdownModel",
      "state": {
       "_model_module_version": "~2.1.4",
       "_options_labels": [
        "Albury",
        "Armidale Dumaresq",
        "Ashfield",
        "Auburn",
        "Ballina",
        "Balranald",
        "Bankstown",
        "Bathurst Regional",
        "Bega Valley",
        "Bellingen",
        "Berrigan",
        "Blacktown",
        "Bland",
        "Blayney",
        "Blue Mountains",
        "Bogan",
        "Bombala",
        "Boorowa",
        "Botany Bay",
        "Bourke",
        "Brewarrina",
        "Broken Hill",
        "Burwood",
        "Byron",
        "Cabonne",
        "Camden",
        "Campbelltown",
        "Canada Bay",
        "Canterbury",
        "Carrathool",
        "Central Darling",
        "Cessnock",
        "Clarence Valley",
        "Cobar",
        "Coffs Harbour",
        "Conargo",
        "Coolamon",
        "Cooma-Monaro",
        "Coonamble",
        "Cootamundra",
        "Corowa Shire",
        "Cowra",
        "Deniliquin",
        "Dubbo",
        "Dungog",
        "Eurobodalla",
        "Fairfield",
        "Forbes",
        "Gilgandra",
        "Glen Innes Severn",
        "Gloucester",
        "Gosford",
        "Goulburn Mulwaree",
        "Great Lakes",
        "Greater Hume Shire",
        "Greater Taree",
        "Griffith",
        "Gundagai",
        "Gunnedah",
        "Guyra",
        "Gwydir",
        "Harden",
        "Hawkesbury",
        "Hay",
        "Holroyd",
        "Hornsby",
        "Hunters Hill",
        "Hurstville",
        "Inverell",
        "Jerilderie",
        "Junee",
        "Kempsey",
        "Kiama",
        "Kogarah",
        "Ku-ring-gai",
        "Kyogle",
        "Lachlan",
        "Lake Macquarie",
        "Lane Cove",
        "Leeton",
        "Leichhardt",
        "Lismore",
        "Lithgow",
        "Liverpool",
        "Liverpool Plains",
        "Lockhart",
        "Maitland",
        "Manly",
        "Marrickville",
        "Mid-Western Regional",
        "Moree Plains",
        "Mosman",
        "Murray",
        "Murrumbidgee",
        "Muswellbrook",
        "Nambucca",
        "Narrabri",
        "Narrandera",
        "Narromine",
        "Newcastle",
        "North Sydney",
        "Oberon",
        "Orange",
        "Palerang",
        "Parkes",
        "Parramatta",
        "Penrith",
        "Pittwater",
        "Port Macquarie-Hastings",
        "Port Stephens",
        "Queanbeyan",
        "Randwick",
        "Richmond Valley",
        "Rockdale",
        "Ryde",
        "Shellharbour",
        "Shoalhaven",
        "Singleton",
        "Snowy River",
        "Strathfield",
        "Sutherland Shire",
        "Sydney",
        "Tamworth Regional",
        "Temora",
        "Tenterfield",
        "The Hills Shire",
        "Tumbarumba",
        "Tumut Shire",
        "Tweed",
        "Unincorporated Far West",
        "Upper Hunter Shire",
        "Upper Lachlan Shire",
        "Uralla",
        "Urana",
        "Wagga Wagga",
        "Wakool",
        "Walcha",
        "Walgett",
        "Warren",
        "Warringah",
        "Warrumbungle Shire",
        "Waverley",
        "Weddin",
        "Wellington",
        "Wentworth",
        "Willoughby",
        "Wingecarribee",
        "Wollondilly",
        "Wollongong",
        "Woollahra",
        "Wyong",
        "Yass Valley",
        "Young"
       ],
       "_view_module_version": "~2.1.4",
       "description": "LGA2",
       "layout": "IPY_MODEL_e3da70af00674ca9b14ac8c48819f1a6",
       "value": "Lane Cove"
      }
     },
     "eff0db209f4e4a1887901f8bc72dc241": {
      "model_module": "jupyter-js-widgets",
      "model_module_version": "~2.1.4",
      "model_name": "LayoutModel",
      "state": {
       "_model_module_version": "~2.1.4",
       "_view_module_version": "~2.1.4"
      }
     },
     "f002685fc47641f7afa4b90de3700419": {
      "model_module": "jupyter-js-widgets",
      "model_module_version": "~2.1.4",
      "model_name": "LayoutModel",
      "state": {
       "_model_module_version": "~2.1.4",
       "_view_module_version": "~2.1.4",
       "width": "20%"
      }
     },
     "f0339727b4e54cb18e90b9771495e248": {
      "model_module": "jupyter-js-widgets",
      "model_module_version": "~2.1.4",
      "model_name": "LayoutModel",
      "state": {
       "_model_module_version": "~2.1.4",
       "_view_module_version": "~2.1.4",
       "width": "20%"
      }
     },
     "f0e54da6c01341be8330bf689eb84dd6": {
      "model_module": "jupyter-js-widgets",
      "model_module_version": "~2.1.4",
      "model_name": "LayoutModel",
      "state": {
       "_model_module_version": "~2.1.4",
       "_view_module_version": "~2.1.4"
      }
     },
     "f1550e5e9d9d43b1b8cedbeb87eadda7": {
      "model_module": "jupyter-js-widgets",
      "model_module_version": "~2.1.4",
      "model_name": "LayoutModel",
      "state": {
       "_model_module_version": "~2.1.4",
       "_view_module_version": "~2.1.4"
      }
     },
     "f15ab5ee3711445196d2cfd57458b73a": {
      "model_module": "jupyter-js-widgets",
      "model_module_version": "~2.1.4",
      "model_name": "LayoutModel",
      "state": {
       "_model_module_version": "~2.1.4",
       "_view_module_version": "~2.1.4"
      }
     },
     "f24cffaec7b34b83884beadffc4f656f": {
      "model_module": "jupyter-js-widgets",
      "model_module_version": "~2.1.4",
      "model_name": "ButtonModel",
      "state": {
       "_model_module_version": "~2.1.4",
       "_view_module_version": "~2.1.4",
       "description": "Run Interact",
       "layout": "IPY_MODEL_90fa1a360bdb4659911299d688fc9c1d",
       "style": "IPY_MODEL_9f69050f13a04179a39a4b4458bbfd07"
      }
     },
     "f24f67102e8e4e19b55093686b2c64f4": {
      "model_module": "jupyter-js-widgets",
      "model_module_version": "~2.1.4",
      "model_name": "LayoutModel",
      "state": {
       "_model_module_version": "~2.1.4",
       "_view_module_version": "~2.1.4",
       "display": "inline_flex",
       "flex_flow": "column"
      }
     },
     "f2725adaca764f149ea2db8ebb7f9d8b": {
      "model_module": "jupyter-js-widgets",
      "model_module_version": "~2.1.4",
      "model_name": "LayoutModel",
      "state": {
       "_model_module_version": "~2.1.4",
       "_view_module_version": "~2.1.4",
       "display": "flex",
       "flex_flow": "column"
      }
     },
     "f2ccddb934a345989723c75b8df17d30": {
      "model_module": "jupyter-js-widgets",
      "model_module_version": "~2.1.4",
      "model_name": "LayoutModel",
      "state": {
       "_model_module_version": "~2.1.4",
       "_view_module_version": "~2.1.4"
      }
     },
     "f2efcbbc84924376bae7c50499dbf8de": {
      "model_module": "jupyter-js-widgets",
      "model_module_version": "~2.1.4",
      "model_name": "OutputModel",
      "state": {
       "_dom_classes": [],
       "_model_module": "jupyter-js-widgets",
       "_model_module_version": "~2.1.4",
       "_view_module": "jupyter-js-widgets",
       "_view_module_version": "~2.1.4",
       "layout": "IPY_MODEL_fc52d958ae9141f3aa651e3f67f3e8f2",
       "msg_throttle": 1
      }
     },
     "f3277ae244bf430fbb8326c913b48d78": {
      "model_module": "jupyter-js-widgets",
      "model_module_version": "~2.1.4",
      "model_name": "LayoutModel",
      "state": {
       "_model_module_version": "~2.1.4",
       "_view_module_version": "~2.1.4"
      }
     },
     "f3fc1ec27f224452978252c4201405d2": {
      "model_module": "jupyter-js-widgets",
      "model_module_version": "~2.1.4",
      "model_name": "OutputModel",
      "state": {
       "_dom_classes": [],
       "_model_module": "jupyter-js-widgets",
       "_model_module_version": "~2.1.4",
       "_view_module": "jupyter-js-widgets",
       "_view_module_version": "~2.1.4",
       "layout": "IPY_MODEL_58422e190b124e9ea293c105162050fa",
       "msg_throttle": 1
      }
     },
     "f4253aea1c394693a837e673c3b6b827": {
      "model_module": "jupyter-js-widgets",
      "model_module_version": "~2.1.4",
      "model_name": "LayoutModel",
      "state": {
       "_model_module_version": "~2.1.4",
       "_view_module_version": "~2.1.4"
      }
     },
     "f46d84c5597341e8b1e234503e45de0c": {
      "model_module": "jupyter-js-widgets",
      "model_module_version": "~2.1.4",
      "model_name": "LayoutModel",
      "state": {
       "_model_module_version": "~2.1.4",
       "_view_module_version": "~2.1.4",
       "display": "inline_flex",
       "flex_flow": "column"
      }
     },
     "f4c290bd750d46189644efbb72309271": {
      "model_module": "jupyter-js-widgets",
      "model_module_version": "~2.1.4",
      "model_name": "LayoutModel",
      "state": {
       "_model_module_version": "~2.1.4",
       "_view_module_version": "~2.1.4"
      }
     },
     "f4ce3eabe21143cf96c219876c697149": {
      "model_module": "jupyter-js-widgets",
      "model_module_version": "~2.1.4",
      "model_name": "DropdownModel",
      "state": {
       "_model_module_version": "~2.1.4",
       "_options_labels": [
        "Homicide",
        "Assault",
        "Sexual offences",
        "Other offences against the person",
        "Robbery",
        "Property offences",
        "Drug Possession",
        "Drug Dealing",
        "Vice",
        "Weapons offences",
        "Other offences"
       ],
       "_view_module_version": "~2.1.4",
       "description": "Category",
       "layout": "IPY_MODEL_b8a24f2b77974ccdb1f5c004493d01fc",
       "value": "Weapons offences"
      }
     },
     "f5295112ab3b4b5988d917215dbb7587": {
      "model_module": "jupyter-js-widgets",
      "model_module_version": "~2.1.4",
      "model_name": "ButtonStyleModel",
      "state": {
       "_model_module_version": "~2.1.4",
       "_view_module_version": "~2.1.4"
      }
     },
     "f55aca2948714402a3f99f60ffbd8ceb": {
      "model_module": "jupyter-js-widgets",
      "model_module_version": "~2.1.4",
      "model_name": "LayoutModel",
      "state": {
       "_model_module_version": "~2.1.4",
       "_view_module_version": "~2.1.4"
      }
     },
     "f65f58eae50749a2b61a468b00adf72e": {
      "model_module": "jupyter-js-widgets",
      "model_module_version": "~2.1.4",
      "model_name": "ButtonStyleModel",
      "state": {
       "_model_module_version": "~2.1.4",
       "_view_module_version": "~2.1.4"
      }
     },
     "f68947adf5dc4b3aab988be94f9343d7": {
      "model_module": "jupyter-js-widgets",
      "model_module_version": "~2.1.4",
      "model_name": "LayoutModel",
      "state": {
       "_model_module_version": "~2.1.4",
       "_view_module_version": "~2.1.4"
      }
     },
     "f69183dfadcf4f95a1df985f576b9759": {
      "model_module": "jupyter-js-widgets",
      "model_module_version": "~2.1.4",
      "model_name": "VBoxModel",
      "state": {
       "_dom_classes": [
        "widget-interact"
       ],
       "_model_module_version": "~2.1.4",
       "_view_module_version": "~2.1.4",
       "children": [
        "IPY_MODEL_c4bd4c25be7c412cafb22afc44add833",
        "IPY_MODEL_aa439b364555414f97372a27033d228e",
        "IPY_MODEL_d2329de395b34902929fc2abb41f152e",
        "IPY_MODEL_eeaa1bad02de44d29400862c227ab40f",
        "IPY_MODEL_5050cc2576f749658802ce4674bb1e2e"
       ],
       "layout": "IPY_MODEL_82f9f70614bb47fcb7833369a6fdac8c"
      }
     },
     "f6ae4da0a24a4cb089bcd523a6b61da4": {
      "model_module": "jupyter-js-widgets",
      "model_module_version": "~2.1.4",
      "model_name": "ButtonModel",
      "state": {
       "_model_module_version": "~2.1.4",
       "_view_module_version": "~2.1.4",
       "description": "Run Interact",
       "layout": "IPY_MODEL_d6edc1d00c424d4086914aff97b27f3b",
       "style": "IPY_MODEL_9f5bb393c3094e80904a01fdff18487a"
      }
     },
     "f6f1f5c19e504d71871bf24e60588af0": {
      "model_module": "jupyter-js-widgets",
      "model_module_version": "~2.1.4",
      "model_name": "LayoutModel",
      "state": {
       "_model_module_version": "~2.1.4",
       "_view_module_version": "~2.1.4"
      }
     },
     "f738fdac094846debc7611071dc010e6": {
      "model_module": "jupyter-js-widgets",
      "model_module_version": "~2.1.4",
      "model_name": "ButtonStyleModel",
      "state": {
       "_model_module_version": "~2.1.4",
       "_view_module_version": "~2.1.4"
      }
     },
     "f754ef031b694b98b7881f0020d44fb4": {
      "model_module": "jupyter-js-widgets",
      "model_module_version": "~2.1.4",
      "model_name": "OutputModel",
      "state": {
       "_dom_classes": [],
       "_model_module": "jupyter-js-widgets",
       "_model_module_version": "~2.1.4",
       "_view_module": "jupyter-js-widgets",
       "_view_module_version": "~2.1.4",
       "layout": "IPY_MODEL_c6e330c837f94758b19edd5fd4768f82",
       "msg_throttle": 1
      }
     },
     "f8099ef95c154d8693a750e9c4d50af3": {
      "model_module": "jupyter-js-widgets",
      "model_module_version": "~2.1.4",
      "model_name": "LayoutModel",
      "state": {
       "_model_module_version": "~2.1.4",
       "_view_module_version": "~2.1.4"
      }
     },
     "f86ae449775e4d25978e4ed26bf2041c": {
      "model_module": "jupyter-js-widgets",
      "model_module_version": "~2.1.4",
      "model_name": "LayoutModel",
      "state": {
       "_model_module_version": "~2.1.4",
       "_view_module_version": "~2.1.4"
      }
     },
     "f9473119851f49968baddc1a1f3e778d": {
      "model_module": "jupyter-js-widgets",
      "model_module_version": "~2.1.4",
      "model_name": "OutputModel",
      "state": {
       "_dom_classes": [],
       "_model_module": "jupyter-js-widgets",
       "_model_module_version": "~2.1.4",
       "_view_module": "jupyter-js-widgets",
       "_view_module_version": "~2.1.4",
       "layout": "IPY_MODEL_26bfd56ed7a44ac2a7fd38362f71251c",
       "msg_throttle": 1
      }
     },
     "f94af6bcd9f343a8aeb899d87a6065ea": {
      "model_module": "jupyter-js-widgets",
      "model_module_version": "~2.1.4",
      "model_name": "ButtonStyleModel",
      "state": {
       "_model_module_version": "~2.1.4",
       "_view_module_version": "~2.1.4"
      }
     },
     "f9638ed5b47942c382a73b96650b88ad": {
      "model_module": "jupyter-js-widgets",
      "model_module_version": "~2.1.4",
      "model_name": "LayoutModel",
      "state": {
       "_model_module_version": "~2.1.4",
       "_view_module_version": "~2.1.4"
      }
     },
     "fa0a8e95841248079a806299ec3d2cb5": {
      "model_module": "jupyter-js-widgets",
      "model_module_version": "~2.1.4",
      "model_name": "ButtonModel",
      "state": {
       "_model_module_version": "~2.1.4",
       "_view_module_version": "~2.1.4",
       "description": "Run Interact",
       "layout": "IPY_MODEL_e177064bfc764920a30040c8cfe721b1",
       "style": "IPY_MODEL_e2fd4ad847ff40ad8ebda4dbd1e278cd"
      }
     },
     "fa57237a21144ebaa828e00dcb71a298": {
      "model_module": "jupyter-js-widgets",
      "model_module_version": "~2.1.4",
      "model_name": "LayoutModel",
      "state": {
       "_model_module_version": "~2.1.4",
       "_view_module_version": "~2.1.4",
       "display": "inline_flex",
       "flex_flow": "column"
      }
     },
     "fa8bbdac3adc49c6b929b738d55e162d": {
      "model_module": "jupyter-js-widgets",
      "model_module_version": "~2.1.4",
      "model_name": "LayoutModel",
      "state": {
       "_model_module_version": "~2.1.4",
       "_view_module_version": "~2.1.4"
      }
     },
     "faaf72993833423187ccedd86ce13471": {
      "model_module": "jupyter-js-widgets",
      "model_module_version": "~2.1.4",
      "model_name": "DropdownModel",
      "state": {
       "_model_module_version": "~2.1.4",
       "_options_labels": [
        "Albury",
        "Armidale Dumaresq",
        "Ashfield",
        "Auburn",
        "Ballina",
        "Balranald",
        "Bankstown",
        "Bathurst Regional",
        "Bega Valley",
        "Bellingen",
        "Berrigan",
        "Blacktown",
        "Bland",
        "Blayney",
        "Blue Mountains",
        "Bogan",
        "Bombala",
        "Boorowa",
        "Botany Bay",
        "Bourke",
        "Brewarrina",
        "Broken Hill",
        "Burwood",
        "Byron",
        "Cabonne",
        "Camden",
        "Campbelltown",
        "Canada Bay",
        "Canterbury",
        "Carrathool",
        "Central Darling",
        "Cessnock",
        "Clarence Valley",
        "Cobar",
        "Coffs Harbour",
        "Conargo",
        "Coolamon",
        "Cooma-Monaro",
        "Coonamble",
        "Cootamundra",
        "Corowa Shire",
        "Cowra",
        "Deniliquin",
        "Dubbo",
        "Dungog",
        "Eurobodalla",
        "Fairfield",
        "Forbes",
        "Gilgandra",
        "Glen Innes Severn",
        "Gloucester",
        "Gosford",
        "Goulburn Mulwaree",
        "Great Lakes",
        "Greater Hume Shire",
        "Greater Taree",
        "Griffith",
        "Gundagai",
        "Gunnedah",
        "Guyra",
        "Gwydir",
        "Harden",
        "Hawkesbury",
        "Hay",
        "Holroyd",
        "Hornsby",
        "Hunters Hill",
        "Hurstville",
        "Inverell",
        "Jerilderie",
        "Junee",
        "Kempsey",
        "Kiama",
        "Kogarah",
        "Ku-ring-gai",
        "Kyogle",
        "Lachlan",
        "Lake Macquarie",
        "Lane Cove",
        "Leeton",
        "Leichhardt",
        "Lismore",
        "Lithgow",
        "Liverpool",
        "Liverpool Plains",
        "Lockhart",
        "Maitland",
        "Manly",
        "Marrickville",
        "Mid-Western Regional",
        "Moree Plains",
        "Mosman",
        "Murray",
        "Murrumbidgee",
        "Muswellbrook",
        "Nambucca",
        "Narrabri",
        "Narrandera",
        "Narromine",
        "Newcastle",
        "North Sydney",
        "Oberon",
        "Orange",
        "Palerang",
        "Parkes",
        "Parramatta",
        "Penrith",
        "Pittwater",
        "Port Macquarie-Hastings",
        "Port Stephens",
        "Queanbeyan",
        "Randwick",
        "Richmond Valley",
        "Rockdale",
        "Ryde",
        "Shellharbour",
        "Shoalhaven",
        "Singleton",
        "Snowy River",
        "Strathfield",
        "Sutherland Shire",
        "Sydney",
        "Tamworth Regional",
        "Temora",
        "Tenterfield",
        "The Hills Shire",
        "Tumbarumba",
        "Tumut Shire",
        "Tweed",
        "Unincorporated Far West",
        "Upper Hunter Shire",
        "Upper Lachlan Shire",
        "Uralla",
        "Urana",
        "Wagga Wagga",
        "Wakool",
        "Walcha",
        "Walgett",
        "Warren",
        "Warringah",
        "Warrumbungle Shire",
        "Waverley",
        "Weddin",
        "Wellington",
        "Wentworth",
        "Willoughby",
        "Wingecarribee",
        "Wollondilly",
        "Wollongong",
        "Woollahra",
        "Wyong",
        "Yass Valley",
        "Young"
       ],
       "_view_module_version": "~2.1.4",
       "description": "LGA2",
       "layout": "IPY_MODEL_0dfe4e9826944a7c949e1fdf6923dd00",
       "value": "Lane Cove"
      }
     },
     "fab7e77fd2a643d29781492a1a8547bb": {
      "model_module": "jupyter-js-widgets",
      "model_module_version": "~2.1.4",
      "model_name": "RadioButtonsModel",
      "state": {
       "_model_module_version": "~2.1.4",
       "_options_labels": [
        "sum_median_rank",
        "sum_mean_rank",
        "adj_median_rank",
        "adj_mean_rank"
       ],
       "_view_module_version": "~2.1.4",
       "description": "Sorting Order:",
       "layout": "IPY_MODEL_3105c592a26b444ca85c5ec797953a41",
       "value": "adj_mean_rank"
      }
     },
     "fb38263c93e143f9801000252f7207ea": {
      "model_module": "jupyter-js-widgets",
      "model_module_version": "~2.1.4",
      "model_name": "LayoutModel",
      "state": {
       "_model_module_version": "~2.1.4",
       "_view_module_version": "~2.1.4"
      }
     },
     "fb647e6f09b54aa083eaed3fddf5c9ce": {
      "model_module": "jupyter-js-widgets",
      "model_module_version": "~2.1.4",
      "model_name": "DropdownModel",
      "state": {
       "_model_module_version": "~2.1.4",
       "_options_labels": [
        "Albury",
        "Armidale Dumaresq",
        "Ashfield",
        "Auburn",
        "Ballina",
        "Balranald",
        "Bankstown",
        "Bathurst Regional",
        "Bega Valley",
        "Bellingen",
        "Berrigan",
        "Blacktown",
        "Bland",
        "Blayney",
        "Blue Mountains",
        "Bogan",
        "Bombala",
        "Boorowa",
        "Botany Bay",
        "Bourke",
        "Brewarrina",
        "Broken Hill",
        "Burwood",
        "Byron",
        "Cabonne",
        "Camden",
        "Campbelltown",
        "Canada Bay",
        "Canterbury",
        "Carrathool",
        "Central Darling",
        "Cessnock",
        "Clarence Valley",
        "Cobar",
        "Coffs Harbour",
        "Conargo",
        "Coolamon",
        "Cooma-Monaro",
        "Coonamble",
        "Cootamundra",
        "Corowa Shire",
        "Cowra",
        "Deniliquin",
        "Dubbo",
        "Dungog",
        "Eurobodalla",
        "Fairfield",
        "Forbes",
        "Gilgandra",
        "Glen Innes Severn",
        "Gloucester",
        "Gosford",
        "Goulburn Mulwaree",
        "Great Lakes",
        "Greater Hume Shire",
        "Greater Taree",
        "Griffith",
        "Gundagai",
        "Gunnedah",
        "Guyra",
        "Gwydir",
        "Harden",
        "Hawkesbury",
        "Hay",
        "Holroyd",
        "Hornsby",
        "Hunters Hill",
        "Hurstville",
        "Inverell",
        "Jerilderie",
        "Junee",
        "Kempsey",
        "Kiama",
        "Kogarah",
        "Ku-ring-gai",
        "Kyogle",
        "Lachlan",
        "Lake Macquarie",
        "Lane Cove",
        "Leeton",
        "Leichhardt",
        "Lismore",
        "Lithgow",
        "Liverpool",
        "Liverpool Plains",
        "Lockhart",
        "Maitland",
        "Manly",
        "Marrickville",
        "Mid-Western Regional",
        "Moree Plains",
        "Mosman",
        "Murray",
        "Murrumbidgee",
        "Muswellbrook",
        "Nambucca",
        "Narrabri",
        "Narrandera",
        "Narromine",
        "Newcastle",
        "North Sydney",
        "Oberon",
        "Orange",
        "Palerang",
        "Parkes",
        "Parramatta",
        "Penrith",
        "Pittwater",
        "Port Macquarie-Hastings",
        "Port Stephens",
        "Queanbeyan",
        "Randwick",
        "Richmond Valley",
        "Rockdale",
        "Ryde",
        "Shellharbour",
        "Shoalhaven",
        "Singleton",
        "Snowy River",
        "Strathfield",
        "Sutherland Shire",
        "Sydney",
        "Tamworth Regional",
        "Temora",
        "Tenterfield",
        "The Hills Shire",
        "Tumbarumba",
        "Tumut Shire",
        "Tweed",
        "Upper Hunter Shire",
        "Upper Lachlan Shire",
        "Uralla",
        "Urana",
        "Wagga Wagga",
        "Wakool",
        "Walcha",
        "Walgett",
        "Warren",
        "Warringah",
        "Warrumbungle Shire",
        "Waverley",
        "Weddin",
        "Wellington",
        "Wentworth",
        "Willoughby",
        "Wingecarribee",
        "Wollondilly",
        "Wollongong",
        "Woollahra",
        "Wyong",
        "Yass Valley",
        "Young",
        "Unincorporated Far West",
        "Lord Howe Island",
        "Prisons"
       ],
       "_view_module_version": "~2.1.4",
       "description": "sub",
       "layout": "IPY_MODEL_8501544cb6694acd8ed3803f4a7f53c3",
       "value": "Botany Bay"
      }
     },
     "fbdd90175b9c46bf91393f477a925244": {
      "model_module": "jupyter-js-widgets",
      "model_module_version": "~2.1.4",
      "model_name": "SelectMultipleModel",
      "state": {
       "_model_module_version": "~2.1.4",
       "_options_labels": [
        "Homicide",
        "Assault",
        "Sexual offences",
        "Other offences against the person",
        "Robbery",
        "Property offences",
        "Drug Possession",
        "Drug Dealing",
        "Vice",
        "Weapons offences",
        "Other offences"
       ],
       "_view_module_version": "~2.1.4",
       "description": "Categories",
       "layout": "IPY_MODEL_fa57237a21144ebaa828e00dcb71a298",
       "value": [
        "Homicide",
        "Assault",
        "Sexual offences",
        "Other offences against the person",
        "Robbery",
        "Property offences",
        "Drug Possession",
        "Drug Dealing",
        "Vice",
        "Weapons offences",
        "Other offences"
       ]
      }
     },
     "fc2177786c364386b51ec9f671e80ae5": {
      "model_module": "jupyter-js-widgets",
      "model_module_version": "~2.1.4",
      "model_name": "DropdownModel",
      "state": {
       "_model_module_version": "~2.1.4",
       "_options_labels": [
        "All",
        "GreaterSydney",
        "RegionalNSW"
       ],
       "_view_module_version": "~2.1.4",
       "description": "LGAs:",
       "layout": "IPY_MODEL_0d6a8bb9bd8b4a3ebad89c5a4a46b181",
       "value": "All"
      }
     },
     "fc44b51d98b04495b38689ce183689bb": {
      "model_module": "jupyter-js-widgets",
      "model_module_version": "~2.1.4",
      "model_name": "LayoutModel",
      "state": {
       "_model_module_version": "~2.1.4",
       "_view_module_version": "~2.1.4",
       "width": "20%"
      }
     },
     "fc52d958ae9141f3aa651e3f67f3e8f2": {
      "model_module": "jupyter-js-widgets",
      "model_module_version": "~2.1.4",
      "model_name": "LayoutModel",
      "state": {
       "_model_module_version": "~2.1.4",
       "_view_module_version": "~2.1.4"
      }
     },
     "fcd3965e6ee9477c8b05486a4cfa6206": {
      "model_module": "jupyter-js-widgets",
      "model_module_version": "~2.1.4",
      "model_name": "VBoxModel",
      "state": {
       "_dom_classes": [
        "widget-interact"
       ],
       "_model_module_version": "~2.1.4",
       "_view_module_version": "~2.1.4",
       "children": [
        "IPY_MODEL_c0498033632d41cbaca48b02ff6cc728",
        "IPY_MODEL_25d4a4cbf2bf43e795e47675884f95a0",
        "IPY_MODEL_27ceb39964274e07a0ac0ee718f3988a",
        "IPY_MODEL_e2fb7ec853de43f18636133fb6067db5"
       ],
       "layout": "IPY_MODEL_6bea811d13294ae19ef7a7fdf205c91d"
      }
     },
     "fd3d890a73354478967249438564115c": {
      "model_module": "jupyter-js-widgets",
      "model_module_version": "~2.1.4",
      "model_name": "DropdownModel",
      "state": {
       "_model_module_version": "~2.1.4",
       "_options_labels": [
        "All",
        "GreaterSydney",
        "RegionalNSW"
       ],
       "_view_module_version": "~2.1.4",
       "description": "LGAs:",
       "layout": "IPY_MODEL_a3d3a6e58d70456b836f0aa1847a3b8f",
       "value": "GreaterSydney"
      }
     },
     "fd4f1f831b4948e198dbed6bf08b14b8": {
      "model_module": "jupyter-js-widgets",
      "model_module_version": "~2.1.4",
      "model_name": "OutputModel",
      "state": {
       "_dom_classes": [],
       "_model_module": "jupyter-js-widgets",
       "_model_module_version": "~2.1.4",
       "_view_module": "jupyter-js-widgets",
       "_view_module_version": "~2.1.4",
       "layout": "IPY_MODEL_2300a901ebc94267badfe4269d4c273b",
       "msg_throttle": 1
      }
     },
     "fd6a4c0eb67043bd869d175a2c2d0825": {
      "model_module": "jupyter-js-widgets",
      "model_module_version": "~2.1.4",
      "model_name": "ButtonModel",
      "state": {
       "_model_module_version": "~2.1.4",
       "_view_module_version": "~2.1.4",
       "description": "Run Interact",
       "layout": "IPY_MODEL_15f3f3a8bcba425e9080c42399160b8c",
       "style": "IPY_MODEL_a764b25821d94600960a04b9cd6314c7"
      }
     },
     "fdae9e75e371495d88bc544690b8e977": {
      "model_module": "jupyter-js-widgets",
      "model_module_version": "~2.1.4",
      "model_name": "LayoutModel",
      "state": {
       "_model_module_version": "~2.1.4",
       "_view_module_version": "~2.1.4"
      }
     },
     "fde69ad7addd48e3884554361d691c9a": {
      "model_module": "jupyter-js-widgets",
      "model_module_version": "~2.1.4",
      "model_name": "ButtonModel",
      "state": {
       "_model_module_version": "~2.1.4",
       "_view_module_version": "~2.1.4",
       "description": "Run Interact",
       "layout": "IPY_MODEL_eb4c863cfffb4a57ade90e62a8381232",
       "style": "IPY_MODEL_20288302a5cd45ab85eca1d7c5e8725d"
      }
     },
     "fdfab2019de84633811001198d3fdb01": {
      "model_module": "jupyter-js-widgets",
      "model_module_version": "~2.1.4",
      "model_name": "LayoutModel",
      "state": {
       "_model_module_version": "~2.1.4",
       "_view_module_version": "~2.1.4"
      }
     },
     "fe627c2560534b9ca099bec85c909f9e": {
      "model_module": "jupyter-js-widgets",
      "model_module_version": "~2.1.4",
      "model_name": "LayoutModel",
      "state": {
       "_model_module_version": "~2.1.4",
       "_view_module_version": "~2.1.4"
      }
     },
     "feaadeef50e94fb99498b8ef71c1ecff": {
      "model_module": "jupyter-js-widgets",
      "model_module_version": "~2.1.4",
      "model_name": "LayoutModel",
      "state": {
       "_model_module_version": "~2.1.4",
       "_view_module_version": "~2.1.4"
      }
     },
     "fedaad7b79f748feaf0ac15fcd0ced01": {
      "model_module": "jupyter-js-widgets",
      "model_module_version": "~2.1.4",
      "model_name": "LayoutModel",
      "state": {
       "_model_module_version": "~2.1.4",
       "_view_module_version": "~2.1.4"
      }
     },
     "ff14872bc2a8412a83b5b776459b6a7a": {
      "model_module": "jupyter-js-widgets",
      "model_module_version": "~2.1.4",
      "model_name": "LayoutModel",
      "state": {
       "_model_module_version": "~2.1.4",
       "_view_module_version": "~2.1.4"
      }
     },
     "ff7c1995a0ed4429b060db3c66a64c48": {
      "model_module": "jupyter-js-widgets",
      "model_module_version": "~2.1.4",
      "model_name": "VBoxModel",
      "state": {
       "_dom_classes": [
        "widget-interact"
       ],
       "_model_module_version": "~2.1.4",
       "_view_module_version": "~2.1.4",
       "children": [
        "IPY_MODEL_5437552343f34e59a49d0edc8e3ecf0e",
        "IPY_MODEL_e74fc88021de4359be5648a5ad2c9671",
        "IPY_MODEL_736c10e8429346ff9d9a9e24586c38e4"
       ],
       "layout": "IPY_MODEL_2bdd2f0616ad49eb910bbea799e36d09"
      }
     },
     "ffb507fe78014c2d900f3fb9da62dc27": {
      "model_module": "jupyter-js-widgets",
      "model_module_version": "~2.1.4",
      "model_name": "ButtonModel",
      "state": {
       "_model_module_version": "~2.1.4",
       "_view_module_version": "~2.1.4",
       "description": "Run Interact",
       "layout": "IPY_MODEL_5387353c95ff4520abe6eec2561be410",
       "style": "IPY_MODEL_7a8be5b1cd704c1ca0e66ad31d704317"
      }
     },
     "ffbb15dd1a3842d9afb38b432d56b44f": {
      "model_module": "jupyter-js-widgets",
      "model_module_version": "~2.1.4",
      "model_name": "VBoxModel",
      "state": {
       "_dom_classes": [
        "widget-interact"
       ],
       "_model_module_version": "~2.1.4",
       "_view_module_version": "~2.1.4",
       "children": [
        "IPY_MODEL_cda4f7c0038549db9741494c40f84b57",
        "IPY_MODEL_660c1bd848fe4739b0c5b2b3925fbc32",
        "IPY_MODEL_3f784fb2af97410ca846583aeb79edcf",
        "IPY_MODEL_fd6a4c0eb67043bd869d175a2c2d0825",
        "IPY_MODEL_56482c71ac37477ab5a968444f825597"
       ],
       "layout": "IPY_MODEL_c87738d45b1747e38f71581fe12dffaf"
      }
     },
     "ffbc6171a4224d559c91d128845f7d07": {
      "model_module": "jupyter-js-widgets",
      "model_module_version": "~2.1.4",
      "model_name": "VBoxModel",
      "state": {
       "_dom_classes": [
        "widget-interact"
       ],
       "_model_module_version": "~2.1.4",
       "_view_module_version": "~2.1.4",
       "children": [
        "IPY_MODEL_22556102ce6e4e76aefccf7974b555e4",
        "IPY_MODEL_47fd185c8fd745d9b8c0e6c79074fe6d",
        "IPY_MODEL_46a72a7b3ff6492b9e81d0eded947f5b"
       ],
       "layout": "IPY_MODEL_f15ab5ee3711445196d2cfd57458b73a"
      }
     }
    },
    "version_major": 1,
    "version_minor": 0
   }
  }
 },
 "nbformat": 4,
 "nbformat_minor": 2
}
